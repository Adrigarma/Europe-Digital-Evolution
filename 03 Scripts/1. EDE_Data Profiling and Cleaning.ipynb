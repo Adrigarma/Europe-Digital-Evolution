{
 "cells": [
  {
   "cell_type": "markdown",
   "id": "c5be5ae7-fbe8-4552-bc35-041cba72aabe",
   "metadata": {
    "jp-MarkdownHeadingCollapsed": true
   },
   "source": [
    "# Content List\n",
    "\n",
    "## 1. Import Libraries\n",
    "\n",
    "## 2. Dataset: Frequency Internet Use\n",
    "### 2.1 Import Data\n",
    "### 2.2 Data Consistency Check\n",
    "### 2.3 Dropping Columns\n",
    "### 2.4 Renaming Columns\n",
    "### 2.5 Removing Prefixes\n",
    "### 2.6 Mixed Datatypes\n",
    "### 2.7 Missing Data\n",
    "### 2.8 Duplicated Values\n",
    "### 2.9 Exporting Data\n",
    "\n",
    "## 3. Dataset: Internet Activities\n",
    "### 3.1 Import Data\n",
    "### 3.2 Data Consistency Check\n",
    "### 3.3 Dropping Columns\n",
    "### 3.4 Renaming Columns\n",
    "### 3.5 Removing Prefixes\n",
    "### 3.6 Mixed Datatypes\n",
    "### 3.7 Missing Data\n",
    "#### 3.7.1 Dataset internet activitites\n",
    "#### 3.7.2 Dataset internet activities 2\n",
    "#### 3.7.3 Dataset internet activities 3\n",
    "### 3.8 Duplicated Values\n",
    "### 3.9 Exporting Data\n",
    "\n",
    "## 4. Dataset: Purchasing Power GDP\n",
    "### 4.1 Import Data\n",
    "### 4.2 Data Consistency Check\n",
    "### 4.3 Dropping Columns\n",
    "### 4.4 Renaming Columns\n",
    "### 4.5 Mixed Datatypes\n",
    "### 4.6 Missing Data\n",
    "### 4.7 Duplicated Values\n",
    "### 4.8 Exporting Data"
   ]
  },
  {
   "cell_type": "markdown",
   "id": "c5da2508-e32a-43f0-a1c8-eeb5a32c2438",
   "metadata": {},
   "source": [
    "# 01. Import Libraries"
   ]
  },
  {
   "cell_type": "code",
   "execution_count": 1,
   "id": "7fa599e9-3858-44ad-8aab-d879cfcc7af7",
   "metadata": {},
   "outputs": [],
   "source": [
    "# Import libraries \n",
    "import pandas as pd\n",
    "import numpy as np\n",
    "import os"
   ]
  },
  {
   "cell_type": "markdown",
   "id": "df85ea2d-ff95-41ca-a76e-019de3bcc95a",
   "metadata": {},
   "source": [
    "# 02. Dataset: Frequency Internet Use"
   ]
  },
  {
   "cell_type": "markdown",
   "id": "05c37336-bcf0-4fa9-be0a-669e18dd9376",
   "metadata": {},
   "source": [
    "## 02.1 Import Data"
   ]
  },
  {
   "cell_type": "code",
   "execution_count": 2,
   "id": "07caf71f-11cf-4832-ba58-a39c39f6ca4b",
   "metadata": {},
   "outputs": [
    {
     "data": {
      "text/plain": [
       "'C:\\\\Users\\\\adrig\\\\OneDrive\\\\Documentos\\\\CAREERFOUNDRY\\\\DATA IMMERSION\\\\ACHIEVEMENT 6\\\\Internet use in EU'"
      ]
     },
     "execution_count": 2,
     "metadata": {},
     "output_type": "execute_result"
    }
   ],
   "source": [
    "# Create path to use as shortcut to access project folder for importing data\n",
    "path = r'C:\\Users\\adrig\\OneDrive\\Documentos\\CAREERFOUNDRY\\DATA IMMERSION\\ACHIEVEMENT 6\\Internet use in EU'\n",
    "path"
   ]
  },
  {
   "cell_type": "code",
   "execution_count": 3,
   "id": "5149a058-2770-4c55-ba04-30f3f47772ef",
   "metadata": {},
   "outputs": [
    {
     "name": "stderr",
     "output_type": "stream",
     "text": [
      "C:\\Users\\adrig\\AppData\\Local\\Temp\\ipykernel_35692\\327273434.py:2: DtypeWarning: Columns (10) have mixed types. Specify dtype option on import or set low_memory=False.\n",
      "  internet_use = pd.read_csv(os.path.join(path, '02 Data', 'Original Data', 'frequency_internet_use.csv'), index_col = False)\n"
     ]
    }
   ],
   "source": [
    "# Import main dataset (frequency of internet use) \n",
    "internet_use = pd.read_csv(os.path.join(path, '02 Data', 'Original Data', 'frequency_internet_use.csv'), index_col = False)"
   ]
  },
  {
   "cell_type": "markdown",
   "id": "c7f8d38c-0876-4b20-ab8f-bc60179b1bed",
   "metadata": {},
   "source": [
    "## 02.2 Data Consistency Check"
   ]
  },
  {
   "cell_type": "code",
   "execution_count": 4,
   "id": "bb2d791a-d3dc-42bf-90fe-32fce5183f32",
   "metadata": {},
   "outputs": [
    {
     "data": {
      "text/plain": [
       "(92149, 11)"
      ]
     },
     "execution_count": 4,
     "metadata": {},
     "output_type": "execute_result"
    }
   ],
   "source": [
    "# Dimensions of dataset\n",
    "internet_use.shape"
   ]
  },
  {
   "cell_type": "code",
   "execution_count": 5,
   "id": "9a97c86a-ca5c-4429-b076-4c162b656341",
   "metadata": {},
   "outputs": [
    {
     "data": {
      "text/plain": [
       "Index(['DATAFLOW', 'LAST UPDATE', 'freq', 'indic_is', 'unit', 'ind_type',\n",
       "       'geo', 'TIME_PERIOD', 'OBS_VALUE', 'OBS_FLAG', 'CONF_STATUS'],\n",
       "      dtype='object')"
      ]
     },
     "execution_count": 5,
     "metadata": {},
     "output_type": "execute_result"
    }
   ],
   "source": [
    "# Column names\n",
    "internet_use.columns"
   ]
  },
  {
   "cell_type": "code",
   "execution_count": 6,
   "id": "c67a6865-eda9-4dee-b0d2-10f695b14790",
   "metadata": {},
   "outputs": [
    {
     "data": {
      "text/html": [
       "<div>\n",
       "<style scoped>\n",
       "    .dataframe tbody tr th:only-of-type {\n",
       "        vertical-align: middle;\n",
       "    }\n",
       "\n",
       "    .dataframe tbody tr th {\n",
       "        vertical-align: top;\n",
       "    }\n",
       "\n",
       "    .dataframe thead th {\n",
       "        text-align: right;\n",
       "    }\n",
       "</style>\n",
       "<table border=\"1\" class=\"dataframe\">\n",
       "  <thead>\n",
       "    <tr style=\"text-align: right;\">\n",
       "      <th></th>\n",
       "      <th>DATAFLOW</th>\n",
       "      <th>LAST UPDATE</th>\n",
       "      <th>freq</th>\n",
       "      <th>indic_is</th>\n",
       "      <th>unit</th>\n",
       "      <th>ind_type</th>\n",
       "      <th>geo</th>\n",
       "      <th>TIME_PERIOD</th>\n",
       "      <th>OBS_VALUE</th>\n",
       "      <th>OBS_FLAG</th>\n",
       "      <th>CONF_STATUS</th>\n",
       "    </tr>\n",
       "  </thead>\n",
       "  <tbody>\n",
       "    <tr>\n",
       "      <th>0</th>\n",
       "      <td>ESTAT:ISOC_CI_IFP_FU(1.0)</td>\n",
       "      <td>24/06/25 11:00:00</td>\n",
       "      <td>Annual</td>\n",
       "      <td>Frequency of internet access: daily</td>\n",
       "      <td>Percentage of individuals</td>\n",
       "      <td>Persons aged 16-74 working in agriculture, for...</td>\n",
       "      <td>Austria</td>\n",
       "      <td>2021</td>\n",
       "      <td>71.67</td>\n",
       "      <td>NaN</td>\n",
       "      <td>NaN</td>\n",
       "    </tr>\n",
       "    <tr>\n",
       "      <th>1</th>\n",
       "      <td>ESTAT:ISOC_CI_IFP_FU(1.0)</td>\n",
       "      <td>24/06/25 11:00:00</td>\n",
       "      <td>Annual</td>\n",
       "      <td>Frequency of internet access: daily</td>\n",
       "      <td>Percentage of individuals</td>\n",
       "      <td>Persons aged 16-74 working in agriculture, for...</td>\n",
       "      <td>Austria</td>\n",
       "      <td>2022</td>\n",
       "      <td>74.32</td>\n",
       "      <td>NaN</td>\n",
       "      <td>NaN</td>\n",
       "    </tr>\n",
       "    <tr>\n",
       "      <th>2</th>\n",
       "      <td>ESTAT:ISOC_CI_IFP_FU(1.0)</td>\n",
       "      <td>24/06/25 11:00:00</td>\n",
       "      <td>Annual</td>\n",
       "      <td>Frequency of internet access: daily</td>\n",
       "      <td>Percentage of individuals</td>\n",
       "      <td>Persons aged 16-74 working in agriculture, for...</td>\n",
       "      <td>Austria</td>\n",
       "      <td>2023</td>\n",
       "      <td>78.30</td>\n",
       "      <td>NaN</td>\n",
       "      <td>NaN</td>\n",
       "    </tr>\n",
       "    <tr>\n",
       "      <th>3</th>\n",
       "      <td>ESTAT:ISOC_CI_IFP_FU(1.0)</td>\n",
       "      <td>24/06/25 11:00:00</td>\n",
       "      <td>Annual</td>\n",
       "      <td>Frequency of internet access: daily</td>\n",
       "      <td>Percentage of individuals</td>\n",
       "      <td>Persons aged 16-74 working in agriculture, for...</td>\n",
       "      <td>Austria</td>\n",
       "      <td>2024</td>\n",
       "      <td>65.60</td>\n",
       "      <td>NaN</td>\n",
       "      <td>NaN</td>\n",
       "    </tr>\n",
       "    <tr>\n",
       "      <th>4</th>\n",
       "      <td>ESTAT:ISOC_CI_IFP_FU(1.0)</td>\n",
       "      <td>24/06/25 11:00:00</td>\n",
       "      <td>Annual</td>\n",
       "      <td>Frequency of internet access: daily</td>\n",
       "      <td>Percentage of individuals</td>\n",
       "      <td>Persons aged 16-74 working in agriculture, for...</td>\n",
       "      <td>Belgium</td>\n",
       "      <td>2021</td>\n",
       "      <td>73.35</td>\n",
       "      <td>u</td>\n",
       "      <td>NaN</td>\n",
       "    </tr>\n",
       "  </tbody>\n",
       "</table>\n",
       "</div>"
      ],
      "text/plain": [
       "                    DATAFLOW        LAST UPDATE    freq  \\\n",
       "0  ESTAT:ISOC_CI_IFP_FU(1.0)  24/06/25 11:00:00  Annual   \n",
       "1  ESTAT:ISOC_CI_IFP_FU(1.0)  24/06/25 11:00:00  Annual   \n",
       "2  ESTAT:ISOC_CI_IFP_FU(1.0)  24/06/25 11:00:00  Annual   \n",
       "3  ESTAT:ISOC_CI_IFP_FU(1.0)  24/06/25 11:00:00  Annual   \n",
       "4  ESTAT:ISOC_CI_IFP_FU(1.0)  24/06/25 11:00:00  Annual   \n",
       "\n",
       "                              indic_is                       unit  \\\n",
       "0  Frequency of internet access: daily  Percentage of individuals   \n",
       "1  Frequency of internet access: daily  Percentage of individuals   \n",
       "2  Frequency of internet access: daily  Percentage of individuals   \n",
       "3  Frequency of internet access: daily  Percentage of individuals   \n",
       "4  Frequency of internet access: daily  Percentage of individuals   \n",
       "\n",
       "                                            ind_type      geo  TIME_PERIOD  \\\n",
       "0  Persons aged 16-74 working in agriculture, for...  Austria         2021   \n",
       "1  Persons aged 16-74 working in agriculture, for...  Austria         2022   \n",
       "2  Persons aged 16-74 working in agriculture, for...  Austria         2023   \n",
       "3  Persons aged 16-74 working in agriculture, for...  Austria         2024   \n",
       "4  Persons aged 16-74 working in agriculture, for...  Belgium         2021   \n",
       "\n",
       "   OBS_VALUE OBS_FLAG CONF_STATUS  \n",
       "0      71.67      NaN         NaN  \n",
       "1      74.32      NaN         NaN  \n",
       "2      78.30      NaN         NaN  \n",
       "3      65.60      NaN         NaN  \n",
       "4      73.35        u         NaN  "
      ]
     },
     "execution_count": 6,
     "metadata": {},
     "output_type": "execute_result"
    }
   ],
   "source": [
    "# first rows \n",
    "internet_use.head()"
   ]
  },
  {
   "cell_type": "markdown",
   "id": "39853042-92b9-4540-8780-96bfbf2c2c53",
   "metadata": {},
   "source": [
    "There are unnecessary columns that need to be deleted. "
   ]
  },
  {
   "cell_type": "code",
   "execution_count": 7,
   "id": "c5552690-31f1-4ca3-a670-40e996e09566",
   "metadata": {},
   "outputs": [
    {
     "name": "stdout",
     "output_type": "stream",
     "text": [
      "<class 'pandas.core.frame.DataFrame'>\n",
      "RangeIndex: 92149 entries, 0 to 92148\n",
      "Data columns (total 11 columns):\n",
      " #   Column       Non-Null Count  Dtype  \n",
      "---  ------       --------------  -----  \n",
      " 0   DATAFLOW     92149 non-null  object \n",
      " 1   LAST UPDATE  92149 non-null  object \n",
      " 2   freq         92149 non-null  object \n",
      " 3   indic_is     92149 non-null  object \n",
      " 4   unit         92149 non-null  object \n",
      " 5   ind_type     92149 non-null  object \n",
      " 6   geo          92149 non-null  object \n",
      " 7   TIME_PERIOD  92149 non-null  int64  \n",
      " 8   OBS_VALUE    88519 non-null  float64\n",
      " 9   OBS_FLAG     6057 non-null   object \n",
      " 10  CONF_STATUS  9 non-null      object \n",
      "dtypes: float64(1), int64(1), object(9)\n",
      "memory usage: 7.7+ MB\n"
     ]
    }
   ],
   "source": [
    "# General information about dataser\n",
    "internet_use.info()"
   ]
  },
  {
   "cell_type": "markdown",
   "id": "da694a95-aef1-46fc-9040-0094f4723a9d",
   "metadata": {},
   "source": [
    "6057 rows have an observation flag. \n",
    "The variable CONF_STATUS has 9 non-null values, therefore should be checked. "
   ]
  },
  {
   "cell_type": "code",
   "execution_count": 8,
   "id": "28828bef-c34c-45dc-b0c3-2b230520e4bc",
   "metadata": {},
   "outputs": [
    {
     "data": {
      "text/html": [
       "<div>\n",
       "<style scoped>\n",
       "    .dataframe tbody tr th:only-of-type {\n",
       "        vertical-align: middle;\n",
       "    }\n",
       "\n",
       "    .dataframe tbody tr th {\n",
       "        vertical-align: top;\n",
       "    }\n",
       "\n",
       "    .dataframe thead th {\n",
       "        text-align: right;\n",
       "    }\n",
       "</style>\n",
       "<table border=\"1\" class=\"dataframe\">\n",
       "  <thead>\n",
       "    <tr style=\"text-align: right;\">\n",
       "      <th></th>\n",
       "      <th>TIME_PERIOD</th>\n",
       "      <th>OBS_VALUE</th>\n",
       "    </tr>\n",
       "  </thead>\n",
       "  <tbody>\n",
       "    <tr>\n",
       "      <th>count</th>\n",
       "      <td>92149.000000</td>\n",
       "      <td>88519.000000</td>\n",
       "    </tr>\n",
       "    <tr>\n",
       "      <th>mean</th>\n",
       "      <td>2014.348023</td>\n",
       "      <td>24.680962</td>\n",
       "    </tr>\n",
       "    <tr>\n",
       "      <th>std</th>\n",
       "      <td>6.053127</td>\n",
       "      <td>33.815669</td>\n",
       "    </tr>\n",
       "    <tr>\n",
       "      <th>min</th>\n",
       "      <td>2003.000000</td>\n",
       "      <td>0.000000</td>\n",
       "    </tr>\n",
       "    <tr>\n",
       "      <th>25%</th>\n",
       "      <td>2009.000000</td>\n",
       "      <td>1.640000</td>\n",
       "    </tr>\n",
       "    <tr>\n",
       "      <th>50%</th>\n",
       "      <td>2014.000000</td>\n",
       "      <td>5.580000</td>\n",
       "    </tr>\n",
       "    <tr>\n",
       "      <th>75%</th>\n",
       "      <td>2020.000000</td>\n",
       "      <td>42.645000</td>\n",
       "    </tr>\n",
       "    <tr>\n",
       "      <th>max</th>\n",
       "      <td>2024.000000</td>\n",
       "      <td>100.000000</td>\n",
       "    </tr>\n",
       "  </tbody>\n",
       "</table>\n",
       "</div>"
      ],
      "text/plain": [
       "        TIME_PERIOD     OBS_VALUE\n",
       "count  92149.000000  88519.000000\n",
       "mean    2014.348023     24.680962\n",
       "std        6.053127     33.815669\n",
       "min     2003.000000      0.000000\n",
       "25%     2009.000000      1.640000\n",
       "50%     2014.000000      5.580000\n",
       "75%     2020.000000     42.645000\n",
       "max     2024.000000    100.000000"
      ]
     },
     "execution_count": 8,
     "metadata": {},
     "output_type": "execute_result"
    }
   ],
   "source": [
    "# descriptive stats \n",
    "internet_use.describe()"
   ]
  },
  {
   "cell_type": "markdown",
   "id": "dd20fffc-fe65-4d19-b17c-fad0f45282e6",
   "metadata": {},
   "source": [
    "With the 'count' values, missing values are suggested in the OBS_VALUE column. \n",
    "The years shown are from 2003 to 2024\n",
    "Values (percentages) are correct, as the minimum is 0 and the max 100"
   ]
  },
  {
   "cell_type": "markdown",
   "id": "7778782c-7a42-4330-8d7d-55c2d3e55645",
   "metadata": {},
   "source": [
    "## 02.3 Dropping Columns"
   ]
  },
  {
   "cell_type": "code",
   "execution_count": 9,
   "id": "1936d931-0fca-4200-b011-81a76798fdec",
   "metadata": {},
   "outputs": [
    {
     "data": {
      "text/plain": [
       "DATAFLOW\n",
       "ESTAT:ISOC_CI_IFP_FU(1.0)    92149\n",
       "Name: count, dtype: int64"
      ]
     },
     "execution_count": 9,
     "metadata": {},
     "output_type": "execute_result"
    }
   ],
   "source": [
    "internet_use['DATAFLOW'].value_counts(dropna = False)"
   ]
  },
  {
   "cell_type": "code",
   "execution_count": 10,
   "id": "e4d49b5c-b79c-4bbf-85bd-3a6c9d566c06",
   "metadata": {},
   "outputs": [
    {
     "data": {
      "text/plain": [
       "LAST UPDATE\n",
       "24/06/25 11:00:00    92149\n",
       "Name: count, dtype: int64"
      ]
     },
     "execution_count": 10,
     "metadata": {},
     "output_type": "execute_result"
    }
   ],
   "source": [
    "internet_use['LAST UPDATE'].value_counts(dropna = False)"
   ]
  },
  {
   "cell_type": "code",
   "execution_count": 11,
   "id": "a34f1fe0-fee0-44d8-a034-aacdf13f26d6",
   "metadata": {},
   "outputs": [
    {
     "data": {
      "text/plain": [
       "freq\n",
       "Annual    92149\n",
       "Name: count, dtype: int64"
      ]
     },
     "execution_count": 11,
     "metadata": {},
     "output_type": "execute_result"
    }
   ],
   "source": [
    "internet_use['freq'].value_counts(dropna = False)"
   ]
  },
  {
   "cell_type": "code",
   "execution_count": 12,
   "id": "a42ae3ab-c82d-4876-8016-0e43bd9b430f",
   "metadata": {},
   "outputs": [
    {
     "data": {
      "text/plain": [
       "unit\n",
       "Percentage of individuals    92149\n",
       "Name: count, dtype: int64"
      ]
     },
     "execution_count": 12,
     "metadata": {},
     "output_type": "execute_result"
    }
   ],
   "source": [
    "internet_use['unit'].value_counts(dropna = False)"
   ]
  },
  {
   "cell_type": "code",
   "execution_count": 13,
   "id": "e27f0321-6aa0-4d83-8d4a-62fdc8b4d333",
   "metadata": {},
   "outputs": [
    {
     "data": {
      "text/plain": [
       "CONF_STATUS\n",
       "NaN    92140\n",
       "C          9\n",
       "Name: count, dtype: int64"
      ]
     },
     "execution_count": 13,
     "metadata": {},
     "output_type": "execute_result"
    }
   ],
   "source": [
    "internet_use['CONF_STATUS'].value_counts(dropna = False)"
   ]
  },
  {
   "cell_type": "code",
   "execution_count": 14,
   "id": "ac7ffb3d-4cae-4b90-af88-0f5cdf808249",
   "metadata": {},
   "outputs": [
    {
     "data": {
      "text/html": [
       "<div>\n",
       "<style scoped>\n",
       "    .dataframe tbody tr th:only-of-type {\n",
       "        vertical-align: middle;\n",
       "    }\n",
       "\n",
       "    .dataframe tbody tr th {\n",
       "        vertical-align: top;\n",
       "    }\n",
       "\n",
       "    .dataframe thead th {\n",
       "        text-align: right;\n",
       "    }\n",
       "</style>\n",
       "<table border=\"1\" class=\"dataframe\">\n",
       "  <thead>\n",
       "    <tr style=\"text-align: right;\">\n",
       "      <th></th>\n",
       "      <th>DATAFLOW</th>\n",
       "      <th>LAST UPDATE</th>\n",
       "      <th>freq</th>\n",
       "      <th>indic_is</th>\n",
       "      <th>unit</th>\n",
       "      <th>ind_type</th>\n",
       "      <th>geo</th>\n",
       "      <th>TIME_PERIOD</th>\n",
       "      <th>OBS_VALUE</th>\n",
       "      <th>OBS_FLAG</th>\n",
       "      <th>CONF_STATUS</th>\n",
       "    </tr>\n",
       "  </thead>\n",
       "  <tbody>\n",
       "    <tr>\n",
       "      <th>28300</th>\n",
       "      <td>ESTAT:ISOC_CI_IFP_FU(1.0)</td>\n",
       "      <td>24/06/25 11:00:00</td>\n",
       "      <td>Annual</td>\n",
       "      <td>Frequency of internet access: less than once a...</td>\n",
       "      <td>Percentage of individuals</td>\n",
       "      <td>Females, 16 to 24 years old</td>\n",
       "      <td>Germany</td>\n",
       "      <td>2009</td>\n",
       "      <td>NaN</td>\n",
       "      <td>NaN</td>\n",
       "      <td>C</td>\n",
       "    </tr>\n",
       "    <tr>\n",
       "      <th>31052</th>\n",
       "      <td>ESTAT:ISOC_CI_IFP_FU(1.0)</td>\n",
       "      <td>24/06/25 11:00:00</td>\n",
       "      <td>Annual</td>\n",
       "      <td>Frequency of internet access: less than once a...</td>\n",
       "      <td>Percentage of individuals</td>\n",
       "      <td>ICT professionals</td>\n",
       "      <td>Germany</td>\n",
       "      <td>2009</td>\n",
       "      <td>NaN</td>\n",
       "      <td>NaN</td>\n",
       "      <td>C</td>\n",
       "    </tr>\n",
       "    <tr>\n",
       "      <th>32335</th>\n",
       "      <td>ESTAT:ISOC_CI_IFP_FU(1.0)</td>\n",
       "      <td>24/06/25 11:00:00</td>\n",
       "      <td>Annual</td>\n",
       "      <td>Frequency of internet access: less than once a...</td>\n",
       "      <td>Percentage of individuals</td>\n",
       "      <td>Males, 16 to 24 years old</td>\n",
       "      <td>Germany</td>\n",
       "      <td>2010</td>\n",
       "      <td>NaN</td>\n",
       "      <td>NaN</td>\n",
       "      <td>C</td>\n",
       "    </tr>\n",
       "    <tr>\n",
       "      <th>32827</th>\n",
       "      <td>ESTAT:ISOC_CI_IFP_FU(1.0)</td>\n",
       "      <td>24/06/25 11:00:00</td>\n",
       "      <td>Annual</td>\n",
       "      <td>Frequency of internet access: less than once a...</td>\n",
       "      <td>Percentage of individuals</td>\n",
       "      <td>Students</td>\n",
       "      <td>Germany</td>\n",
       "      <td>2010</td>\n",
       "      <td>NaN</td>\n",
       "      <td>NaN</td>\n",
       "      <td>C</td>\n",
       "    </tr>\n",
       "    <tr>\n",
       "      <th>46193</th>\n",
       "      <td>ESTAT:ISOC_CI_IFP_FU(1.0)</td>\n",
       "      <td>24/06/25 11:00:00</td>\n",
       "      <td>Annual</td>\n",
       "      <td>Frequency of internet access: less than once a...</td>\n",
       "      <td>Percentage of individuals</td>\n",
       "      <td>ICT professionals</td>\n",
       "      <td>Germany</td>\n",
       "      <td>2007</td>\n",
       "      <td>NaN</td>\n",
       "      <td>NaN</td>\n",
       "      <td>C</td>\n",
       "    </tr>\n",
       "    <tr>\n",
       "      <th>46194</th>\n",
       "      <td>ESTAT:ISOC_CI_IFP_FU(1.0)</td>\n",
       "      <td>24/06/25 11:00:00</td>\n",
       "      <td>Annual</td>\n",
       "      <td>Frequency of internet access: less than once a...</td>\n",
       "      <td>Percentage of individuals</td>\n",
       "      <td>ICT professionals</td>\n",
       "      <td>Germany</td>\n",
       "      <td>2008</td>\n",
       "      <td>NaN</td>\n",
       "      <td>NaN</td>\n",
       "      <td>C</td>\n",
       "    </tr>\n",
       "    <tr>\n",
       "      <th>62929</th>\n",
       "      <td>ESTAT:ISOC_CI_IFP_FU(1.0)</td>\n",
       "      <td>24/06/25 11:00:00</td>\n",
       "      <td>Annual</td>\n",
       "      <td>Frequency of internet access: at least once a ...</td>\n",
       "      <td>Percentage of individuals</td>\n",
       "      <td>ICT professionals</td>\n",
       "      <td>Germany</td>\n",
       "      <td>2007</td>\n",
       "      <td>NaN</td>\n",
       "      <td>NaN</td>\n",
       "      <td>C</td>\n",
       "    </tr>\n",
       "    <tr>\n",
       "      <th>62930</th>\n",
       "      <td>ESTAT:ISOC_CI_IFP_FU(1.0)</td>\n",
       "      <td>24/06/25 11:00:00</td>\n",
       "      <td>Annual</td>\n",
       "      <td>Frequency of internet access: at least once a ...</td>\n",
       "      <td>Percentage of individuals</td>\n",
       "      <td>ICT professionals</td>\n",
       "      <td>Germany</td>\n",
       "      <td>2008</td>\n",
       "      <td>NaN</td>\n",
       "      <td>NaN</td>\n",
       "      <td>C</td>\n",
       "    </tr>\n",
       "    <tr>\n",
       "      <th>62931</th>\n",
       "      <td>ESTAT:ISOC_CI_IFP_FU(1.0)</td>\n",
       "      <td>24/06/25 11:00:00</td>\n",
       "      <td>Annual</td>\n",
       "      <td>Frequency of internet access: at least once a ...</td>\n",
       "      <td>Percentage of individuals</td>\n",
       "      <td>ICT professionals</td>\n",
       "      <td>Germany</td>\n",
       "      <td>2009</td>\n",
       "      <td>NaN</td>\n",
       "      <td>NaN</td>\n",
       "      <td>C</td>\n",
       "    </tr>\n",
       "  </tbody>\n",
       "</table>\n",
       "</div>"
      ],
      "text/plain": [
       "                        DATAFLOW        LAST UPDATE    freq  \\\n",
       "28300  ESTAT:ISOC_CI_IFP_FU(1.0)  24/06/25 11:00:00  Annual   \n",
       "31052  ESTAT:ISOC_CI_IFP_FU(1.0)  24/06/25 11:00:00  Annual   \n",
       "32335  ESTAT:ISOC_CI_IFP_FU(1.0)  24/06/25 11:00:00  Annual   \n",
       "32827  ESTAT:ISOC_CI_IFP_FU(1.0)  24/06/25 11:00:00  Annual   \n",
       "46193  ESTAT:ISOC_CI_IFP_FU(1.0)  24/06/25 11:00:00  Annual   \n",
       "46194  ESTAT:ISOC_CI_IFP_FU(1.0)  24/06/25 11:00:00  Annual   \n",
       "62929  ESTAT:ISOC_CI_IFP_FU(1.0)  24/06/25 11:00:00  Annual   \n",
       "62930  ESTAT:ISOC_CI_IFP_FU(1.0)  24/06/25 11:00:00  Annual   \n",
       "62931  ESTAT:ISOC_CI_IFP_FU(1.0)  24/06/25 11:00:00  Annual   \n",
       "\n",
       "                                                indic_is  \\\n",
       "28300  Frequency of internet access: less than once a...   \n",
       "31052  Frequency of internet access: less than once a...   \n",
       "32335  Frequency of internet access: less than once a...   \n",
       "32827  Frequency of internet access: less than once a...   \n",
       "46193  Frequency of internet access: less than once a...   \n",
       "46194  Frequency of internet access: less than once a...   \n",
       "62929  Frequency of internet access: at least once a ...   \n",
       "62930  Frequency of internet access: at least once a ...   \n",
       "62931  Frequency of internet access: at least once a ...   \n",
       "\n",
       "                            unit                     ind_type      geo  \\\n",
       "28300  Percentage of individuals  Females, 16 to 24 years old  Germany   \n",
       "31052  Percentage of individuals            ICT professionals  Germany   \n",
       "32335  Percentage of individuals    Males, 16 to 24 years old  Germany   \n",
       "32827  Percentage of individuals                     Students  Germany   \n",
       "46193  Percentage of individuals            ICT professionals  Germany   \n",
       "46194  Percentage of individuals            ICT professionals  Germany   \n",
       "62929  Percentage of individuals            ICT professionals  Germany   \n",
       "62930  Percentage of individuals            ICT professionals  Germany   \n",
       "62931  Percentage of individuals            ICT professionals  Germany   \n",
       "\n",
       "       TIME_PERIOD  OBS_VALUE OBS_FLAG CONF_STATUS  \n",
       "28300         2009        NaN      NaN           C  \n",
       "31052         2009        NaN      NaN           C  \n",
       "32335         2010        NaN      NaN           C  \n",
       "32827         2010        NaN      NaN           C  \n",
       "46193         2007        NaN      NaN           C  \n",
       "46194         2008        NaN      NaN           C  \n",
       "62929         2007        NaN      NaN           C  \n",
       "62930         2008        NaN      NaN           C  \n",
       "62931         2009        NaN      NaN           C  "
      ]
     },
     "execution_count": 14,
     "metadata": {},
     "output_type": "execute_result"
    }
   ],
   "source": [
    "df_c = internet_use[internet_use['CONF_STATUS'] == 'C']\n",
    "df_c"
   ]
  },
  {
   "cell_type": "markdown",
   "id": "ea606aba-cc91-417c-8e51-f008a9d0149c",
   "metadata": {},
   "source": [
    "The column will be eliminated together with the entire rows, as it provides no relevant information."
   ]
  },
  {
   "cell_type": "code",
   "execution_count": 15,
   "id": "ef4c2f9c-afce-4dbd-b1a1-c5c1e54e8aeb",
   "metadata": {},
   "outputs": [],
   "source": [
    "# Delete rows with CONF_STATUS value: 'C'\n",
    "internet_use = internet_use[internet_use['CONF_STATUS'] != 'C']"
   ]
  },
  {
   "cell_type": "code",
   "execution_count": 16,
   "id": "5c83674e-1422-4b5e-bbc2-ef7cb7d9f245",
   "metadata": {},
   "outputs": [
    {
     "data": {
      "text/plain": [
       "CONF_STATUS\n",
       "NaN    92140\n",
       "Name: count, dtype: int64"
      ]
     },
     "execution_count": 16,
     "metadata": {},
     "output_type": "execute_result"
    }
   ],
   "source": [
    "# Checking deletion\n",
    "internet_use['CONF_STATUS'].value_counts(dropna=False)"
   ]
  },
  {
   "cell_type": "code",
   "execution_count": 17,
   "id": "cb7d5d52-47b3-4147-8e97-14b78b69da9f",
   "metadata": {},
   "outputs": [
    {
     "data": {
      "text/plain": [
       "OBS_FLAG\n",
       "NaN    86083\n",
       "u       4744\n",
       "b       1260\n",
       "bu        53\n",
       "Name: count, dtype: int64"
      ]
     },
     "execution_count": 17,
     "metadata": {},
     "output_type": "execute_result"
    }
   ],
   "source": [
    "internet_use['OBS_FLAG'].value_counts(dropna = False)"
   ]
  },
  {
   "cell_type": "markdown",
   "id": "f671142f-dd63-4237-aca2-c6fae161d281",
   "metadata": {},
   "source": [
    "This column would not be dropped, as it contains information about the values presented on those rows (flag letters). "
   ]
  },
  {
   "cell_type": "code",
   "execution_count": 18,
   "id": "a0cce84a-9d98-43cb-a527-c4d1520209d6",
   "metadata": {},
   "outputs": [],
   "source": [
    "# Drop unnecessary columns: DATAFLOW / LAST UPDATE / freq / unit / CONF_STATUS\n",
    "internet_use = internet_use.drop(columns = ['DATAFLOW', 'LAST UPDATE', 'freq', 'unit', 'CONF_STATUS'])"
   ]
  },
  {
   "cell_type": "code",
   "execution_count": 19,
   "id": "9c3c7b30-d172-4064-9480-98c26d805401",
   "metadata": {},
   "outputs": [
    {
     "data": {
      "text/html": [
       "<div>\n",
       "<style scoped>\n",
       "    .dataframe tbody tr th:only-of-type {\n",
       "        vertical-align: middle;\n",
       "    }\n",
       "\n",
       "    .dataframe tbody tr th {\n",
       "        vertical-align: top;\n",
       "    }\n",
       "\n",
       "    .dataframe thead th {\n",
       "        text-align: right;\n",
       "    }\n",
       "</style>\n",
       "<table border=\"1\" class=\"dataframe\">\n",
       "  <thead>\n",
       "    <tr style=\"text-align: right;\">\n",
       "      <th></th>\n",
       "      <th>indic_is</th>\n",
       "      <th>ind_type</th>\n",
       "      <th>geo</th>\n",
       "      <th>TIME_PERIOD</th>\n",
       "      <th>OBS_VALUE</th>\n",
       "      <th>OBS_FLAG</th>\n",
       "    </tr>\n",
       "  </thead>\n",
       "  <tbody>\n",
       "    <tr>\n",
       "      <th>0</th>\n",
       "      <td>Frequency of internet access: daily</td>\n",
       "      <td>Persons aged 16-74 working in agriculture, for...</td>\n",
       "      <td>Austria</td>\n",
       "      <td>2021</td>\n",
       "      <td>71.67</td>\n",
       "      <td>NaN</td>\n",
       "    </tr>\n",
       "    <tr>\n",
       "      <th>1</th>\n",
       "      <td>Frequency of internet access: daily</td>\n",
       "      <td>Persons aged 16-74 working in agriculture, for...</td>\n",
       "      <td>Austria</td>\n",
       "      <td>2022</td>\n",
       "      <td>74.32</td>\n",
       "      <td>NaN</td>\n",
       "    </tr>\n",
       "    <tr>\n",
       "      <th>2</th>\n",
       "      <td>Frequency of internet access: daily</td>\n",
       "      <td>Persons aged 16-74 working in agriculture, for...</td>\n",
       "      <td>Austria</td>\n",
       "      <td>2023</td>\n",
       "      <td>78.30</td>\n",
       "      <td>NaN</td>\n",
       "    </tr>\n",
       "    <tr>\n",
       "      <th>3</th>\n",
       "      <td>Frequency of internet access: daily</td>\n",
       "      <td>Persons aged 16-74 working in agriculture, for...</td>\n",
       "      <td>Austria</td>\n",
       "      <td>2024</td>\n",
       "      <td>65.60</td>\n",
       "      <td>NaN</td>\n",
       "    </tr>\n",
       "    <tr>\n",
       "      <th>4</th>\n",
       "      <td>Frequency of internet access: daily</td>\n",
       "      <td>Persons aged 16-74 working in agriculture, for...</td>\n",
       "      <td>Belgium</td>\n",
       "      <td>2021</td>\n",
       "      <td>73.35</td>\n",
       "      <td>u</td>\n",
       "    </tr>\n",
       "  </tbody>\n",
       "</table>\n",
       "</div>"
      ],
      "text/plain": [
       "                              indic_is  \\\n",
       "0  Frequency of internet access: daily   \n",
       "1  Frequency of internet access: daily   \n",
       "2  Frequency of internet access: daily   \n",
       "3  Frequency of internet access: daily   \n",
       "4  Frequency of internet access: daily   \n",
       "\n",
       "                                            ind_type      geo  TIME_PERIOD  \\\n",
       "0  Persons aged 16-74 working in agriculture, for...  Austria         2021   \n",
       "1  Persons aged 16-74 working in agriculture, for...  Austria         2022   \n",
       "2  Persons aged 16-74 working in agriculture, for...  Austria         2023   \n",
       "3  Persons aged 16-74 working in agriculture, for...  Austria         2024   \n",
       "4  Persons aged 16-74 working in agriculture, for...  Belgium         2021   \n",
       "\n",
       "   OBS_VALUE OBS_FLAG  \n",
       "0      71.67      NaN  \n",
       "1      74.32      NaN  \n",
       "2      78.30      NaN  \n",
       "3      65.60      NaN  \n",
       "4      73.35        u  "
      ]
     },
     "execution_count": 19,
     "metadata": {},
     "output_type": "execute_result"
    }
   ],
   "source": [
    "internet_use.head()"
   ]
  },
  {
   "cell_type": "markdown",
   "id": "1f2c8415-9430-4d16-8d83-634cc4f37f32",
   "metadata": {},
   "source": [
    "## 02.4 Renaming Columns"
   ]
  },
  {
   "cell_type": "code",
   "execution_count": 20,
   "id": "d3273d1b-8ecc-4454-b0dd-e9f99180f679",
   "metadata": {},
   "outputs": [],
   "source": [
    "# Renaming columns for better understanding and same format\n",
    "internet_use.rename(columns = {\n",
    "    'indic_is' : 'freq_internet_access',\n",
    "    'ind_type' : 'demographic_group',\n",
    "    'geo' : 'country',\n",
    "    'TIME_PERIOD' : 'year',\n",
    "    'OBS_VALUE' : 'internet_access_rate',\n",
    "    'OBS_FLAG' : 'freq_data_flag'\n",
    "}, inplace = True)"
   ]
  },
  {
   "cell_type": "code",
   "execution_count": 21,
   "id": "63d8c2d0-885a-4aff-8fd8-889befc83175",
   "metadata": {},
   "outputs": [
    {
     "data": {
      "text/html": [
       "<div>\n",
       "<style scoped>\n",
       "    .dataframe tbody tr th:only-of-type {\n",
       "        vertical-align: middle;\n",
       "    }\n",
       "\n",
       "    .dataframe tbody tr th {\n",
       "        vertical-align: top;\n",
       "    }\n",
       "\n",
       "    .dataframe thead th {\n",
       "        text-align: right;\n",
       "    }\n",
       "</style>\n",
       "<table border=\"1\" class=\"dataframe\">\n",
       "  <thead>\n",
       "    <tr style=\"text-align: right;\">\n",
       "      <th></th>\n",
       "      <th>freq_internet_access</th>\n",
       "      <th>demographic_group</th>\n",
       "      <th>country</th>\n",
       "      <th>year</th>\n",
       "      <th>internet_access_rate</th>\n",
       "      <th>freq_data_flag</th>\n",
       "    </tr>\n",
       "  </thead>\n",
       "  <tbody>\n",
       "    <tr>\n",
       "      <th>0</th>\n",
       "      <td>Frequency of internet access: daily</td>\n",
       "      <td>Persons aged 16-74 working in agriculture, for...</td>\n",
       "      <td>Austria</td>\n",
       "      <td>2021</td>\n",
       "      <td>71.67</td>\n",
       "      <td>NaN</td>\n",
       "    </tr>\n",
       "    <tr>\n",
       "      <th>1</th>\n",
       "      <td>Frequency of internet access: daily</td>\n",
       "      <td>Persons aged 16-74 working in agriculture, for...</td>\n",
       "      <td>Austria</td>\n",
       "      <td>2022</td>\n",
       "      <td>74.32</td>\n",
       "      <td>NaN</td>\n",
       "    </tr>\n",
       "    <tr>\n",
       "      <th>2</th>\n",
       "      <td>Frequency of internet access: daily</td>\n",
       "      <td>Persons aged 16-74 working in agriculture, for...</td>\n",
       "      <td>Austria</td>\n",
       "      <td>2023</td>\n",
       "      <td>78.30</td>\n",
       "      <td>NaN</td>\n",
       "    </tr>\n",
       "    <tr>\n",
       "      <th>3</th>\n",
       "      <td>Frequency of internet access: daily</td>\n",
       "      <td>Persons aged 16-74 working in agriculture, for...</td>\n",
       "      <td>Austria</td>\n",
       "      <td>2024</td>\n",
       "      <td>65.60</td>\n",
       "      <td>NaN</td>\n",
       "    </tr>\n",
       "    <tr>\n",
       "      <th>4</th>\n",
       "      <td>Frequency of internet access: daily</td>\n",
       "      <td>Persons aged 16-74 working in agriculture, for...</td>\n",
       "      <td>Belgium</td>\n",
       "      <td>2021</td>\n",
       "      <td>73.35</td>\n",
       "      <td>u</td>\n",
       "    </tr>\n",
       "  </tbody>\n",
       "</table>\n",
       "</div>"
      ],
      "text/plain": [
       "                  freq_internet_access  \\\n",
       "0  Frequency of internet access: daily   \n",
       "1  Frequency of internet access: daily   \n",
       "2  Frequency of internet access: daily   \n",
       "3  Frequency of internet access: daily   \n",
       "4  Frequency of internet access: daily   \n",
       "\n",
       "                                   demographic_group  country  year  \\\n",
       "0  Persons aged 16-74 working in agriculture, for...  Austria  2021   \n",
       "1  Persons aged 16-74 working in agriculture, for...  Austria  2022   \n",
       "2  Persons aged 16-74 working in agriculture, for...  Austria  2023   \n",
       "3  Persons aged 16-74 working in agriculture, for...  Austria  2024   \n",
       "4  Persons aged 16-74 working in agriculture, for...  Belgium  2021   \n",
       "\n",
       "   internet_access_rate freq_data_flag  \n",
       "0                 71.67            NaN  \n",
       "1                 74.32            NaN  \n",
       "2                 78.30            NaN  \n",
       "3                 65.60            NaN  \n",
       "4                 73.35              u  "
      ]
     },
     "execution_count": 21,
     "metadata": {},
     "output_type": "execute_result"
    }
   ],
   "source": [
    "internet_use.head()"
   ]
  },
  {
   "cell_type": "markdown",
   "id": "15cf396a-302f-4659-ad30-1205114b3288",
   "metadata": {},
   "source": [
    "## 02.5 Removing prefixes"
   ]
  },
  {
   "cell_type": "code",
   "execution_count": 22,
   "id": "11516cff-e196-432c-a5e7-fa2784eddf8a",
   "metadata": {},
   "outputs": [
    {
     "data": {
      "text/plain": [
       "freq_internet_access\n",
       "Frequency of internet access: daily                                       27430\n",
       "Frequency of internet access: at least once a week (but not every day)    24736\n",
       "Frequency of internet access: less than once a week                       23779\n",
       "Frequency of internet access: at least once a month                        8117\n",
       "Frequency of internet access: less than once a month                       8078\n",
       "Name: count, dtype: int64"
      ]
     },
     "execution_count": 22,
     "metadata": {},
     "output_type": "execute_result"
    }
   ],
   "source": [
    "# Checking if all values in the variable 'freq_internet_access' have the same prefix - Frequency of internet access -\n",
    "internet_use['freq_internet_access'].value_counts(dropna = False)"
   ]
  },
  {
   "cell_type": "code",
   "execution_count": 23,
   "id": "e583d35c-eed2-4acf-941f-279b9fa3c295",
   "metadata": {},
   "outputs": [],
   "source": [
    "# Removing prefix \n",
    "internet_use['freq_internet_access'] = internet_use['freq_internet_access'].str.replace('Frequency of internet access: ', '')"
   ]
  },
  {
   "cell_type": "code",
   "execution_count": 24,
   "id": "d7a1f0cf-1f7f-4c25-8b41-70380ecafe24",
   "metadata": {},
   "outputs": [
    {
     "data": {
      "text/plain": [
       "freq_internet_access\n",
       "daily                                       27430\n",
       "at least once a week (but not every day)    24736\n",
       "less than once a week                       23779\n",
       "at least once a month                        8117\n",
       "less than once a month                       8078\n",
       "Name: count, dtype: int64"
      ]
     },
     "execution_count": 24,
     "metadata": {},
     "output_type": "execute_result"
    }
   ],
   "source": [
    "internet_use['freq_internet_access'].value_counts(dropna = False)"
   ]
  },
  {
   "cell_type": "markdown",
   "id": "4e2f4bb4-1f7b-4143-af6d-efb7d0cfe078",
   "metadata": {},
   "source": [
    "## 02.6 Mixed Data Types"
   ]
  },
  {
   "cell_type": "code",
   "execution_count": 25,
   "id": "b014bdb8-f21b-4eee-b4bc-188065636f2c",
   "metadata": {},
   "outputs": [
    {
     "name": "stdout",
     "output_type": "stream",
     "text": [
      "freq_data_flag\n"
     ]
    },
    {
     "name": "stderr",
     "output_type": "stream",
     "text": [
      "C:\\Users\\adrig\\AppData\\Local\\Temp\\ipykernel_35692\\4204843813.py:3: FutureWarning: DataFrame.applymap has been deprecated. Use DataFrame.map instead.\n",
      "  weird = (internet_use[[col]].applymap(type) != internet_use[[col]].iloc[0].apply(type)).any(axis=1)\n",
      "C:\\Users\\adrig\\AppData\\Local\\Temp\\ipykernel_35692\\4204843813.py:3: FutureWarning: DataFrame.applymap has been deprecated. Use DataFrame.map instead.\n",
      "  weird = (internet_use[[col]].applymap(type) != internet_use[[col]].iloc[0].apply(type)).any(axis=1)\n",
      "C:\\Users\\adrig\\AppData\\Local\\Temp\\ipykernel_35692\\4204843813.py:3: FutureWarning: DataFrame.applymap has been deprecated. Use DataFrame.map instead.\n",
      "  weird = (internet_use[[col]].applymap(type) != internet_use[[col]].iloc[0].apply(type)).any(axis=1)\n",
      "C:\\Users\\adrig\\AppData\\Local\\Temp\\ipykernel_35692\\4204843813.py:3: FutureWarning: DataFrame.applymap has been deprecated. Use DataFrame.map instead.\n",
      "  weird = (internet_use[[col]].applymap(type) != internet_use[[col]].iloc[0].apply(type)).any(axis=1)\n",
      "C:\\Users\\adrig\\AppData\\Local\\Temp\\ipykernel_35692\\4204843813.py:3: FutureWarning: DataFrame.applymap has been deprecated. Use DataFrame.map instead.\n",
      "  weird = (internet_use[[col]].applymap(type) != internet_use[[col]].iloc[0].apply(type)).any(axis=1)\n",
      "C:\\Users\\adrig\\AppData\\Local\\Temp\\ipykernel_35692\\4204843813.py:3: FutureWarning: DataFrame.applymap has been deprecated. Use DataFrame.map instead.\n",
      "  weird = (internet_use[[col]].applymap(type) != internet_use[[col]].iloc[0].apply(type)).any(axis=1)\n"
     ]
    }
   ],
   "source": [
    "# function to check for mixed-type columns\n",
    "for col in internet_use.columns.tolist():\n",
    "    weird = (internet_use[[col]].applymap(type) != internet_use[[col]].iloc[0].apply(type)).any(axis=1)\n",
    "    if len (internet_use[weird]) > 0:\n",
    "        print(col)"
   ]
  },
  {
   "cell_type": "code",
   "execution_count": 26,
   "id": "1ff8ea4d-5208-4801-ab5c-026567bc8710",
   "metadata": {},
   "outputs": [],
   "source": [
    "# Changing data type for freq_data_flag variable\n",
    "internet_use['freq_data_flag'] = internet_use['freq_data_flag'].astype('category')"
   ]
  },
  {
   "cell_type": "code",
   "execution_count": 27,
   "id": "c906ee18-8751-4def-bbde-97b79a35b31f",
   "metadata": {},
   "outputs": [
    {
     "data": {
      "text/plain": [
       "freq_internet_access      object\n",
       "demographic_group         object\n",
       "country                   object\n",
       "year                       int64\n",
       "internet_access_rate     float64\n",
       "freq_data_flag          category\n",
       "dtype: object"
      ]
     },
     "execution_count": 27,
     "metadata": {},
     "output_type": "execute_result"
    }
   ],
   "source": [
    "internet_use.dtypes"
   ]
  },
  {
   "cell_type": "markdown",
   "id": "fd6953de-ddf9-4de4-8f0c-9f2c6f8a5c9c",
   "metadata": {},
   "source": [
    "## 02.7 Missing Values"
   ]
  },
  {
   "cell_type": "code",
   "execution_count": 28,
   "id": "5e1e561c-2dcb-4e3b-9c68-9c7e31b24f69",
   "metadata": {},
   "outputs": [
    {
     "data": {
      "text/plain": [
       "freq_internet_access        0\n",
       "demographic_group           0\n",
       "country                     0\n",
       "year                        0\n",
       "internet_access_rate     3621\n",
       "freq_data_flag          86083\n",
       "dtype: int64"
      ]
     },
     "execution_count": 28,
     "metadata": {},
     "output_type": "execute_result"
    }
   ],
   "source": [
    "# Finding missing values in internet_use dataframe\n",
    "internet_use.isnull().sum()"
   ]
  },
  {
   "cell_type": "code",
   "execution_count": 29,
   "id": "ec4b55bc-602c-4b88-ac7c-f50f7e6b4482",
   "metadata": {},
   "outputs": [
    {
     "data": {
      "text/html": [
       "<div>\n",
       "<style scoped>\n",
       "    .dataframe tbody tr th:only-of-type {\n",
       "        vertical-align: middle;\n",
       "    }\n",
       "\n",
       "    .dataframe tbody tr th {\n",
       "        vertical-align: top;\n",
       "    }\n",
       "\n",
       "    .dataframe thead th {\n",
       "        text-align: right;\n",
       "    }\n",
       "</style>\n",
       "<table border=\"1\" class=\"dataframe\">\n",
       "  <thead>\n",
       "    <tr style=\"text-align: right;\">\n",
       "      <th></th>\n",
       "      <th>freq_internet_access</th>\n",
       "      <th>demographic_group</th>\n",
       "      <th>country</th>\n",
       "      <th>year</th>\n",
       "      <th>internet_access_rate</th>\n",
       "      <th>freq_data_flag</th>\n",
       "    </tr>\n",
       "  </thead>\n",
       "  <tbody>\n",
       "    <tr>\n",
       "      <th>27</th>\n",
       "      <td>daily</td>\n",
       "      <td>Persons aged 16-74 working in agriculture, for...</td>\n",
       "      <td>Denmark</td>\n",
       "      <td>2024</td>\n",
       "      <td>NaN</td>\n",
       "      <td>u</td>\n",
       "    </tr>\n",
       "    <tr>\n",
       "      <th>55</th>\n",
       "      <td>daily</td>\n",
       "      <td>Persons aged 16-74 working in agriculture, for...</td>\n",
       "      <td>Luxembourg</td>\n",
       "      <td>2021</td>\n",
       "      <td>NaN</td>\n",
       "      <td>u</td>\n",
       "    </tr>\n",
       "    <tr>\n",
       "      <th>57</th>\n",
       "      <td>daily</td>\n",
       "      <td>Persons aged 16-74 working in agriculture, for...</td>\n",
       "      <td>Luxembourg</td>\n",
       "      <td>2023</td>\n",
       "      <td>NaN</td>\n",
       "      <td>u</td>\n",
       "    </tr>\n",
       "    <tr>\n",
       "      <th>83</th>\n",
       "      <td>daily</td>\n",
       "      <td>Persons aged 16-74 working in agriculture, for...</td>\n",
       "      <td>Slovenia</td>\n",
       "      <td>2021</td>\n",
       "      <td>NaN</td>\n",
       "      <td>u</td>\n",
       "    </tr>\n",
       "    <tr>\n",
       "      <th>91</th>\n",
       "      <td>daily</td>\n",
       "      <td>Persons aged 16-74 working in mining or quarrying</td>\n",
       "      <td>Austria</td>\n",
       "      <td>2021</td>\n",
       "      <td>NaN</td>\n",
       "      <td>u</td>\n",
       "    </tr>\n",
       "    <tr>\n",
       "      <th>...</th>\n",
       "      <td>...</td>\n",
       "      <td>...</td>\n",
       "      <td>...</td>\n",
       "      <td>...</td>\n",
       "      <td>...</td>\n",
       "      <td>...</td>\n",
       "    </tr>\n",
       "    <tr>\n",
       "      <th>92141</th>\n",
       "      <td>at least once a week (but not every day)</td>\n",
       "      <td>Individuals, 75 years old or more</td>\n",
       "      <td>United Kingdom</td>\n",
       "      <td>2005</td>\n",
       "      <td>NaN</td>\n",
       "      <td>u</td>\n",
       "    </tr>\n",
       "    <tr>\n",
       "      <th>92142</th>\n",
       "      <td>at least once a week (but not every day)</td>\n",
       "      <td>Individuals, 75 years old or more</td>\n",
       "      <td>United Kingdom</td>\n",
       "      <td>2006</td>\n",
       "      <td>NaN</td>\n",
       "      <td>u</td>\n",
       "    </tr>\n",
       "    <tr>\n",
       "      <th>92143</th>\n",
       "      <td>at least once a week (but not every day)</td>\n",
       "      <td>Individuals, 75 years old or more</td>\n",
       "      <td>United Kingdom</td>\n",
       "      <td>2007</td>\n",
       "      <td>NaN</td>\n",
       "      <td>u</td>\n",
       "    </tr>\n",
       "    <tr>\n",
       "      <th>92144</th>\n",
       "      <td>at least once a week (but not every day)</td>\n",
       "      <td>Individuals, 75 years old or more</td>\n",
       "      <td>United Kingdom</td>\n",
       "      <td>2008</td>\n",
       "      <td>NaN</td>\n",
       "      <td>u</td>\n",
       "    </tr>\n",
       "    <tr>\n",
       "      <th>92145</th>\n",
       "      <td>at least once a week (but not every day)</td>\n",
       "      <td>Individuals, 75 years old or more</td>\n",
       "      <td>United Kingdom</td>\n",
       "      <td>2009</td>\n",
       "      <td>NaN</td>\n",
       "      <td>u</td>\n",
       "    </tr>\n",
       "  </tbody>\n",
       "</table>\n",
       "<p>3621 rows × 6 columns</p>\n",
       "</div>"
      ],
      "text/plain": [
       "                           freq_internet_access  \\\n",
       "27                                        daily   \n",
       "55                                        daily   \n",
       "57                                        daily   \n",
       "83                                        daily   \n",
       "91                                        daily   \n",
       "...                                         ...   \n",
       "92141  at least once a week (but not every day)   \n",
       "92142  at least once a week (but not every day)   \n",
       "92143  at least once a week (but not every day)   \n",
       "92144  at least once a week (but not every day)   \n",
       "92145  at least once a week (but not every day)   \n",
       "\n",
       "                                       demographic_group         country  \\\n",
       "27     Persons aged 16-74 working in agriculture, for...         Denmark   \n",
       "55     Persons aged 16-74 working in agriculture, for...      Luxembourg   \n",
       "57     Persons aged 16-74 working in agriculture, for...      Luxembourg   \n",
       "83     Persons aged 16-74 working in agriculture, for...        Slovenia   \n",
       "91     Persons aged 16-74 working in mining or quarrying         Austria   \n",
       "...                                                  ...             ...   \n",
       "92141                  Individuals, 75 years old or more  United Kingdom   \n",
       "92142                  Individuals, 75 years old or more  United Kingdom   \n",
       "92143                  Individuals, 75 years old or more  United Kingdom   \n",
       "92144                  Individuals, 75 years old or more  United Kingdom   \n",
       "92145                  Individuals, 75 years old or more  United Kingdom   \n",
       "\n",
       "       year  internet_access_rate freq_data_flag  \n",
       "27     2024                   NaN              u  \n",
       "55     2021                   NaN              u  \n",
       "57     2023                   NaN              u  \n",
       "83     2021                   NaN              u  \n",
       "91     2021                   NaN              u  \n",
       "...     ...                   ...            ...  \n",
       "92141  2005                   NaN              u  \n",
       "92142  2006                   NaN              u  \n",
       "92143  2007                   NaN              u  \n",
       "92144  2008                   NaN              u  \n",
       "92145  2009                   NaN              u  \n",
       "\n",
       "[3621 rows x 6 columns]"
      ]
     },
     "execution_count": 29,
     "metadata": {},
     "output_type": "execute_result"
    }
   ],
   "source": [
    "# Creating subset for NaN values \n",
    "df_nan = internet_use[internet_use['internet_access_rate'].isnull() == True]\n",
    "df_nan"
   ]
  },
  {
   "cell_type": "code",
   "execution_count": 30,
   "id": "7f002eba-7478-41bf-b099-13d36dabd674",
   "metadata": {},
   "outputs": [
    {
     "data": {
      "text/plain": [
       "country\n",
       "United Kingdom     391\n",
       "Portugal           346\n",
       "North Macedonia    308\n",
       "Germany            301\n",
       "Iceland            293\n",
       "Austria            243\n",
       "Estonia            206\n",
       "Italy              196\n",
       "Finland            174\n",
       "Slovenia           157\n",
       "Bulgaria           127\n",
       "Czechia            118\n",
       "Ireland            104\n",
       "Denmark             98\n",
       "Romania             88\n",
       "Poland              83\n",
       "Malta               56\n",
       "Norway              47\n",
       "Lithuania           36\n",
       "Luxembourg          32\n",
       "Greece              29\n",
       "Sweden              28\n",
       "Slovakia            28\n",
       "Hungary             23\n",
       "Cyprus              19\n",
       "Croatia             16\n",
       "Montenegro          12\n",
       "Albania             12\n",
       "Netherlands         12\n",
       "Belgium             10\n",
       "Latvia               9\n",
       "France               9\n",
       "Serbia               6\n",
       "Kosovo*              3\n",
       "Spain                1\n",
       "Name: count, dtype: int64"
      ]
     },
     "execution_count": 30,
     "metadata": {},
     "output_type": "execute_result"
    }
   ],
   "source": [
    "# Checking missing values in internet_access_rate\n",
    "internet_use[internet_use['internet_access_rate'].isnull()]['country'].value_counts()"
   ]
  },
  {
   "cell_type": "code",
   "execution_count": 31,
   "id": "d5621c33-7a77-45f6-bdb8-2bd8573052f9",
   "metadata": {},
   "outputs": [
    {
     "data": {
      "text/plain": [
       "demographic_group\n",
       "ICT professionals                                                                                              410\n",
       "Individuals, 65 to 74 years old                                                                                192\n",
       "Unemployed                                                                                                     179\n",
       "Males with high formal education                                                                               144\n",
       "Students                                                                                                       143\n",
       "Females, 16 to 24 years old                                                                                    141\n",
       "Males, 16 to 24 years old                                                                                      139\n",
       "Individuals, 75 years old or more                                                                              130\n",
       "Males with low formal education                                                                                126\n",
       "Females with high formal education                                                                             122\n",
       "Individuals, 55 to 64 years old                                                                                121\n",
       "Females with low formal education                                                                              119\n",
       "Individuals, 16 to 24 years old                                                                                105\n",
       "Non ICT professionals                                                                                           95\n",
       "Individuals with high formal education                                                                          94\n",
       "Individuals aged 25 to 64 who are unemployed                                                                    92\n",
       "Individuals with no or low formal education                                                                     88\n",
       "Individuals living in towns and suburbs                                                                         88\n",
       "Individuals, 25 to 34 years old                                                                                 86\n",
       "Individuals, 45 to 54 years old                                                                                 81\n",
       "Males with medium formal education                                                                              78\n",
       "Individuals, 35 to 44 years old                                                                                 74\n",
       "Persons aged 16-74 working in mining or quarrying                                                               66\n",
       "Females with medium formal education                                                                            63\n",
       "Individual living in a household with income in first quartile                                                  62\n",
       "Individuals living in rural areas                                                                               52\n",
       "Self-employed, family workers                                                                                   51\n",
       "Individual living in a household with income in fourth quartile                                                 47\n",
       "Individual living in a household with income in third quartile                                                  47\n",
       "Individual living in a household with income in second quartile                                                 47\n",
       "Persons aged 16-74 working in water supply; sewerage, waste management or remediation activities                47\n",
       "Individuals living in cities                                                                                    43\n",
       "Individuals with medium formal education                                                                        36\n",
       "Persons aged 16-74 working in electricity, gas, steam or air conditioning supply                                35\n",
       "Persons aged 16-74 working in real estate activities                                                            31\n",
       "Individuals aged 25 to 64 who are retired or not in the labour force (excluding students)                       31\n",
       "Retired Individuals                                                                                             22\n",
       "All individuals                                                                                                 17\n",
       "Persons aged 16-74 working in administrative or support service activities                                      10\n",
       "Employees working part time                                                                                     10\n",
       "Persons aged 16-74 working in arts, entertainment or recreation                                                  9\n",
       "Employees                                                                                                        8\n",
       "Individuals aged 25 to 64 who are employees, self-employed or family workers                                     8\n",
       "Non-users of mobile internet                                                                                     7\n",
       "Persons aged 16-74 working in accommodation or food service activities                                           4\n",
       "Persons aged 16-74 working in agriculture, forestry or fishing                                                   4\n",
       "Individuals living in a household with children                                                                  3\n",
       "Persons aged 16-74 working in other service activities                                                           3\n",
       "Persons aged 16-74 working in human health or social work activities                                             2\n",
       "Persons aged 16-74 working in public administration, defence or compulsory social security                       2\n",
       "Persons aged 16-74 working in transportation and storage                                                         2\n",
       "Persons aged 16-74 working in education                                                                          1\n",
       "Persons aged 16-74 working in financial or insurance activities                                                  1\n",
       "Persons aged 16-74 working in information and communication                                                      1\n",
       "Persons aged 16-74 working in wholesale or retail trade, or in the repair of motor vehicles and motorcycles      1\n",
       "Persons aged 16-74 working in the construction                                                                   1\n",
       "Name: count, dtype: int64"
      ]
     },
     "execution_count": 31,
     "metadata": {},
     "output_type": "execute_result"
    }
   ],
   "source": [
    "# Checking missing values in internet_access_rate\n",
    "internet_use[internet_use['internet_access_rate'].isnull()]['demographic_group'].value_counts()"
   ]
  },
  {
   "cell_type": "code",
   "execution_count": 32,
   "id": "559268da-7c84-422f-873c-a379a7f83909",
   "metadata": {},
   "outputs": [
    {
     "data": {
      "text/plain": [
       "year\n",
       "2009    563\n",
       "2008    510\n",
       "2010    410\n",
       "2005    408\n",
       "2007    407\n",
       "2006    384\n",
       "2004    194\n",
       "2021     91\n",
       "2022     79\n",
       "2024     74\n",
       "2023     74\n",
       "2003     68\n",
       "2015     63\n",
       "2012     45\n",
       "2011     45\n",
       "2018     44\n",
       "2017     43\n",
       "2019     34\n",
       "2020     31\n",
       "2013     21\n",
       "2016     21\n",
       "2014     12\n",
       "Name: count, dtype: int64"
      ]
     },
     "execution_count": 32,
     "metadata": {},
     "output_type": "execute_result"
    }
   ],
   "source": [
    "# Checking missing values in internet_access_rate\n",
    "internet_use[internet_use['internet_access_rate'].isnull()]['year'].value_counts()"
   ]
  },
  {
   "cell_type": "code",
   "execution_count": 33,
   "id": "e5957b6e-313c-46f1-9081-a230fe501f4e",
   "metadata": {
    "scrolled": true
   },
   "outputs": [
    {
     "data": {
      "text/plain": [
       "country      demographic_group                                  year\n",
       "Luxembourg   ICT professionals                                  2011    5\n",
       "Estonia      Individuals living in towns and suburbs            2005    5\n",
       "Italy        ICT professionals                                  2007    5\n",
       "                                                                2008    5\n",
       "                                                                2009    5\n",
       "                                                                       ..\n",
       "Portugal     Individuals with medium formal education           2004    1\n",
       "Netherlands  Persons aged 16-74 working in mining or quarrying  2023    1\n",
       "                                                                2022    1\n",
       "Portugal     Individuals with medium formal education           2008    1\n",
       "Czechia      Females with low formal education                  2007    1\n",
       "Length: 1639, dtype: int64"
      ]
     },
     "execution_count": 33,
     "metadata": {},
     "output_type": "execute_result"
    }
   ],
   "source": [
    "# Checking missing values in internet_access_rate\n",
    "internet_use[internet_use['internet_access_rate'].isnull()].groupby(['country', 'demographic_group', 'year']).size().sort_values(ascending=False)"
   ]
  },
  {
   "cell_type": "markdown",
   "id": "75533459-46fa-489e-8198-7f1e9079ce02",
   "metadata": {},
   "source": [
    "Due to the fact that the missing values are 3.9% of the total data, and it is distributed across countries, demographic groups and years, I decided to delete the rows with missing data."
   ]
  },
  {
   "cell_type": "code",
   "execution_count": 34,
   "id": "4dbad82f-f325-429b-b474-eab6dfefe247",
   "metadata": {},
   "outputs": [],
   "source": [
    "# Removing rows\n",
    "internet_use_clean = internet_use[internet_use['internet_access_rate'].isnull() == False]"
   ]
  },
  {
   "cell_type": "code",
   "execution_count": 35,
   "id": "82d302e4-16ae-4aff-b337-a6d5de4919d5",
   "metadata": {},
   "outputs": [
    {
     "data": {
      "text/plain": [
       "(88519, 6)"
      ]
     },
     "execution_count": 35,
     "metadata": {},
     "output_type": "execute_result"
    }
   ],
   "source": [
    "internet_use_clean.shape"
   ]
  },
  {
   "cell_type": "code",
   "execution_count": 36,
   "id": "cf366880-e8b5-4185-a887-1dad27f0e22f",
   "metadata": {},
   "outputs": [
    {
     "data": {
      "text/plain": [
       "freq_internet_access        0\n",
       "demographic_group           0\n",
       "country                     0\n",
       "year                        0\n",
       "internet_access_rate        0\n",
       "freq_data_flag          86083\n",
       "dtype: int64"
      ]
     },
     "execution_count": 36,
     "metadata": {},
     "output_type": "execute_result"
    }
   ],
   "source": [
    "# Finding missing values in internet_use dataframe\n",
    "internet_use_clean.isnull().sum()"
   ]
  },
  {
   "cell_type": "markdown",
   "id": "f83d7848-d35d-472e-8716-ee6fcfadbf0e",
   "metadata": {},
   "source": [
    "## 02.8 Duplicate values"
   ]
  },
  {
   "cell_type": "code",
   "execution_count": 37,
   "id": "6b93586c-d061-4a56-a782-c74a16af74f8",
   "metadata": {},
   "outputs": [],
   "source": [
    "# Creating a new subset 'df_dups' containing just duplicated values\n",
    "df_dups = internet_use_clean[internet_use_clean.duplicated()]"
   ]
  },
  {
   "cell_type": "code",
   "execution_count": 38,
   "id": "1329e412-8a3e-4a95-a825-e2ee2648e0fa",
   "metadata": {},
   "outputs": [
    {
     "data": {
      "text/html": [
       "<div>\n",
       "<style scoped>\n",
       "    .dataframe tbody tr th:only-of-type {\n",
       "        vertical-align: middle;\n",
       "    }\n",
       "\n",
       "    .dataframe tbody tr th {\n",
       "        vertical-align: top;\n",
       "    }\n",
       "\n",
       "    .dataframe thead th {\n",
       "        text-align: right;\n",
       "    }\n",
       "</style>\n",
       "<table border=\"1\" class=\"dataframe\">\n",
       "  <thead>\n",
       "    <tr style=\"text-align: right;\">\n",
       "      <th></th>\n",
       "      <th>freq_internet_access</th>\n",
       "      <th>demographic_group</th>\n",
       "      <th>country</th>\n",
       "      <th>year</th>\n",
       "      <th>internet_access_rate</th>\n",
       "      <th>freq_data_flag</th>\n",
       "    </tr>\n",
       "  </thead>\n",
       "  <tbody>\n",
       "  </tbody>\n",
       "</table>\n",
       "</div>"
      ],
      "text/plain": [
       "Empty DataFrame\n",
       "Columns: [freq_internet_access, demographic_group, country, year, internet_access_rate, freq_data_flag]\n",
       "Index: []"
      ]
     },
     "execution_count": 38,
     "metadata": {},
     "output_type": "execute_result"
    }
   ],
   "source": [
    "df_dups"
   ]
  },
  {
   "cell_type": "markdown",
   "id": "d63ba17e-f644-4b76-8ca5-d13e5f24ec83",
   "metadata": {},
   "source": [
    "There are no duplicate values in the dataset. "
   ]
  },
  {
   "cell_type": "markdown",
   "id": "6337a68d-97dd-42d3-a1df-e1e41d7a079b",
   "metadata": {},
   "source": [
    "## 02.9 Exporting Data"
   ]
  },
  {
   "cell_type": "code",
   "execution_count": 39,
   "id": "fbc96a12-4be1-4089-92a8-88bab794f8f9",
   "metadata": {},
   "outputs": [],
   "source": [
    "# Exporting first dataframe internet_use_clean\n",
    "internet_use_clean.to_csv(os.path.join(path, '02 Data', 'Prepared Data', 'freq_internet_use_checked.csv'))"
   ]
  },
  {
   "cell_type": "markdown",
   "id": "c703b8a2-c728-4fda-84ba-43e98b1930eb",
   "metadata": {},
   "source": [
    "# 03. Dataset: Internet Activities"
   ]
  },
  {
   "cell_type": "markdown",
   "id": "55d478d7-7a56-4bd1-a7ff-f89231fa37cc",
   "metadata": {},
   "source": [
    "This data is divided in three different datasets, because the webpage only allow to download certain number of rows and the information from 2003 to 2024 exceded it. So it is divided in three datasets 2003-2009, 2010-2019, 2020-2024. "
   ]
  },
  {
   "cell_type": "markdown",
   "id": "27ccee56-dea2-43d7-ac5e-27d476edc9fe",
   "metadata": {},
   "source": [
    "## 03.1 Import Data"
   ]
  },
  {
   "cell_type": "code",
   "execution_count": 40,
   "id": "1b3e0e01-dc8d-4e01-9477-ace5a45787ee",
   "metadata": {},
   "outputs": [],
   "source": [
    "# Import dataset (internet activities) \n",
    "internet_activities = pd.read_csv(os.path.join(path, '02 Data', 'Original Data', 'internet_activities_2003-09.csv'), index_col = False)"
   ]
  },
  {
   "cell_type": "code",
   "execution_count": 41,
   "id": "977ff8b1-330c-4606-88b5-4f434c9eba08",
   "metadata": {},
   "outputs": [
    {
     "name": "stderr",
     "output_type": "stream",
     "text": [
      "C:\\Users\\adrig\\AppData\\Local\\Temp\\ipykernel_35692\\2494412370.py:2: DtypeWarning: Columns (10) have mixed types. Specify dtype option on import or set low_memory=False.\n",
      "  internet_activities2 = pd.read_csv(os.path.join(path, '02 Data', 'Original Data', 'internet_activities_2010-19.csv'), index_col = False)\n"
     ]
    }
   ],
   "source": [
    "# Import dataset (internet activities) \n",
    "internet_activities2 = pd.read_csv(os.path.join(path, '02 Data', 'Original Data', 'internet_activities_2010-19.csv'), index_col = False)"
   ]
  },
  {
   "cell_type": "code",
   "execution_count": 42,
   "id": "62cc9ffa-15b8-4c54-88c1-be99e6eaee32",
   "metadata": {},
   "outputs": [
    {
     "name": "stderr",
     "output_type": "stream",
     "text": [
      "C:\\Users\\adrig\\AppData\\Local\\Temp\\ipykernel_35692\\3304253281.py:2: DtypeWarning: Columns (10) have mixed types. Specify dtype option on import or set low_memory=False.\n",
      "  internet_activities3 = pd.read_csv(os.path.join(path, '02 Data', 'Original Data', 'internet_activities_2020-24.csv'), index_col = False)\n"
     ]
    }
   ],
   "source": [
    "# Import dataset (internet activities) \n",
    "internet_activities3 = pd.read_csv(os.path.join(path, '02 Data', 'Original Data', 'internet_activities_2020-24.csv'), index_col = False)"
   ]
  },
  {
   "cell_type": "markdown",
   "id": "30575e63-63ef-4ef9-8261-132adf1f34fc",
   "metadata": {},
   "source": [
    "## 03.2 Data Consistency Check"
   ]
  },
  {
   "cell_type": "code",
   "execution_count": 43,
   "id": "0c09e596-48e8-428f-a9c4-d570d9d7474e",
   "metadata": {},
   "outputs": [
    {
     "data": {
      "text/plain": [
       "(56474, 11)"
      ]
     },
     "execution_count": 43,
     "metadata": {},
     "output_type": "execute_result"
    }
   ],
   "source": [
    "# dimensions of dataframe\n",
    "internet_activities.shape"
   ]
  },
  {
   "cell_type": "code",
   "execution_count": 44,
   "id": "47c76f8c-698a-4178-be81-5ab86851daa0",
   "metadata": {},
   "outputs": [
    {
     "data": {
      "text/plain": [
       "(153420, 11)"
      ]
     },
     "execution_count": 44,
     "metadata": {},
     "output_type": "execute_result"
    }
   ],
   "source": [
    "# dimensions of dataframe\n",
    "internet_activities2.shape"
   ]
  },
  {
   "cell_type": "code",
   "execution_count": 45,
   "id": "2137c2a4-178d-4df2-bbe1-ed35c50bebed",
   "metadata": {},
   "outputs": [
    {
     "data": {
      "text/plain": [
       "(102937, 11)"
      ]
     },
     "execution_count": 45,
     "metadata": {},
     "output_type": "execute_result"
    }
   ],
   "source": [
    "# dimensions of dataframe\n",
    "internet_activities3.shape"
   ]
  },
  {
   "cell_type": "code",
   "execution_count": 46,
   "id": "a07c8af1-dfda-4c3f-8955-dcaeea6094f7",
   "metadata": {},
   "outputs": [
    {
     "data": {
      "text/plain": [
       "Index(['DATAFLOW', 'LAST UPDATE', 'freq', 'indic_is', 'unit', 'ind_type',\n",
       "       'geo', 'TIME_PERIOD', 'OBS_VALUE', 'OBS_FLAG', 'CONF_STATUS'],\n",
       "      dtype='object')"
      ]
     },
     "execution_count": 46,
     "metadata": {},
     "output_type": "execute_result"
    }
   ],
   "source": [
    "# names of variables\n",
    "internet_activities.columns"
   ]
  },
  {
   "cell_type": "code",
   "execution_count": 47,
   "id": "aff7efbb-e7f0-4df4-aca5-723c0e77a39b",
   "metadata": {},
   "outputs": [
    {
     "data": {
      "text/plain": [
       "Index(['DATAFLOW', 'LAST UPDATE', 'freq', 'indic_is', 'unit', 'ind_type',\n",
       "       'geo', 'TIME_PERIOD', 'OBS_VALUE', 'OBS_FLAG', 'CONF_STATUS'],\n",
       "      dtype='object')"
      ]
     },
     "execution_count": 47,
     "metadata": {},
     "output_type": "execute_result"
    }
   ],
   "source": [
    "# names of variables\n",
    "internet_activities2.columns"
   ]
  },
  {
   "cell_type": "code",
   "execution_count": 48,
   "id": "6dfc63b0-9463-450a-a362-50dd0df0d848",
   "metadata": {},
   "outputs": [
    {
     "data": {
      "text/plain": [
       "Index(['DATAFLOW', 'LAST UPDATE', 'freq', 'indic_is', 'unit', 'ind_type',\n",
       "       'geo', 'TIME_PERIOD', 'OBS_VALUE', 'OBS_FLAG', 'CONF_STATUS'],\n",
       "      dtype='object')"
      ]
     },
     "execution_count": 48,
     "metadata": {},
     "output_type": "execute_result"
    }
   ],
   "source": [
    "# names of variables\n",
    "internet_activities3.columns"
   ]
  },
  {
   "cell_type": "markdown",
   "id": "d1de8c47-c867-4246-bd32-5a660cb80ed4",
   "metadata": {},
   "source": [
    "The three datasets contain the same column names. \n",
    "There are unnecessary columns that should be deleted. \n",
    "A format standarization of the names of columns is needed. "
   ]
  },
  {
   "cell_type": "code",
   "execution_count": 49,
   "id": "8dc13644-6d78-4ffe-85e4-f7c43fa215a6",
   "metadata": {},
   "outputs": [
    {
     "data": {
      "text/html": [
       "<div>\n",
       "<style scoped>\n",
       "    .dataframe tbody tr th:only-of-type {\n",
       "        vertical-align: middle;\n",
       "    }\n",
       "\n",
       "    .dataframe tbody tr th {\n",
       "        vertical-align: top;\n",
       "    }\n",
       "\n",
       "    .dataframe thead th {\n",
       "        text-align: right;\n",
       "    }\n",
       "</style>\n",
       "<table border=\"1\" class=\"dataframe\">\n",
       "  <thead>\n",
       "    <tr style=\"text-align: right;\">\n",
       "      <th></th>\n",
       "      <th>DATAFLOW</th>\n",
       "      <th>LAST UPDATE</th>\n",
       "      <th>freq</th>\n",
       "      <th>indic_is</th>\n",
       "      <th>unit</th>\n",
       "      <th>ind_type</th>\n",
       "      <th>geo</th>\n",
       "      <th>TIME_PERIOD</th>\n",
       "      <th>OBS_VALUE</th>\n",
       "      <th>OBS_FLAG</th>\n",
       "      <th>CONF_STATUS</th>\n",
       "    </tr>\n",
       "  </thead>\n",
       "  <tbody>\n",
       "    <tr>\n",
       "      <th>0</th>\n",
       "      <td>ESTAT:ISOC_CI_AC_I(1.0)</td>\n",
       "      <td>24/06/25 11:00:00</td>\n",
       "      <td>Annual</td>\n",
       "      <td>Internet use: Internet banking</td>\n",
       "      <td>Percentage of individuals</td>\n",
       "      <td>Females with low formal education</td>\n",
       "      <td>Austria</td>\n",
       "      <td>2004</td>\n",
       "      <td>3.94</td>\n",
       "      <td>NaN</td>\n",
       "      <td>NaN</td>\n",
       "    </tr>\n",
       "    <tr>\n",
       "      <th>1</th>\n",
       "      <td>ESTAT:ISOC_CI_AC_I(1.0)</td>\n",
       "      <td>24/06/25 11:00:00</td>\n",
       "      <td>Annual</td>\n",
       "      <td>Internet use: Internet banking</td>\n",
       "      <td>Percentage of individuals</td>\n",
       "      <td>Females with low formal education</td>\n",
       "      <td>Austria</td>\n",
       "      <td>2005</td>\n",
       "      <td>4.71</td>\n",
       "      <td>NaN</td>\n",
       "      <td>NaN</td>\n",
       "    </tr>\n",
       "    <tr>\n",
       "      <th>2</th>\n",
       "      <td>ESTAT:ISOC_CI_AC_I(1.0)</td>\n",
       "      <td>24/06/25 11:00:00</td>\n",
       "      <td>Annual</td>\n",
       "      <td>Internet use: Internet banking</td>\n",
       "      <td>Percentage of individuals</td>\n",
       "      <td>Females with low formal education</td>\n",
       "      <td>Austria</td>\n",
       "      <td>2006</td>\n",
       "      <td>5.29</td>\n",
       "      <td>NaN</td>\n",
       "      <td>NaN</td>\n",
       "    </tr>\n",
       "    <tr>\n",
       "      <th>3</th>\n",
       "      <td>ESTAT:ISOC_CI_AC_I(1.0)</td>\n",
       "      <td>24/06/25 11:00:00</td>\n",
       "      <td>Annual</td>\n",
       "      <td>Internet use: Internet banking</td>\n",
       "      <td>Percentage of individuals</td>\n",
       "      <td>Females with low formal education</td>\n",
       "      <td>Austria</td>\n",
       "      <td>2007</td>\n",
       "      <td>NaN</td>\n",
       "      <td>u</td>\n",
       "      <td>NaN</td>\n",
       "    </tr>\n",
       "    <tr>\n",
       "      <th>4</th>\n",
       "      <td>ESTAT:ISOC_CI_AC_I(1.0)</td>\n",
       "      <td>24/06/25 11:00:00</td>\n",
       "      <td>Annual</td>\n",
       "      <td>Internet use: Internet banking</td>\n",
       "      <td>Percentage of individuals</td>\n",
       "      <td>Females with low formal education</td>\n",
       "      <td>Austria</td>\n",
       "      <td>2008</td>\n",
       "      <td>7.94</td>\n",
       "      <td>NaN</td>\n",
       "      <td>NaN</td>\n",
       "    </tr>\n",
       "  </tbody>\n",
       "</table>\n",
       "</div>"
      ],
      "text/plain": [
       "                  DATAFLOW        LAST UPDATE    freq  \\\n",
       "0  ESTAT:ISOC_CI_AC_I(1.0)  24/06/25 11:00:00  Annual   \n",
       "1  ESTAT:ISOC_CI_AC_I(1.0)  24/06/25 11:00:00  Annual   \n",
       "2  ESTAT:ISOC_CI_AC_I(1.0)  24/06/25 11:00:00  Annual   \n",
       "3  ESTAT:ISOC_CI_AC_I(1.0)  24/06/25 11:00:00  Annual   \n",
       "4  ESTAT:ISOC_CI_AC_I(1.0)  24/06/25 11:00:00  Annual   \n",
       "\n",
       "                         indic_is                       unit  \\\n",
       "0  Internet use: Internet banking  Percentage of individuals   \n",
       "1  Internet use: Internet banking  Percentage of individuals   \n",
       "2  Internet use: Internet banking  Percentage of individuals   \n",
       "3  Internet use: Internet banking  Percentage of individuals   \n",
       "4  Internet use: Internet banking  Percentage of individuals   \n",
       "\n",
       "                            ind_type      geo  TIME_PERIOD  OBS_VALUE  \\\n",
       "0  Females with low formal education  Austria         2004       3.94   \n",
       "1  Females with low formal education  Austria         2005       4.71   \n",
       "2  Females with low formal education  Austria         2006       5.29   \n",
       "3  Females with low formal education  Austria         2007        NaN   \n",
       "4  Females with low formal education  Austria         2008       7.94   \n",
       "\n",
       "  OBS_FLAG CONF_STATUS  \n",
       "0      NaN         NaN  \n",
       "1      NaN         NaN  \n",
       "2      NaN         NaN  \n",
       "3        u         NaN  \n",
       "4      NaN         NaN  "
      ]
     },
     "execution_count": 49,
     "metadata": {},
     "output_type": "execute_result"
    }
   ],
   "source": [
    "# first rows\n",
    "internet_activities.head()"
   ]
  },
  {
   "cell_type": "code",
   "execution_count": 50,
   "id": "dd0dfccd-21e0-4f67-85c5-4714e8ce709a",
   "metadata": {},
   "outputs": [
    {
     "data": {
      "text/html": [
       "<div>\n",
       "<style scoped>\n",
       "    .dataframe tbody tr th:only-of-type {\n",
       "        vertical-align: middle;\n",
       "    }\n",
       "\n",
       "    .dataframe tbody tr th {\n",
       "        vertical-align: top;\n",
       "    }\n",
       "\n",
       "    .dataframe thead th {\n",
       "        text-align: right;\n",
       "    }\n",
       "</style>\n",
       "<table border=\"1\" class=\"dataframe\">\n",
       "  <thead>\n",
       "    <tr style=\"text-align: right;\">\n",
       "      <th></th>\n",
       "      <th>DATAFLOW</th>\n",
       "      <th>LAST UPDATE</th>\n",
       "      <th>freq</th>\n",
       "      <th>indic_is</th>\n",
       "      <th>unit</th>\n",
       "      <th>ind_type</th>\n",
       "      <th>geo</th>\n",
       "      <th>TIME_PERIOD</th>\n",
       "      <th>OBS_VALUE</th>\n",
       "      <th>OBS_FLAG</th>\n",
       "      <th>CONF_STATUS</th>\n",
       "    </tr>\n",
       "  </thead>\n",
       "  <tbody>\n",
       "    <tr>\n",
       "      <th>0</th>\n",
       "      <td>ESTAT:ISOC_CI_AC_I(1.0)</td>\n",
       "      <td>24/06/25 11:00:00</td>\n",
       "      <td>Annual</td>\n",
       "      <td>Internet use: Internet banking</td>\n",
       "      <td>Percentage of individuals</td>\n",
       "      <td>Employees working full time</td>\n",
       "      <td>Albania</td>\n",
       "      <td>2018</td>\n",
       "      <td>2.83</td>\n",
       "      <td>NaN</td>\n",
       "      <td>NaN</td>\n",
       "    </tr>\n",
       "    <tr>\n",
       "      <th>1</th>\n",
       "      <td>ESTAT:ISOC_CI_AC_I(1.0)</td>\n",
       "      <td>24/06/25 11:00:00</td>\n",
       "      <td>Annual</td>\n",
       "      <td>Internet use: Internet banking</td>\n",
       "      <td>Percentage of individuals</td>\n",
       "      <td>Employees working full time</td>\n",
       "      <td>Albania</td>\n",
       "      <td>2019</td>\n",
       "      <td>2.72</td>\n",
       "      <td>NaN</td>\n",
       "      <td>NaN</td>\n",
       "    </tr>\n",
       "    <tr>\n",
       "      <th>2</th>\n",
       "      <td>ESTAT:ISOC_CI_AC_I(1.0)</td>\n",
       "      <td>24/06/25 11:00:00</td>\n",
       "      <td>Annual</td>\n",
       "      <td>Internet use: Internet banking</td>\n",
       "      <td>Percentage of individuals</td>\n",
       "      <td>Employees working full time</td>\n",
       "      <td>Austria</td>\n",
       "      <td>2017</td>\n",
       "      <td>69.41</td>\n",
       "      <td>NaN</td>\n",
       "      <td>NaN</td>\n",
       "    </tr>\n",
       "    <tr>\n",
       "      <th>3</th>\n",
       "      <td>ESTAT:ISOC_CI_AC_I(1.0)</td>\n",
       "      <td>24/06/25 11:00:00</td>\n",
       "      <td>Annual</td>\n",
       "      <td>Internet use: Internet banking</td>\n",
       "      <td>Percentage of individuals</td>\n",
       "      <td>Employees working full time</td>\n",
       "      <td>Austria</td>\n",
       "      <td>2018</td>\n",
       "      <td>69.62</td>\n",
       "      <td>NaN</td>\n",
       "      <td>NaN</td>\n",
       "    </tr>\n",
       "    <tr>\n",
       "      <th>4</th>\n",
       "      <td>ESTAT:ISOC_CI_AC_I(1.0)</td>\n",
       "      <td>24/06/25 11:00:00</td>\n",
       "      <td>Annual</td>\n",
       "      <td>Internet use: Internet banking</td>\n",
       "      <td>Percentage of individuals</td>\n",
       "      <td>Employees working full time</td>\n",
       "      <td>Austria</td>\n",
       "      <td>2019</td>\n",
       "      <td>73.70</td>\n",
       "      <td>NaN</td>\n",
       "      <td>NaN</td>\n",
       "    </tr>\n",
       "  </tbody>\n",
       "</table>\n",
       "</div>"
      ],
      "text/plain": [
       "                  DATAFLOW        LAST UPDATE    freq  \\\n",
       "0  ESTAT:ISOC_CI_AC_I(1.0)  24/06/25 11:00:00  Annual   \n",
       "1  ESTAT:ISOC_CI_AC_I(1.0)  24/06/25 11:00:00  Annual   \n",
       "2  ESTAT:ISOC_CI_AC_I(1.0)  24/06/25 11:00:00  Annual   \n",
       "3  ESTAT:ISOC_CI_AC_I(1.0)  24/06/25 11:00:00  Annual   \n",
       "4  ESTAT:ISOC_CI_AC_I(1.0)  24/06/25 11:00:00  Annual   \n",
       "\n",
       "                         indic_is                       unit  \\\n",
       "0  Internet use: Internet banking  Percentage of individuals   \n",
       "1  Internet use: Internet banking  Percentage of individuals   \n",
       "2  Internet use: Internet banking  Percentage of individuals   \n",
       "3  Internet use: Internet banking  Percentage of individuals   \n",
       "4  Internet use: Internet banking  Percentage of individuals   \n",
       "\n",
       "                      ind_type      geo  TIME_PERIOD  OBS_VALUE OBS_FLAG  \\\n",
       "0  Employees working full time  Albania         2018       2.83      NaN   \n",
       "1  Employees working full time  Albania         2019       2.72      NaN   \n",
       "2  Employees working full time  Austria         2017      69.41      NaN   \n",
       "3  Employees working full time  Austria         2018      69.62      NaN   \n",
       "4  Employees working full time  Austria         2019      73.70      NaN   \n",
       "\n",
       "  CONF_STATUS  \n",
       "0         NaN  \n",
       "1         NaN  \n",
       "2         NaN  \n",
       "3         NaN  \n",
       "4         NaN  "
      ]
     },
     "execution_count": 50,
     "metadata": {},
     "output_type": "execute_result"
    }
   ],
   "source": [
    "# first rows\n",
    "internet_activities2.head()"
   ]
  },
  {
   "cell_type": "code",
   "execution_count": 51,
   "id": "f612b64c-a46a-46e3-af19-a81cd0f8b11a",
   "metadata": {},
   "outputs": [
    {
     "data": {
      "text/html": [
       "<div>\n",
       "<style scoped>\n",
       "    .dataframe tbody tr th:only-of-type {\n",
       "        vertical-align: middle;\n",
       "    }\n",
       "\n",
       "    .dataframe tbody tr th {\n",
       "        vertical-align: top;\n",
       "    }\n",
       "\n",
       "    .dataframe thead th {\n",
       "        text-align: right;\n",
       "    }\n",
       "</style>\n",
       "<table border=\"1\" class=\"dataframe\">\n",
       "  <thead>\n",
       "    <tr style=\"text-align: right;\">\n",
       "      <th></th>\n",
       "      <th>DATAFLOW</th>\n",
       "      <th>LAST UPDATE</th>\n",
       "      <th>freq</th>\n",
       "      <th>indic_is</th>\n",
       "      <th>unit</th>\n",
       "      <th>ind_type</th>\n",
       "      <th>geo</th>\n",
       "      <th>TIME_PERIOD</th>\n",
       "      <th>OBS_VALUE</th>\n",
       "      <th>OBS_FLAG</th>\n",
       "      <th>CONF_STATUS</th>\n",
       "    </tr>\n",
       "  </thead>\n",
       "  <tbody>\n",
       "    <tr>\n",
       "      <th>0</th>\n",
       "      <td>ESTAT:ISOC_CI_AC_I(1.0)</td>\n",
       "      <td>24/06/25 11:00:00</td>\n",
       "      <td>Annual</td>\n",
       "      <td>Internet use: accessing personal health record...</td>\n",
       "      <td>Percentage of individuals</td>\n",
       "      <td>Persons aged 16-74 working in agriculture, for...</td>\n",
       "      <td>Austria</td>\n",
       "      <td>2022</td>\n",
       "      <td>12.47</td>\n",
       "      <td>NaN</td>\n",
       "      <td>NaN</td>\n",
       "    </tr>\n",
       "    <tr>\n",
       "      <th>1</th>\n",
       "      <td>ESTAT:ISOC_CI_AC_I(1.0)</td>\n",
       "      <td>24/06/25 11:00:00</td>\n",
       "      <td>Annual</td>\n",
       "      <td>Internet use: accessing personal health record...</td>\n",
       "      <td>Percentage of individuals</td>\n",
       "      <td>Persons aged 16-74 working in agriculture, for...</td>\n",
       "      <td>Austria</td>\n",
       "      <td>2024</td>\n",
       "      <td>9.03</td>\n",
       "      <td>NaN</td>\n",
       "      <td>NaN</td>\n",
       "    </tr>\n",
       "    <tr>\n",
       "      <th>2</th>\n",
       "      <td>ESTAT:ISOC_CI_AC_I(1.0)</td>\n",
       "      <td>24/06/25 11:00:00</td>\n",
       "      <td>Annual</td>\n",
       "      <td>Internet use: accessing personal health record...</td>\n",
       "      <td>Percentage of individuals</td>\n",
       "      <td>Persons aged 16-74 working in agriculture, for...</td>\n",
       "      <td>Belgium</td>\n",
       "      <td>2022</td>\n",
       "      <td>14.77</td>\n",
       "      <td>u</td>\n",
       "      <td>NaN</td>\n",
       "    </tr>\n",
       "    <tr>\n",
       "      <th>3</th>\n",
       "      <td>ESTAT:ISOC_CI_AC_I(1.0)</td>\n",
       "      <td>24/06/25 11:00:00</td>\n",
       "      <td>Annual</td>\n",
       "      <td>Internet use: accessing personal health record...</td>\n",
       "      <td>Percentage of individuals</td>\n",
       "      <td>Persons aged 16-74 working in agriculture, for...</td>\n",
       "      <td>Belgium</td>\n",
       "      <td>2024</td>\n",
       "      <td>46.79</td>\n",
       "      <td>u</td>\n",
       "      <td>NaN</td>\n",
       "    </tr>\n",
       "    <tr>\n",
       "      <th>4</th>\n",
       "      <td>ESTAT:ISOC_CI_AC_I(1.0)</td>\n",
       "      <td>24/06/25 11:00:00</td>\n",
       "      <td>Annual</td>\n",
       "      <td>Internet use: accessing personal health record...</td>\n",
       "      <td>Percentage of individuals</td>\n",
       "      <td>Persons aged 16-74 working in agriculture, for...</td>\n",
       "      <td>Bulgaria</td>\n",
       "      <td>2022</td>\n",
       "      <td>10.92</td>\n",
       "      <td>NaN</td>\n",
       "      <td>NaN</td>\n",
       "    </tr>\n",
       "  </tbody>\n",
       "</table>\n",
       "</div>"
      ],
      "text/plain": [
       "                  DATAFLOW        LAST UPDATE    freq  \\\n",
       "0  ESTAT:ISOC_CI_AC_I(1.0)  24/06/25 11:00:00  Annual   \n",
       "1  ESTAT:ISOC_CI_AC_I(1.0)  24/06/25 11:00:00  Annual   \n",
       "2  ESTAT:ISOC_CI_AC_I(1.0)  24/06/25 11:00:00  Annual   \n",
       "3  ESTAT:ISOC_CI_AC_I(1.0)  24/06/25 11:00:00  Annual   \n",
       "4  ESTAT:ISOC_CI_AC_I(1.0)  24/06/25 11:00:00  Annual   \n",
       "\n",
       "                                            indic_is  \\\n",
       "0  Internet use: accessing personal health record...   \n",
       "1  Internet use: accessing personal health record...   \n",
       "2  Internet use: accessing personal health record...   \n",
       "3  Internet use: accessing personal health record...   \n",
       "4  Internet use: accessing personal health record...   \n",
       "\n",
       "                        unit  \\\n",
       "0  Percentage of individuals   \n",
       "1  Percentage of individuals   \n",
       "2  Percentage of individuals   \n",
       "3  Percentage of individuals   \n",
       "4  Percentage of individuals   \n",
       "\n",
       "                                            ind_type       geo  TIME_PERIOD  \\\n",
       "0  Persons aged 16-74 working in agriculture, for...   Austria         2022   \n",
       "1  Persons aged 16-74 working in agriculture, for...   Austria         2024   \n",
       "2  Persons aged 16-74 working in agriculture, for...   Belgium         2022   \n",
       "3  Persons aged 16-74 working in agriculture, for...   Belgium         2024   \n",
       "4  Persons aged 16-74 working in agriculture, for...  Bulgaria         2022   \n",
       "\n",
       "   OBS_VALUE OBS_FLAG CONF_STATUS  \n",
       "0      12.47      NaN         NaN  \n",
       "1       9.03      NaN         NaN  \n",
       "2      14.77        u         NaN  \n",
       "3      46.79        u         NaN  \n",
       "4      10.92      NaN         NaN  "
      ]
     },
     "execution_count": 51,
     "metadata": {},
     "output_type": "execute_result"
    }
   ],
   "source": [
    "# first rows\n",
    "internet_activities3.head()"
   ]
  },
  {
   "cell_type": "code",
   "execution_count": 52,
   "id": "ef2e9be8-3647-4f05-bf35-905304fcd8bc",
   "metadata": {},
   "outputs": [
    {
     "name": "stdout",
     "output_type": "stream",
     "text": [
      "<class 'pandas.core.frame.DataFrame'>\n",
      "RangeIndex: 56474 entries, 0 to 56473\n",
      "Data columns (total 11 columns):\n",
      " #   Column       Non-Null Count  Dtype  \n",
      "---  ------       --------------  -----  \n",
      " 0   DATAFLOW     56474 non-null  object \n",
      " 1   LAST UPDATE  56474 non-null  object \n",
      " 2   freq         56474 non-null  object \n",
      " 3   indic_is     56474 non-null  object \n",
      " 4   unit         56474 non-null  object \n",
      " 5   ind_type     56474 non-null  object \n",
      " 6   geo          56474 non-null  object \n",
      " 7   TIME_PERIOD  56474 non-null  int64  \n",
      " 8   OBS_VALUE    53377 non-null  float64\n",
      " 9   OBS_FLAG     3145 non-null   object \n",
      " 10  CONF_STATUS  3 non-null      object \n",
      "dtypes: float64(1), int64(1), object(9)\n",
      "memory usage: 4.7+ MB\n"
     ]
    }
   ],
   "source": [
    "# general information \n",
    "internet_activities.info()"
   ]
  },
  {
   "cell_type": "markdown",
   "id": "76ec37c9-82fe-4e83-b858-227ac30fb06a",
   "metadata": {},
   "source": [
    "3145 rows in the dataframe have an observation flag. \n",
    "The variable CONF_STATUS has 3 non-null value that should be checked. "
   ]
  },
  {
   "cell_type": "code",
   "execution_count": 54,
   "id": "58dbf8b8-c61e-4d1b-86c1-f5009db62e9d",
   "metadata": {},
   "outputs": [
    {
     "name": "stdout",
     "output_type": "stream",
     "text": [
      "<class 'pandas.core.frame.DataFrame'>\n",
      "RangeIndex: 153420 entries, 0 to 153419\n",
      "Data columns (total 11 columns):\n",
      " #   Column       Non-Null Count   Dtype  \n",
      "---  ------       --------------   -----  \n",
      " 0   DATAFLOW     153420 non-null  object \n",
      " 1   LAST UPDATE  153420 non-null  object \n",
      " 2   freq         153420 non-null  object \n",
      " 3   indic_is     153420 non-null  object \n",
      " 4   unit         153420 non-null  object \n",
      " 5   ind_type     153420 non-null  object \n",
      " 6   geo          153420 non-null  object \n",
      " 7   TIME_PERIOD  153420 non-null  int64  \n",
      " 8   OBS_VALUE    151587 non-null  float64\n",
      " 9   OBS_FLAG     7696 non-null    object \n",
      " 10  CONF_STATUS  1 non-null       object \n",
      "dtypes: float64(1), int64(1), object(9)\n",
      "memory usage: 12.9+ MB\n"
     ]
    }
   ],
   "source": [
    "# general information \n",
    "internet_activities2.info()"
   ]
  },
  {
   "cell_type": "markdown",
   "id": "d1831fdb-33be-4f78-a418-fd0194a79754",
   "metadata": {},
   "source": [
    "7696 rows in the dataframe have an observation flag. \n",
    "The variable CONF_STATUS has 1 non-null value that should be checked. "
   ]
  },
  {
   "cell_type": "code",
   "execution_count": 55,
   "id": "3b0c4441-6296-4e59-a58c-1238e149b187",
   "metadata": {},
   "outputs": [
    {
     "name": "stdout",
     "output_type": "stream",
     "text": [
      "<class 'pandas.core.frame.DataFrame'>\n",
      "RangeIndex: 102937 entries, 0 to 102936\n",
      "Data columns (total 11 columns):\n",
      " #   Column       Non-Null Count   Dtype  \n",
      "---  ------       --------------   -----  \n",
      " 0   DATAFLOW     102937 non-null  object \n",
      " 1   LAST UPDATE  102937 non-null  object \n",
      " 2   freq         102937 non-null  object \n",
      " 3   indic_is     102937 non-null  object \n",
      " 4   unit         102937 non-null  object \n",
      " 5   ind_type     102937 non-null  object \n",
      " 6   geo          102937 non-null  object \n",
      " 7   TIME_PERIOD  102937 non-null  int64  \n",
      " 8   OBS_VALUE    100156 non-null  float64\n",
      " 9   OBS_FLAG     10384 non-null   object \n",
      " 10  CONF_STATUS  45 non-null      object \n",
      "dtypes: float64(1), int64(1), object(9)\n",
      "memory usage: 8.6+ MB\n"
     ]
    }
   ],
   "source": [
    "# general information \n",
    "internet_activities3.info()"
   ]
  },
  {
   "cell_type": "markdown",
   "id": "55b06e58-c0d8-4e05-b8be-654550836777",
   "metadata": {},
   "source": [
    "10384 rows in the dataframe have an observation flag. \n",
    "The variable CONF_STATUS has 45 non-null value that should be checked. "
   ]
  },
  {
   "cell_type": "code",
   "execution_count": 56,
   "id": "e4c354a1-e45f-428d-834a-de0b43c8ca1a",
   "metadata": {},
   "outputs": [
    {
     "data": {
      "text/html": [
       "<div>\n",
       "<style scoped>\n",
       "    .dataframe tbody tr th:only-of-type {\n",
       "        vertical-align: middle;\n",
       "    }\n",
       "\n",
       "    .dataframe tbody tr th {\n",
       "        vertical-align: top;\n",
       "    }\n",
       "\n",
       "    .dataframe thead th {\n",
       "        text-align: right;\n",
       "    }\n",
       "</style>\n",
       "<table border=\"1\" class=\"dataframe\">\n",
       "  <thead>\n",
       "    <tr style=\"text-align: right;\">\n",
       "      <th></th>\n",
       "      <th>TIME_PERIOD</th>\n",
       "      <th>OBS_VALUE</th>\n",
       "    </tr>\n",
       "  </thead>\n",
       "  <tbody>\n",
       "    <tr>\n",
       "      <th>count</th>\n",
       "      <td>56474.000000</td>\n",
       "      <td>53377.000000</td>\n",
       "    </tr>\n",
       "    <tr>\n",
       "      <th>mean</th>\n",
       "      <td>2006.897386</td>\n",
       "      <td>27.154227</td>\n",
       "    </tr>\n",
       "    <tr>\n",
       "      <th>std</th>\n",
       "      <td>1.787066</td>\n",
       "      <td>23.484212</td>\n",
       "    </tr>\n",
       "    <tr>\n",
       "      <th>min</th>\n",
       "      <td>2003.000000</td>\n",
       "      <td>0.000000</td>\n",
       "    </tr>\n",
       "    <tr>\n",
       "      <th>25%</th>\n",
       "      <td>2005.000000</td>\n",
       "      <td>8.260000</td>\n",
       "    </tr>\n",
       "    <tr>\n",
       "      <th>50%</th>\n",
       "      <td>2007.000000</td>\n",
       "      <td>20.240000</td>\n",
       "    </tr>\n",
       "    <tr>\n",
       "      <th>75%</th>\n",
       "      <td>2009.000000</td>\n",
       "      <td>40.490000</td>\n",
       "    </tr>\n",
       "    <tr>\n",
       "      <th>max</th>\n",
       "      <td>2009.000000</td>\n",
       "      <td>100.000000</td>\n",
       "    </tr>\n",
       "  </tbody>\n",
       "</table>\n",
       "</div>"
      ],
      "text/plain": [
       "        TIME_PERIOD     OBS_VALUE\n",
       "count  56474.000000  53377.000000\n",
       "mean    2006.897386     27.154227\n",
       "std        1.787066     23.484212\n",
       "min     2003.000000      0.000000\n",
       "25%     2005.000000      8.260000\n",
       "50%     2007.000000     20.240000\n",
       "75%     2009.000000     40.490000\n",
       "max     2009.000000    100.000000"
      ]
     },
     "execution_count": 56,
     "metadata": {},
     "output_type": "execute_result"
    }
   ],
   "source": [
    "# descriptive stats\n",
    "internet_activities.describe()"
   ]
  },
  {
   "cell_type": "code",
   "execution_count": 57,
   "id": "5341c4e1-4b6d-4ab7-9bec-78bcade00d9d",
   "metadata": {},
   "outputs": [
    {
     "data": {
      "text/html": [
       "<div>\n",
       "<style scoped>\n",
       "    .dataframe tbody tr th:only-of-type {\n",
       "        vertical-align: middle;\n",
       "    }\n",
       "\n",
       "    .dataframe tbody tr th {\n",
       "        vertical-align: top;\n",
       "    }\n",
       "\n",
       "    .dataframe thead th {\n",
       "        text-align: right;\n",
       "    }\n",
       "</style>\n",
       "<table border=\"1\" class=\"dataframe\">\n",
       "  <thead>\n",
       "    <tr style=\"text-align: right;\">\n",
       "      <th></th>\n",
       "      <th>TIME_PERIOD</th>\n",
       "      <th>OBS_VALUE</th>\n",
       "    </tr>\n",
       "  </thead>\n",
       "  <tbody>\n",
       "    <tr>\n",
       "      <th>count</th>\n",
       "      <td>153420.000000</td>\n",
       "      <td>151587.000000</td>\n",
       "    </tr>\n",
       "    <tr>\n",
       "      <th>mean</th>\n",
       "      <td>2014.934207</td>\n",
       "      <td>36.421048</td>\n",
       "    </tr>\n",
       "    <tr>\n",
       "      <th>std</th>\n",
       "      <td>2.871363</td>\n",
       "      <td>27.998105</td>\n",
       "    </tr>\n",
       "    <tr>\n",
       "      <th>min</th>\n",
       "      <td>2010.000000</td>\n",
       "      <td>0.000000</td>\n",
       "    </tr>\n",
       "    <tr>\n",
       "      <th>25%</th>\n",
       "      <td>2013.000000</td>\n",
       "      <td>11.770000</td>\n",
       "    </tr>\n",
       "    <tr>\n",
       "      <th>50%</th>\n",
       "      <td>2015.000000</td>\n",
       "      <td>30.060000</td>\n",
       "    </tr>\n",
       "    <tr>\n",
       "      <th>75%</th>\n",
       "      <td>2017.000000</td>\n",
       "      <td>57.730000</td>\n",
       "    </tr>\n",
       "    <tr>\n",
       "      <th>max</th>\n",
       "      <td>2019.000000</td>\n",
       "      <td>100.000000</td>\n",
       "    </tr>\n",
       "  </tbody>\n",
       "</table>\n",
       "</div>"
      ],
      "text/plain": [
       "         TIME_PERIOD      OBS_VALUE\n",
       "count  153420.000000  151587.000000\n",
       "mean     2014.934207      36.421048\n",
       "std         2.871363      27.998105\n",
       "min      2010.000000       0.000000\n",
       "25%      2013.000000      11.770000\n",
       "50%      2015.000000      30.060000\n",
       "75%      2017.000000      57.730000\n",
       "max      2019.000000     100.000000"
      ]
     },
     "execution_count": 57,
     "metadata": {},
     "output_type": "execute_result"
    }
   ],
   "source": [
    "# descriptive stats\n",
    "internet_activities2.describe()"
   ]
  },
  {
   "cell_type": "code",
   "execution_count": 58,
   "id": "46a8d259-ec02-40ef-838d-270e9f9ae4bd",
   "metadata": {},
   "outputs": [
    {
     "data": {
      "text/html": [
       "<div>\n",
       "<style scoped>\n",
       "    .dataframe tbody tr th:only-of-type {\n",
       "        vertical-align: middle;\n",
       "    }\n",
       "\n",
       "    .dataframe tbody tr th {\n",
       "        vertical-align: top;\n",
       "    }\n",
       "\n",
       "    .dataframe thead th {\n",
       "        text-align: right;\n",
       "    }\n",
       "</style>\n",
       "<table border=\"1\" class=\"dataframe\">\n",
       "  <thead>\n",
       "    <tr style=\"text-align: right;\">\n",
       "      <th></th>\n",
       "      <th>TIME_PERIOD</th>\n",
       "      <th>OBS_VALUE</th>\n",
       "    </tr>\n",
       "  </thead>\n",
       "  <tbody>\n",
       "    <tr>\n",
       "      <th>count</th>\n",
       "      <td>102937.000000</td>\n",
       "      <td>100156.000000</td>\n",
       "    </tr>\n",
       "    <tr>\n",
       "      <th>mean</th>\n",
       "      <td>2022.025365</td>\n",
       "      <td>49.301412</td>\n",
       "    </tr>\n",
       "    <tr>\n",
       "      <th>std</th>\n",
       "      <td>1.440421</td>\n",
       "      <td>31.028824</td>\n",
       "    </tr>\n",
       "    <tr>\n",
       "      <th>min</th>\n",
       "      <td>2020.000000</td>\n",
       "      <td>0.000000</td>\n",
       "    </tr>\n",
       "    <tr>\n",
       "      <th>25%</th>\n",
       "      <td>2021.000000</td>\n",
       "      <td>20.130000</td>\n",
       "    </tr>\n",
       "    <tr>\n",
       "      <th>50%</th>\n",
       "      <td>2022.000000</td>\n",
       "      <td>48.500000</td>\n",
       "    </tr>\n",
       "    <tr>\n",
       "      <th>75%</th>\n",
       "      <td>2023.000000</td>\n",
       "      <td>78.800000</td>\n",
       "    </tr>\n",
       "    <tr>\n",
       "      <th>max</th>\n",
       "      <td>2024.000000</td>\n",
       "      <td>100.000000</td>\n",
       "    </tr>\n",
       "  </tbody>\n",
       "</table>\n",
       "</div>"
      ],
      "text/plain": [
       "         TIME_PERIOD      OBS_VALUE\n",
       "count  102937.000000  100156.000000\n",
       "mean     2022.025365      49.301412\n",
       "std         1.440421      31.028824\n",
       "min      2020.000000       0.000000\n",
       "25%      2021.000000      20.130000\n",
       "50%      2022.000000      48.500000\n",
       "75%      2023.000000      78.800000\n",
       "max      2024.000000     100.000000"
      ]
     },
     "execution_count": 58,
     "metadata": {},
     "output_type": "execute_result"
    }
   ],
   "source": [
    "# descriptive stats\n",
    "internet_activities3.describe()"
   ]
  },
  {
   "cell_type": "markdown",
   "id": "23810916-5936-49d3-80ab-9104467b7d9f",
   "metadata": {},
   "source": [
    "The three dataframes together have information from 2003 to 2024.\n",
    "The values are correct, as the minimun is 0 and the maximum 100 corresponding to percentages. \n",
    "There are missing values, that would be addressed. "
   ]
  },
  {
   "cell_type": "markdown",
   "id": "8bc2af55-12e6-4de2-be0d-50f0bdb2c6eb",
   "metadata": {},
   "source": [
    "## 03.3 Dropping Columns "
   ]
  },
  {
   "cell_type": "code",
   "execution_count": 59,
   "id": "37a66820-008c-4419-bd22-37f112c60076",
   "metadata": {},
   "outputs": [
    {
     "data": {
      "text/plain": [
       "DATAFLOW\n",
       "ESTAT:ISOC_CI_AC_I(1.0)    56474\n",
       "Name: count, dtype: int64"
      ]
     },
     "execution_count": 59,
     "metadata": {},
     "output_type": "execute_result"
    }
   ],
   "source": [
    "internet_activities['DATAFLOW'].value_counts(dropna = False)"
   ]
  },
  {
   "cell_type": "code",
   "execution_count": 60,
   "id": "d4329b89-00d5-4ddb-9694-00f13018c61c",
   "metadata": {},
   "outputs": [
    {
     "data": {
      "text/plain": [
       "DATAFLOW\n",
       "ESTAT:ISOC_CI_AC_I(1.0)    153420\n",
       "Name: count, dtype: int64"
      ]
     },
     "execution_count": 60,
     "metadata": {},
     "output_type": "execute_result"
    }
   ],
   "source": [
    "internet_activities2['DATAFLOW'].value_counts(dropna = False)"
   ]
  },
  {
   "cell_type": "code",
   "execution_count": 61,
   "id": "63b9f18c-d608-44ae-95fa-8877517c1548",
   "metadata": {},
   "outputs": [
    {
     "data": {
      "text/plain": [
       "DATAFLOW\n",
       "ESTAT:ISOC_CI_AC_I(1.0)    102937\n",
       "Name: count, dtype: int64"
      ]
     },
     "execution_count": 61,
     "metadata": {},
     "output_type": "execute_result"
    }
   ],
   "source": [
    "internet_activities3['DATAFLOW'].value_counts(dropna = False)"
   ]
  },
  {
   "cell_type": "code",
   "execution_count": 62,
   "id": "28503a9c-d752-4ce0-83d4-7af9a239a291",
   "metadata": {},
   "outputs": [
    {
     "data": {
      "text/plain": [
       "LAST UPDATE\n",
       "24/06/25 11:00:00    56474\n",
       "Name: count, dtype: int64"
      ]
     },
     "execution_count": 62,
     "metadata": {},
     "output_type": "execute_result"
    }
   ],
   "source": [
    "internet_activities['LAST UPDATE'].value_counts(dropna = False)"
   ]
  },
  {
   "cell_type": "code",
   "execution_count": 63,
   "id": "4a70977c-401a-4841-89ed-0797b9bb79a1",
   "metadata": {},
   "outputs": [
    {
     "data": {
      "text/plain": [
       "LAST UPDATE\n",
       "24/06/25 11:00:00    153420\n",
       "Name: count, dtype: int64"
      ]
     },
     "execution_count": 63,
     "metadata": {},
     "output_type": "execute_result"
    }
   ],
   "source": [
    "internet_activities2['LAST UPDATE'].value_counts(dropna = False)"
   ]
  },
  {
   "cell_type": "code",
   "execution_count": 64,
   "id": "df637956-5b0c-4ed2-83ec-9053ad579e34",
   "metadata": {},
   "outputs": [
    {
     "data": {
      "text/plain": [
       "LAST UPDATE\n",
       "24/06/25 11:00:00    102937\n",
       "Name: count, dtype: int64"
      ]
     },
     "execution_count": 64,
     "metadata": {},
     "output_type": "execute_result"
    }
   ],
   "source": [
    "internet_activities3['LAST UPDATE'].value_counts(dropna = False)"
   ]
  },
  {
   "cell_type": "code",
   "execution_count": 65,
   "id": "c10c2da2-a946-48da-95c5-0b4aa2794056",
   "metadata": {},
   "outputs": [
    {
     "data": {
      "text/plain": [
       "freq\n",
       "Annual    56474\n",
       "Name: count, dtype: int64"
      ]
     },
     "execution_count": 65,
     "metadata": {},
     "output_type": "execute_result"
    }
   ],
   "source": [
    "internet_activities['freq'].value_counts(dropna = False)"
   ]
  },
  {
   "cell_type": "code",
   "execution_count": 66,
   "id": "789f546e-613c-4823-b414-d58a6491187e",
   "metadata": {},
   "outputs": [
    {
     "data": {
      "text/plain": [
       "freq\n",
       "Annual    153420\n",
       "Name: count, dtype: int64"
      ]
     },
     "execution_count": 66,
     "metadata": {},
     "output_type": "execute_result"
    }
   ],
   "source": [
    "internet_activities2['freq'].value_counts(dropna = False)"
   ]
  },
  {
   "cell_type": "code",
   "execution_count": 67,
   "id": "2571d6ea-421a-42cb-9b87-5b9753c89e41",
   "metadata": {},
   "outputs": [
    {
     "data": {
      "text/plain": [
       "freq\n",
       "Annual    102937\n",
       "Name: count, dtype: int64"
      ]
     },
     "execution_count": 67,
     "metadata": {},
     "output_type": "execute_result"
    }
   ],
   "source": [
    "internet_activities3['freq'].value_counts(dropna = False)"
   ]
  },
  {
   "cell_type": "code",
   "execution_count": 68,
   "id": "5b934644-7cca-46c1-a634-899a9cba1e39",
   "metadata": {},
   "outputs": [
    {
     "data": {
      "text/plain": [
       "unit\n",
       "Percentage of individuals    56474\n",
       "Name: count, dtype: int64"
      ]
     },
     "execution_count": 68,
     "metadata": {},
     "output_type": "execute_result"
    }
   ],
   "source": [
    "internet_activities['unit'].value_counts(dropna = False)"
   ]
  },
  {
   "cell_type": "code",
   "execution_count": 69,
   "id": "7d79ee00-8752-4670-a6a9-563749d16050",
   "metadata": {},
   "outputs": [
    {
     "data": {
      "text/plain": [
       "unit\n",
       "Percentage of individuals    153420\n",
       "Name: count, dtype: int64"
      ]
     },
     "execution_count": 69,
     "metadata": {},
     "output_type": "execute_result"
    }
   ],
   "source": [
    "internet_activities2['unit'].value_counts(dropna = False)"
   ]
  },
  {
   "cell_type": "code",
   "execution_count": 70,
   "id": "d4c72324-c29f-4808-9aea-09d25a3b9d68",
   "metadata": {},
   "outputs": [
    {
     "data": {
      "text/plain": [
       "unit\n",
       "Percentage of individuals    102937\n",
       "Name: count, dtype: int64"
      ]
     },
     "execution_count": 70,
     "metadata": {},
     "output_type": "execute_result"
    }
   ],
   "source": [
    "internet_activities3['unit'].value_counts(dropna = False)"
   ]
  },
  {
   "cell_type": "code",
   "execution_count": 71,
   "id": "3c7c2ba9-51b7-43ef-b21b-62444714e2f5",
   "metadata": {},
   "outputs": [
    {
     "data": {
      "text/plain": [
       "OBS_FLAG\n",
       "NaN    53329\n",
       "u       3145\n",
       "Name: count, dtype: int64"
      ]
     },
     "execution_count": 71,
     "metadata": {},
     "output_type": "execute_result"
    }
   ],
   "source": [
    "internet_activities['OBS_FLAG'].value_counts(dropna = False)"
   ]
  },
  {
   "cell_type": "code",
   "execution_count": 72,
   "id": "0fecc789-5b0c-4182-aaaa-a8f5c3d2870e",
   "metadata": {},
   "outputs": [
    {
     "data": {
      "text/plain": [
       "OBS_FLAG\n",
       "NaN    145724\n",
       "b        3885\n",
       "u        3730\n",
       "bu         81\n",
       "Name: count, dtype: int64"
      ]
     },
     "execution_count": 72,
     "metadata": {},
     "output_type": "execute_result"
    }
   ],
   "source": [
    "internet_activities2['OBS_FLAG'].value_counts(dropna = False)"
   ]
  },
  {
   "cell_type": "code",
   "execution_count": 73,
   "id": "4a432767-02e3-4343-970f-bd13303e3e90",
   "metadata": {},
   "outputs": [
    {
     "data": {
      "text/plain": [
       "OBS_FLAG\n",
       "NaN    92553\n",
       "u       6657\n",
       "b       2376\n",
       "e       1160\n",
       "bu       191\n",
       "Name: count, dtype: int64"
      ]
     },
     "execution_count": 73,
     "metadata": {},
     "output_type": "execute_result"
    }
   ],
   "source": [
    "internet_activities3['OBS_FLAG'].value_counts(dropna = False)"
   ]
  },
  {
   "cell_type": "markdown",
   "id": "f4e7b032-a2b4-412c-a221-d74db4cccfda",
   "metadata": {},
   "source": [
    "This column would not be dropped, as it contains information about the values presented on those rows (flag letters). "
   ]
  },
  {
   "cell_type": "code",
   "execution_count": 74,
   "id": "c5325aaf-4ef7-48fb-8cb8-a8c8dc0a652e",
   "metadata": {},
   "outputs": [
    {
     "data": {
      "text/plain": [
       "CONF_STATUS\n",
       "NaN    56471\n",
       "C          3\n",
       "Name: count, dtype: int64"
      ]
     },
     "execution_count": 74,
     "metadata": {},
     "output_type": "execute_result"
    }
   ],
   "source": [
    "internet_activities['CONF_STATUS'].value_counts(dropna = False)"
   ]
  },
  {
   "cell_type": "code",
   "execution_count": 75,
   "id": "9d1f0c50-7439-43ed-8257-1692f216a350",
   "metadata": {},
   "outputs": [
    {
     "data": {
      "text/html": [
       "<div>\n",
       "<style scoped>\n",
       "    .dataframe tbody tr th:only-of-type {\n",
       "        vertical-align: middle;\n",
       "    }\n",
       "\n",
       "    .dataframe tbody tr th {\n",
       "        vertical-align: top;\n",
       "    }\n",
       "\n",
       "    .dataframe thead th {\n",
       "        text-align: right;\n",
       "    }\n",
       "</style>\n",
       "<table border=\"1\" class=\"dataframe\">\n",
       "  <thead>\n",
       "    <tr style=\"text-align: right;\">\n",
       "      <th></th>\n",
       "      <th>DATAFLOW</th>\n",
       "      <th>LAST UPDATE</th>\n",
       "      <th>freq</th>\n",
       "      <th>indic_is</th>\n",
       "      <th>unit</th>\n",
       "      <th>ind_type</th>\n",
       "      <th>geo</th>\n",
       "      <th>TIME_PERIOD</th>\n",
       "      <th>OBS_VALUE</th>\n",
       "      <th>OBS_FLAG</th>\n",
       "      <th>CONF_STATUS</th>\n",
       "    </tr>\n",
       "  </thead>\n",
       "  <tbody>\n",
       "    <tr>\n",
       "      <th>30632</th>\n",
       "      <td>ESTAT:ISOC_CI_AC_I(1.0)</td>\n",
       "      <td>24/06/25 11:00:00</td>\n",
       "      <td>Annual</td>\n",
       "      <td>Internet use: job search or sending an applica...</td>\n",
       "      <td>Percentage of individuals</td>\n",
       "      <td>Individuals, 75 years old or more</td>\n",
       "      <td>Germany</td>\n",
       "      <td>2006</td>\n",
       "      <td>NaN</td>\n",
       "      <td>NaN</td>\n",
       "      <td>C</td>\n",
       "    </tr>\n",
       "    <tr>\n",
       "      <th>30634</th>\n",
       "      <td>ESTAT:ISOC_CI_AC_I(1.0)</td>\n",
       "      <td>24/06/25 11:00:00</td>\n",
       "      <td>Annual</td>\n",
       "      <td>Internet use: job search or sending an applica...</td>\n",
       "      <td>Percentage of individuals</td>\n",
       "      <td>Individuals, 75 years old or more</td>\n",
       "      <td>Germany</td>\n",
       "      <td>2008</td>\n",
       "      <td>NaN</td>\n",
       "      <td>NaN</td>\n",
       "      <td>C</td>\n",
       "    </tr>\n",
       "    <tr>\n",
       "      <th>38513</th>\n",
       "      <td>ESTAT:ISOC_CI_AC_I(1.0)</td>\n",
       "      <td>24/06/25 11:00:00</td>\n",
       "      <td>Annual</td>\n",
       "      <td>Internet use: doing an online course (of any s...</td>\n",
       "      <td>Percentage of individuals</td>\n",
       "      <td>Individuals, 75 years old or more</td>\n",
       "      <td>Germany</td>\n",
       "      <td>2007</td>\n",
       "      <td>NaN</td>\n",
       "      <td>NaN</td>\n",
       "      <td>C</td>\n",
       "    </tr>\n",
       "  </tbody>\n",
       "</table>\n",
       "</div>"
      ],
      "text/plain": [
       "                      DATAFLOW        LAST UPDATE    freq  \\\n",
       "30632  ESTAT:ISOC_CI_AC_I(1.0)  24/06/25 11:00:00  Annual   \n",
       "30634  ESTAT:ISOC_CI_AC_I(1.0)  24/06/25 11:00:00  Annual   \n",
       "38513  ESTAT:ISOC_CI_AC_I(1.0)  24/06/25 11:00:00  Annual   \n",
       "\n",
       "                                                indic_is  \\\n",
       "30632  Internet use: job search or sending an applica...   \n",
       "30634  Internet use: job search or sending an applica...   \n",
       "38513  Internet use: doing an online course (of any s...   \n",
       "\n",
       "                            unit                           ind_type      geo  \\\n",
       "30632  Percentage of individuals  Individuals, 75 years old or more  Germany   \n",
       "30634  Percentage of individuals  Individuals, 75 years old or more  Germany   \n",
       "38513  Percentage of individuals  Individuals, 75 years old or more  Germany   \n",
       "\n",
       "       TIME_PERIOD  OBS_VALUE OBS_FLAG CONF_STATUS  \n",
       "30632         2006        NaN      NaN           C  \n",
       "30634         2008        NaN      NaN           C  \n",
       "38513         2007        NaN      NaN           C  "
      ]
     },
     "execution_count": 75,
     "metadata": {},
     "output_type": "execute_result"
    }
   ],
   "source": [
    "df_c = internet_activities[internet_activities['CONF_STATUS'] == 'C']\n",
    "df_c"
   ]
  },
  {
   "cell_type": "code",
   "execution_count": 76,
   "id": "d7371d47-55cc-4780-b1fb-d63745b426ca",
   "metadata": {},
   "outputs": [
    {
     "data": {
      "text/plain": [
       "CONF_STATUS\n",
       "NaN    153419\n",
       "C           1\n",
       "Name: count, dtype: int64"
      ]
     },
     "execution_count": 76,
     "metadata": {},
     "output_type": "execute_result"
    }
   ],
   "source": [
    "internet_activities2['CONF_STATUS'].value_counts(dropna = False)"
   ]
  },
  {
   "cell_type": "code",
   "execution_count": 78,
   "id": "146f61f3-dc12-4c1e-9733-60b0c2c8ac5f",
   "metadata": {},
   "outputs": [
    {
     "data": {
      "text/html": [
       "<div>\n",
       "<style scoped>\n",
       "    .dataframe tbody tr th:only-of-type {\n",
       "        vertical-align: middle;\n",
       "    }\n",
       "\n",
       "    .dataframe tbody tr th {\n",
       "        vertical-align: top;\n",
       "    }\n",
       "\n",
       "    .dataframe thead th {\n",
       "        text-align: right;\n",
       "    }\n",
       "</style>\n",
       "<table border=\"1\" class=\"dataframe\">\n",
       "  <thead>\n",
       "    <tr style=\"text-align: right;\">\n",
       "      <th></th>\n",
       "      <th>DATAFLOW</th>\n",
       "      <th>LAST UPDATE</th>\n",
       "      <th>freq</th>\n",
       "      <th>indic_is</th>\n",
       "      <th>unit</th>\n",
       "      <th>ind_type</th>\n",
       "      <th>geo</th>\n",
       "      <th>TIME_PERIOD</th>\n",
       "      <th>OBS_VALUE</th>\n",
       "      <th>OBS_FLAG</th>\n",
       "      <th>CONF_STATUS</th>\n",
       "    </tr>\n",
       "  </thead>\n",
       "  <tbody>\n",
       "    <tr>\n",
       "      <th>90147</th>\n",
       "      <td>ESTAT:ISOC_CI_AC_I(1.0)</td>\n",
       "      <td>24/06/25 11:00:00</td>\n",
       "      <td>Annual</td>\n",
       "      <td>Internet use: doing an online course (of any s...</td>\n",
       "      <td>Percentage of individuals</td>\n",
       "      <td>Individuals, 75 years old or more</td>\n",
       "      <td>Germany</td>\n",
       "      <td>2010</td>\n",
       "      <td>NaN</td>\n",
       "      <td>NaN</td>\n",
       "      <td>C</td>\n",
       "    </tr>\n",
       "  </tbody>\n",
       "</table>\n",
       "</div>"
      ],
      "text/plain": [
       "                      DATAFLOW        LAST UPDATE    freq  \\\n",
       "90147  ESTAT:ISOC_CI_AC_I(1.0)  24/06/25 11:00:00  Annual   \n",
       "\n",
       "                                                indic_is  \\\n",
       "90147  Internet use: doing an online course (of any s...   \n",
       "\n",
       "                            unit                           ind_type      geo  \\\n",
       "90147  Percentage of individuals  Individuals, 75 years old or more  Germany   \n",
       "\n",
       "       TIME_PERIOD  OBS_VALUE OBS_FLAG CONF_STATUS  \n",
       "90147         2010        NaN      NaN           C  "
      ]
     },
     "execution_count": 78,
     "metadata": {},
     "output_type": "execute_result"
    }
   ],
   "source": [
    "df_c2 = internet_activities2[internet_activities2['CONF_STATUS'] == 'C']\n",
    "df_c2"
   ]
  },
  {
   "cell_type": "code",
   "execution_count": 79,
   "id": "6f50ef95-6618-4903-997c-7b0abd4be5c6",
   "metadata": {},
   "outputs": [
    {
     "data": {
      "text/plain": [
       "CONF_STATUS\n",
       "NaN    102892\n",
       "C          45\n",
       "Name: count, dtype: int64"
      ]
     },
     "execution_count": 79,
     "metadata": {},
     "output_type": "execute_result"
    }
   ],
   "source": [
    "internet_activities3['CONF_STATUS'].value_counts(dropna = False)"
   ]
  },
  {
   "cell_type": "code",
   "execution_count": null,
   "id": "7884737a-afff-4ec7-b04c-8aa88af1d42b",
   "metadata": {},
   "outputs": [],
   "source": [
    "# Checking for more details on CONF_STATUS variable \n",
    "internet_activities[internet_activities['CONF_STATUS'].notnull()]"
   ]
  },
  {
   "cell_type": "code",
   "execution_count": 80,
   "id": "ac4e5160-bdd1-4f08-9fc4-81bd0371e0df",
   "metadata": {},
   "outputs": [
    {
     "data": {
      "text/html": [
       "<div>\n",
       "<style scoped>\n",
       "    .dataframe tbody tr th:only-of-type {\n",
       "        vertical-align: middle;\n",
       "    }\n",
       "\n",
       "    .dataframe tbody tr th {\n",
       "        vertical-align: top;\n",
       "    }\n",
       "\n",
       "    .dataframe thead th {\n",
       "        text-align: right;\n",
       "    }\n",
       "</style>\n",
       "<table border=\"1\" class=\"dataframe\">\n",
       "  <thead>\n",
       "    <tr style=\"text-align: right;\">\n",
       "      <th></th>\n",
       "      <th>DATAFLOW</th>\n",
       "      <th>LAST UPDATE</th>\n",
       "      <th>freq</th>\n",
       "      <th>indic_is</th>\n",
       "      <th>unit</th>\n",
       "      <th>ind_type</th>\n",
       "      <th>geo</th>\n",
       "      <th>TIME_PERIOD</th>\n",
       "      <th>OBS_VALUE</th>\n",
       "      <th>OBS_FLAG</th>\n",
       "      <th>CONF_STATUS</th>\n",
       "    </tr>\n",
       "  </thead>\n",
       "  <tbody>\n",
       "    <tr>\n",
       "      <th>87430</th>\n",
       "      <td>ESTAT:ISOC_CI_AC_I(1.0)</td>\n",
       "      <td>24/06/25 11:00:00</td>\n",
       "      <td>Annual</td>\n",
       "      <td>Internet use: participating in social networks...</td>\n",
       "      <td>Percentage of individuals</td>\n",
       "      <td>Employees working full time</td>\n",
       "      <td>France</td>\n",
       "      <td>2024</td>\n",
       "      <td>NaN</td>\n",
       "      <td>NaN</td>\n",
       "      <td>C</td>\n",
       "    </tr>\n",
       "    <tr>\n",
       "      <th>87581</th>\n",
       "      <td>ESTAT:ISOC_CI_AC_I(1.0)</td>\n",
       "      <td>24/06/25 11:00:00</td>\n",
       "      <td>Annual</td>\n",
       "      <td>Internet use: participating in social networks...</td>\n",
       "      <td>Percentage of individuals</td>\n",
       "      <td>Employees working part time</td>\n",
       "      <td>France</td>\n",
       "      <td>2024</td>\n",
       "      <td>NaN</td>\n",
       "      <td>NaN</td>\n",
       "      <td>C</td>\n",
       "    </tr>\n",
       "    <tr>\n",
       "      <th>87739</th>\n",
       "      <td>ESTAT:ISOC_CI_AC_I(1.0)</td>\n",
       "      <td>24/06/25 11:00:00</td>\n",
       "      <td>Annual</td>\n",
       "      <td>Internet use: participating in social networks...</td>\n",
       "      <td>Percentage of individuals</td>\n",
       "      <td>Females with low formal education</td>\n",
       "      <td>France</td>\n",
       "      <td>2024</td>\n",
       "      <td>NaN</td>\n",
       "      <td>NaN</td>\n",
       "      <td>C</td>\n",
       "    </tr>\n",
       "    <tr>\n",
       "      <th>87921</th>\n",
       "      <td>ESTAT:ISOC_CI_AC_I(1.0)</td>\n",
       "      <td>24/06/25 11:00:00</td>\n",
       "      <td>Annual</td>\n",
       "      <td>Internet use: participating in social networks...</td>\n",
       "      <td>Percentage of individuals</td>\n",
       "      <td>Females with medium formal education</td>\n",
       "      <td>France</td>\n",
       "      <td>2024</td>\n",
       "      <td>NaN</td>\n",
       "      <td>NaN</td>\n",
       "      <td>C</td>\n",
       "    </tr>\n",
       "    <tr>\n",
       "      <th>88103</th>\n",
       "      <td>ESTAT:ISOC_CI_AC_I(1.0)</td>\n",
       "      <td>24/06/25 11:00:00</td>\n",
       "      <td>Annual</td>\n",
       "      <td>Internet use: participating in social networks...</td>\n",
       "      <td>Percentage of individuals</td>\n",
       "      <td>Females with high formal education</td>\n",
       "      <td>France</td>\n",
       "      <td>2024</td>\n",
       "      <td>NaN</td>\n",
       "      <td>NaN</td>\n",
       "      <td>C</td>\n",
       "    </tr>\n",
       "    <tr>\n",
       "      <th>88285</th>\n",
       "      <td>ESTAT:ISOC_CI_AC_I(1.0)</td>\n",
       "      <td>24/06/25 11:00:00</td>\n",
       "      <td>Annual</td>\n",
       "      <td>Internet use: participating in social networks...</td>\n",
       "      <td>Percentage of individuals</td>\n",
       "      <td>Females, 16 to 24 years old</td>\n",
       "      <td>France</td>\n",
       "      <td>2024</td>\n",
       "      <td>NaN</td>\n",
       "      <td>NaN</td>\n",
       "      <td>C</td>\n",
       "    </tr>\n",
       "    <tr>\n",
       "      <th>88467</th>\n",
       "      <td>ESTAT:ISOC_CI_AC_I(1.0)</td>\n",
       "      <td>24/06/25 11:00:00</td>\n",
       "      <td>Annual</td>\n",
       "      <td>Internet use: participating in social networks...</td>\n",
       "      <td>Percentage of individuals</td>\n",
       "      <td>Females, 25 to 34 years old</td>\n",
       "      <td>France</td>\n",
       "      <td>2024</td>\n",
       "      <td>NaN</td>\n",
       "      <td>NaN</td>\n",
       "      <td>C</td>\n",
       "    </tr>\n",
       "    <tr>\n",
       "      <th>88649</th>\n",
       "      <td>ESTAT:ISOC_CI_AC_I(1.0)</td>\n",
       "      <td>24/06/25 11:00:00</td>\n",
       "      <td>Annual</td>\n",
       "      <td>Internet use: participating in social networks...</td>\n",
       "      <td>Percentage of individuals</td>\n",
       "      <td>Females 35 to 44 years old</td>\n",
       "      <td>France</td>\n",
       "      <td>2024</td>\n",
       "      <td>NaN</td>\n",
       "      <td>NaN</td>\n",
       "      <td>C</td>\n",
       "    </tr>\n",
       "    <tr>\n",
       "      <th>88831</th>\n",
       "      <td>ESTAT:ISOC_CI_AC_I(1.0)</td>\n",
       "      <td>24/06/25 11:00:00</td>\n",
       "      <td>Annual</td>\n",
       "      <td>Internet use: participating in social networks...</td>\n",
       "      <td>Percentage of individuals</td>\n",
       "      <td>Females 45 to 54 years old</td>\n",
       "      <td>France</td>\n",
       "      <td>2024</td>\n",
       "      <td>NaN</td>\n",
       "      <td>NaN</td>\n",
       "      <td>C</td>\n",
       "    </tr>\n",
       "    <tr>\n",
       "      <th>89013</th>\n",
       "      <td>ESTAT:ISOC_CI_AC_I(1.0)</td>\n",
       "      <td>24/06/25 11:00:00</td>\n",
       "      <td>Annual</td>\n",
       "      <td>Internet use: participating in social networks...</td>\n",
       "      <td>Percentage of individuals</td>\n",
       "      <td>Females 55 to 64 years old</td>\n",
       "      <td>France</td>\n",
       "      <td>2024</td>\n",
       "      <td>NaN</td>\n",
       "      <td>NaN</td>\n",
       "      <td>C</td>\n",
       "    </tr>\n",
       "    <tr>\n",
       "      <th>89195</th>\n",
       "      <td>ESTAT:ISOC_CI_AC_I(1.0)</td>\n",
       "      <td>24/06/25 11:00:00</td>\n",
       "      <td>Annual</td>\n",
       "      <td>Internet use: participating in social networks...</td>\n",
       "      <td>Percentage of individuals</td>\n",
       "      <td>Females 65 to 74 years old</td>\n",
       "      <td>France</td>\n",
       "      <td>2024</td>\n",
       "      <td>NaN</td>\n",
       "      <td>NaN</td>\n",
       "      <td>C</td>\n",
       "    </tr>\n",
       "    <tr>\n",
       "      <th>89493</th>\n",
       "      <td>ESTAT:ISOC_CI_AC_I(1.0)</td>\n",
       "      <td>24/06/25 11:00:00</td>\n",
       "      <td>Annual</td>\n",
       "      <td>Internet use: participating in social networks...</td>\n",
       "      <td>Percentage of individuals</td>\n",
       "      <td>Individuals with no or low formal education</td>\n",
       "      <td>France</td>\n",
       "      <td>2024</td>\n",
       "      <td>NaN</td>\n",
       "      <td>NaN</td>\n",
       "      <td>C</td>\n",
       "    </tr>\n",
       "    <tr>\n",
       "      <th>89675</th>\n",
       "      <td>ESTAT:ISOC_CI_AC_I(1.0)</td>\n",
       "      <td>24/06/25 11:00:00</td>\n",
       "      <td>Annual</td>\n",
       "      <td>Internet use: participating in social networks...</td>\n",
       "      <td>Percentage of individuals</td>\n",
       "      <td>Individuals with medium formal education</td>\n",
       "      <td>France</td>\n",
       "      <td>2024</td>\n",
       "      <td>NaN</td>\n",
       "      <td>NaN</td>\n",
       "      <td>C</td>\n",
       "    </tr>\n",
       "    <tr>\n",
       "      <th>89857</th>\n",
       "      <td>ESTAT:ISOC_CI_AC_I(1.0)</td>\n",
       "      <td>24/06/25 11:00:00</td>\n",
       "      <td>Annual</td>\n",
       "      <td>Internet use: participating in social networks...</td>\n",
       "      <td>Percentage of individuals</td>\n",
       "      <td>Individuals with high formal education</td>\n",
       "      <td>France</td>\n",
       "      <td>2024</td>\n",
       "      <td>NaN</td>\n",
       "      <td>NaN</td>\n",
       "      <td>C</td>\n",
       "    </tr>\n",
       "    <tr>\n",
       "      <th>90039</th>\n",
       "      <td>ESTAT:ISOC_CI_AC_I(1.0)</td>\n",
       "      <td>24/06/25 11:00:00</td>\n",
       "      <td>Annual</td>\n",
       "      <td>Internet use: participating in social networks...</td>\n",
       "      <td>Percentage of individuals</td>\n",
       "      <td>Individuals living in a household with children</td>\n",
       "      <td>France</td>\n",
       "      <td>2024</td>\n",
       "      <td>NaN</td>\n",
       "      <td>NaN</td>\n",
       "      <td>C</td>\n",
       "    </tr>\n",
       "    <tr>\n",
       "      <th>90217</th>\n",
       "      <td>ESTAT:ISOC_CI_AC_I(1.0)</td>\n",
       "      <td>24/06/25 11:00:00</td>\n",
       "      <td>Annual</td>\n",
       "      <td>Internet use: participating in social networks...</td>\n",
       "      <td>Percentage of individuals</td>\n",
       "      <td>Individuals living in cities</td>\n",
       "      <td>France</td>\n",
       "      <td>2024</td>\n",
       "      <td>NaN</td>\n",
       "      <td>NaN</td>\n",
       "      <td>C</td>\n",
       "    </tr>\n",
       "    <tr>\n",
       "      <th>90378</th>\n",
       "      <td>ESTAT:ISOC_CI_AC_I(1.0)</td>\n",
       "      <td>24/06/25 11:00:00</td>\n",
       "      <td>Annual</td>\n",
       "      <td>Internet use: participating in social networks...</td>\n",
       "      <td>Percentage of individuals</td>\n",
       "      <td>Individuals living in towns and suburbs</td>\n",
       "      <td>France</td>\n",
       "      <td>2024</td>\n",
       "      <td>NaN</td>\n",
       "      <td>NaN</td>\n",
       "      <td>C</td>\n",
       "    </tr>\n",
       "    <tr>\n",
       "      <th>90541</th>\n",
       "      <td>ESTAT:ISOC_CI_AC_I(1.0)</td>\n",
       "      <td>24/06/25 11:00:00</td>\n",
       "      <td>Annual</td>\n",
       "      <td>Internet use: participating in social networks...</td>\n",
       "      <td>Percentage of individuals</td>\n",
       "      <td>Individuals living in rural areas</td>\n",
       "      <td>France</td>\n",
       "      <td>2024</td>\n",
       "      <td>NaN</td>\n",
       "      <td>NaN</td>\n",
       "      <td>C</td>\n",
       "    </tr>\n",
       "    <tr>\n",
       "      <th>90708</th>\n",
       "      <td>ESTAT:ISOC_CI_AC_I(1.0)</td>\n",
       "      <td>24/06/25 11:00:00</td>\n",
       "      <td>Annual</td>\n",
       "      <td>Internet use: participating in social networks...</td>\n",
       "      <td>Percentage of individuals</td>\n",
       "      <td>Individuals living in a household without chil...</td>\n",
       "      <td>France</td>\n",
       "      <td>2024</td>\n",
       "      <td>NaN</td>\n",
       "      <td>NaN</td>\n",
       "      <td>C</td>\n",
       "    </tr>\n",
       "    <tr>\n",
       "      <th>90889</th>\n",
       "      <td>ESTAT:ISOC_CI_AC_I(1.0)</td>\n",
       "      <td>24/06/25 11:00:00</td>\n",
       "      <td>Annual</td>\n",
       "      <td>Internet use: participating in social networks...</td>\n",
       "      <td>Percentage of individuals</td>\n",
       "      <td>All individuals</td>\n",
       "      <td>France</td>\n",
       "      <td>2024</td>\n",
       "      <td>NaN</td>\n",
       "      <td>NaN</td>\n",
       "      <td>C</td>\n",
       "    </tr>\n",
       "    <tr>\n",
       "      <th>91070</th>\n",
       "      <td>ESTAT:ISOC_CI_AC_I(1.0)</td>\n",
       "      <td>24/06/25 11:00:00</td>\n",
       "      <td>Annual</td>\n",
       "      <td>Internet use: participating in social networks...</td>\n",
       "      <td>Percentage of individuals</td>\n",
       "      <td>ICT professionals</td>\n",
       "      <td>France</td>\n",
       "      <td>2024</td>\n",
       "      <td>NaN</td>\n",
       "      <td>NaN</td>\n",
       "      <td>C</td>\n",
       "    </tr>\n",
       "    <tr>\n",
       "      <th>91242</th>\n",
       "      <td>ESTAT:ISOC_CI_AC_I(1.0)</td>\n",
       "      <td>24/06/25 11:00:00</td>\n",
       "      <td>Annual</td>\n",
       "      <td>Internet use: participating in social networks...</td>\n",
       "      <td>Percentage of individuals</td>\n",
       "      <td>Non ICT professionals</td>\n",
       "      <td>France</td>\n",
       "      <td>2024</td>\n",
       "      <td>NaN</td>\n",
       "      <td>NaN</td>\n",
       "      <td>C</td>\n",
       "    </tr>\n",
       "    <tr>\n",
       "      <th>91420</th>\n",
       "      <td>ESTAT:ISOC_CI_AC_I(1.0)</td>\n",
       "      <td>24/06/25 11:00:00</td>\n",
       "      <td>Annual</td>\n",
       "      <td>Internet use: participating in social networks...</td>\n",
       "      <td>Percentage of individuals</td>\n",
       "      <td>Males with low formal education</td>\n",
       "      <td>France</td>\n",
       "      <td>2024</td>\n",
       "      <td>NaN</td>\n",
       "      <td>NaN</td>\n",
       "      <td>C</td>\n",
       "    </tr>\n",
       "    <tr>\n",
       "      <th>91602</th>\n",
       "      <td>ESTAT:ISOC_CI_AC_I(1.0)</td>\n",
       "      <td>24/06/25 11:00:00</td>\n",
       "      <td>Annual</td>\n",
       "      <td>Internet use: participating in social networks...</td>\n",
       "      <td>Percentage of individuals</td>\n",
       "      <td>Males with medium formal education</td>\n",
       "      <td>France</td>\n",
       "      <td>2024</td>\n",
       "      <td>NaN</td>\n",
       "      <td>NaN</td>\n",
       "      <td>C</td>\n",
       "    </tr>\n",
       "    <tr>\n",
       "      <th>91784</th>\n",
       "      <td>ESTAT:ISOC_CI_AC_I(1.0)</td>\n",
       "      <td>24/06/25 11:00:00</td>\n",
       "      <td>Annual</td>\n",
       "      <td>Internet use: participating in social networks...</td>\n",
       "      <td>Percentage of individuals</td>\n",
       "      <td>Males with high formal education</td>\n",
       "      <td>France</td>\n",
       "      <td>2024</td>\n",
       "      <td>NaN</td>\n",
       "      <td>NaN</td>\n",
       "      <td>C</td>\n",
       "    </tr>\n",
       "    <tr>\n",
       "      <th>91966</th>\n",
       "      <td>ESTAT:ISOC_CI_AC_I(1.0)</td>\n",
       "      <td>24/06/25 11:00:00</td>\n",
       "      <td>Annual</td>\n",
       "      <td>Internet use: participating in social networks...</td>\n",
       "      <td>Percentage of individuals</td>\n",
       "      <td>Males, 16 to 24 years old</td>\n",
       "      <td>France</td>\n",
       "      <td>2024</td>\n",
       "      <td>NaN</td>\n",
       "      <td>NaN</td>\n",
       "      <td>C</td>\n",
       "    </tr>\n",
       "    <tr>\n",
       "      <th>92148</th>\n",
       "      <td>ESTAT:ISOC_CI_AC_I(1.0)</td>\n",
       "      <td>24/06/25 11:00:00</td>\n",
       "      <td>Annual</td>\n",
       "      <td>Internet use: participating in social networks...</td>\n",
       "      <td>Percentage of individuals</td>\n",
       "      <td>Males, 25 to 34 years old</td>\n",
       "      <td>France</td>\n",
       "      <td>2024</td>\n",
       "      <td>NaN</td>\n",
       "      <td>NaN</td>\n",
       "      <td>C</td>\n",
       "    </tr>\n",
       "    <tr>\n",
       "      <th>92330</th>\n",
       "      <td>ESTAT:ISOC_CI_AC_I(1.0)</td>\n",
       "      <td>24/06/25 11:00:00</td>\n",
       "      <td>Annual</td>\n",
       "      <td>Internet use: participating in social networks...</td>\n",
       "      <td>Percentage of individuals</td>\n",
       "      <td>Males 35 to 44 years old</td>\n",
       "      <td>France</td>\n",
       "      <td>2024</td>\n",
       "      <td>NaN</td>\n",
       "      <td>NaN</td>\n",
       "      <td>C</td>\n",
       "    </tr>\n",
       "    <tr>\n",
       "      <th>92512</th>\n",
       "      <td>ESTAT:ISOC_CI_AC_I(1.0)</td>\n",
       "      <td>24/06/25 11:00:00</td>\n",
       "      <td>Annual</td>\n",
       "      <td>Internet use: participating in social networks...</td>\n",
       "      <td>Percentage of individuals</td>\n",
       "      <td>Males 45 to 54 years old</td>\n",
       "      <td>France</td>\n",
       "      <td>2024</td>\n",
       "      <td>NaN</td>\n",
       "      <td>NaN</td>\n",
       "      <td>C</td>\n",
       "    </tr>\n",
       "    <tr>\n",
       "      <th>92694</th>\n",
       "      <td>ESTAT:ISOC_CI_AC_I(1.0)</td>\n",
       "      <td>24/06/25 11:00:00</td>\n",
       "      <td>Annual</td>\n",
       "      <td>Internet use: participating in social networks...</td>\n",
       "      <td>Percentage of individuals</td>\n",
       "      <td>Males 55 to 64 years old</td>\n",
       "      <td>France</td>\n",
       "      <td>2024</td>\n",
       "      <td>NaN</td>\n",
       "      <td>NaN</td>\n",
       "      <td>C</td>\n",
       "    </tr>\n",
       "    <tr>\n",
       "      <th>92876</th>\n",
       "      <td>ESTAT:ISOC_CI_AC_I(1.0)</td>\n",
       "      <td>24/06/25 11:00:00</td>\n",
       "      <td>Annual</td>\n",
       "      <td>Internet use: participating in social networks...</td>\n",
       "      <td>Percentage of individuals</td>\n",
       "      <td>Males 65 to 74 years old</td>\n",
       "      <td>France</td>\n",
       "      <td>2024</td>\n",
       "      <td>NaN</td>\n",
       "      <td>NaN</td>\n",
       "      <td>C</td>\n",
       "    </tr>\n",
       "    <tr>\n",
       "      <th>93057</th>\n",
       "      <td>ESTAT:ISOC_CI_AC_I(1.0)</td>\n",
       "      <td>24/06/25 11:00:00</td>\n",
       "      <td>Annual</td>\n",
       "      <td>Internet use: participating in social networks...</td>\n",
       "      <td>Percentage of individuals</td>\n",
       "      <td>Employees</td>\n",
       "      <td>France</td>\n",
       "      <td>2024</td>\n",
       "      <td>NaN</td>\n",
       "      <td>NaN</td>\n",
       "      <td>C</td>\n",
       "    </tr>\n",
       "    <tr>\n",
       "      <th>93231</th>\n",
       "      <td>ESTAT:ISOC_CI_AC_I(1.0)</td>\n",
       "      <td>24/06/25 11:00:00</td>\n",
       "      <td>Annual</td>\n",
       "      <td>Internet use: participating in social networks...</td>\n",
       "      <td>Percentage of individuals</td>\n",
       "      <td>Self-employed, family workers</td>\n",
       "      <td>France</td>\n",
       "      <td>2024</td>\n",
       "      <td>NaN</td>\n",
       "      <td>NaN</td>\n",
       "      <td>C</td>\n",
       "    </tr>\n",
       "    <tr>\n",
       "      <th>93406</th>\n",
       "      <td>ESTAT:ISOC_CI_AC_I(1.0)</td>\n",
       "      <td>24/06/25 11:00:00</td>\n",
       "      <td>Annual</td>\n",
       "      <td>Internet use: participating in social networks...</td>\n",
       "      <td>Percentage of individuals</td>\n",
       "      <td>Students</td>\n",
       "      <td>France</td>\n",
       "      <td>2024</td>\n",
       "      <td>NaN</td>\n",
       "      <td>NaN</td>\n",
       "      <td>C</td>\n",
       "    </tr>\n",
       "    <tr>\n",
       "      <th>93588</th>\n",
       "      <td>ESTAT:ISOC_CI_AC_I(1.0)</td>\n",
       "      <td>24/06/25 11:00:00</td>\n",
       "      <td>Annual</td>\n",
       "      <td>Internet use: participating in social networks...</td>\n",
       "      <td>Percentage of individuals</td>\n",
       "      <td>Unemployed</td>\n",
       "      <td>France</td>\n",
       "      <td>2024</td>\n",
       "      <td>NaN</td>\n",
       "      <td>NaN</td>\n",
       "      <td>C</td>\n",
       "    </tr>\n",
       "    <tr>\n",
       "      <th>93770</th>\n",
       "      <td>ESTAT:ISOC_CI_AC_I(1.0)</td>\n",
       "      <td>24/06/25 11:00:00</td>\n",
       "      <td>Annual</td>\n",
       "      <td>Internet use: participating in social networks...</td>\n",
       "      <td>Percentage of individuals</td>\n",
       "      <td>Individuals, 16 to 24 years old</td>\n",
       "      <td>France</td>\n",
       "      <td>2024</td>\n",
       "      <td>NaN</td>\n",
       "      <td>NaN</td>\n",
       "      <td>C</td>\n",
       "    </tr>\n",
       "    <tr>\n",
       "      <th>93952</th>\n",
       "      <td>ESTAT:ISOC_CI_AC_I(1.0)</td>\n",
       "      <td>24/06/25 11:00:00</td>\n",
       "      <td>Annual</td>\n",
       "      <td>Internet use: participating in social networks...</td>\n",
       "      <td>Percentage of individuals</td>\n",
       "      <td>Individuals, 25 to 34 years old</td>\n",
       "      <td>France</td>\n",
       "      <td>2024</td>\n",
       "      <td>NaN</td>\n",
       "      <td>NaN</td>\n",
       "      <td>C</td>\n",
       "    </tr>\n",
       "    <tr>\n",
       "      <th>94134</th>\n",
       "      <td>ESTAT:ISOC_CI_AC_I(1.0)</td>\n",
       "      <td>24/06/25 11:00:00</td>\n",
       "      <td>Annual</td>\n",
       "      <td>Internet use: participating in social networks...</td>\n",
       "      <td>Percentage of individuals</td>\n",
       "      <td>Individuals aged 25 to 64 who are in the labou...</td>\n",
       "      <td>France</td>\n",
       "      <td>2024</td>\n",
       "      <td>NaN</td>\n",
       "      <td>NaN</td>\n",
       "      <td>C</td>\n",
       "    </tr>\n",
       "    <tr>\n",
       "      <th>94316</th>\n",
       "      <td>ESTAT:ISOC_CI_AC_I(1.0)</td>\n",
       "      <td>24/06/25 11:00:00</td>\n",
       "      <td>Annual</td>\n",
       "      <td>Internet use: participating in social networks...</td>\n",
       "      <td>Percentage of individuals</td>\n",
       "      <td>Individuals aged 25 to 64 who are retired or n...</td>\n",
       "      <td>France</td>\n",
       "      <td>2024</td>\n",
       "      <td>NaN</td>\n",
       "      <td>NaN</td>\n",
       "      <td>C</td>\n",
       "    </tr>\n",
       "    <tr>\n",
       "      <th>94498</th>\n",
       "      <td>ESTAT:ISOC_CI_AC_I(1.0)</td>\n",
       "      <td>24/06/25 11:00:00</td>\n",
       "      <td>Annual</td>\n",
       "      <td>Internet use: participating in social networks...</td>\n",
       "      <td>Percentage of individuals</td>\n",
       "      <td>Individuals aged 25 to 64 who are employees, s...</td>\n",
       "      <td>France</td>\n",
       "      <td>2024</td>\n",
       "      <td>NaN</td>\n",
       "      <td>NaN</td>\n",
       "      <td>C</td>\n",
       "    </tr>\n",
       "    <tr>\n",
       "      <th>94680</th>\n",
       "      <td>ESTAT:ISOC_CI_AC_I(1.0)</td>\n",
       "      <td>24/06/25 11:00:00</td>\n",
       "      <td>Annual</td>\n",
       "      <td>Internet use: participating in social networks...</td>\n",
       "      <td>Percentage of individuals</td>\n",
       "      <td>Individuals aged 25 to 64 who are unemployed</td>\n",
       "      <td>France</td>\n",
       "      <td>2024</td>\n",
       "      <td>NaN</td>\n",
       "      <td>NaN</td>\n",
       "      <td>C</td>\n",
       "    </tr>\n",
       "    <tr>\n",
       "      <th>94862</th>\n",
       "      <td>ESTAT:ISOC_CI_AC_I(1.0)</td>\n",
       "      <td>24/06/25 11:00:00</td>\n",
       "      <td>Annual</td>\n",
       "      <td>Internet use: participating in social networks...</td>\n",
       "      <td>Percentage of individuals</td>\n",
       "      <td>Individuals, 35 to 44 years old</td>\n",
       "      <td>France</td>\n",
       "      <td>2024</td>\n",
       "      <td>NaN</td>\n",
       "      <td>NaN</td>\n",
       "      <td>C</td>\n",
       "    </tr>\n",
       "    <tr>\n",
       "      <th>95044</th>\n",
       "      <td>ESTAT:ISOC_CI_AC_I(1.0)</td>\n",
       "      <td>24/06/25 11:00:00</td>\n",
       "      <td>Annual</td>\n",
       "      <td>Internet use: participating in social networks...</td>\n",
       "      <td>Percentage of individuals</td>\n",
       "      <td>Individuals, 45 to 54 years old</td>\n",
       "      <td>France</td>\n",
       "      <td>2024</td>\n",
       "      <td>NaN</td>\n",
       "      <td>NaN</td>\n",
       "      <td>C</td>\n",
       "    </tr>\n",
       "    <tr>\n",
       "      <th>95226</th>\n",
       "      <td>ESTAT:ISOC_CI_AC_I(1.0)</td>\n",
       "      <td>24/06/25 11:00:00</td>\n",
       "      <td>Annual</td>\n",
       "      <td>Internet use: participating in social networks...</td>\n",
       "      <td>Percentage of individuals</td>\n",
       "      <td>Individuals, 55 to 64 years old</td>\n",
       "      <td>France</td>\n",
       "      <td>2024</td>\n",
       "      <td>NaN</td>\n",
       "      <td>NaN</td>\n",
       "      <td>C</td>\n",
       "    </tr>\n",
       "    <tr>\n",
       "      <th>95408</th>\n",
       "      <td>ESTAT:ISOC_CI_AC_I(1.0)</td>\n",
       "      <td>24/06/25 11:00:00</td>\n",
       "      <td>Annual</td>\n",
       "      <td>Internet use: participating in social networks...</td>\n",
       "      <td>Percentage of individuals</td>\n",
       "      <td>Individuals, 65 to 74 years old</td>\n",
       "      <td>France</td>\n",
       "      <td>2024</td>\n",
       "      <td>NaN</td>\n",
       "      <td>NaN</td>\n",
       "      <td>C</td>\n",
       "    </tr>\n",
       "  </tbody>\n",
       "</table>\n",
       "</div>"
      ],
      "text/plain": [
       "                      DATAFLOW        LAST UPDATE    freq  \\\n",
       "87430  ESTAT:ISOC_CI_AC_I(1.0)  24/06/25 11:00:00  Annual   \n",
       "87581  ESTAT:ISOC_CI_AC_I(1.0)  24/06/25 11:00:00  Annual   \n",
       "87739  ESTAT:ISOC_CI_AC_I(1.0)  24/06/25 11:00:00  Annual   \n",
       "87921  ESTAT:ISOC_CI_AC_I(1.0)  24/06/25 11:00:00  Annual   \n",
       "88103  ESTAT:ISOC_CI_AC_I(1.0)  24/06/25 11:00:00  Annual   \n",
       "88285  ESTAT:ISOC_CI_AC_I(1.0)  24/06/25 11:00:00  Annual   \n",
       "88467  ESTAT:ISOC_CI_AC_I(1.0)  24/06/25 11:00:00  Annual   \n",
       "88649  ESTAT:ISOC_CI_AC_I(1.0)  24/06/25 11:00:00  Annual   \n",
       "88831  ESTAT:ISOC_CI_AC_I(1.0)  24/06/25 11:00:00  Annual   \n",
       "89013  ESTAT:ISOC_CI_AC_I(1.0)  24/06/25 11:00:00  Annual   \n",
       "89195  ESTAT:ISOC_CI_AC_I(1.0)  24/06/25 11:00:00  Annual   \n",
       "89493  ESTAT:ISOC_CI_AC_I(1.0)  24/06/25 11:00:00  Annual   \n",
       "89675  ESTAT:ISOC_CI_AC_I(1.0)  24/06/25 11:00:00  Annual   \n",
       "89857  ESTAT:ISOC_CI_AC_I(1.0)  24/06/25 11:00:00  Annual   \n",
       "90039  ESTAT:ISOC_CI_AC_I(1.0)  24/06/25 11:00:00  Annual   \n",
       "90217  ESTAT:ISOC_CI_AC_I(1.0)  24/06/25 11:00:00  Annual   \n",
       "90378  ESTAT:ISOC_CI_AC_I(1.0)  24/06/25 11:00:00  Annual   \n",
       "90541  ESTAT:ISOC_CI_AC_I(1.0)  24/06/25 11:00:00  Annual   \n",
       "90708  ESTAT:ISOC_CI_AC_I(1.0)  24/06/25 11:00:00  Annual   \n",
       "90889  ESTAT:ISOC_CI_AC_I(1.0)  24/06/25 11:00:00  Annual   \n",
       "91070  ESTAT:ISOC_CI_AC_I(1.0)  24/06/25 11:00:00  Annual   \n",
       "91242  ESTAT:ISOC_CI_AC_I(1.0)  24/06/25 11:00:00  Annual   \n",
       "91420  ESTAT:ISOC_CI_AC_I(1.0)  24/06/25 11:00:00  Annual   \n",
       "91602  ESTAT:ISOC_CI_AC_I(1.0)  24/06/25 11:00:00  Annual   \n",
       "91784  ESTAT:ISOC_CI_AC_I(1.0)  24/06/25 11:00:00  Annual   \n",
       "91966  ESTAT:ISOC_CI_AC_I(1.0)  24/06/25 11:00:00  Annual   \n",
       "92148  ESTAT:ISOC_CI_AC_I(1.0)  24/06/25 11:00:00  Annual   \n",
       "92330  ESTAT:ISOC_CI_AC_I(1.0)  24/06/25 11:00:00  Annual   \n",
       "92512  ESTAT:ISOC_CI_AC_I(1.0)  24/06/25 11:00:00  Annual   \n",
       "92694  ESTAT:ISOC_CI_AC_I(1.0)  24/06/25 11:00:00  Annual   \n",
       "92876  ESTAT:ISOC_CI_AC_I(1.0)  24/06/25 11:00:00  Annual   \n",
       "93057  ESTAT:ISOC_CI_AC_I(1.0)  24/06/25 11:00:00  Annual   \n",
       "93231  ESTAT:ISOC_CI_AC_I(1.0)  24/06/25 11:00:00  Annual   \n",
       "93406  ESTAT:ISOC_CI_AC_I(1.0)  24/06/25 11:00:00  Annual   \n",
       "93588  ESTAT:ISOC_CI_AC_I(1.0)  24/06/25 11:00:00  Annual   \n",
       "93770  ESTAT:ISOC_CI_AC_I(1.0)  24/06/25 11:00:00  Annual   \n",
       "93952  ESTAT:ISOC_CI_AC_I(1.0)  24/06/25 11:00:00  Annual   \n",
       "94134  ESTAT:ISOC_CI_AC_I(1.0)  24/06/25 11:00:00  Annual   \n",
       "94316  ESTAT:ISOC_CI_AC_I(1.0)  24/06/25 11:00:00  Annual   \n",
       "94498  ESTAT:ISOC_CI_AC_I(1.0)  24/06/25 11:00:00  Annual   \n",
       "94680  ESTAT:ISOC_CI_AC_I(1.0)  24/06/25 11:00:00  Annual   \n",
       "94862  ESTAT:ISOC_CI_AC_I(1.0)  24/06/25 11:00:00  Annual   \n",
       "95044  ESTAT:ISOC_CI_AC_I(1.0)  24/06/25 11:00:00  Annual   \n",
       "95226  ESTAT:ISOC_CI_AC_I(1.0)  24/06/25 11:00:00  Annual   \n",
       "95408  ESTAT:ISOC_CI_AC_I(1.0)  24/06/25 11:00:00  Annual   \n",
       "\n",
       "                                                indic_is  \\\n",
       "87430  Internet use: participating in social networks...   \n",
       "87581  Internet use: participating in social networks...   \n",
       "87739  Internet use: participating in social networks...   \n",
       "87921  Internet use: participating in social networks...   \n",
       "88103  Internet use: participating in social networks...   \n",
       "88285  Internet use: participating in social networks...   \n",
       "88467  Internet use: participating in social networks...   \n",
       "88649  Internet use: participating in social networks...   \n",
       "88831  Internet use: participating in social networks...   \n",
       "89013  Internet use: participating in social networks...   \n",
       "89195  Internet use: participating in social networks...   \n",
       "89493  Internet use: participating in social networks...   \n",
       "89675  Internet use: participating in social networks...   \n",
       "89857  Internet use: participating in social networks...   \n",
       "90039  Internet use: participating in social networks...   \n",
       "90217  Internet use: participating in social networks...   \n",
       "90378  Internet use: participating in social networks...   \n",
       "90541  Internet use: participating in social networks...   \n",
       "90708  Internet use: participating in social networks...   \n",
       "90889  Internet use: participating in social networks...   \n",
       "91070  Internet use: participating in social networks...   \n",
       "91242  Internet use: participating in social networks...   \n",
       "91420  Internet use: participating in social networks...   \n",
       "91602  Internet use: participating in social networks...   \n",
       "91784  Internet use: participating in social networks...   \n",
       "91966  Internet use: participating in social networks...   \n",
       "92148  Internet use: participating in social networks...   \n",
       "92330  Internet use: participating in social networks...   \n",
       "92512  Internet use: participating in social networks...   \n",
       "92694  Internet use: participating in social networks...   \n",
       "92876  Internet use: participating in social networks...   \n",
       "93057  Internet use: participating in social networks...   \n",
       "93231  Internet use: participating in social networks...   \n",
       "93406  Internet use: participating in social networks...   \n",
       "93588  Internet use: participating in social networks...   \n",
       "93770  Internet use: participating in social networks...   \n",
       "93952  Internet use: participating in social networks...   \n",
       "94134  Internet use: participating in social networks...   \n",
       "94316  Internet use: participating in social networks...   \n",
       "94498  Internet use: participating in social networks...   \n",
       "94680  Internet use: participating in social networks...   \n",
       "94862  Internet use: participating in social networks...   \n",
       "95044  Internet use: participating in social networks...   \n",
       "95226  Internet use: participating in social networks...   \n",
       "95408  Internet use: participating in social networks...   \n",
       "\n",
       "                            unit  \\\n",
       "87430  Percentage of individuals   \n",
       "87581  Percentage of individuals   \n",
       "87739  Percentage of individuals   \n",
       "87921  Percentage of individuals   \n",
       "88103  Percentage of individuals   \n",
       "88285  Percentage of individuals   \n",
       "88467  Percentage of individuals   \n",
       "88649  Percentage of individuals   \n",
       "88831  Percentage of individuals   \n",
       "89013  Percentage of individuals   \n",
       "89195  Percentage of individuals   \n",
       "89493  Percentage of individuals   \n",
       "89675  Percentage of individuals   \n",
       "89857  Percentage of individuals   \n",
       "90039  Percentage of individuals   \n",
       "90217  Percentage of individuals   \n",
       "90378  Percentage of individuals   \n",
       "90541  Percentage of individuals   \n",
       "90708  Percentage of individuals   \n",
       "90889  Percentage of individuals   \n",
       "91070  Percentage of individuals   \n",
       "91242  Percentage of individuals   \n",
       "91420  Percentage of individuals   \n",
       "91602  Percentage of individuals   \n",
       "91784  Percentage of individuals   \n",
       "91966  Percentage of individuals   \n",
       "92148  Percentage of individuals   \n",
       "92330  Percentage of individuals   \n",
       "92512  Percentage of individuals   \n",
       "92694  Percentage of individuals   \n",
       "92876  Percentage of individuals   \n",
       "93057  Percentage of individuals   \n",
       "93231  Percentage of individuals   \n",
       "93406  Percentage of individuals   \n",
       "93588  Percentage of individuals   \n",
       "93770  Percentage of individuals   \n",
       "93952  Percentage of individuals   \n",
       "94134  Percentage of individuals   \n",
       "94316  Percentage of individuals   \n",
       "94498  Percentage of individuals   \n",
       "94680  Percentage of individuals   \n",
       "94862  Percentage of individuals   \n",
       "95044  Percentage of individuals   \n",
       "95226  Percentage of individuals   \n",
       "95408  Percentage of individuals   \n",
       "\n",
       "                                                ind_type     geo  TIME_PERIOD  \\\n",
       "87430                        Employees working full time  France         2024   \n",
       "87581                        Employees working part time  France         2024   \n",
       "87739                  Females with low formal education  France         2024   \n",
       "87921               Females with medium formal education  France         2024   \n",
       "88103                 Females with high formal education  France         2024   \n",
       "88285                        Females, 16 to 24 years old  France         2024   \n",
       "88467                        Females, 25 to 34 years old  France         2024   \n",
       "88649                         Females 35 to 44 years old  France         2024   \n",
       "88831                         Females 45 to 54 years old  France         2024   \n",
       "89013                         Females 55 to 64 years old  France         2024   \n",
       "89195                         Females 65 to 74 years old  France         2024   \n",
       "89493        Individuals with no or low formal education  France         2024   \n",
       "89675           Individuals with medium formal education  France         2024   \n",
       "89857             Individuals with high formal education  France         2024   \n",
       "90039    Individuals living in a household with children  France         2024   \n",
       "90217                       Individuals living in cities  France         2024   \n",
       "90378            Individuals living in towns and suburbs  France         2024   \n",
       "90541                  Individuals living in rural areas  France         2024   \n",
       "90708  Individuals living in a household without chil...  France         2024   \n",
       "90889                                    All individuals  France         2024   \n",
       "91070                                  ICT professionals  France         2024   \n",
       "91242                              Non ICT professionals  France         2024   \n",
       "91420                    Males with low formal education  France         2024   \n",
       "91602                 Males with medium formal education  France         2024   \n",
       "91784                   Males with high formal education  France         2024   \n",
       "91966                          Males, 16 to 24 years old  France         2024   \n",
       "92148                          Males, 25 to 34 years old  France         2024   \n",
       "92330                           Males 35 to 44 years old  France         2024   \n",
       "92512                           Males 45 to 54 years old  France         2024   \n",
       "92694                           Males 55 to 64 years old  France         2024   \n",
       "92876                           Males 65 to 74 years old  France         2024   \n",
       "93057                                          Employees  France         2024   \n",
       "93231                      Self-employed, family workers  France         2024   \n",
       "93406                                           Students  France         2024   \n",
       "93588                                         Unemployed  France         2024   \n",
       "93770                    Individuals, 16 to 24 years old  France         2024   \n",
       "93952                    Individuals, 25 to 34 years old  France         2024   \n",
       "94134  Individuals aged 25 to 64 who are in the labou...  France         2024   \n",
       "94316  Individuals aged 25 to 64 who are retired or n...  France         2024   \n",
       "94498  Individuals aged 25 to 64 who are employees, s...  France         2024   \n",
       "94680       Individuals aged 25 to 64 who are unemployed  France         2024   \n",
       "94862                    Individuals, 35 to 44 years old  France         2024   \n",
       "95044                    Individuals, 45 to 54 years old  France         2024   \n",
       "95226                    Individuals, 55 to 64 years old  France         2024   \n",
       "95408                    Individuals, 65 to 74 years old  France         2024   \n",
       "\n",
       "       OBS_VALUE OBS_FLAG CONF_STATUS  \n",
       "87430        NaN      NaN           C  \n",
       "87581        NaN      NaN           C  \n",
       "87739        NaN      NaN           C  \n",
       "87921        NaN      NaN           C  \n",
       "88103        NaN      NaN           C  \n",
       "88285        NaN      NaN           C  \n",
       "88467        NaN      NaN           C  \n",
       "88649        NaN      NaN           C  \n",
       "88831        NaN      NaN           C  \n",
       "89013        NaN      NaN           C  \n",
       "89195        NaN      NaN           C  \n",
       "89493        NaN      NaN           C  \n",
       "89675        NaN      NaN           C  \n",
       "89857        NaN      NaN           C  \n",
       "90039        NaN      NaN           C  \n",
       "90217        NaN      NaN           C  \n",
       "90378        NaN      NaN           C  \n",
       "90541        NaN      NaN           C  \n",
       "90708        NaN      NaN           C  \n",
       "90889        NaN      NaN           C  \n",
       "91070        NaN      NaN           C  \n",
       "91242        NaN      NaN           C  \n",
       "91420        NaN      NaN           C  \n",
       "91602        NaN      NaN           C  \n",
       "91784        NaN      NaN           C  \n",
       "91966        NaN      NaN           C  \n",
       "92148        NaN      NaN           C  \n",
       "92330        NaN      NaN           C  \n",
       "92512        NaN      NaN           C  \n",
       "92694        NaN      NaN           C  \n",
       "92876        NaN      NaN           C  \n",
       "93057        NaN      NaN           C  \n",
       "93231        NaN      NaN           C  \n",
       "93406        NaN      NaN           C  \n",
       "93588        NaN      NaN           C  \n",
       "93770        NaN      NaN           C  \n",
       "93952        NaN      NaN           C  \n",
       "94134        NaN      NaN           C  \n",
       "94316        NaN      NaN           C  \n",
       "94498        NaN      NaN           C  \n",
       "94680        NaN      NaN           C  \n",
       "94862        NaN      NaN           C  \n",
       "95044        NaN      NaN           C  \n",
       "95226        NaN      NaN           C  \n",
       "95408        NaN      NaN           C  "
      ]
     },
     "execution_count": 80,
     "metadata": {},
     "output_type": "execute_result"
    }
   ],
   "source": [
    "df_c3 = internet_activities3[internet_activities3['CONF_STATUS'] == 'C']\n",
    "df_c3"
   ]
  },
  {
   "cell_type": "markdown",
   "id": "af4f0d11-0bf0-4e91-814d-ede13c47e565",
   "metadata": {},
   "source": [
    "The rows in the three dataframes will be deleted as it contains no relevant information and is a very little percentage of the total data. "
   ]
  },
  {
   "cell_type": "code",
   "execution_count": 81,
   "id": "c2ec716b-88d5-4a92-8524-602adafabb0c",
   "metadata": {},
   "outputs": [],
   "source": [
    "# Deleting rows in dataframe 1\n",
    "internet_activities = internet_activities[internet_activities['CONF_STATUS'] != 'C']"
   ]
  },
  {
   "cell_type": "code",
   "execution_count": 82,
   "id": "c070cb5a-6771-453c-b579-a68df356e7f0",
   "metadata": {},
   "outputs": [],
   "source": [
    "# Deleting rows in dataframe 2 \n",
    "internet_activities2 = internet_activities2[internet_activities2['CONF_STATUS'] != 'C']"
   ]
  },
  {
   "cell_type": "code",
   "execution_count": 83,
   "id": "6e3761d4-5c60-4a08-9d3f-981f3e9e0f04",
   "metadata": {},
   "outputs": [],
   "source": [
    "# Deleting rows in dataframe 3\n",
    "internet_activities3 = internet_activities3[internet_activities3['CONF_STATUS'] != 'C']"
   ]
  },
  {
   "cell_type": "code",
   "execution_count": 85,
   "id": "a9936a8d-a767-447a-aae6-4639a157e97a",
   "metadata": {},
   "outputs": [
    {
     "data": {
      "text/plain": [
       "CONF_STATUS\n",
       "NaN    56471\n",
       "Name: count, dtype: int64"
      ]
     },
     "execution_count": 85,
     "metadata": {},
     "output_type": "execute_result"
    }
   ],
   "source": [
    "# Checking results\n",
    "internet_activities['CONF_STATUS'].value_counts(dropna=False)"
   ]
  },
  {
   "cell_type": "code",
   "execution_count": 86,
   "id": "b85db3b6-8964-47e2-8f95-e1a747c39a5a",
   "metadata": {},
   "outputs": [
    {
     "data": {
      "text/plain": [
       "CONF_STATUS\n",
       "NaN    153419\n",
       "Name: count, dtype: int64"
      ]
     },
     "execution_count": 86,
     "metadata": {},
     "output_type": "execute_result"
    }
   ],
   "source": [
    "# Checking results\n",
    "internet_activities2['CONF_STATUS'].value_counts(dropna=False)"
   ]
  },
  {
   "cell_type": "code",
   "execution_count": 87,
   "id": "6f38988e-d7fb-457d-bf2d-a91602f625f1",
   "metadata": {},
   "outputs": [
    {
     "data": {
      "text/plain": [
       "CONF_STATUS\n",
       "NaN    102892\n",
       "Name: count, dtype: int64"
      ]
     },
     "execution_count": 87,
     "metadata": {},
     "output_type": "execute_result"
    }
   ],
   "source": [
    "# Checking results\n",
    "internet_activities3['CONF_STATUS'].value_counts(dropna=False)"
   ]
  },
  {
   "cell_type": "code",
   "execution_count": 88,
   "id": "20b82cb5-ac20-4147-af6d-d479e0fbf124",
   "metadata": {},
   "outputs": [],
   "source": [
    "# Drop unnecessary columns: DATAFLOW / LAST UPDATE / freq / unit / CONF_STATUS\n",
    "internet_activities = internet_activities.drop(columns = ['DATAFLOW', 'LAST UPDATE', 'freq', 'unit', 'CONF_STATUS'])"
   ]
  },
  {
   "cell_type": "code",
   "execution_count": 89,
   "id": "0f831254-6c67-41ac-9bfd-b3efaa297d7d",
   "metadata": {},
   "outputs": [],
   "source": [
    "# Drop unnecessary columns: DATAFLOW / LAST UPDATE / freq / unit / CONF_STATUS\n",
    "internet_activities2 = internet_activities2.drop(columns = ['DATAFLOW', 'LAST UPDATE', 'freq', 'unit', 'CONF_STATUS'])"
   ]
  },
  {
   "cell_type": "code",
   "execution_count": 90,
   "id": "5b1b8117-2237-4fec-9f68-f59933012146",
   "metadata": {},
   "outputs": [],
   "source": [
    "# Drop unnecessary columns: DATAFLOW / LAST UPDATE / freq / unit / CONF_STATUS\n",
    "internet_activities3 = internet_activities3.drop(columns = ['DATAFLOW', 'LAST UPDATE', 'freq', 'unit', 'CONF_STATUS'])"
   ]
  },
  {
   "cell_type": "code",
   "execution_count": 91,
   "id": "286143b8-000d-4313-b517-158a1d58d549",
   "metadata": {},
   "outputs": [
    {
     "data": {
      "text/html": [
       "<div>\n",
       "<style scoped>\n",
       "    .dataframe tbody tr th:only-of-type {\n",
       "        vertical-align: middle;\n",
       "    }\n",
       "\n",
       "    .dataframe tbody tr th {\n",
       "        vertical-align: top;\n",
       "    }\n",
       "\n",
       "    .dataframe thead th {\n",
       "        text-align: right;\n",
       "    }\n",
       "</style>\n",
       "<table border=\"1\" class=\"dataframe\">\n",
       "  <thead>\n",
       "    <tr style=\"text-align: right;\">\n",
       "      <th></th>\n",
       "      <th>indic_is</th>\n",
       "      <th>ind_type</th>\n",
       "      <th>geo</th>\n",
       "      <th>TIME_PERIOD</th>\n",
       "      <th>OBS_VALUE</th>\n",
       "      <th>OBS_FLAG</th>\n",
       "    </tr>\n",
       "  </thead>\n",
       "  <tbody>\n",
       "    <tr>\n",
       "      <th>0</th>\n",
       "      <td>Internet use: Internet banking</td>\n",
       "      <td>Females with low formal education</td>\n",
       "      <td>Austria</td>\n",
       "      <td>2004</td>\n",
       "      <td>3.94</td>\n",
       "      <td>NaN</td>\n",
       "    </tr>\n",
       "    <tr>\n",
       "      <th>1</th>\n",
       "      <td>Internet use: Internet banking</td>\n",
       "      <td>Females with low formal education</td>\n",
       "      <td>Austria</td>\n",
       "      <td>2005</td>\n",
       "      <td>4.71</td>\n",
       "      <td>NaN</td>\n",
       "    </tr>\n",
       "    <tr>\n",
       "      <th>2</th>\n",
       "      <td>Internet use: Internet banking</td>\n",
       "      <td>Females with low formal education</td>\n",
       "      <td>Austria</td>\n",
       "      <td>2006</td>\n",
       "      <td>5.29</td>\n",
       "      <td>NaN</td>\n",
       "    </tr>\n",
       "    <tr>\n",
       "      <th>3</th>\n",
       "      <td>Internet use: Internet banking</td>\n",
       "      <td>Females with low formal education</td>\n",
       "      <td>Austria</td>\n",
       "      <td>2007</td>\n",
       "      <td>NaN</td>\n",
       "      <td>u</td>\n",
       "    </tr>\n",
       "    <tr>\n",
       "      <th>4</th>\n",
       "      <td>Internet use: Internet banking</td>\n",
       "      <td>Females with low formal education</td>\n",
       "      <td>Austria</td>\n",
       "      <td>2008</td>\n",
       "      <td>7.94</td>\n",
       "      <td>NaN</td>\n",
       "    </tr>\n",
       "  </tbody>\n",
       "</table>\n",
       "</div>"
      ],
      "text/plain": [
       "                         indic_is                           ind_type      geo  \\\n",
       "0  Internet use: Internet banking  Females with low formal education  Austria   \n",
       "1  Internet use: Internet banking  Females with low formal education  Austria   \n",
       "2  Internet use: Internet banking  Females with low formal education  Austria   \n",
       "3  Internet use: Internet banking  Females with low formal education  Austria   \n",
       "4  Internet use: Internet banking  Females with low formal education  Austria   \n",
       "\n",
       "   TIME_PERIOD  OBS_VALUE OBS_FLAG  \n",
       "0         2004       3.94      NaN  \n",
       "1         2005       4.71      NaN  \n",
       "2         2006       5.29      NaN  \n",
       "3         2007        NaN        u  \n",
       "4         2008       7.94      NaN  "
      ]
     },
     "execution_count": 91,
     "metadata": {},
     "output_type": "execute_result"
    }
   ],
   "source": [
    "# checking dataframe\n",
    "internet_activities.head()"
   ]
  },
  {
   "cell_type": "code",
   "execution_count": 92,
   "id": "83aa5285-03ab-425c-a153-fe50eaf8c513",
   "metadata": {},
   "outputs": [
    {
     "data": {
      "text/html": [
       "<div>\n",
       "<style scoped>\n",
       "    .dataframe tbody tr th:only-of-type {\n",
       "        vertical-align: middle;\n",
       "    }\n",
       "\n",
       "    .dataframe tbody tr th {\n",
       "        vertical-align: top;\n",
       "    }\n",
       "\n",
       "    .dataframe thead th {\n",
       "        text-align: right;\n",
       "    }\n",
       "</style>\n",
       "<table border=\"1\" class=\"dataframe\">\n",
       "  <thead>\n",
       "    <tr style=\"text-align: right;\">\n",
       "      <th></th>\n",
       "      <th>indic_is</th>\n",
       "      <th>ind_type</th>\n",
       "      <th>geo</th>\n",
       "      <th>TIME_PERIOD</th>\n",
       "      <th>OBS_VALUE</th>\n",
       "      <th>OBS_FLAG</th>\n",
       "    </tr>\n",
       "  </thead>\n",
       "  <tbody>\n",
       "    <tr>\n",
       "      <th>0</th>\n",
       "      <td>Internet use: Internet banking</td>\n",
       "      <td>Employees working full time</td>\n",
       "      <td>Albania</td>\n",
       "      <td>2018</td>\n",
       "      <td>2.83</td>\n",
       "      <td>NaN</td>\n",
       "    </tr>\n",
       "    <tr>\n",
       "      <th>1</th>\n",
       "      <td>Internet use: Internet banking</td>\n",
       "      <td>Employees working full time</td>\n",
       "      <td>Albania</td>\n",
       "      <td>2019</td>\n",
       "      <td>2.72</td>\n",
       "      <td>NaN</td>\n",
       "    </tr>\n",
       "    <tr>\n",
       "      <th>2</th>\n",
       "      <td>Internet use: Internet banking</td>\n",
       "      <td>Employees working full time</td>\n",
       "      <td>Austria</td>\n",
       "      <td>2017</td>\n",
       "      <td>69.41</td>\n",
       "      <td>NaN</td>\n",
       "    </tr>\n",
       "    <tr>\n",
       "      <th>3</th>\n",
       "      <td>Internet use: Internet banking</td>\n",
       "      <td>Employees working full time</td>\n",
       "      <td>Austria</td>\n",
       "      <td>2018</td>\n",
       "      <td>69.62</td>\n",
       "      <td>NaN</td>\n",
       "    </tr>\n",
       "    <tr>\n",
       "      <th>4</th>\n",
       "      <td>Internet use: Internet banking</td>\n",
       "      <td>Employees working full time</td>\n",
       "      <td>Austria</td>\n",
       "      <td>2019</td>\n",
       "      <td>73.70</td>\n",
       "      <td>NaN</td>\n",
       "    </tr>\n",
       "  </tbody>\n",
       "</table>\n",
       "</div>"
      ],
      "text/plain": [
       "                         indic_is                     ind_type      geo  \\\n",
       "0  Internet use: Internet banking  Employees working full time  Albania   \n",
       "1  Internet use: Internet banking  Employees working full time  Albania   \n",
       "2  Internet use: Internet banking  Employees working full time  Austria   \n",
       "3  Internet use: Internet banking  Employees working full time  Austria   \n",
       "4  Internet use: Internet banking  Employees working full time  Austria   \n",
       "\n",
       "   TIME_PERIOD  OBS_VALUE OBS_FLAG  \n",
       "0         2018       2.83      NaN  \n",
       "1         2019       2.72      NaN  \n",
       "2         2017      69.41      NaN  \n",
       "3         2018      69.62      NaN  \n",
       "4         2019      73.70      NaN  "
      ]
     },
     "execution_count": 92,
     "metadata": {},
     "output_type": "execute_result"
    }
   ],
   "source": [
    "# checking dataframe\n",
    "internet_activities2.head()"
   ]
  },
  {
   "cell_type": "code",
   "execution_count": 93,
   "id": "4acd3635-1285-46e6-9354-2bbe9ad8acee",
   "metadata": {},
   "outputs": [
    {
     "data": {
      "text/html": [
       "<div>\n",
       "<style scoped>\n",
       "    .dataframe tbody tr th:only-of-type {\n",
       "        vertical-align: middle;\n",
       "    }\n",
       "\n",
       "    .dataframe tbody tr th {\n",
       "        vertical-align: top;\n",
       "    }\n",
       "\n",
       "    .dataframe thead th {\n",
       "        text-align: right;\n",
       "    }\n",
       "</style>\n",
       "<table border=\"1\" class=\"dataframe\">\n",
       "  <thead>\n",
       "    <tr style=\"text-align: right;\">\n",
       "      <th></th>\n",
       "      <th>indic_is</th>\n",
       "      <th>ind_type</th>\n",
       "      <th>geo</th>\n",
       "      <th>TIME_PERIOD</th>\n",
       "      <th>OBS_VALUE</th>\n",
       "      <th>OBS_FLAG</th>\n",
       "    </tr>\n",
       "  </thead>\n",
       "  <tbody>\n",
       "    <tr>\n",
       "      <th>0</th>\n",
       "      <td>Internet use: accessing personal health record...</td>\n",
       "      <td>Persons aged 16-74 working in agriculture, for...</td>\n",
       "      <td>Austria</td>\n",
       "      <td>2022</td>\n",
       "      <td>12.47</td>\n",
       "      <td>NaN</td>\n",
       "    </tr>\n",
       "    <tr>\n",
       "      <th>1</th>\n",
       "      <td>Internet use: accessing personal health record...</td>\n",
       "      <td>Persons aged 16-74 working in agriculture, for...</td>\n",
       "      <td>Austria</td>\n",
       "      <td>2024</td>\n",
       "      <td>9.03</td>\n",
       "      <td>NaN</td>\n",
       "    </tr>\n",
       "    <tr>\n",
       "      <th>2</th>\n",
       "      <td>Internet use: accessing personal health record...</td>\n",
       "      <td>Persons aged 16-74 working in agriculture, for...</td>\n",
       "      <td>Belgium</td>\n",
       "      <td>2022</td>\n",
       "      <td>14.77</td>\n",
       "      <td>u</td>\n",
       "    </tr>\n",
       "    <tr>\n",
       "      <th>3</th>\n",
       "      <td>Internet use: accessing personal health record...</td>\n",
       "      <td>Persons aged 16-74 working in agriculture, for...</td>\n",
       "      <td>Belgium</td>\n",
       "      <td>2024</td>\n",
       "      <td>46.79</td>\n",
       "      <td>u</td>\n",
       "    </tr>\n",
       "    <tr>\n",
       "      <th>4</th>\n",
       "      <td>Internet use: accessing personal health record...</td>\n",
       "      <td>Persons aged 16-74 working in agriculture, for...</td>\n",
       "      <td>Bulgaria</td>\n",
       "      <td>2022</td>\n",
       "      <td>10.92</td>\n",
       "      <td>NaN</td>\n",
       "    </tr>\n",
       "  </tbody>\n",
       "</table>\n",
       "</div>"
      ],
      "text/plain": [
       "                                            indic_is  \\\n",
       "0  Internet use: accessing personal health record...   \n",
       "1  Internet use: accessing personal health record...   \n",
       "2  Internet use: accessing personal health record...   \n",
       "3  Internet use: accessing personal health record...   \n",
       "4  Internet use: accessing personal health record...   \n",
       "\n",
       "                                            ind_type       geo  TIME_PERIOD  \\\n",
       "0  Persons aged 16-74 working in agriculture, for...   Austria         2022   \n",
       "1  Persons aged 16-74 working in agriculture, for...   Austria         2024   \n",
       "2  Persons aged 16-74 working in agriculture, for...   Belgium         2022   \n",
       "3  Persons aged 16-74 working in agriculture, for...   Belgium         2024   \n",
       "4  Persons aged 16-74 working in agriculture, for...  Bulgaria         2022   \n",
       "\n",
       "   OBS_VALUE OBS_FLAG  \n",
       "0      12.47      NaN  \n",
       "1       9.03      NaN  \n",
       "2      14.77        u  \n",
       "3      46.79        u  \n",
       "4      10.92      NaN  "
      ]
     },
     "execution_count": 93,
     "metadata": {},
     "output_type": "execute_result"
    }
   ],
   "source": [
    "# checking dataframe\n",
    "internet_activities3.head()"
   ]
  },
  {
   "cell_type": "markdown",
   "id": "557a3985-6a7b-42ca-a3a9-078c068f08fd",
   "metadata": {},
   "source": [
    "## 03.4 Renaming Columns"
   ]
  },
  {
   "cell_type": "code",
   "execution_count": 94,
   "id": "5d067746-0bd4-47d5-b348-6b290ae084d6",
   "metadata": {},
   "outputs": [],
   "source": [
    "# Renaming columns for better understanding and same format\n",
    "internet_activities.rename(columns = {\n",
    "    'indic_is' : 'internet_activities',\n",
    "    'ind_type' : 'demographic_group',\n",
    "    'geo' : 'country',\n",
    "    'TIME_PERIOD' : 'year',\n",
    "    'OBS_VALUE' : 'internet_activities_rate',\n",
    "    'OBS_FLAG' : 'activities_data_flag'\n",
    "}, inplace = True)"
   ]
  },
  {
   "cell_type": "code",
   "execution_count": 95,
   "id": "eccf90e5-b3fa-4982-8829-65d6c2072ffc",
   "metadata": {},
   "outputs": [
    {
     "data": {
      "text/html": [
       "<div>\n",
       "<style scoped>\n",
       "    .dataframe tbody tr th:only-of-type {\n",
       "        vertical-align: middle;\n",
       "    }\n",
       "\n",
       "    .dataframe tbody tr th {\n",
       "        vertical-align: top;\n",
       "    }\n",
       "\n",
       "    .dataframe thead th {\n",
       "        text-align: right;\n",
       "    }\n",
       "</style>\n",
       "<table border=\"1\" class=\"dataframe\">\n",
       "  <thead>\n",
       "    <tr style=\"text-align: right;\">\n",
       "      <th></th>\n",
       "      <th>internet_activities</th>\n",
       "      <th>demographic_group</th>\n",
       "      <th>country</th>\n",
       "      <th>year</th>\n",
       "      <th>internet_activities_rate</th>\n",
       "      <th>activities_data_flag</th>\n",
       "    </tr>\n",
       "  </thead>\n",
       "  <tbody>\n",
       "    <tr>\n",
       "      <th>0</th>\n",
       "      <td>Internet use: Internet banking</td>\n",
       "      <td>Females with low formal education</td>\n",
       "      <td>Austria</td>\n",
       "      <td>2004</td>\n",
       "      <td>3.94</td>\n",
       "      <td>NaN</td>\n",
       "    </tr>\n",
       "    <tr>\n",
       "      <th>1</th>\n",
       "      <td>Internet use: Internet banking</td>\n",
       "      <td>Females with low formal education</td>\n",
       "      <td>Austria</td>\n",
       "      <td>2005</td>\n",
       "      <td>4.71</td>\n",
       "      <td>NaN</td>\n",
       "    </tr>\n",
       "    <tr>\n",
       "      <th>2</th>\n",
       "      <td>Internet use: Internet banking</td>\n",
       "      <td>Females with low formal education</td>\n",
       "      <td>Austria</td>\n",
       "      <td>2006</td>\n",
       "      <td>5.29</td>\n",
       "      <td>NaN</td>\n",
       "    </tr>\n",
       "    <tr>\n",
       "      <th>3</th>\n",
       "      <td>Internet use: Internet banking</td>\n",
       "      <td>Females with low formal education</td>\n",
       "      <td>Austria</td>\n",
       "      <td>2007</td>\n",
       "      <td>NaN</td>\n",
       "      <td>u</td>\n",
       "    </tr>\n",
       "    <tr>\n",
       "      <th>4</th>\n",
       "      <td>Internet use: Internet banking</td>\n",
       "      <td>Females with low formal education</td>\n",
       "      <td>Austria</td>\n",
       "      <td>2008</td>\n",
       "      <td>7.94</td>\n",
       "      <td>NaN</td>\n",
       "    </tr>\n",
       "  </tbody>\n",
       "</table>\n",
       "</div>"
      ],
      "text/plain": [
       "              internet_activities                  demographic_group  country  \\\n",
       "0  Internet use: Internet banking  Females with low formal education  Austria   \n",
       "1  Internet use: Internet banking  Females with low formal education  Austria   \n",
       "2  Internet use: Internet banking  Females with low formal education  Austria   \n",
       "3  Internet use: Internet banking  Females with low formal education  Austria   \n",
       "4  Internet use: Internet banking  Females with low formal education  Austria   \n",
       "\n",
       "   year  internet_activities_rate activities_data_flag  \n",
       "0  2004                      3.94                  NaN  \n",
       "1  2005                      4.71                  NaN  \n",
       "2  2006                      5.29                  NaN  \n",
       "3  2007                       NaN                    u  \n",
       "4  2008                      7.94                  NaN  "
      ]
     },
     "execution_count": 95,
     "metadata": {},
     "output_type": "execute_result"
    }
   ],
   "source": [
    "internet_activities.head()"
   ]
  },
  {
   "cell_type": "code",
   "execution_count": 96,
   "id": "8b036f92-4dc2-41ab-9115-a91c96b7a4bd",
   "metadata": {},
   "outputs": [],
   "source": [
    "# Renaming columns for better understanding and same format\n",
    "internet_activities2.rename(columns = {\n",
    "    'indic_is' : 'internet_activities',\n",
    "    'ind_type' : 'demographic_group',\n",
    "    'geo' : 'country',\n",
    "    'TIME_PERIOD' : 'year',\n",
    "    'OBS_VALUE' : 'internet_activities_rate',\n",
    "    'OBS_FLAG' : 'activities_data_flag'\n",
    "}, inplace = True)"
   ]
  },
  {
   "cell_type": "code",
   "execution_count": 97,
   "id": "3be4aeef-d042-4cd3-8997-2136d094861a",
   "metadata": {},
   "outputs": [
    {
     "data": {
      "text/html": [
       "<div>\n",
       "<style scoped>\n",
       "    .dataframe tbody tr th:only-of-type {\n",
       "        vertical-align: middle;\n",
       "    }\n",
       "\n",
       "    .dataframe tbody tr th {\n",
       "        vertical-align: top;\n",
       "    }\n",
       "\n",
       "    .dataframe thead th {\n",
       "        text-align: right;\n",
       "    }\n",
       "</style>\n",
       "<table border=\"1\" class=\"dataframe\">\n",
       "  <thead>\n",
       "    <tr style=\"text-align: right;\">\n",
       "      <th></th>\n",
       "      <th>internet_activities</th>\n",
       "      <th>demographic_group</th>\n",
       "      <th>country</th>\n",
       "      <th>year</th>\n",
       "      <th>internet_activities_rate</th>\n",
       "      <th>activities_data_flag</th>\n",
       "    </tr>\n",
       "  </thead>\n",
       "  <tbody>\n",
       "    <tr>\n",
       "      <th>0</th>\n",
       "      <td>Internet use: Internet banking</td>\n",
       "      <td>Employees working full time</td>\n",
       "      <td>Albania</td>\n",
       "      <td>2018</td>\n",
       "      <td>2.83</td>\n",
       "      <td>NaN</td>\n",
       "    </tr>\n",
       "    <tr>\n",
       "      <th>1</th>\n",
       "      <td>Internet use: Internet banking</td>\n",
       "      <td>Employees working full time</td>\n",
       "      <td>Albania</td>\n",
       "      <td>2019</td>\n",
       "      <td>2.72</td>\n",
       "      <td>NaN</td>\n",
       "    </tr>\n",
       "    <tr>\n",
       "      <th>2</th>\n",
       "      <td>Internet use: Internet banking</td>\n",
       "      <td>Employees working full time</td>\n",
       "      <td>Austria</td>\n",
       "      <td>2017</td>\n",
       "      <td>69.41</td>\n",
       "      <td>NaN</td>\n",
       "    </tr>\n",
       "    <tr>\n",
       "      <th>3</th>\n",
       "      <td>Internet use: Internet banking</td>\n",
       "      <td>Employees working full time</td>\n",
       "      <td>Austria</td>\n",
       "      <td>2018</td>\n",
       "      <td>69.62</td>\n",
       "      <td>NaN</td>\n",
       "    </tr>\n",
       "    <tr>\n",
       "      <th>4</th>\n",
       "      <td>Internet use: Internet banking</td>\n",
       "      <td>Employees working full time</td>\n",
       "      <td>Austria</td>\n",
       "      <td>2019</td>\n",
       "      <td>73.70</td>\n",
       "      <td>NaN</td>\n",
       "    </tr>\n",
       "  </tbody>\n",
       "</table>\n",
       "</div>"
      ],
      "text/plain": [
       "              internet_activities            demographic_group  country  year  \\\n",
       "0  Internet use: Internet banking  Employees working full time  Albania  2018   \n",
       "1  Internet use: Internet banking  Employees working full time  Albania  2019   \n",
       "2  Internet use: Internet banking  Employees working full time  Austria  2017   \n",
       "3  Internet use: Internet banking  Employees working full time  Austria  2018   \n",
       "4  Internet use: Internet banking  Employees working full time  Austria  2019   \n",
       "\n",
       "   internet_activities_rate activities_data_flag  \n",
       "0                      2.83                  NaN  \n",
       "1                      2.72                  NaN  \n",
       "2                     69.41                  NaN  \n",
       "3                     69.62                  NaN  \n",
       "4                     73.70                  NaN  "
      ]
     },
     "execution_count": 97,
     "metadata": {},
     "output_type": "execute_result"
    }
   ],
   "source": [
    "internet_activities2.head()"
   ]
  },
  {
   "cell_type": "code",
   "execution_count": 98,
   "id": "05698602-41a6-4871-ae29-fc250077af91",
   "metadata": {},
   "outputs": [],
   "source": [
    "# Renaming columns for better understanding and same format\n",
    "internet_activities3.rename(columns = {\n",
    "    'indic_is' : 'internet_activities',\n",
    "    'ind_type' : 'demographic_group',\n",
    "    'geo' : 'country',\n",
    "    'TIME_PERIOD' : 'year',\n",
    "    'OBS_VALUE' : 'internet_activities_rate',\n",
    "    'OBS_FLAG' : 'activities_data_flag'\n",
    "}, inplace = True)"
   ]
  },
  {
   "cell_type": "code",
   "execution_count": 99,
   "id": "62d1b754-3edd-4082-8af6-c24cc351fcf4",
   "metadata": {},
   "outputs": [
    {
     "data": {
      "text/html": [
       "<div>\n",
       "<style scoped>\n",
       "    .dataframe tbody tr th:only-of-type {\n",
       "        vertical-align: middle;\n",
       "    }\n",
       "\n",
       "    .dataframe tbody tr th {\n",
       "        vertical-align: top;\n",
       "    }\n",
       "\n",
       "    .dataframe thead th {\n",
       "        text-align: right;\n",
       "    }\n",
       "</style>\n",
       "<table border=\"1\" class=\"dataframe\">\n",
       "  <thead>\n",
       "    <tr style=\"text-align: right;\">\n",
       "      <th></th>\n",
       "      <th>internet_activities</th>\n",
       "      <th>demographic_group</th>\n",
       "      <th>country</th>\n",
       "      <th>year</th>\n",
       "      <th>internet_activities_rate</th>\n",
       "      <th>activities_data_flag</th>\n",
       "    </tr>\n",
       "  </thead>\n",
       "  <tbody>\n",
       "    <tr>\n",
       "      <th>0</th>\n",
       "      <td>Internet use: accessing personal health record...</td>\n",
       "      <td>Persons aged 16-74 working in agriculture, for...</td>\n",
       "      <td>Austria</td>\n",
       "      <td>2022</td>\n",
       "      <td>12.47</td>\n",
       "      <td>NaN</td>\n",
       "    </tr>\n",
       "    <tr>\n",
       "      <th>1</th>\n",
       "      <td>Internet use: accessing personal health record...</td>\n",
       "      <td>Persons aged 16-74 working in agriculture, for...</td>\n",
       "      <td>Austria</td>\n",
       "      <td>2024</td>\n",
       "      <td>9.03</td>\n",
       "      <td>NaN</td>\n",
       "    </tr>\n",
       "    <tr>\n",
       "      <th>2</th>\n",
       "      <td>Internet use: accessing personal health record...</td>\n",
       "      <td>Persons aged 16-74 working in agriculture, for...</td>\n",
       "      <td>Belgium</td>\n",
       "      <td>2022</td>\n",
       "      <td>14.77</td>\n",
       "      <td>u</td>\n",
       "    </tr>\n",
       "    <tr>\n",
       "      <th>3</th>\n",
       "      <td>Internet use: accessing personal health record...</td>\n",
       "      <td>Persons aged 16-74 working in agriculture, for...</td>\n",
       "      <td>Belgium</td>\n",
       "      <td>2024</td>\n",
       "      <td>46.79</td>\n",
       "      <td>u</td>\n",
       "    </tr>\n",
       "    <tr>\n",
       "      <th>4</th>\n",
       "      <td>Internet use: accessing personal health record...</td>\n",
       "      <td>Persons aged 16-74 working in agriculture, for...</td>\n",
       "      <td>Bulgaria</td>\n",
       "      <td>2022</td>\n",
       "      <td>10.92</td>\n",
       "      <td>NaN</td>\n",
       "    </tr>\n",
       "  </tbody>\n",
       "</table>\n",
       "</div>"
      ],
      "text/plain": [
       "                                 internet_activities  \\\n",
       "0  Internet use: accessing personal health record...   \n",
       "1  Internet use: accessing personal health record...   \n",
       "2  Internet use: accessing personal health record...   \n",
       "3  Internet use: accessing personal health record...   \n",
       "4  Internet use: accessing personal health record...   \n",
       "\n",
       "                                   demographic_group   country  year  \\\n",
       "0  Persons aged 16-74 working in agriculture, for...   Austria  2022   \n",
       "1  Persons aged 16-74 working in agriculture, for...   Austria  2024   \n",
       "2  Persons aged 16-74 working in agriculture, for...   Belgium  2022   \n",
       "3  Persons aged 16-74 working in agriculture, for...   Belgium  2024   \n",
       "4  Persons aged 16-74 working in agriculture, for...  Bulgaria  2022   \n",
       "\n",
       "   internet_activities_rate activities_data_flag  \n",
       "0                     12.47                  NaN  \n",
       "1                      9.03                  NaN  \n",
       "2                     14.77                    u  \n",
       "3                     46.79                    u  \n",
       "4                     10.92                  NaN  "
      ]
     },
     "execution_count": 99,
     "metadata": {},
     "output_type": "execute_result"
    }
   ],
   "source": [
    "internet_activities3.head()"
   ]
  },
  {
   "cell_type": "markdown",
   "id": "a89c2d85-f43a-4305-bdf3-546a23b5effa",
   "metadata": {},
   "source": [
    "## 03.5 Removing Prefixes"
   ]
  },
  {
   "cell_type": "code",
   "execution_count": 100,
   "id": "4b89feac-d299-4d4b-a843-b7e0a053e3c9",
   "metadata": {},
   "outputs": [
    {
     "data": {
      "text/plain": [
       "internet_activities\n",
       "Internet use: finding information about goods and services                   5166\n",
       "Internet use: sending/receiving e-mails                                      5165\n",
       "Internet use: Internet banking                                               5133\n",
       "Internet use: reading/downloading online newspapers/news                     5086\n",
       "Internet use: travel and accommodation services                              5085\n",
       "Internet use: listening to web radios and/or watching web TV                 5041\n",
       "Internet use: job search or sending an application                           4861\n",
       "Internet use: selling goods or services                                      4807\n",
       "Internet use: playing/downloading games, images, films or music              4223\n",
       "Internet use: downloading software                                           4217\n",
       "Internet use: doing an online course (of any subject)                        2782\n",
       "Internet use: telephoning or video calls                                     1938\n",
       "Internet use: uploading self-created content to any website to be shared     1938\n",
       "Internet use: posting messages to social media sites or instant messaging    1029\n",
       "Name: count, dtype: int64"
      ]
     },
     "execution_count": 100,
     "metadata": {},
     "output_type": "execute_result"
    }
   ],
   "source": [
    "# Checking for variables in internet_activitiies to see if all have the same prefix - Internet use - \n",
    "internet_activities['internet_activities'].value_counts(dropna = False)"
   ]
  },
  {
   "cell_type": "code",
   "execution_count": 101,
   "id": "65a3bfda-935b-4802-a908-e62f49033a8e",
   "metadata": {},
   "outputs": [
    {
     "data": {
      "text/plain": [
       "internet_activities\n",
       "Internet use: Internet banking                                                                                                                   12784\n",
       "Internet use: telephoning or video calls                                                                                                         12784\n",
       "Internet use: finding information about goods and services                                                                                       12781\n",
       "Internet use: selling goods or services                                                                                                          12732\n",
       "Internet use: sending/receiving e-mails                                                                                                          11867\n",
       "Internet use: participating in social networks (creating user profile, posting messages or other contributions to facebook, twitter, etc.)       10812\n",
       "Internet use: travel and accommodation services                                                                                                   9033\n",
       "Internet use: uploading self-created content to any website to be shared                                                                          8740\n",
       "Internet use: doing an online course (of any subject)                                                                                             8539\n",
       "Internet use: job search or sending an application                                                                                                7758\n",
       "Internet use: civic or political participation                                                                                                    5779\n",
       "Internet use: communicating with instructors or students using educational websites/portals                                                       5335\n",
       "Internet use: making an appointment with a practitioner via a website                                                                             5055\n",
       "Internet use: participating in professional networks (creating user profile, posting messages or other contributions to LinkedIn, Xing, etc.)     4810\n",
       "Internet use: downloading software                                                                                                                4125\n",
       "Internet use: creating websites or blogs                                                                                                          3230\n",
       "Internet use: consulting wikis (to obtain knowledge on any subject)                                                                               3164\n",
       "Internet use: playing/downloading games, images, films or music                                                                                   3069\n",
       "Internet use: watching internet streamed TV or videos                                                                                             2949\n",
       "Internet use: reading/downloading online newspapers/news                                                                                          2947\n",
       "Internet use: posting messages to social media sites or instant messaging                                                                         2001\n",
       "Internet use: listening to web radios and/or watching web TV                                                                                      2001\n",
       "Internet use: managing a payment account to (potentially) pay for goods or services purchased over the internet                                   1124\n",
       "Name: count, dtype: int64"
      ]
     },
     "execution_count": 101,
     "metadata": {},
     "output_type": "execute_result"
    }
   ],
   "source": [
    "# Checking for variables in internet_activitiies to see if all have the same prefix - Internet use - \n",
    "internet_activities2['internet_activities'].value_counts(dropna = False)"
   ]
  },
  {
   "cell_type": "code",
   "execution_count": 102,
   "id": "21bbd447-d964-4086-8dcc-bbe005e96411",
   "metadata": {},
   "outputs": [
    {
     "data": {
      "text/plain": [
       "internet_activities\n",
       "Internet use: Internet banking                                                                                                                10003\n",
       "Internet use: sending/receiving e-mails                                                                                                       10003\n",
       "Internet use: finding information about goods and services                                                                                    10003\n",
       "Internet use: doing an online course (of any subject)                                                                                         10003\n",
       "Internet use: telephoning or video calls                                                                                                      10003\n",
       "Internet use: selling goods or services                                                                                                       10003\n",
       "Internet use: participating in social networks (creating user profile, posting messages or other contributions to facebook, twitter, etc.)     9958\n",
       "Internet use: civic or political participation                                                                                                 8219\n",
       "Internet use: making an appointment with a practitioner via a website                                                                          5772\n",
       "Internet use: watching internet streamed TV or videos                                                                                          5772\n",
       "Internet use: accessing personal health records online                                                                                         5643\n",
       "Internet use: job search or sending an application                                                                                             4231\n",
       "Internet use: communicating with instructors or students using educational websites/portals                                                    1660\n",
       "Internet use: sharing or publishing self-created videos, photos, music, texts, etc on a website or via an app                                  1619\n",
       "Name: count, dtype: int64"
      ]
     },
     "execution_count": 102,
     "metadata": {},
     "output_type": "execute_result"
    }
   ],
   "source": [
    "# Checking for variables in internet_activitiies to see if all have the same prefix - Internet use - \n",
    "internet_activities3['internet_activities'].value_counts(dropna = False)"
   ]
  },
  {
   "cell_type": "code",
   "execution_count": 103,
   "id": "7e037704-317d-4850-813c-ccbf1d0ba3cd",
   "metadata": {},
   "outputs": [],
   "source": [
    "# Removing prefix \n",
    "internet_activities['internet_activities'] = internet_activities['internet_activities'].str.replace('Internet use: ', '')"
   ]
  },
  {
   "cell_type": "code",
   "execution_count": 104,
   "id": "2af2a2d0-cfd7-459b-8747-4a42914666dd",
   "metadata": {},
   "outputs": [
    {
     "data": {
      "text/plain": [
       "internet_activities\n",
       "finding information about goods and services                   5166\n",
       "sending/receiving e-mails                                      5165\n",
       "Internet banking                                               5133\n",
       "reading/downloading online newspapers/news                     5086\n",
       "travel and accommodation services                              5085\n",
       "listening to web radios and/or watching web TV                 5041\n",
       "job search or sending an application                           4861\n",
       "selling goods or services                                      4807\n",
       "playing/downloading games, images, films or music              4223\n",
       "downloading software                                           4217\n",
       "doing an online course (of any subject)                        2782\n",
       "telephoning or video calls                                     1938\n",
       "uploading self-created content to any website to be shared     1938\n",
       "posting messages to social media sites or instant messaging    1029\n",
       "Name: count, dtype: int64"
      ]
     },
     "execution_count": 104,
     "metadata": {},
     "output_type": "execute_result"
    }
   ],
   "source": [
    "internet_activities['internet_activities'].value_counts(dropna = False)"
   ]
  },
  {
   "cell_type": "code",
   "execution_count": 105,
   "id": "fa6b1006-62b5-4eb3-bfb5-2fb909128956",
   "metadata": {},
   "outputs": [],
   "source": [
    "# Removing prefix in second dataframe\n",
    "internet_activities2['internet_activities'] = internet_activities2['internet_activities'].str.replace('Internet use: ', '')"
   ]
  },
  {
   "cell_type": "code",
   "execution_count": 106,
   "id": "7b50cc4b-d34a-428e-b429-9d0668391425",
   "metadata": {},
   "outputs": [
    {
     "data": {
      "text/plain": [
       "internet_activities\n",
       "Internet banking                                                                                                                   12784\n",
       "telephoning or video calls                                                                                                         12784\n",
       "finding information about goods and services                                                                                       12781\n",
       "selling goods or services                                                                                                          12732\n",
       "sending/receiving e-mails                                                                                                          11867\n",
       "participating in social networks (creating user profile, posting messages or other contributions to facebook, twitter, etc.)       10812\n",
       "travel and accommodation services                                                                                                   9033\n",
       "uploading self-created content to any website to be shared                                                                          8740\n",
       "doing an online course (of any subject)                                                                                             8539\n",
       "job search or sending an application                                                                                                7758\n",
       "civic or political participation                                                                                                    5779\n",
       "communicating with instructors or students using educational websites/portals                                                       5335\n",
       "making an appointment with a practitioner via a website                                                                             5055\n",
       "participating in professional networks (creating user profile, posting messages or other contributions to LinkedIn, Xing, etc.)     4810\n",
       "downloading software                                                                                                                4125\n",
       "creating websites or blogs                                                                                                          3230\n",
       "consulting wikis (to obtain knowledge on any subject)                                                                               3164\n",
       "playing/downloading games, images, films or music                                                                                   3069\n",
       "watching internet streamed TV or videos                                                                                             2949\n",
       "reading/downloading online newspapers/news                                                                                          2947\n",
       "posting messages to social media sites or instant messaging                                                                         2001\n",
       "listening to web radios and/or watching web TV                                                                                      2001\n",
       "managing a payment account to (potentially) pay for goods or services purchased over the internet                                   1124\n",
       "Name: count, dtype: int64"
      ]
     },
     "execution_count": 106,
     "metadata": {},
     "output_type": "execute_result"
    }
   ],
   "source": [
    "internet_activities2['internet_activities'].value_counts(dropna = False)"
   ]
  },
  {
   "cell_type": "code",
   "execution_count": 107,
   "id": "90d3683c-8791-4903-b4f0-38be8c9c2de6",
   "metadata": {},
   "outputs": [],
   "source": [
    "# Removing prefix in second dataframe\n",
    "internet_activities3['internet_activities'] = internet_activities3['internet_activities'].str.replace('Internet use: ', '')"
   ]
  },
  {
   "cell_type": "code",
   "execution_count": 108,
   "id": "bf898821-0b6c-4378-9a75-7032f3b099cc",
   "metadata": {},
   "outputs": [
    {
     "data": {
      "text/plain": [
       "internet_activities\n",
       "Internet banking                                                                                                                10003\n",
       "sending/receiving e-mails                                                                                                       10003\n",
       "finding information about goods and services                                                                                    10003\n",
       "doing an online course (of any subject)                                                                                         10003\n",
       "telephoning or video calls                                                                                                      10003\n",
       "selling goods or services                                                                                                       10003\n",
       "participating in social networks (creating user profile, posting messages or other contributions to facebook, twitter, etc.)     9958\n",
       "civic or political participation                                                                                                 8219\n",
       "making an appointment with a practitioner via a website                                                                          5772\n",
       "watching internet streamed TV or videos                                                                                          5772\n",
       "accessing personal health records online                                                                                         5643\n",
       "job search or sending an application                                                                                             4231\n",
       "communicating with instructors or students using educational websites/portals                                                    1660\n",
       "sharing or publishing self-created videos, photos, music, texts, etc on a website or via an app                                  1619\n",
       "Name: count, dtype: int64"
      ]
     },
     "execution_count": 108,
     "metadata": {},
     "output_type": "execute_result"
    }
   ],
   "source": [
    "internet_activities3['internet_activities'].value_counts(dropna = False)"
   ]
  },
  {
   "cell_type": "markdown",
   "id": "24d31e54-396f-4edf-a7a2-e83bea01676b",
   "metadata": {},
   "source": [
    "## 03.6 Mixed Datatypes"
   ]
  },
  {
   "cell_type": "code",
   "execution_count": 109,
   "id": "02abc651-4ed2-4309-9aaa-91cccc81f971",
   "metadata": {},
   "outputs": [
    {
     "name": "stdout",
     "output_type": "stream",
     "text": [
      "activities_data_flag\n"
     ]
    },
    {
     "name": "stderr",
     "output_type": "stream",
     "text": [
      "C:\\Users\\adrig\\AppData\\Local\\Temp\\ipykernel_35692\\1415708128.py:3: FutureWarning: DataFrame.applymap has been deprecated. Use DataFrame.map instead.\n",
      "  weird = (internet_activities[[col]].applymap(type) != internet_activities[[col]].iloc[0].apply(type)).any(axis=1)\n",
      "C:\\Users\\adrig\\AppData\\Local\\Temp\\ipykernel_35692\\1415708128.py:3: FutureWarning: DataFrame.applymap has been deprecated. Use DataFrame.map instead.\n",
      "  weird = (internet_activities[[col]].applymap(type) != internet_activities[[col]].iloc[0].apply(type)).any(axis=1)\n",
      "C:\\Users\\adrig\\AppData\\Local\\Temp\\ipykernel_35692\\1415708128.py:3: FutureWarning: DataFrame.applymap has been deprecated. Use DataFrame.map instead.\n",
      "  weird = (internet_activities[[col]].applymap(type) != internet_activities[[col]].iloc[0].apply(type)).any(axis=1)\n",
      "C:\\Users\\adrig\\AppData\\Local\\Temp\\ipykernel_35692\\1415708128.py:3: FutureWarning: DataFrame.applymap has been deprecated. Use DataFrame.map instead.\n",
      "  weird = (internet_activities[[col]].applymap(type) != internet_activities[[col]].iloc[0].apply(type)).any(axis=1)\n",
      "C:\\Users\\adrig\\AppData\\Local\\Temp\\ipykernel_35692\\1415708128.py:3: FutureWarning: DataFrame.applymap has been deprecated. Use DataFrame.map instead.\n",
      "  weird = (internet_activities[[col]].applymap(type) != internet_activities[[col]].iloc[0].apply(type)).any(axis=1)\n",
      "C:\\Users\\adrig\\AppData\\Local\\Temp\\ipykernel_35692\\1415708128.py:3: FutureWarning: DataFrame.applymap has been deprecated. Use DataFrame.map instead.\n",
      "  weird = (internet_activities[[col]].applymap(type) != internet_activities[[col]].iloc[0].apply(type)).any(axis=1)\n"
     ]
    }
   ],
   "source": [
    "# function to check for mixed-type columns\n",
    "for col in internet_activities.columns.tolist():\n",
    "    weird = (internet_activities[[col]].applymap(type) != internet_activities[[col]].iloc[0].apply(type)).any(axis=1)\n",
    "    if len (internet_activities[weird]) > 0:\n",
    "        print(col)"
   ]
  },
  {
   "cell_type": "code",
   "execution_count": 110,
   "id": "bf01e05a-f252-4c2d-8910-35eedd4872bb",
   "metadata": {},
   "outputs": [
    {
     "name": "stderr",
     "output_type": "stream",
     "text": [
      "C:\\Users\\adrig\\AppData\\Local\\Temp\\ipykernel_35692\\3158159759.py:3: FutureWarning: DataFrame.applymap has been deprecated. Use DataFrame.map instead.\n",
      "  weird = (internet_activities2[[col]].applymap(type) != internet_activities2[[col]].iloc[0].apply(type)).any(axis=1)\n",
      "C:\\Users\\adrig\\AppData\\Local\\Temp\\ipykernel_35692\\3158159759.py:3: FutureWarning: DataFrame.applymap has been deprecated. Use DataFrame.map instead.\n",
      "  weird = (internet_activities2[[col]].applymap(type) != internet_activities2[[col]].iloc[0].apply(type)).any(axis=1)\n",
      "C:\\Users\\adrig\\AppData\\Local\\Temp\\ipykernel_35692\\3158159759.py:3: FutureWarning: DataFrame.applymap has been deprecated. Use DataFrame.map instead.\n",
      "  weird = (internet_activities2[[col]].applymap(type) != internet_activities2[[col]].iloc[0].apply(type)).any(axis=1)\n",
      "C:\\Users\\adrig\\AppData\\Local\\Temp\\ipykernel_35692\\3158159759.py:3: FutureWarning: DataFrame.applymap has been deprecated. Use DataFrame.map instead.\n",
      "  weird = (internet_activities2[[col]].applymap(type) != internet_activities2[[col]].iloc[0].apply(type)).any(axis=1)\n"
     ]
    },
    {
     "name": "stdout",
     "output_type": "stream",
     "text": [
      "activities_data_flag\n"
     ]
    },
    {
     "name": "stderr",
     "output_type": "stream",
     "text": [
      "C:\\Users\\adrig\\AppData\\Local\\Temp\\ipykernel_35692\\3158159759.py:3: FutureWarning: DataFrame.applymap has been deprecated. Use DataFrame.map instead.\n",
      "  weird = (internet_activities2[[col]].applymap(type) != internet_activities2[[col]].iloc[0].apply(type)).any(axis=1)\n",
      "C:\\Users\\adrig\\AppData\\Local\\Temp\\ipykernel_35692\\3158159759.py:3: FutureWarning: DataFrame.applymap has been deprecated. Use DataFrame.map instead.\n",
      "  weird = (internet_activities2[[col]].applymap(type) != internet_activities2[[col]].iloc[0].apply(type)).any(axis=1)\n"
     ]
    }
   ],
   "source": [
    "# function to check for mixed-type columns\n",
    "for col in internet_activities2.columns.tolist():\n",
    "    weird = (internet_activities2[[col]].applymap(type) != internet_activities2[[col]].iloc[0].apply(type)).any(axis=1)\n",
    "    if len (internet_activities2[weird]) > 0:\n",
    "        print(col)"
   ]
  },
  {
   "cell_type": "code",
   "execution_count": 111,
   "id": "bcb80890-dca7-4593-b28d-5595cd1e4d7b",
   "metadata": {},
   "outputs": [
    {
     "name": "stderr",
     "output_type": "stream",
     "text": [
      "C:\\Users\\adrig\\AppData\\Local\\Temp\\ipykernel_35692\\959092838.py:3: FutureWarning: DataFrame.applymap has been deprecated. Use DataFrame.map instead.\n",
      "  weird = (internet_activities3[[col]].applymap(type) != internet_activities3[[col]].iloc[0].apply(type)).any(axis=1)\n",
      "C:\\Users\\adrig\\AppData\\Local\\Temp\\ipykernel_35692\\959092838.py:3: FutureWarning: DataFrame.applymap has been deprecated. Use DataFrame.map instead.\n",
      "  weird = (internet_activities3[[col]].applymap(type) != internet_activities3[[col]].iloc[0].apply(type)).any(axis=1)\n",
      "C:\\Users\\adrig\\AppData\\Local\\Temp\\ipykernel_35692\\959092838.py:3: FutureWarning: DataFrame.applymap has been deprecated. Use DataFrame.map instead.\n",
      "  weird = (internet_activities3[[col]].applymap(type) != internet_activities3[[col]].iloc[0].apply(type)).any(axis=1)\n",
      "C:\\Users\\adrig\\AppData\\Local\\Temp\\ipykernel_35692\\959092838.py:3: FutureWarning: DataFrame.applymap has been deprecated. Use DataFrame.map instead.\n",
      "  weird = (internet_activities3[[col]].applymap(type) != internet_activities3[[col]].iloc[0].apply(type)).any(axis=1)\n",
      "C:\\Users\\adrig\\AppData\\Local\\Temp\\ipykernel_35692\\959092838.py:3: FutureWarning: DataFrame.applymap has been deprecated. Use DataFrame.map instead.\n",
      "  weird = (internet_activities3[[col]].applymap(type) != internet_activities3[[col]].iloc[0].apply(type)).any(axis=1)\n",
      "C:\\Users\\adrig\\AppData\\Local\\Temp\\ipykernel_35692\\959092838.py:3: FutureWarning: DataFrame.applymap has been deprecated. Use DataFrame.map instead.\n",
      "  weird = (internet_activities3[[col]].applymap(type) != internet_activities3[[col]].iloc[0].apply(type)).any(axis=1)\n"
     ]
    },
    {
     "name": "stdout",
     "output_type": "stream",
     "text": [
      "activities_data_flag\n"
     ]
    }
   ],
   "source": [
    "# function to check for mixed-type columns\n",
    "for col in internet_activities3.columns.tolist():\n",
    "    weird = (internet_activities3[[col]].applymap(type) != internet_activities3[[col]].iloc[0].apply(type)).any(axis=1)\n",
    "    if len (internet_activities3[weird]) > 0:\n",
    "        print(col)"
   ]
  },
  {
   "cell_type": "code",
   "execution_count": 112,
   "id": "73ae8830-b536-4c34-a17a-742f400dda0f",
   "metadata": {},
   "outputs": [],
   "source": [
    "# Changing data type for activities_data_flag variable\n",
    "internet_activities['activities_data_flag'] = internet_activities['activities_data_flag'].astype('category')"
   ]
  },
  {
   "cell_type": "code",
   "execution_count": 113,
   "id": "947e2dfe-f461-49ca-be4d-13e24e94d551",
   "metadata": {},
   "outputs": [],
   "source": [
    "# Changing data type for activities_data_flag variable\n",
    "internet_activities2['activities_data_flag'] = internet_activities2['activities_data_flag'].astype('category')"
   ]
  },
  {
   "cell_type": "code",
   "execution_count": 114,
   "id": "a562738d-ee11-49b6-bf55-f2689123bc74",
   "metadata": {},
   "outputs": [],
   "source": [
    "# Changing data type for activities_data_flag variable\n",
    "internet_activities3['activities_data_flag'] = internet_activities3['activities_data_flag'].astype('category')"
   ]
  },
  {
   "cell_type": "code",
   "execution_count": 116,
   "id": "a7f429f7-c406-43d5-9f8c-f8b171b84d16",
   "metadata": {},
   "outputs": [
    {
     "data": {
      "text/plain": [
       "internet_activities           object\n",
       "demographic_group             object\n",
       "country                       object\n",
       "year                           int64\n",
       "internet_activities_rate     float64\n",
       "activities_data_flag        category\n",
       "dtype: object"
      ]
     },
     "execution_count": 116,
     "metadata": {},
     "output_type": "execute_result"
    }
   ],
   "source": [
    "internet_activities.dtypes"
   ]
  },
  {
   "cell_type": "code",
   "execution_count": 117,
   "id": "f4434bab-ffd9-4426-b8ca-aaf935a02097",
   "metadata": {},
   "outputs": [
    {
     "data": {
      "text/plain": [
       "internet_activities           object\n",
       "demographic_group             object\n",
       "country                       object\n",
       "year                           int64\n",
       "internet_activities_rate     float64\n",
       "activities_data_flag        category\n",
       "dtype: object"
      ]
     },
     "execution_count": 117,
     "metadata": {},
     "output_type": "execute_result"
    }
   ],
   "source": [
    "internet_activities2.dtypes"
   ]
  },
  {
   "cell_type": "code",
   "execution_count": 118,
   "id": "61f1bac7-f328-4767-9cda-0c4afce24605",
   "metadata": {},
   "outputs": [
    {
     "data": {
      "text/plain": [
       "internet_activities           object\n",
       "demographic_group             object\n",
       "country                       object\n",
       "year                           int64\n",
       "internet_activities_rate     float64\n",
       "activities_data_flag        category\n",
       "dtype: object"
      ]
     },
     "execution_count": 118,
     "metadata": {},
     "output_type": "execute_result"
    }
   ],
   "source": [
    "internet_activities3.dtypes"
   ]
  },
  {
   "cell_type": "markdown",
   "id": "b81465de-bc79-4ec7-a8cf-4216825016f5",
   "metadata": {},
   "source": [
    "## 03.7 Missing Values"
   ]
  },
  {
   "cell_type": "markdown",
   "id": "1f8976f4-9620-4e77-bc05-097d155d301a",
   "metadata": {},
   "source": [
    "### 03.7.1 Dataframe internet activities"
   ]
  },
  {
   "cell_type": "code",
   "execution_count": 119,
   "id": "4df9be6e-d3f3-4b8d-847c-470a56e15d10",
   "metadata": {},
   "outputs": [
    {
     "data": {
      "text/plain": [
       "internet_activities             0\n",
       "demographic_group               0\n",
       "country                         0\n",
       "year                            0\n",
       "internet_activities_rate     3094\n",
       "activities_data_flag        53326\n",
       "dtype: int64"
      ]
     },
     "execution_count": 119,
     "metadata": {},
     "output_type": "execute_result"
    }
   ],
   "source": [
    "# Finding missing values in internet_activities\n",
    "internet_activities.isnull().sum()"
   ]
  },
  {
   "cell_type": "code",
   "execution_count": 121,
   "id": "d23aecc8-ac2a-4dc0-9d0b-e46a47367d8a",
   "metadata": {},
   "outputs": [
    {
     "data": {
      "text/plain": [
       "(56471, 6)"
      ]
     },
     "execution_count": 121,
     "metadata": {},
     "output_type": "execute_result"
    }
   ],
   "source": [
    "internet_activities.shape"
   ]
  },
  {
   "cell_type": "code",
   "execution_count": 120,
   "id": "1d9cac6c-0dec-4971-a8e2-4c45a3189ff7",
   "metadata": {},
   "outputs": [
    {
     "data": {
      "text/html": [
       "<div>\n",
       "<style scoped>\n",
       "    .dataframe tbody tr th:only-of-type {\n",
       "        vertical-align: middle;\n",
       "    }\n",
       "\n",
       "    .dataframe tbody tr th {\n",
       "        vertical-align: top;\n",
       "    }\n",
       "\n",
       "    .dataframe thead th {\n",
       "        text-align: right;\n",
       "    }\n",
       "</style>\n",
       "<table border=\"1\" class=\"dataframe\">\n",
       "  <thead>\n",
       "    <tr style=\"text-align: right;\">\n",
       "      <th></th>\n",
       "      <th>internet_activities</th>\n",
       "      <th>demographic_group</th>\n",
       "      <th>country</th>\n",
       "      <th>year</th>\n",
       "      <th>internet_activities_rate</th>\n",
       "      <th>activities_data_flag</th>\n",
       "    </tr>\n",
       "  </thead>\n",
       "  <tbody>\n",
       "    <tr>\n",
       "      <th>3</th>\n",
       "      <td>Internet banking</td>\n",
       "      <td>Females with low formal education</td>\n",
       "      <td>Austria</td>\n",
       "      <td>2007</td>\n",
       "      <td>NaN</td>\n",
       "      <td>u</td>\n",
       "    </tr>\n",
       "    <tr>\n",
       "      <th>12</th>\n",
       "      <td>Internet banking</td>\n",
       "      <td>Females with low formal education</td>\n",
       "      <td>Bulgaria</td>\n",
       "      <td>2006</td>\n",
       "      <td>NaN</td>\n",
       "      <td>u</td>\n",
       "    </tr>\n",
       "    <tr>\n",
       "      <th>13</th>\n",
       "      <td>Internet banking</td>\n",
       "      <td>Females with low formal education</td>\n",
       "      <td>Bulgaria</td>\n",
       "      <td>2007</td>\n",
       "      <td>NaN</td>\n",
       "      <td>u</td>\n",
       "    </tr>\n",
       "    <tr>\n",
       "      <th>14</th>\n",
       "      <td>Internet banking</td>\n",
       "      <td>Females with low formal education</td>\n",
       "      <td>Bulgaria</td>\n",
       "      <td>2008</td>\n",
       "      <td>NaN</td>\n",
       "      <td>u</td>\n",
       "    </tr>\n",
       "    <tr>\n",
       "      <th>15</th>\n",
       "      <td>Internet banking</td>\n",
       "      <td>Females with low formal education</td>\n",
       "      <td>Bulgaria</td>\n",
       "      <td>2009</td>\n",
       "      <td>NaN</td>\n",
       "      <td>u</td>\n",
       "    </tr>\n",
       "    <tr>\n",
       "      <th>...</th>\n",
       "      <td>...</td>\n",
       "      <td>...</td>\n",
       "      <td>...</td>\n",
       "      <td>...</td>\n",
       "      <td>...</td>\n",
       "      <td>...</td>\n",
       "    </tr>\n",
       "    <tr>\n",
       "      <th>56469</th>\n",
       "      <td>listening to web radios and/or watching web TV</td>\n",
       "      <td>Individuals, 75 years old or more</td>\n",
       "      <td>United Kingdom</td>\n",
       "      <td>2005</td>\n",
       "      <td>NaN</td>\n",
       "      <td>u</td>\n",
       "    </tr>\n",
       "    <tr>\n",
       "      <th>56470</th>\n",
       "      <td>listening to web radios and/or watching web TV</td>\n",
       "      <td>Individuals, 75 years old or more</td>\n",
       "      <td>United Kingdom</td>\n",
       "      <td>2006</td>\n",
       "      <td>NaN</td>\n",
       "      <td>u</td>\n",
       "    </tr>\n",
       "    <tr>\n",
       "      <th>56471</th>\n",
       "      <td>listening to web radios and/or watching web TV</td>\n",
       "      <td>Individuals, 75 years old or more</td>\n",
       "      <td>United Kingdom</td>\n",
       "      <td>2007</td>\n",
       "      <td>NaN</td>\n",
       "      <td>u</td>\n",
       "    </tr>\n",
       "    <tr>\n",
       "      <th>56472</th>\n",
       "      <td>listening to web radios and/or watching web TV</td>\n",
       "      <td>Individuals, 75 years old or more</td>\n",
       "      <td>United Kingdom</td>\n",
       "      <td>2008</td>\n",
       "      <td>NaN</td>\n",
       "      <td>u</td>\n",
       "    </tr>\n",
       "    <tr>\n",
       "      <th>56473</th>\n",
       "      <td>listening to web radios and/or watching web TV</td>\n",
       "      <td>Individuals, 75 years old or more</td>\n",
       "      <td>United Kingdom</td>\n",
       "      <td>2009</td>\n",
       "      <td>NaN</td>\n",
       "      <td>u</td>\n",
       "    </tr>\n",
       "  </tbody>\n",
       "</table>\n",
       "<p>3094 rows × 6 columns</p>\n",
       "</div>"
      ],
      "text/plain": [
       "                                  internet_activities  \\\n",
       "3                                    Internet banking   \n",
       "12                                   Internet banking   \n",
       "13                                   Internet banking   \n",
       "14                                   Internet banking   \n",
       "15                                   Internet banking   \n",
       "...                                               ...   \n",
       "56469  listening to web radios and/or watching web TV   \n",
       "56470  listening to web radios and/or watching web TV   \n",
       "56471  listening to web radios and/or watching web TV   \n",
       "56472  listening to web radios and/or watching web TV   \n",
       "56473  listening to web radios and/or watching web TV   \n",
       "\n",
       "                       demographic_group         country  year  \\\n",
       "3      Females with low formal education         Austria  2007   \n",
       "12     Females with low formal education        Bulgaria  2006   \n",
       "13     Females with low formal education        Bulgaria  2007   \n",
       "14     Females with low formal education        Bulgaria  2008   \n",
       "15     Females with low formal education        Bulgaria  2009   \n",
       "...                                  ...             ...   ...   \n",
       "56469  Individuals, 75 years old or more  United Kingdom  2005   \n",
       "56470  Individuals, 75 years old or more  United Kingdom  2006   \n",
       "56471  Individuals, 75 years old or more  United Kingdom  2007   \n",
       "56472  Individuals, 75 years old or more  United Kingdom  2008   \n",
       "56473  Individuals, 75 years old or more  United Kingdom  2009   \n",
       "\n",
       "       internet_activities_rate activities_data_flag  \n",
       "3                           NaN                    u  \n",
       "12                          NaN                    u  \n",
       "13                          NaN                    u  \n",
       "14                          NaN                    u  \n",
       "15                          NaN                    u  \n",
       "...                         ...                  ...  \n",
       "56469                       NaN                    u  \n",
       "56470                       NaN                    u  \n",
       "56471                       NaN                    u  \n",
       "56472                       NaN                    u  \n",
       "56473                       NaN                    u  \n",
       "\n",
       "[3094 rows x 6 columns]"
      ]
     },
     "execution_count": 120,
     "metadata": {},
     "output_type": "execute_result"
    }
   ],
   "source": [
    "# Creating subset for NaN values \n",
    "df_nan = internet_activities[internet_activities['internet_activities_rate'].isnull() == True]\n",
    "df_nan"
   ]
  },
  {
   "cell_type": "code",
   "execution_count": 122,
   "id": "352b90db-ab62-4347-b5e9-ca3c3d9df47c",
   "metadata": {},
   "outputs": [
    {
     "data": {
      "text/plain": [
       "activities_data_flag\n",
       "u    3094\n",
       "Name: count, dtype: int64"
      ]
     },
     "execution_count": 122,
     "metadata": {},
     "output_type": "execute_result"
    }
   ],
   "source": [
    "# Exploring more on the NaN values\n",
    "df_nan['activities_data_flag'].value_counts()"
   ]
  },
  {
   "cell_type": "code",
   "execution_count": 123,
   "id": "7b0b0a2d-be13-40fe-8666-c5de0442ca0f",
   "metadata": {},
   "outputs": [
    {
     "data": {
      "text/plain": [
       "country\n",
       "Germany            442\n",
       "North Macedonia    397\n",
       "United Kingdom     347\n",
       "Portugal           278\n",
       "Austria            271\n",
       "Slovenia           244\n",
       "Italy              207\n",
       "Estonia            138\n",
       "Romania            116\n",
       "Poland             109\n",
       "Bulgaria           103\n",
       "Ireland             65\n",
       "Iceland             59\n",
       "Lithuania           57\n",
       "Czechia             52\n",
       "Malta               47\n",
       "Denmark             45\n",
       "Hungary             31\n",
       "France              27\n",
       "Slovakia            24\n",
       "Greece              23\n",
       "Latvia              11\n",
       "Finland              1\n",
       "Name: count, dtype: int64"
      ]
     },
     "execution_count": 123,
     "metadata": {},
     "output_type": "execute_result"
    }
   ],
   "source": [
    "# Exploring more on the NaN values\n",
    "df_nan['country'].value_counts()"
   ]
  },
  {
   "cell_type": "code",
   "execution_count": 124,
   "id": "d51c0740-cd14-45df-9263-db583ec933c0",
   "metadata": {},
   "outputs": [
    {
     "data": {
      "text/plain": [
       "year\n",
       "2005    647\n",
       "2009    564\n",
       "2008    522\n",
       "2007    446\n",
       "2006    418\n",
       "2004    393\n",
       "2003    104\n",
       "Name: count, dtype: int64"
      ]
     },
     "execution_count": 124,
     "metadata": {},
     "output_type": "execute_result"
    }
   ],
   "source": [
    "# Exploring more on the NaN values\n",
    "df_nan['year'].value_counts()"
   ]
  },
  {
   "cell_type": "markdown",
   "id": "42b750ec-7d2b-484d-9165-cd7c8a693318",
   "metadata": {},
   "source": [
    "The missing values will be imputed with the mean for each year and country. "
   ]
  },
  {
   "cell_type": "code",
   "execution_count": 127,
   "id": "16a59181-84c2-48ad-997d-24160cbb8979",
   "metadata": {},
   "outputs": [],
   "source": [
    "# Creating a copy of dataframe to impute values\n",
    "internet_activities_clean = internet_activities.copy()"
   ]
  },
  {
   "cell_type": "code",
   "execution_count": 129,
   "id": "056dfd13-bf78-4786-9078-3129091b9e94",
   "metadata": {},
   "outputs": [],
   "source": [
    "# Imputing values with mean of country and year\n",
    "internet_activities_clean['internet_activities_rate'] = (internet_activities.groupby('country')['internet_activities_rate'].transform(lambda x: x.fillna(x.mean())))"
   ]
  },
  {
   "cell_type": "code",
   "execution_count": 131,
   "id": "2646346d-ccd2-4681-9e02-5e6a8f584003",
   "metadata": {},
   "outputs": [
    {
     "data": {
      "text/plain": [
       "internet_activities             0\n",
       "demographic_group               0\n",
       "country                         0\n",
       "year                            0\n",
       "internet_activities_rate        0\n",
       "activities_data_flag        53326\n",
       "dtype: int64"
      ]
     },
     "execution_count": 131,
     "metadata": {},
     "output_type": "execute_result"
    }
   ],
   "source": [
    "internet_activities_clean.isnull().sum()"
   ]
  },
  {
   "cell_type": "markdown",
   "id": "1034feb4-8683-447f-98f9-f4a0e812d4f9",
   "metadata": {},
   "source": [
    "### 03.7.2 Dataframe internet activities 2"
   ]
  },
  {
   "cell_type": "code",
   "execution_count": 133,
   "id": "dc43353e-2ba7-4b04-b4a8-7e25a4b23cc9",
   "metadata": {},
   "outputs": [
    {
     "data": {
      "text/plain": [
       "internet_activities              0\n",
       "demographic_group                0\n",
       "country                          0\n",
       "year                             0\n",
       "internet_activities_rate      1832\n",
       "activities_data_flag        145723\n",
       "dtype: int64"
      ]
     },
     "execution_count": 133,
     "metadata": {},
     "output_type": "execute_result"
    }
   ],
   "source": [
    "# Finding missing values in internet_activities2\n",
    "internet_activities2.isnull().sum()"
   ]
  },
  {
   "cell_type": "code",
   "execution_count": 134,
   "id": "b37f3811-2f4e-470c-815a-440ff071d874",
   "metadata": {},
   "outputs": [
    {
     "data": {
      "text/html": [
       "<div>\n",
       "<style scoped>\n",
       "    .dataframe tbody tr th:only-of-type {\n",
       "        vertical-align: middle;\n",
       "    }\n",
       "\n",
       "    .dataframe tbody tr th {\n",
       "        vertical-align: top;\n",
       "    }\n",
       "\n",
       "    .dataframe thead th {\n",
       "        text-align: right;\n",
       "    }\n",
       "</style>\n",
       "<table border=\"1\" class=\"dataframe\">\n",
       "  <thead>\n",
       "    <tr style=\"text-align: right;\">\n",
       "      <th></th>\n",
       "      <th>internet_activities</th>\n",
       "      <th>demographic_group</th>\n",
       "      <th>country</th>\n",
       "      <th>year</th>\n",
       "      <th>internet_activities_rate</th>\n",
       "      <th>activities_data_flag</th>\n",
       "    </tr>\n",
       "  </thead>\n",
       "  <tbody>\n",
       "    <tr>\n",
       "      <th>164</th>\n",
       "      <td>Internet banking</td>\n",
       "      <td>Employees working part time</td>\n",
       "      <td>Serbia</td>\n",
       "      <td>2019</td>\n",
       "      <td>NaN</td>\n",
       "      <td>u</td>\n",
       "    </tr>\n",
       "    <tr>\n",
       "      <th>248</th>\n",
       "      <td>Internet banking</td>\n",
       "      <td>Females with low formal education</td>\n",
       "      <td>Denmark</td>\n",
       "      <td>2015</td>\n",
       "      <td>NaN</td>\n",
       "      <td>u</td>\n",
       "    </tr>\n",
       "    <tr>\n",
       "      <th>382</th>\n",
       "      <td>Internet banking</td>\n",
       "      <td>Females with low formal education</td>\n",
       "      <td>Montenegro</td>\n",
       "      <td>2017</td>\n",
       "      <td>NaN</td>\n",
       "      <td>u</td>\n",
       "    </tr>\n",
       "    <tr>\n",
       "      <th>385</th>\n",
       "      <td>Internet banking</td>\n",
       "      <td>Females with low formal education</td>\n",
       "      <td>North Macedonia</td>\n",
       "      <td>2010</td>\n",
       "      <td>NaN</td>\n",
       "      <td>u</td>\n",
       "    </tr>\n",
       "    <tr>\n",
       "      <th>581</th>\n",
       "      <td>Internet banking</td>\n",
       "      <td>Females with medium formal education</td>\n",
       "      <td>Denmark</td>\n",
       "      <td>2015</td>\n",
       "      <td>NaN</td>\n",
       "      <td>u</td>\n",
       "    </tr>\n",
       "    <tr>\n",
       "      <th>...</th>\n",
       "      <td>...</td>\n",
       "      <td>...</td>\n",
       "      <td>...</td>\n",
       "      <td>...</td>\n",
       "      <td>...</td>\n",
       "      <td>...</td>\n",
       "    </tr>\n",
       "    <tr>\n",
       "      <th>152169</th>\n",
       "      <td>consulting wikis (to obtain knowledge on any s...</td>\n",
       "      <td>Males with high formal education</td>\n",
       "      <td>Denmark</td>\n",
       "      <td>2015</td>\n",
       "      <td>NaN</td>\n",
       "      <td>u</td>\n",
       "    </tr>\n",
       "    <tr>\n",
       "      <th>152449</th>\n",
       "      <td>consulting wikis (to obtain knowledge on any s...</td>\n",
       "      <td>Unemployed</td>\n",
       "      <td>Denmark</td>\n",
       "      <td>2011</td>\n",
       "      <td>NaN</td>\n",
       "      <td>u</td>\n",
       "    </tr>\n",
       "    <tr>\n",
       "      <th>152951</th>\n",
       "      <td>consulting wikis (to obtain knowledge on any s...</td>\n",
       "      <td>Individuals aged 25 to 64 who are unemployed</td>\n",
       "      <td>Denmark</td>\n",
       "      <td>2011</td>\n",
       "      <td>NaN</td>\n",
       "      <td>u</td>\n",
       "    </tr>\n",
       "    <tr>\n",
       "      <th>153000</th>\n",
       "      <td>consulting wikis (to obtain knowledge on any s...</td>\n",
       "      <td>Individuals aged 25 to 64 who are unemployed</td>\n",
       "      <td>Norway</td>\n",
       "      <td>2011</td>\n",
       "      <td>NaN</td>\n",
       "      <td>u</td>\n",
       "    </tr>\n",
       "    <tr>\n",
       "      <th>153001</th>\n",
       "      <td>consulting wikis (to obtain knowledge on any s...</td>\n",
       "      <td>Individuals aged 25 to 64 who are unemployed</td>\n",
       "      <td>Norway</td>\n",
       "      <td>2013</td>\n",
       "      <td>NaN</td>\n",
       "      <td>u</td>\n",
       "    </tr>\n",
       "  </tbody>\n",
       "</table>\n",
       "<p>1832 rows × 6 columns</p>\n",
       "</div>"
      ],
      "text/plain": [
       "                                      internet_activities  \\\n",
       "164                                      Internet banking   \n",
       "248                                      Internet banking   \n",
       "382                                      Internet banking   \n",
       "385                                      Internet banking   \n",
       "581                                      Internet banking   \n",
       "...                                                   ...   \n",
       "152169  consulting wikis (to obtain knowledge on any s...   \n",
       "152449  consulting wikis (to obtain knowledge on any s...   \n",
       "152951  consulting wikis (to obtain knowledge on any s...   \n",
       "153000  consulting wikis (to obtain knowledge on any s...   \n",
       "153001  consulting wikis (to obtain knowledge on any s...   \n",
       "\n",
       "                                   demographic_group          country  year  \\\n",
       "164                      Employees working part time           Serbia  2019   \n",
       "248                Females with low formal education          Denmark  2015   \n",
       "382                Females with low formal education       Montenegro  2017   \n",
       "385                Females with low formal education  North Macedonia  2010   \n",
       "581             Females with medium formal education          Denmark  2015   \n",
       "...                                              ...              ...   ...   \n",
       "152169              Males with high formal education          Denmark  2015   \n",
       "152449                                    Unemployed          Denmark  2011   \n",
       "152951  Individuals aged 25 to 64 who are unemployed          Denmark  2011   \n",
       "153000  Individuals aged 25 to 64 who are unemployed           Norway  2011   \n",
       "153001  Individuals aged 25 to 64 who are unemployed           Norway  2013   \n",
       "\n",
       "        internet_activities_rate activities_data_flag  \n",
       "164                          NaN                    u  \n",
       "248                          NaN                    u  \n",
       "382                          NaN                    u  \n",
       "385                          NaN                    u  \n",
       "581                          NaN                    u  \n",
       "...                          ...                  ...  \n",
       "152169                       NaN                    u  \n",
       "152449                       NaN                    u  \n",
       "152951                       NaN                    u  \n",
       "153000                       NaN                    u  \n",
       "153001                       NaN                    u  \n",
       "\n",
       "[1832 rows x 6 columns]"
      ]
     },
     "execution_count": 134,
     "metadata": {},
     "output_type": "execute_result"
    }
   ],
   "source": [
    "# Creating subset for NaN values \n",
    "df_nan2 = internet_activities2[internet_activities2['internet_activities_rate'].isnull() == True]\n",
    "df_nan2"
   ]
  },
  {
   "cell_type": "code",
   "execution_count": 136,
   "id": "75b074e1-edfb-433a-bf96-3f364dc1fdcf",
   "metadata": {},
   "outputs": [
    {
     "data": {
      "text/plain": [
       "activities_data_flag\n",
       "u     1832\n",
       "b        0\n",
       "bu       0\n",
       "Name: count, dtype: int64"
      ]
     },
     "execution_count": 136,
     "metadata": {},
     "output_type": "execute_result"
    }
   ],
   "source": [
    "## Exploring more on the NaN values\n",
    "df_nan2['activities_data_flag'].value_counts()"
   ]
  },
  {
   "cell_type": "code",
   "execution_count": 137,
   "id": "f3e200e6-b22e-48b5-8cbb-6cb8ff99fc75",
   "metadata": {},
   "outputs": [
    {
     "data": {
      "text/plain": [
       "country\n",
       "Italy              239\n",
       "Denmark            219\n",
       "North Macedonia    203\n",
       "Iceland            139\n",
       "Malta              136\n",
       "France             102\n",
       "Ireland             99\n",
       "Norway              93\n",
       "United Kingdom      86\n",
       "Montenegro          75\n",
       "Sweden              64\n",
       "Luxembourg          54\n",
       "Portugal            51\n",
       "Austria             48\n",
       "Belgium             32\n",
       "Lithuania           27\n",
       "Greece              26\n",
       "Germany             24\n",
       "Czechia             24\n",
       "Bulgaria            22\n",
       "Cyprus              15\n",
       "Slovenia            14\n",
       "Albania             11\n",
       "Serbia               9\n",
       "Kosovo*              8\n",
       "Romania              6\n",
       "Poland               6\n",
       "Name: count, dtype: int64"
      ]
     },
     "execution_count": 137,
     "metadata": {},
     "output_type": "execute_result"
    }
   ],
   "source": [
    "# Exploring more on the NaN values\n",
    "df_nan2['country'].value_counts()"
   ]
  },
  {
   "cell_type": "code",
   "execution_count": 138,
   "id": "1abc78b4-110d-435f-816a-58a4e207f5a7",
   "metadata": {},
   "outputs": [
    {
     "data": {
      "text/plain": [
       "year\n",
       "2010    482\n",
       "2015    315\n",
       "2017    193\n",
       "2019    168\n",
       "2014    146\n",
       "2012    117\n",
       "2018    116\n",
       "2011    106\n",
       "2016     98\n",
       "2013     91\n",
       "Name: count, dtype: int64"
      ]
     },
     "execution_count": 138,
     "metadata": {},
     "output_type": "execute_result"
    }
   ],
   "source": [
    "# Exploring more on the NaN values\n",
    "df_nan2['year'].value_counts()"
   ]
  },
  {
   "cell_type": "markdown",
   "id": "e4344a5f-0852-4c02-a847-63874f55995e",
   "metadata": {},
   "source": [
    "The missing values will be imputed with the mean for each year and country. "
   ]
  },
  {
   "cell_type": "code",
   "execution_count": 139,
   "id": "014ec249-0ab0-4d22-8631-9f4960fe7b05",
   "metadata": {},
   "outputs": [],
   "source": [
    "# Creating a copy of dataframe to impute values\n",
    "internet_activities_clean2 = internet_activities2.copy()"
   ]
  },
  {
   "cell_type": "code",
   "execution_count": 140,
   "id": "936bb8d3-e3cc-4146-8320-117ca6c53c5f",
   "metadata": {},
   "outputs": [],
   "source": [
    "# Imputing values with mean of country and year\n",
    "internet_activities_clean2['internet_activities_rate'] = (internet_activities2.groupby('country')['internet_activities_rate'].transform(lambda x: x.fillna(x.mean())))"
   ]
  },
  {
   "cell_type": "code",
   "execution_count": 141,
   "id": "f584318f-2e20-4e48-9697-6f7d1a5cca6b",
   "metadata": {},
   "outputs": [
    {
     "data": {
      "text/plain": [
       "internet_activities              0\n",
       "demographic_group                0\n",
       "country                          0\n",
       "year                             0\n",
       "internet_activities_rate         0\n",
       "activities_data_flag        145723\n",
       "dtype: int64"
      ]
     },
     "execution_count": 141,
     "metadata": {},
     "output_type": "execute_result"
    }
   ],
   "source": [
    "# Checking results\n",
    "internet_activities_clean2.isnull().sum()"
   ]
  },
  {
   "cell_type": "markdown",
   "id": "ee8ced6d-5e98-44cd-b3e3-a32337641c33",
   "metadata": {},
   "source": [
    "### 03.7.3 Dataframe interent activities 3"
   ]
  },
  {
   "cell_type": "code",
   "execution_count": 142,
   "id": "d96d086a-aa30-4090-938c-93d5122a092f",
   "metadata": {},
   "outputs": [
    {
     "data": {
      "text/plain": [
       "internet_activities             0\n",
       "demographic_group               0\n",
       "country                         0\n",
       "year                            0\n",
       "internet_activities_rate     2736\n",
       "activities_data_flag        92508\n",
       "dtype: int64"
      ]
     },
     "execution_count": 142,
     "metadata": {},
     "output_type": "execute_result"
    }
   ],
   "source": [
    "# Finding missing values in internet_activities3\n",
    "internet_activities3.isnull().sum()"
   ]
  },
  {
   "cell_type": "code",
   "execution_count": 143,
   "id": "518cad85-43d4-4278-8da0-2bee965be3a1",
   "metadata": {},
   "outputs": [
    {
     "data": {
      "text/html": [
       "<div>\n",
       "<style scoped>\n",
       "    .dataframe tbody tr th:only-of-type {\n",
       "        vertical-align: middle;\n",
       "    }\n",
       "\n",
       "    .dataframe tbody tr th {\n",
       "        vertical-align: top;\n",
       "    }\n",
       "\n",
       "    .dataframe thead th {\n",
       "        text-align: right;\n",
       "    }\n",
       "</style>\n",
       "<table border=\"1\" class=\"dataframe\">\n",
       "  <thead>\n",
       "    <tr style=\"text-align: right;\">\n",
       "      <th></th>\n",
       "      <th>internet_activities</th>\n",
       "      <th>demographic_group</th>\n",
       "      <th>country</th>\n",
       "      <th>year</th>\n",
       "      <th>internet_activities_rate</th>\n",
       "      <th>activities_data_flag</th>\n",
       "    </tr>\n",
       "  </thead>\n",
       "  <tbody>\n",
       "    <tr>\n",
       "      <th>11</th>\n",
       "      <td>accessing personal health records online</td>\n",
       "      <td>Persons aged 16-74 working in agriculture, for...</td>\n",
       "      <td>Denmark</td>\n",
       "      <td>2024</td>\n",
       "      <td>NaN</td>\n",
       "      <td>u</td>\n",
       "    </tr>\n",
       "    <tr>\n",
       "      <th>44</th>\n",
       "      <td>accessing personal health records online</td>\n",
       "      <td>Persons aged 16-74 working in mining or quarrying</td>\n",
       "      <td>Austria</td>\n",
       "      <td>2022</td>\n",
       "      <td>NaN</td>\n",
       "      <td>u</td>\n",
       "    </tr>\n",
       "    <tr>\n",
       "      <th>45</th>\n",
       "      <td>accessing personal health records online</td>\n",
       "      <td>Persons aged 16-74 working in mining or quarrying</td>\n",
       "      <td>Austria</td>\n",
       "      <td>2024</td>\n",
       "      <td>NaN</td>\n",
       "      <td>u</td>\n",
       "    </tr>\n",
       "    <tr>\n",
       "      <th>46</th>\n",
       "      <td>accessing personal health records online</td>\n",
       "      <td>Persons aged 16-74 working in mining or quarrying</td>\n",
       "      <td>Belgium</td>\n",
       "      <td>2022</td>\n",
       "      <td>NaN</td>\n",
       "      <td>u</td>\n",
       "    </tr>\n",
       "    <tr>\n",
       "      <th>47</th>\n",
       "      <td>accessing personal health records online</td>\n",
       "      <td>Persons aged 16-74 working in mining or quarrying</td>\n",
       "      <td>Belgium</td>\n",
       "      <td>2024</td>\n",
       "      <td>NaN</td>\n",
       "      <td>u</td>\n",
       "    </tr>\n",
       "    <tr>\n",
       "      <th>...</th>\n",
       "      <td>...</td>\n",
       "      <td>...</td>\n",
       "      <td>...</td>\n",
       "      <td>...</td>\n",
       "      <td>...</td>\n",
       "      <td>...</td>\n",
       "    </tr>\n",
       "    <tr>\n",
       "      <th>102107</th>\n",
       "      <td>sharing or publishing self-created videos, pho...</td>\n",
       "      <td>ICT professionals</td>\n",
       "      <td>North Macedonia</td>\n",
       "      <td>2020</td>\n",
       "      <td>NaN</td>\n",
       "      <td>u</td>\n",
       "    </tr>\n",
       "    <tr>\n",
       "      <th>102139</th>\n",
       "      <td>sharing or publishing self-created videos, pho...</td>\n",
       "      <td>Non ICT professionals</td>\n",
       "      <td>Italy</td>\n",
       "      <td>2020</td>\n",
       "      <td>NaN</td>\n",
       "      <td>u</td>\n",
       "    </tr>\n",
       "    <tr>\n",
       "      <th>102284</th>\n",
       "      <td>sharing or publishing self-created videos, pho...</td>\n",
       "      <td>Males, 16 to 24 years old</td>\n",
       "      <td>Ireland</td>\n",
       "      <td>2020</td>\n",
       "      <td>NaN</td>\n",
       "      <td>u</td>\n",
       "    </tr>\n",
       "    <tr>\n",
       "      <th>102506</th>\n",
       "      <td>sharing or publishing self-created videos, pho...</td>\n",
       "      <td>Students</td>\n",
       "      <td>Ireland</td>\n",
       "      <td>2020</td>\n",
       "      <td>NaN</td>\n",
       "      <td>u</td>\n",
       "    </tr>\n",
       "    <tr>\n",
       "      <th>102580</th>\n",
       "      <td>sharing or publishing self-created videos, pho...</td>\n",
       "      <td>Individuals, 16 to 24 years old</td>\n",
       "      <td>Ireland</td>\n",
       "      <td>2020</td>\n",
       "      <td>NaN</td>\n",
       "      <td>u</td>\n",
       "    </tr>\n",
       "  </tbody>\n",
       "</table>\n",
       "<p>2736 rows × 6 columns</p>\n",
       "</div>"
      ],
      "text/plain": [
       "                                      internet_activities  \\\n",
       "11               accessing personal health records online   \n",
       "44               accessing personal health records online   \n",
       "45               accessing personal health records online   \n",
       "46               accessing personal health records online   \n",
       "47               accessing personal health records online   \n",
       "...                                                   ...   \n",
       "102107  sharing or publishing self-created videos, pho...   \n",
       "102139  sharing or publishing self-created videos, pho...   \n",
       "102284  sharing or publishing self-created videos, pho...   \n",
       "102506  sharing or publishing self-created videos, pho...   \n",
       "102580  sharing or publishing self-created videos, pho...   \n",
       "\n",
       "                                        demographic_group          country  \\\n",
       "11      Persons aged 16-74 working in agriculture, for...          Denmark   \n",
       "44      Persons aged 16-74 working in mining or quarrying          Austria   \n",
       "45      Persons aged 16-74 working in mining or quarrying          Austria   \n",
       "46      Persons aged 16-74 working in mining or quarrying          Belgium   \n",
       "47      Persons aged 16-74 working in mining or quarrying          Belgium   \n",
       "...                                                   ...              ...   \n",
       "102107                                  ICT professionals  North Macedonia   \n",
       "102139                              Non ICT professionals            Italy   \n",
       "102284                          Males, 16 to 24 years old          Ireland   \n",
       "102506                                           Students          Ireland   \n",
       "102580                    Individuals, 16 to 24 years old          Ireland   \n",
       "\n",
       "        year  internet_activities_rate activities_data_flag  \n",
       "11      2024                       NaN                    u  \n",
       "44      2022                       NaN                    u  \n",
       "45      2024                       NaN                    u  \n",
       "46      2022                       NaN                    u  \n",
       "47      2024                       NaN                    u  \n",
       "...      ...                       ...                  ...  \n",
       "102107  2020                       NaN                    u  \n",
       "102139  2020                       NaN                    u  \n",
       "102284  2020                       NaN                    u  \n",
       "102506  2020                       NaN                    u  \n",
       "102580  2020                       NaN                    u  \n",
       "\n",
       "[2736 rows x 6 columns]"
      ]
     },
     "execution_count": 143,
     "metadata": {},
     "output_type": "execute_result"
    }
   ],
   "source": [
    "# Creating subset for NaN values \n",
    "df_nan3 = internet_activities3[internet_activities3['internet_activities_rate'].isnull() == True]\n",
    "df_nan3"
   ]
  },
  {
   "cell_type": "code",
   "execution_count": 145,
   "id": "ee2795ab-bcd3-4f1d-a43c-c9325d7bb40c",
   "metadata": {},
   "outputs": [
    {
     "data": {
      "text/plain": [
       "activities_data_flag\n",
       "u     2634\n",
       "bu     102\n",
       "b        0\n",
       "e        0\n",
       "Name: count, dtype: int64"
      ]
     },
     "execution_count": 145,
     "metadata": {},
     "output_type": "execute_result"
    }
   ],
   "source": [
    "## Exploring more on the NaN values\n",
    "df_nan3['activities_data_flag'].value_counts()"
   ]
  },
  {
   "cell_type": "code",
   "execution_count": 152,
   "id": "db69eb2e-d8a2-4909-b0a6-08740776ca4e",
   "metadata": {},
   "outputs": [
    {
     "data": {
      "text/plain": [
       "country\n",
       "Ireland            291\n",
       "Slovakia           194\n",
       "Luxembourg         180\n",
       "Denmark            173\n",
       "Greece             162\n",
       "Croatia            160\n",
       "Cyprus             160\n",
       "Slovenia           158\n",
       "Norway             149\n",
       "Netherlands        120\n",
       "Belgium            104\n",
       "Sweden             102\n",
       "Austria            100\n",
       "Estonia             80\n",
       "United Kingdom      73\n",
       "Portugal            60\n",
       "Lithuania           58\n",
       "Iceland             54\n",
       "Hungary             51\n",
       "Serbia              50\n",
       "Czechia             48\n",
       "Italy               42\n",
       "Albania             33\n",
       "Germany             31\n",
       "Latvia              22\n",
       "North Macedonia     21\n",
       "Romania             20\n",
       "Bulgaria            20\n",
       "Montenegro          11\n",
       "Spain                9\n",
       "Name: count, dtype: int64"
      ]
     },
     "execution_count": 152,
     "metadata": {},
     "output_type": "execute_result"
    }
   ],
   "source": [
    "## Exploring more on the NaN values\n",
    "df_nan3['country'].value_counts()"
   ]
  },
  {
   "cell_type": "code",
   "execution_count": 147,
   "id": "e58b08bd-6619-444b-8abf-d4f19b499847",
   "metadata": {},
   "outputs": [
    {
     "data": {
      "text/plain": [
       "year\n",
       "2022    714\n",
       "2021    639\n",
       "2024    636\n",
       "2023    576\n",
       "2020    171\n",
       "Name: count, dtype: int64"
      ]
     },
     "execution_count": 147,
     "metadata": {},
     "output_type": "execute_result"
    }
   ],
   "source": [
    "## Exploring more on the NaN values\n",
    "df_nan3['year'].value_counts()"
   ]
  },
  {
   "cell_type": "markdown",
   "id": "1877ea2e-0888-4e7d-b806-d6deb99981a2",
   "metadata": {},
   "source": [
    "The missing values will be imputed with the mean for each year and country."
   ]
  },
  {
   "cell_type": "code",
   "execution_count": 148,
   "id": "4d12ed69-47c0-415b-8cb1-5fde305e8e9b",
   "metadata": {},
   "outputs": [],
   "source": [
    "# Creating a copy of dataframe to impute values\n",
    "internet_activities_clean3 = internet_activities3.copy()"
   ]
  },
  {
   "cell_type": "code",
   "execution_count": 149,
   "id": "bcef6aa4-59be-45c2-93d6-3c97421f9a81",
   "metadata": {},
   "outputs": [],
   "source": [
    "# Imputing values with mean of country and year\n",
    "internet_activities_clean3['internet_activities_rate'] = (internet_activities3.groupby('country')['internet_activities_rate'].transform(lambda x: x.fillna(x.mean())))"
   ]
  },
  {
   "cell_type": "code",
   "execution_count": 150,
   "id": "35117c1c-4474-423a-a1d3-80a581fbfe46",
   "metadata": {},
   "outputs": [
    {
     "data": {
      "text/plain": [
       "internet_activities             0\n",
       "demographic_group               0\n",
       "country                         0\n",
       "year                            0\n",
       "internet_activities_rate        0\n",
       "activities_data_flag        92508\n",
       "dtype: int64"
      ]
     },
     "execution_count": 150,
     "metadata": {},
     "output_type": "execute_result"
    }
   ],
   "source": [
    "# Checking results\n",
    "internet_activities_clean3.isnull().sum()"
   ]
  },
  {
   "cell_type": "markdown",
   "id": "1fe7807a-69cf-4b7e-985b-93ef51e6c1c3",
   "metadata": {},
   "source": [
    "## 03.8 Duplicate Values"
   ]
  },
  {
   "cell_type": "code",
   "execution_count": 156,
   "id": "a16302c9-251b-4404-9f6e-ff21f04e3b59",
   "metadata": {},
   "outputs": [
    {
     "data": {
      "text/html": [
       "<div>\n",
       "<style scoped>\n",
       "    .dataframe tbody tr th:only-of-type {\n",
       "        vertical-align: middle;\n",
       "    }\n",
       "\n",
       "    .dataframe tbody tr th {\n",
       "        vertical-align: top;\n",
       "    }\n",
       "\n",
       "    .dataframe thead th {\n",
       "        text-align: right;\n",
       "    }\n",
       "</style>\n",
       "<table border=\"1\" class=\"dataframe\">\n",
       "  <thead>\n",
       "    <tr style=\"text-align: right;\">\n",
       "      <th></th>\n",
       "      <th>internet_activities</th>\n",
       "      <th>demographic_group</th>\n",
       "      <th>country</th>\n",
       "      <th>year</th>\n",
       "      <th>internet_activities_rate</th>\n",
       "      <th>activities_data_flag</th>\n",
       "    </tr>\n",
       "  </thead>\n",
       "  <tbody>\n",
       "  </tbody>\n",
       "</table>\n",
       "</div>"
      ],
      "text/plain": [
       "Empty DataFrame\n",
       "Columns: [internet_activities, demographic_group, country, year, internet_activities_rate, activities_data_flag]\n",
       "Index: []"
      ]
     },
     "execution_count": 156,
     "metadata": {},
     "output_type": "execute_result"
    }
   ],
   "source": [
    "# Creating a new subset 'df_dups' containing just duplicated values\n",
    "activities_dups = internet_activities_clean[internet_activities_clean.duplicated()]\n",
    "activities_dups"
   ]
  },
  {
   "cell_type": "code",
   "execution_count": 157,
   "id": "6a7f2ec7-d9d5-46a3-b9ef-2c067c92f5fd",
   "metadata": {},
   "outputs": [
    {
     "data": {
      "text/html": [
       "<div>\n",
       "<style scoped>\n",
       "    .dataframe tbody tr th:only-of-type {\n",
       "        vertical-align: middle;\n",
       "    }\n",
       "\n",
       "    .dataframe tbody tr th {\n",
       "        vertical-align: top;\n",
       "    }\n",
       "\n",
       "    .dataframe thead th {\n",
       "        text-align: right;\n",
       "    }\n",
       "</style>\n",
       "<table border=\"1\" class=\"dataframe\">\n",
       "  <thead>\n",
       "    <tr style=\"text-align: right;\">\n",
       "      <th></th>\n",
       "      <th>internet_activities</th>\n",
       "      <th>demographic_group</th>\n",
       "      <th>country</th>\n",
       "      <th>year</th>\n",
       "      <th>internet_activities_rate</th>\n",
       "      <th>activities_data_flag</th>\n",
       "    </tr>\n",
       "  </thead>\n",
       "  <tbody>\n",
       "  </tbody>\n",
       "</table>\n",
       "</div>"
      ],
      "text/plain": [
       "Empty DataFrame\n",
       "Columns: [internet_activities, demographic_group, country, year, internet_activities_rate, activities_data_flag]\n",
       "Index: []"
      ]
     },
     "execution_count": 157,
     "metadata": {},
     "output_type": "execute_result"
    }
   ],
   "source": [
    "# Creating a new subset 'df_dups' containing just duplicated values\n",
    "activities_dups2 = internet_activities_clean2[internet_activities_clean2.duplicated()]\n",
    "activities_dups2"
   ]
  },
  {
   "cell_type": "code",
   "execution_count": 158,
   "id": "9c159a3c-198f-45d4-8365-dbd7119c3b61",
   "metadata": {},
   "outputs": [
    {
     "data": {
      "text/html": [
       "<div>\n",
       "<style scoped>\n",
       "    .dataframe tbody tr th:only-of-type {\n",
       "        vertical-align: middle;\n",
       "    }\n",
       "\n",
       "    .dataframe tbody tr th {\n",
       "        vertical-align: top;\n",
       "    }\n",
       "\n",
       "    .dataframe thead th {\n",
       "        text-align: right;\n",
       "    }\n",
       "</style>\n",
       "<table border=\"1\" class=\"dataframe\">\n",
       "  <thead>\n",
       "    <tr style=\"text-align: right;\">\n",
       "      <th></th>\n",
       "      <th>internet_activities</th>\n",
       "      <th>demographic_group</th>\n",
       "      <th>country</th>\n",
       "      <th>year</th>\n",
       "      <th>internet_activities_rate</th>\n",
       "      <th>activities_data_flag</th>\n",
       "    </tr>\n",
       "  </thead>\n",
       "  <tbody>\n",
       "  </tbody>\n",
       "</table>\n",
       "</div>"
      ],
      "text/plain": [
       "Empty DataFrame\n",
       "Columns: [internet_activities, demographic_group, country, year, internet_activities_rate, activities_data_flag]\n",
       "Index: []"
      ]
     },
     "execution_count": 158,
     "metadata": {},
     "output_type": "execute_result"
    }
   ],
   "source": [
    "# Creating a new subset 'df_dups' containing just duplicated values\n",
    "activities_dups3 = internet_activities_clean3[internet_activities_clean3.duplicated()]\n",
    "activities_dups3"
   ]
  },
  {
   "cell_type": "markdown",
   "id": "0a54763f-7831-4fa4-a107-fa18e5cedf45",
   "metadata": {},
   "source": [
    "There are no duplicated rows. "
   ]
  },
  {
   "cell_type": "markdown",
   "id": "4626ca43-aacd-40da-92a8-9c0c8fc8e78f",
   "metadata": {},
   "source": [
    "## 03.9 Exporting Data"
   ]
  },
  {
   "cell_type": "code",
   "execution_count": 159,
   "id": "30357d5d-a60e-423c-bf5d-4ff8a7b918ac",
   "metadata": {},
   "outputs": [],
   "source": [
    "# Exporting first dataframe internet_use_clean\n",
    "internet_activities_clean.to_csv(os.path.join(path, '02 Data', 'Prepared Data', 'internet_activities_checked.csv'))"
   ]
  },
  {
   "cell_type": "code",
   "execution_count": 160,
   "id": "3845b43d-d7fb-4269-a54d-60eddce9cb0a",
   "metadata": {},
   "outputs": [],
   "source": [
    "# Exporting first dataframe internet_use_clean\n",
    "internet_activities_clean2.to_csv(os.path.join(path, '02 Data', 'Prepared Data', 'internet_activities2_checked.csv'))"
   ]
  },
  {
   "cell_type": "code",
   "execution_count": 161,
   "id": "645c7ac5-fdf0-4c4b-9596-11c131eb78eb",
   "metadata": {},
   "outputs": [],
   "source": [
    "# Exporting first dataframe internet_use_clean\n",
    "internet_activities_clean3.to_csv(os.path.join(path, '02 Data', 'Prepared Data', 'internet_activities3_checked.csv'))"
   ]
  },
  {
   "cell_type": "markdown",
   "id": "1118e35c-188c-47f9-b6fb-87d44b33fb82",
   "metadata": {},
   "source": [
    "# 04. Dataset: Purchasing Power GDP"
   ]
  },
  {
   "cell_type": "markdown",
   "id": "0a02bc10-1d0f-486e-aeef-cff4e8206209",
   "metadata": {},
   "source": [
    "## 04.1 Import Data"
   ]
  },
  {
   "cell_type": "code",
   "execution_count": 162,
   "id": "9720d424-e82d-4476-8ba2-29661511878e",
   "metadata": {},
   "outputs": [],
   "source": [
    "# Import dataset (purschasing power GDP per capita)\n",
    "purchasing_power = pd.read_csv(os.path.join(path, '02 Data', 'Original Data', 'purchasing_power.csv'), index_col = False)"
   ]
  },
  {
   "cell_type": "markdown",
   "id": "557e3577-8f96-4416-b0a4-9142df56f387",
   "metadata": {},
   "source": [
    "## 04.2 Data Consistency Check"
   ]
  },
  {
   "cell_type": "code",
   "execution_count": 163,
   "id": "9c32e23a-2ea0-4fa1-b91e-6485d8ac0329",
   "metadata": {},
   "outputs": [
    {
     "data": {
      "text/plain": [
       "(809, 11)"
      ]
     },
     "execution_count": 163,
     "metadata": {},
     "output_type": "execute_result"
    }
   ],
   "source": [
    "# dimensions of dataframe\n",
    "purchasing_power.shape"
   ]
  },
  {
   "cell_type": "code",
   "execution_count": 164,
   "id": "f33b174c-c8ef-4be2-b9a1-8c1a6ba2cd74",
   "metadata": {},
   "outputs": [
    {
     "data": {
      "text/plain": [
       "Index(['DATAFLOW', 'LAST UPDATE', 'freq', 'na_item', 'ppp_cat', 'unit', 'geo',\n",
       "       'TIME_PERIOD', 'OBS_VALUE', 'OBS_FLAG', 'CONF_STATUS'],\n",
       "      dtype='object')"
      ]
     },
     "execution_count": 164,
     "metadata": {},
     "output_type": "execute_result"
    }
   ],
   "source": [
    "# names of columns\n",
    "purchasing_power.columns"
   ]
  },
  {
   "cell_type": "code",
   "execution_count": 165,
   "id": "7a461530-0a3b-4fa9-b890-c8ff5f7cb91f",
   "metadata": {},
   "outputs": [
    {
     "data": {
      "text/html": [
       "<div>\n",
       "<style scoped>\n",
       "    .dataframe tbody tr th:only-of-type {\n",
       "        vertical-align: middle;\n",
       "    }\n",
       "\n",
       "    .dataframe tbody tr th {\n",
       "        vertical-align: top;\n",
       "    }\n",
       "\n",
       "    .dataframe thead th {\n",
       "        text-align: right;\n",
       "    }\n",
       "</style>\n",
       "<table border=\"1\" class=\"dataframe\">\n",
       "  <thead>\n",
       "    <tr style=\"text-align: right;\">\n",
       "      <th></th>\n",
       "      <th>DATAFLOW</th>\n",
       "      <th>LAST UPDATE</th>\n",
       "      <th>freq</th>\n",
       "      <th>na_item</th>\n",
       "      <th>ppp_cat</th>\n",
       "      <th>unit</th>\n",
       "      <th>geo</th>\n",
       "      <th>TIME_PERIOD</th>\n",
       "      <th>OBS_VALUE</th>\n",
       "      <th>OBS_FLAG</th>\n",
       "      <th>CONF_STATUS</th>\n",
       "    </tr>\n",
       "  </thead>\n",
       "  <tbody>\n",
       "    <tr>\n",
       "      <th>0</th>\n",
       "      <td>ESTAT:SDG_10_10(1.0)</td>\n",
       "      <td>10/07/25 11:00:00</td>\n",
       "      <td>Annual</td>\n",
       "      <td>Real expenditure per capita (in PPS_EU27_2020)</td>\n",
       "      <td>Gross domestic product</td>\n",
       "      <td>Percentage</td>\n",
       "      <td>Albania</td>\n",
       "      <td>2003</td>\n",
       "      <td>4200</td>\n",
       "      <td>NaN</td>\n",
       "      <td>NaN</td>\n",
       "    </tr>\n",
       "    <tr>\n",
       "      <th>1</th>\n",
       "      <td>ESTAT:SDG_10_10(1.0)</td>\n",
       "      <td>10/07/25 11:00:00</td>\n",
       "      <td>Annual</td>\n",
       "      <td>Real expenditure per capita (in PPS_EU27_2020)</td>\n",
       "      <td>Gross domestic product</td>\n",
       "      <td>Percentage</td>\n",
       "      <td>Albania</td>\n",
       "      <td>2004</td>\n",
       "      <td>4600</td>\n",
       "      <td>NaN</td>\n",
       "      <td>NaN</td>\n",
       "    </tr>\n",
       "    <tr>\n",
       "      <th>2</th>\n",
       "      <td>ESTAT:SDG_10_10(1.0)</td>\n",
       "      <td>10/07/25 11:00:00</td>\n",
       "      <td>Annual</td>\n",
       "      <td>Real expenditure per capita (in PPS_EU27_2020)</td>\n",
       "      <td>Gross domestic product</td>\n",
       "      <td>Percentage</td>\n",
       "      <td>Albania</td>\n",
       "      <td>2005</td>\n",
       "      <td>4900</td>\n",
       "      <td>NaN</td>\n",
       "      <td>NaN</td>\n",
       "    </tr>\n",
       "    <tr>\n",
       "      <th>3</th>\n",
       "      <td>ESTAT:SDG_10_10(1.0)</td>\n",
       "      <td>10/07/25 11:00:00</td>\n",
       "      <td>Annual</td>\n",
       "      <td>Real expenditure per capita (in PPS_EU27_2020)</td>\n",
       "      <td>Gross domestic product</td>\n",
       "      <td>Percentage</td>\n",
       "      <td>Albania</td>\n",
       "      <td>2006</td>\n",
       "      <td>5400</td>\n",
       "      <td>NaN</td>\n",
       "      <td>NaN</td>\n",
       "    </tr>\n",
       "    <tr>\n",
       "      <th>4</th>\n",
       "      <td>ESTAT:SDG_10_10(1.0)</td>\n",
       "      <td>10/07/25 11:00:00</td>\n",
       "      <td>Annual</td>\n",
       "      <td>Real expenditure per capita (in PPS_EU27_2020)</td>\n",
       "      <td>Gross domestic product</td>\n",
       "      <td>Percentage</td>\n",
       "      <td>Albania</td>\n",
       "      <td>2007</td>\n",
       "      <td>6000</td>\n",
       "      <td>NaN</td>\n",
       "      <td>NaN</td>\n",
       "    </tr>\n",
       "  </tbody>\n",
       "</table>\n",
       "</div>"
      ],
      "text/plain": [
       "               DATAFLOW        LAST UPDATE    freq  \\\n",
       "0  ESTAT:SDG_10_10(1.0)  10/07/25 11:00:00  Annual   \n",
       "1  ESTAT:SDG_10_10(1.0)  10/07/25 11:00:00  Annual   \n",
       "2  ESTAT:SDG_10_10(1.0)  10/07/25 11:00:00  Annual   \n",
       "3  ESTAT:SDG_10_10(1.0)  10/07/25 11:00:00  Annual   \n",
       "4  ESTAT:SDG_10_10(1.0)  10/07/25 11:00:00  Annual   \n",
       "\n",
       "                                          na_item                 ppp_cat  \\\n",
       "0  Real expenditure per capita (in PPS_EU27_2020)  Gross domestic product   \n",
       "1  Real expenditure per capita (in PPS_EU27_2020)  Gross domestic product   \n",
       "2  Real expenditure per capita (in PPS_EU27_2020)  Gross domestic product   \n",
       "3  Real expenditure per capita (in PPS_EU27_2020)  Gross domestic product   \n",
       "4  Real expenditure per capita (in PPS_EU27_2020)  Gross domestic product   \n",
       "\n",
       "         unit      geo  TIME_PERIOD  OBS_VALUE OBS_FLAG  CONF_STATUS  \n",
       "0  Percentage  Albania         2003       4200      NaN          NaN  \n",
       "1  Percentage  Albania         2004       4600      NaN          NaN  \n",
       "2  Percentage  Albania         2005       4900      NaN          NaN  \n",
       "3  Percentage  Albania         2006       5400      NaN          NaN  \n",
       "4  Percentage  Albania         2007       6000      NaN          NaN  "
      ]
     },
     "execution_count": 165,
     "metadata": {},
     "output_type": "execute_result"
    }
   ],
   "source": [
    "# first rows\n",
    "purchasing_power.head()"
   ]
  },
  {
   "cell_type": "markdown",
   "id": "37d602d9-f0a3-4444-a689-8af2e2abf61d",
   "metadata": {},
   "source": [
    "There are columns that are unnecessary and will be deleted. "
   ]
  },
  {
   "cell_type": "code",
   "execution_count": 166,
   "id": "dfcc4a1a-3651-487a-bd47-4051c33905c2",
   "metadata": {},
   "outputs": [
    {
     "name": "stdout",
     "output_type": "stream",
     "text": [
      "<class 'pandas.core.frame.DataFrame'>\n",
      "RangeIndex: 809 entries, 0 to 808\n",
      "Data columns (total 11 columns):\n",
      " #   Column       Non-Null Count  Dtype  \n",
      "---  ------       --------------  -----  \n",
      " 0   DATAFLOW     809 non-null    object \n",
      " 1   LAST UPDATE  809 non-null    object \n",
      " 2   freq         809 non-null    object \n",
      " 3   na_item      809 non-null    object \n",
      " 4   ppp_cat      809 non-null    object \n",
      " 5   unit         809 non-null    object \n",
      " 6   geo          809 non-null    object \n",
      " 7   TIME_PERIOD  809 non-null    int64  \n",
      " 8   OBS_VALUE    809 non-null    int64  \n",
      " 9   OBS_FLAG     16 non-null     object \n",
      " 10  CONF_STATUS  0 non-null      float64\n",
      "dtypes: float64(1), int64(2), object(8)\n",
      "memory usage: 69.7+ KB\n"
     ]
    }
   ],
   "source": [
    "# general information of dataframe\n",
    "purchasing_power.info()"
   ]
  },
  {
   "cell_type": "markdown",
   "id": "443dc478-37c3-4a94-aa27-6215b2e408c5",
   "metadata": {},
   "source": [
    "The variables 'CONF_STATUS' can be deleted, as it contains no information"
   ]
  },
  {
   "cell_type": "code",
   "execution_count": 167,
   "id": "54ebc1dd-e8e0-4fb4-b753-44107ab838aa",
   "metadata": {},
   "outputs": [
    {
     "data": {
      "text/html": [
       "<div>\n",
       "<style scoped>\n",
       "    .dataframe tbody tr th:only-of-type {\n",
       "        vertical-align: middle;\n",
       "    }\n",
       "\n",
       "    .dataframe tbody tr th {\n",
       "        vertical-align: top;\n",
       "    }\n",
       "\n",
       "    .dataframe thead th {\n",
       "        text-align: right;\n",
       "    }\n",
       "</style>\n",
       "<table border=\"1\" class=\"dataframe\">\n",
       "  <thead>\n",
       "    <tr style=\"text-align: right;\">\n",
       "      <th></th>\n",
       "      <th>TIME_PERIOD</th>\n",
       "      <th>OBS_VALUE</th>\n",
       "      <th>CONF_STATUS</th>\n",
       "    </tr>\n",
       "  </thead>\n",
       "  <tbody>\n",
       "    <tr>\n",
       "      <th>count</th>\n",
       "      <td>809.000000</td>\n",
       "      <td>809.000000</td>\n",
       "      <td>0.0</td>\n",
       "    </tr>\n",
       "    <tr>\n",
       "      <th>mean</th>\n",
       "      <td>2013.559951</td>\n",
       "      <td>26781.953028</td>\n",
       "      <td>NaN</td>\n",
       "    </tr>\n",
       "    <tr>\n",
       "      <th>std</th>\n",
       "      <td>6.321359</td>\n",
       "      <td>14386.929252</td>\n",
       "      <td>NaN</td>\n",
       "    </tr>\n",
       "    <tr>\n",
       "      <th>min</th>\n",
       "      <td>2003.000000</td>\n",
       "      <td>4200.000000</td>\n",
       "      <td>NaN</td>\n",
       "    </tr>\n",
       "    <tr>\n",
       "      <th>25%</th>\n",
       "      <td>2008.000000</td>\n",
       "      <td>16900.000000</td>\n",
       "      <td>NaN</td>\n",
       "    </tr>\n",
       "    <tr>\n",
       "      <th>50%</th>\n",
       "      <td>2014.000000</td>\n",
       "      <td>25400.000000</td>\n",
       "      <td>NaN</td>\n",
       "    </tr>\n",
       "    <tr>\n",
       "      <th>75%</th>\n",
       "      <td>2019.000000</td>\n",
       "      <td>33100.000000</td>\n",
       "      <td>NaN</td>\n",
       "    </tr>\n",
       "    <tr>\n",
       "      <th>max</th>\n",
       "      <td>2024.000000</td>\n",
       "      <td>96200.000000</td>\n",
       "      <td>NaN</td>\n",
       "    </tr>\n",
       "  </tbody>\n",
       "</table>\n",
       "</div>"
      ],
      "text/plain": [
       "       TIME_PERIOD     OBS_VALUE  CONF_STATUS\n",
       "count   809.000000    809.000000          0.0\n",
       "mean   2013.559951  26781.953028          NaN\n",
       "std       6.321359  14386.929252          NaN\n",
       "min    2003.000000   4200.000000          NaN\n",
       "25%    2008.000000  16900.000000          NaN\n",
       "50%    2014.000000  25400.000000          NaN\n",
       "75%    2019.000000  33100.000000          NaN\n",
       "max    2024.000000  96200.000000          NaN"
      ]
     },
     "execution_count": 167,
     "metadata": {},
     "output_type": "execute_result"
    }
   ],
   "source": [
    "# descriptive stats\n",
    "purchasing_power.describe()"
   ]
  },
  {
   "cell_type": "markdown",
   "id": "e7257846-ebdb-4f27-a7cc-9a2a6b5afbb9",
   "metadata": {},
   "source": [
    "## 04.3 Dropping Columns"
   ]
  },
  {
   "cell_type": "code",
   "execution_count": 168,
   "id": "f77859a0-494c-4ba0-a9ec-fe49dcc19ca5",
   "metadata": {},
   "outputs": [
    {
     "data": {
      "text/plain": [
       "DATAFLOW\n",
       "ESTAT:SDG_10_10(1.0)    809\n",
       "Name: count, dtype: int64"
      ]
     },
     "execution_count": 168,
     "metadata": {},
     "output_type": "execute_result"
    }
   ],
   "source": [
    "# Checking columns to drop\n",
    "purchasing_power['DATAFLOW'].value_counts(dropna = False)"
   ]
  },
  {
   "cell_type": "code",
   "execution_count": 169,
   "id": "8df53ec4-b488-4659-b2b5-960bb6467079",
   "metadata": {},
   "outputs": [
    {
     "data": {
      "text/plain": [
       "LAST UPDATE\n",
       "10/07/25 11:00:00    809\n",
       "Name: count, dtype: int64"
      ]
     },
     "execution_count": 169,
     "metadata": {},
     "output_type": "execute_result"
    }
   ],
   "source": [
    "# Checking columns to drop\n",
    "purchasing_power['LAST UPDATE'].value_counts(dropna = False)"
   ]
  },
  {
   "cell_type": "code",
   "execution_count": 170,
   "id": "19d6f969-900e-45c6-bb29-29563af2f9ac",
   "metadata": {},
   "outputs": [
    {
     "data": {
      "text/plain": [
       "freq\n",
       "Annual    809\n",
       "Name: count, dtype: int64"
      ]
     },
     "execution_count": 170,
     "metadata": {},
     "output_type": "execute_result"
    }
   ],
   "source": [
    "# Checking columns to drop\n",
    "purchasing_power['freq'].value_counts(dropna = False)"
   ]
  },
  {
   "cell_type": "code",
   "execution_count": 171,
   "id": "9b4738df-a34b-47a1-b9a5-25a62528bd85",
   "metadata": {},
   "outputs": [
    {
     "data": {
      "text/plain": [
       "na_item\n",
       "Real expenditure per capita (in PPS_EU27_2020)    809\n",
       "Name: count, dtype: int64"
      ]
     },
     "execution_count": 171,
     "metadata": {},
     "output_type": "execute_result"
    }
   ],
   "source": [
    "# Checking columns to drop\n",
    "purchasing_power['na_item'].value_counts(dropna = False)"
   ]
  },
  {
   "cell_type": "code",
   "execution_count": 172,
   "id": "e13e3f57-3f65-4d1f-be24-ab0b16652cd1",
   "metadata": {},
   "outputs": [
    {
     "data": {
      "text/plain": [
       "ppp_cat\n",
       "Gross domestic product    809\n",
       "Name: count, dtype: int64"
      ]
     },
     "execution_count": 172,
     "metadata": {},
     "output_type": "execute_result"
    }
   ],
   "source": [
    "# Checking columns to drop\n",
    "purchasing_power['ppp_cat'].value_counts(dropna = False)"
   ]
  },
  {
   "cell_type": "code",
   "execution_count": 173,
   "id": "c1129169-8be3-4e71-a496-e7b4ac08da96",
   "metadata": {},
   "outputs": [
    {
     "data": {
      "text/plain": [
       "unit\n",
       "Percentage    809\n",
       "Name: count, dtype: int64"
      ]
     },
     "execution_count": 173,
     "metadata": {},
     "output_type": "execute_result"
    }
   ],
   "source": [
    "# Checking columns to drop\n",
    "purchasing_power['unit'].value_counts(dropna = False)"
   ]
  },
  {
   "cell_type": "code",
   "execution_count": 174,
   "id": "4e7390bb-032d-4506-9479-abd18663a637",
   "metadata": {},
   "outputs": [
    {
     "data": {
      "text/plain": [
       "OBS_FLAG\n",
       "NaN    793\n",
       "p       13\n",
       "e        3\n",
       "Name: count, dtype: int64"
      ]
     },
     "execution_count": 174,
     "metadata": {},
     "output_type": "execute_result"
    }
   ],
   "source": [
    "# Checking columns to drop\n",
    "purchasing_power['OBS_FLAG'].value_counts(dropna = False)"
   ]
  },
  {
   "cell_type": "markdown",
   "id": "cdb33ed0-2107-46a9-9549-d505e188dc06",
   "metadata": {},
   "source": [
    "This variable will be kept, as it provides information on the values provided. "
   ]
  },
  {
   "cell_type": "code",
   "execution_count": 175,
   "id": "54ddcbfe-4a4f-4d1c-8450-d3306fe45d6a",
   "metadata": {},
   "outputs": [
    {
     "data": {
      "text/plain": [
       "CONF_STATUS\n",
       "NaN    809\n",
       "Name: count, dtype: int64"
      ]
     },
     "execution_count": 175,
     "metadata": {},
     "output_type": "execute_result"
    }
   ],
   "source": [
    "# Checking columns to drop\n",
    "purchasing_power['CONF_STATUS'].value_counts(dropna = False)"
   ]
  },
  {
   "cell_type": "code",
   "execution_count": 176,
   "id": "5f1073e6-1c97-4904-aca5-41471106bcc2",
   "metadata": {},
   "outputs": [],
   "source": [
    "# Drop unnecessary columns: DATAFLOW / LAST UPDATE / freq / unit / CONF_STATUS\n",
    "purchasing_power = purchasing_power.drop(columns = ['DATAFLOW', 'LAST UPDATE', 'freq', 'na_item', 'ppp_cat', 'unit', 'CONF_STATUS'])"
   ]
  },
  {
   "cell_type": "code",
   "execution_count": 177,
   "id": "b3753398-aaeb-4726-a832-02e5c2263ef4",
   "metadata": {},
   "outputs": [
    {
     "data": {
      "text/html": [
       "<div>\n",
       "<style scoped>\n",
       "    .dataframe tbody tr th:only-of-type {\n",
       "        vertical-align: middle;\n",
       "    }\n",
       "\n",
       "    .dataframe tbody tr th {\n",
       "        vertical-align: top;\n",
       "    }\n",
       "\n",
       "    .dataframe thead th {\n",
       "        text-align: right;\n",
       "    }\n",
       "</style>\n",
       "<table border=\"1\" class=\"dataframe\">\n",
       "  <thead>\n",
       "    <tr style=\"text-align: right;\">\n",
       "      <th></th>\n",
       "      <th>geo</th>\n",
       "      <th>TIME_PERIOD</th>\n",
       "      <th>OBS_VALUE</th>\n",
       "      <th>OBS_FLAG</th>\n",
       "    </tr>\n",
       "  </thead>\n",
       "  <tbody>\n",
       "    <tr>\n",
       "      <th>0</th>\n",
       "      <td>Albania</td>\n",
       "      <td>2003</td>\n",
       "      <td>4200</td>\n",
       "      <td>NaN</td>\n",
       "    </tr>\n",
       "    <tr>\n",
       "      <th>1</th>\n",
       "      <td>Albania</td>\n",
       "      <td>2004</td>\n",
       "      <td>4600</td>\n",
       "      <td>NaN</td>\n",
       "    </tr>\n",
       "    <tr>\n",
       "      <th>2</th>\n",
       "      <td>Albania</td>\n",
       "      <td>2005</td>\n",
       "      <td>4900</td>\n",
       "      <td>NaN</td>\n",
       "    </tr>\n",
       "    <tr>\n",
       "      <th>3</th>\n",
       "      <td>Albania</td>\n",
       "      <td>2006</td>\n",
       "      <td>5400</td>\n",
       "      <td>NaN</td>\n",
       "    </tr>\n",
       "    <tr>\n",
       "      <th>4</th>\n",
       "      <td>Albania</td>\n",
       "      <td>2007</td>\n",
       "      <td>6000</td>\n",
       "      <td>NaN</td>\n",
       "    </tr>\n",
       "  </tbody>\n",
       "</table>\n",
       "</div>"
      ],
      "text/plain": [
       "       geo  TIME_PERIOD  OBS_VALUE OBS_FLAG\n",
       "0  Albania         2003       4200      NaN\n",
       "1  Albania         2004       4600      NaN\n",
       "2  Albania         2005       4900      NaN\n",
       "3  Albania         2006       5400      NaN\n",
       "4  Albania         2007       6000      NaN"
      ]
     },
     "execution_count": 177,
     "metadata": {},
     "output_type": "execute_result"
    }
   ],
   "source": [
    "# Checking dataframe\n",
    "purchasing_power.head()"
   ]
  },
  {
   "cell_type": "markdown",
   "id": "52340d96-14ee-44b7-97a9-7711fa7de2a8",
   "metadata": {},
   "source": [
    "## 04.4 Renaming Columns"
   ]
  },
  {
   "cell_type": "code",
   "execution_count": 178,
   "id": "6dfe7dd8-9138-4214-9a24-9336e0cdb6fe",
   "metadata": {},
   "outputs": [],
   "source": [
    "# Renaming columns for better understanding and same format\n",
    "purchasing_power.rename(columns = {\n",
    "    'geo' : 'country',\n",
    "    'TIME_PERIOD' : 'year',\n",
    "    'OBS_VALUE' : 'purchasing_power_gdp',\n",
    "    'OBS_FLAG' : 'pp_gdp_data_flag'\n",
    "}, inplace = True)"
   ]
  },
  {
   "cell_type": "code",
   "execution_count": 180,
   "id": "d4f584b4-72d4-4e99-8fd3-221bba6e9c3c",
   "metadata": {},
   "outputs": [
    {
     "data": {
      "text/html": [
       "<div>\n",
       "<style scoped>\n",
       "    .dataframe tbody tr th:only-of-type {\n",
       "        vertical-align: middle;\n",
       "    }\n",
       "\n",
       "    .dataframe tbody tr th {\n",
       "        vertical-align: top;\n",
       "    }\n",
       "\n",
       "    .dataframe thead th {\n",
       "        text-align: right;\n",
       "    }\n",
       "</style>\n",
       "<table border=\"1\" class=\"dataframe\">\n",
       "  <thead>\n",
       "    <tr style=\"text-align: right;\">\n",
       "      <th></th>\n",
       "      <th>country</th>\n",
       "      <th>year</th>\n",
       "      <th>purchasing_power_gdp</th>\n",
       "      <th>pp_gdp_data_flag</th>\n",
       "    </tr>\n",
       "  </thead>\n",
       "  <tbody>\n",
       "    <tr>\n",
       "      <th>0</th>\n",
       "      <td>Albania</td>\n",
       "      <td>2003</td>\n",
       "      <td>4200</td>\n",
       "      <td>NaN</td>\n",
       "    </tr>\n",
       "    <tr>\n",
       "      <th>1</th>\n",
       "      <td>Albania</td>\n",
       "      <td>2004</td>\n",
       "      <td>4600</td>\n",
       "      <td>NaN</td>\n",
       "    </tr>\n",
       "    <tr>\n",
       "      <th>2</th>\n",
       "      <td>Albania</td>\n",
       "      <td>2005</td>\n",
       "      <td>4900</td>\n",
       "      <td>NaN</td>\n",
       "    </tr>\n",
       "    <tr>\n",
       "      <th>3</th>\n",
       "      <td>Albania</td>\n",
       "      <td>2006</td>\n",
       "      <td>5400</td>\n",
       "      <td>NaN</td>\n",
       "    </tr>\n",
       "    <tr>\n",
       "      <th>4</th>\n",
       "      <td>Albania</td>\n",
       "      <td>2007</td>\n",
       "      <td>6000</td>\n",
       "      <td>NaN</td>\n",
       "    </tr>\n",
       "  </tbody>\n",
       "</table>\n",
       "</div>"
      ],
      "text/plain": [
       "   country  year  purchasing_power_gdp pp_gdp_data_flag\n",
       "0  Albania  2003                  4200              NaN\n",
       "1  Albania  2004                  4600              NaN\n",
       "2  Albania  2005                  4900              NaN\n",
       "3  Albania  2006                  5400              NaN\n",
       "4  Albania  2007                  6000              NaN"
      ]
     },
     "execution_count": 180,
     "metadata": {},
     "output_type": "execute_result"
    }
   ],
   "source": [
    "purchasing_power.head()"
   ]
  },
  {
   "cell_type": "markdown",
   "id": "0c0c6279-3572-4c9e-9911-40ca6dadbfe4",
   "metadata": {},
   "source": [
    "## 04.5 Mixed Data Types"
   ]
  },
  {
   "cell_type": "code",
   "execution_count": 181,
   "id": "7957657b-0f04-4bc2-9951-b6737603e2fd",
   "metadata": {},
   "outputs": [
    {
     "name": "stdout",
     "output_type": "stream",
     "text": [
      "pp_gdp_data_flag\n"
     ]
    },
    {
     "name": "stderr",
     "output_type": "stream",
     "text": [
      "C:\\Users\\adrig\\AppData\\Local\\Temp\\ipykernel_35692\\1689887623.py:3: FutureWarning: DataFrame.applymap has been deprecated. Use DataFrame.map instead.\n",
      "  weird = (purchasing_power[[col]].applymap(type) != purchasing_power[[col]].iloc[0].apply(type)).any(axis=1)\n",
      "C:\\Users\\adrig\\AppData\\Local\\Temp\\ipykernel_35692\\1689887623.py:3: FutureWarning: DataFrame.applymap has been deprecated. Use DataFrame.map instead.\n",
      "  weird = (purchasing_power[[col]].applymap(type) != purchasing_power[[col]].iloc[0].apply(type)).any(axis=1)\n",
      "C:\\Users\\adrig\\AppData\\Local\\Temp\\ipykernel_35692\\1689887623.py:3: FutureWarning: DataFrame.applymap has been deprecated. Use DataFrame.map instead.\n",
      "  weird = (purchasing_power[[col]].applymap(type) != purchasing_power[[col]].iloc[0].apply(type)).any(axis=1)\n",
      "C:\\Users\\adrig\\AppData\\Local\\Temp\\ipykernel_35692\\1689887623.py:3: FutureWarning: DataFrame.applymap has been deprecated. Use DataFrame.map instead.\n",
      "  weird = (purchasing_power[[col]].applymap(type) != purchasing_power[[col]].iloc[0].apply(type)).any(axis=1)\n"
     ]
    }
   ],
   "source": [
    "# function to check for mixed-type columns\n",
    "for col in purchasing_power.columns.tolist():\n",
    "    weird = (purchasing_power[[col]].applymap(type) != purchasing_power[[col]].iloc[0].apply(type)).any(axis=1)\n",
    "    if len (purchasing_power[weird]) > 0:\n",
    "        print(col)"
   ]
  },
  {
   "cell_type": "code",
   "execution_count": 182,
   "id": "c5b2b87f-0916-4fa8-bc9f-0d65db003600",
   "metadata": {},
   "outputs": [],
   "source": [
    "# Changing data type for activities_data_flag variable\n",
    "purchasing_power['pp_gdp_data_flag'] = purchasing_power['pp_gdp_data_flag'].astype('category')"
   ]
  },
  {
   "cell_type": "code",
   "execution_count": 183,
   "id": "09e2036d-3f20-42bc-aea1-6899d6b6273b",
   "metadata": {},
   "outputs": [
    {
     "data": {
      "text/plain": [
       "country                   object\n",
       "year                       int64\n",
       "purchasing_power_gdp       int64\n",
       "pp_gdp_data_flag        category\n",
       "dtype: object"
      ]
     },
     "execution_count": 183,
     "metadata": {},
     "output_type": "execute_result"
    }
   ],
   "source": [
    "purchasing_power.dtypes"
   ]
  },
  {
   "cell_type": "markdown",
   "id": "d6e85b5d-f7d9-4533-af4c-bad3e1efc5ed",
   "metadata": {},
   "source": [
    "## 04.6 Missing Data"
   ]
  },
  {
   "cell_type": "code",
   "execution_count": 184,
   "id": "7d809191-b7b2-4648-99dc-85b9acc7e4c4",
   "metadata": {},
   "outputs": [
    {
     "data": {
      "text/plain": [
       "country                   0\n",
       "year                      0\n",
       "purchasing_power_gdp      0\n",
       "pp_gdp_data_flag        793\n",
       "dtype: int64"
      ]
     },
     "execution_count": 184,
     "metadata": {},
     "output_type": "execute_result"
    }
   ],
   "source": [
    "#looking for missing data \n",
    "purchasing_power.isnull().sum()"
   ]
  },
  {
   "cell_type": "markdown",
   "id": "5bd0180d-8dce-40ba-8f35-d9ebe58c5cf2",
   "metadata": {},
   "source": [
    "There is no missing data (the missing data in pp_gdp_data_flag refers to the values that do not have any observation flag). "
   ]
  },
  {
   "cell_type": "markdown",
   "id": "f4ccf613-57ae-446f-bcc5-6a92c3f031f1",
   "metadata": {},
   "source": [
    "## 04.7 Duplicate Values"
   ]
  },
  {
   "cell_type": "code",
   "execution_count": 185,
   "id": "43205ac3-922c-4449-82b3-a9befa7aa152",
   "metadata": {},
   "outputs": [],
   "source": [
    "# Creating a subset for the duplicate values\n",
    "pp_dups = purchasing_power[purchasing_power.duplicated()]"
   ]
  },
  {
   "cell_type": "code",
   "execution_count": 186,
   "id": "3648f943-e9f7-428e-bf02-ecdd424bf079",
   "metadata": {},
   "outputs": [
    {
     "data": {
      "text/html": [
       "<div>\n",
       "<style scoped>\n",
       "    .dataframe tbody tr th:only-of-type {\n",
       "        vertical-align: middle;\n",
       "    }\n",
       "\n",
       "    .dataframe tbody tr th {\n",
       "        vertical-align: top;\n",
       "    }\n",
       "\n",
       "    .dataframe thead th {\n",
       "        text-align: right;\n",
       "    }\n",
       "</style>\n",
       "<table border=\"1\" class=\"dataframe\">\n",
       "  <thead>\n",
       "    <tr style=\"text-align: right;\">\n",
       "      <th></th>\n",
       "      <th>country</th>\n",
       "      <th>year</th>\n",
       "      <th>purchasing_power_gdp</th>\n",
       "      <th>pp_gdp_data_flag</th>\n",
       "    </tr>\n",
       "  </thead>\n",
       "  <tbody>\n",
       "  </tbody>\n",
       "</table>\n",
       "</div>"
      ],
      "text/plain": [
       "Empty DataFrame\n",
       "Columns: [country, year, purchasing_power_gdp, pp_gdp_data_flag]\n",
       "Index: []"
      ]
     },
     "execution_count": 186,
     "metadata": {},
     "output_type": "execute_result"
    }
   ],
   "source": [
    "pp_dups"
   ]
  },
  {
   "cell_type": "markdown",
   "id": "b936b688-298e-4efc-8cdb-f555a49c79d5",
   "metadata": {},
   "source": [
    "There are no duplicated values."
   ]
  },
  {
   "cell_type": "markdown",
   "id": "18cbfa7d-0bf9-4d8a-88af-28f2b2338824",
   "metadata": {},
   "source": [
    "## 04.8 Exporting Data"
   ]
  },
  {
   "cell_type": "code",
   "execution_count": 187,
   "id": "d6e11844-ca7e-401f-a9c4-ac5e4e436dca",
   "metadata": {},
   "outputs": [],
   "source": [
    "# Exporting first dataframe internet_use_clean\n",
    "purchasing_power.to_csv(os.path.join(path, '02 Data', 'Prepared Data', 'purchasing_power_gdp_checked.csv'))"
   ]
  }
 ],
 "metadata": {
  "kernelspec": {
   "display_name": "Python 3 (ipykernel)",
   "language": "python",
   "name": "python3"
  },
  "language_info": {
   "codemirror_mode": {
    "name": "ipython",
    "version": 3
   },
   "file_extension": ".py",
   "mimetype": "text/x-python",
   "name": "python",
   "nbconvert_exporter": "python",
   "pygments_lexer": "ipython3",
   "version": "3.13.5"
  }
 },
 "nbformat": 4,
 "nbformat_minor": 5
}
