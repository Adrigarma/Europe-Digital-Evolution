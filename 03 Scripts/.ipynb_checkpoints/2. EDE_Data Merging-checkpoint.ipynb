{
 "cells": [
  {
   "cell_type": "markdown",
   "id": "c80beee0-0854-48a8-a41f-3b402f0a033f",
   "metadata": {},
   "source": [
    "# Content List\n",
    "\n",
    "## 1. Import Libraries\n",
    "\n",
    "## 2. Importa Data\n",
    "\n",
    "## 3. Concatenating Internet Activities Dataframes\n",
    "### 3.1 Checking Column Names\n",
    "### 3.2 Concatenating Dataframes\n",
    "\n",
    "## 4. Merging Dataframes: Frequency Internet Use, Internet Activities Concat and Purchasing Power GDP\n",
    "### 4.1 Checking Column Names\n",
    "### 4.2 Comparing Common Variables\n",
    "### 4.3 Merging Dataframes\n",
    "\n",
    "## 5. Changing Datatypes\n",
    "\n",
    "## 6. Exporting Data"
   ]
  },
  {
   "cell_type": "markdown",
   "id": "82c26f35-f2e0-414a-a6da-fc28acce097d",
   "metadata": {},
   "source": [
    "# 01. Import Libraries"
   ]
  },
  {
   "cell_type": "code",
   "execution_count": 25,
   "id": "6e6e774a-edb2-419e-a332-05c6ecfefe1c",
   "metadata": {},
   "outputs": [],
   "source": [
    "# Import libraries\n",
    "import pandas as pd\n",
    "import numpy as np\n",
    "import os"
   ]
  },
  {
   "cell_type": "markdown",
   "id": "97bf9f11-1256-4689-913f-125e27474c15",
   "metadata": {},
   "source": [
    "# 02. Import Data"
   ]
  },
  {
   "cell_type": "code",
   "execution_count": 26,
   "id": "78f38486-7743-43c7-a4c8-fba467f68f3a",
   "metadata": {},
   "outputs": [
    {
     "data": {
      "text/plain": [
       "'C:\\\\Users\\\\adrig\\\\OneDrive\\\\Documentos\\\\CAREERFOUNDRY\\\\DATA IMMERSION\\\\ACHIEVEMENT 6\\\\Internet use in EU'"
      ]
     },
     "execution_count": 26,
     "metadata": {},
     "output_type": "execute_result"
    }
   ],
   "source": [
    "# Create path to use as shortcut to access project folder for importing data\n",
    "path = r'C:\\Users\\adrig\\OneDrive\\Documentos\\CAREERFOUNDRY\\DATA IMMERSION\\ACHIEVEMENT 6\\Internet use in EU'\n",
    "path"
   ]
  },
  {
   "cell_type": "code",
   "execution_count": 27,
   "id": "08acf66a-83e1-4442-9163-d1831009b02b",
   "metadata": {},
   "outputs": [],
   "source": [
    "# Import dataset frequency_interent_use\n",
    "internet_use = pd.read_csv(os.path.join(path, '02 Data', 'Prepared Data', 'freq_internet_use_checked.csv'), index_col=0)"
   ]
  },
  {
   "cell_type": "code",
   "execution_count": 28,
   "id": "6582e88c-85dc-45e2-8d15-92ba0e3273e3",
   "metadata": {},
   "outputs": [
    {
     "data": {
      "text/plain": [
       "(88519, 6)"
      ]
     },
     "execution_count": 28,
     "metadata": {},
     "output_type": "execute_result"
    }
   ],
   "source": [
    "internet_use.shape"
   ]
  },
  {
   "cell_type": "code",
   "execution_count": 29,
   "id": "4590bbd1-47e2-45b8-a32a-e04396d6e3a4",
   "metadata": {},
   "outputs": [
    {
     "data": {
      "text/html": [
       "<div>\n",
       "<style scoped>\n",
       "    .dataframe tbody tr th:only-of-type {\n",
       "        vertical-align: middle;\n",
       "    }\n",
       "\n",
       "    .dataframe tbody tr th {\n",
       "        vertical-align: top;\n",
       "    }\n",
       "\n",
       "    .dataframe thead th {\n",
       "        text-align: right;\n",
       "    }\n",
       "</style>\n",
       "<table border=\"1\" class=\"dataframe\">\n",
       "  <thead>\n",
       "    <tr style=\"text-align: right;\">\n",
       "      <th></th>\n",
       "      <th>freq_internet_access</th>\n",
       "      <th>demographic_group</th>\n",
       "      <th>country</th>\n",
       "      <th>year</th>\n",
       "      <th>internet_access_rate</th>\n",
       "      <th>freq_data_flag</th>\n",
       "    </tr>\n",
       "  </thead>\n",
       "  <tbody>\n",
       "    <tr>\n",
       "      <th>0</th>\n",
       "      <td>daily</td>\n",
       "      <td>Persons aged 16-74 working in agriculture, for...</td>\n",
       "      <td>Austria</td>\n",
       "      <td>2021</td>\n",
       "      <td>71.67</td>\n",
       "      <td>NaN</td>\n",
       "    </tr>\n",
       "    <tr>\n",
       "      <th>1</th>\n",
       "      <td>daily</td>\n",
       "      <td>Persons aged 16-74 working in agriculture, for...</td>\n",
       "      <td>Austria</td>\n",
       "      <td>2022</td>\n",
       "      <td>74.32</td>\n",
       "      <td>NaN</td>\n",
       "    </tr>\n",
       "    <tr>\n",
       "      <th>2</th>\n",
       "      <td>daily</td>\n",
       "      <td>Persons aged 16-74 working in agriculture, for...</td>\n",
       "      <td>Austria</td>\n",
       "      <td>2023</td>\n",
       "      <td>78.30</td>\n",
       "      <td>NaN</td>\n",
       "    </tr>\n",
       "    <tr>\n",
       "      <th>3</th>\n",
       "      <td>daily</td>\n",
       "      <td>Persons aged 16-74 working in agriculture, for...</td>\n",
       "      <td>Austria</td>\n",
       "      <td>2024</td>\n",
       "      <td>65.60</td>\n",
       "      <td>NaN</td>\n",
       "    </tr>\n",
       "    <tr>\n",
       "      <th>4</th>\n",
       "      <td>daily</td>\n",
       "      <td>Persons aged 16-74 working in agriculture, for...</td>\n",
       "      <td>Belgium</td>\n",
       "      <td>2021</td>\n",
       "      <td>73.35</td>\n",
       "      <td>u</td>\n",
       "    </tr>\n",
       "  </tbody>\n",
       "</table>\n",
       "</div>"
      ],
      "text/plain": [
       "  freq_internet_access                                  demographic_group  \\\n",
       "0                daily  Persons aged 16-74 working in agriculture, for...   \n",
       "1                daily  Persons aged 16-74 working in agriculture, for...   \n",
       "2                daily  Persons aged 16-74 working in agriculture, for...   \n",
       "3                daily  Persons aged 16-74 working in agriculture, for...   \n",
       "4                daily  Persons aged 16-74 working in agriculture, for...   \n",
       "\n",
       "   country  year  internet_access_rate freq_data_flag  \n",
       "0  Austria  2021                 71.67            NaN  \n",
       "1  Austria  2022                 74.32            NaN  \n",
       "2  Austria  2023                 78.30            NaN  \n",
       "3  Austria  2024                 65.60            NaN  \n",
       "4  Belgium  2021                 73.35              u  "
      ]
     },
     "execution_count": 29,
     "metadata": {},
     "output_type": "execute_result"
    }
   ],
   "source": [
    "internet_use.head()"
   ]
  },
  {
   "cell_type": "code",
   "execution_count": 30,
   "id": "c0085c08-860b-43c9-b0ad-48a15c827535",
   "metadata": {},
   "outputs": [],
   "source": [
    "# Import dataset internet_activities\n",
    "internet_activities = pd.read_csv(os.path.join(path, '02 Data', 'Prepared Data', 'internet_activities_checked.csv'), index_col=0)"
   ]
  },
  {
   "cell_type": "code",
   "execution_count": 31,
   "id": "ebb1218f-2933-459b-94a7-6a8f51517968",
   "metadata": {},
   "outputs": [
    {
     "data": {
      "text/plain": [
       "(56471, 6)"
      ]
     },
     "execution_count": 31,
     "metadata": {},
     "output_type": "execute_result"
    }
   ],
   "source": [
    "internet_activities.shape"
   ]
  },
  {
   "cell_type": "code",
   "execution_count": 32,
   "id": "61f3fa41-139c-43f8-82e7-4dca09977126",
   "metadata": {},
   "outputs": [
    {
     "data": {
      "text/html": [
       "<div>\n",
       "<style scoped>\n",
       "    .dataframe tbody tr th:only-of-type {\n",
       "        vertical-align: middle;\n",
       "    }\n",
       "\n",
       "    .dataframe tbody tr th {\n",
       "        vertical-align: top;\n",
       "    }\n",
       "\n",
       "    .dataframe thead th {\n",
       "        text-align: right;\n",
       "    }\n",
       "</style>\n",
       "<table border=\"1\" class=\"dataframe\">\n",
       "  <thead>\n",
       "    <tr style=\"text-align: right;\">\n",
       "      <th></th>\n",
       "      <th>internet_activities</th>\n",
       "      <th>demographic_group</th>\n",
       "      <th>country</th>\n",
       "      <th>year</th>\n",
       "      <th>internet_activities_rate</th>\n",
       "      <th>activities_data_flag</th>\n",
       "    </tr>\n",
       "  </thead>\n",
       "  <tbody>\n",
       "    <tr>\n",
       "      <th>0</th>\n",
       "      <td>Internet banking</td>\n",
       "      <td>Females with low formal education</td>\n",
       "      <td>Austria</td>\n",
       "      <td>2004</td>\n",
       "      <td>3.940000</td>\n",
       "      <td>NaN</td>\n",
       "    </tr>\n",
       "    <tr>\n",
       "      <th>1</th>\n",
       "      <td>Internet banking</td>\n",
       "      <td>Females with low formal education</td>\n",
       "      <td>Austria</td>\n",
       "      <td>2005</td>\n",
       "      <td>4.710000</td>\n",
       "      <td>NaN</td>\n",
       "    </tr>\n",
       "    <tr>\n",
       "      <th>2</th>\n",
       "      <td>Internet banking</td>\n",
       "      <td>Females with low formal education</td>\n",
       "      <td>Austria</td>\n",
       "      <td>2006</td>\n",
       "      <td>5.290000</td>\n",
       "      <td>NaN</td>\n",
       "    </tr>\n",
       "    <tr>\n",
       "      <th>3</th>\n",
       "      <td>Internet banking</td>\n",
       "      <td>Females with low formal education</td>\n",
       "      <td>Austria</td>\n",
       "      <td>2007</td>\n",
       "      <td>24.692171</td>\n",
       "      <td>u</td>\n",
       "    </tr>\n",
       "    <tr>\n",
       "      <th>4</th>\n",
       "      <td>Internet banking</td>\n",
       "      <td>Females with low formal education</td>\n",
       "      <td>Austria</td>\n",
       "      <td>2008</td>\n",
       "      <td>7.940000</td>\n",
       "      <td>NaN</td>\n",
       "    </tr>\n",
       "  </tbody>\n",
       "</table>\n",
       "</div>"
      ],
      "text/plain": [
       "  internet_activities                  demographic_group  country  year  \\\n",
       "0    Internet banking  Females with low formal education  Austria  2004   \n",
       "1    Internet banking  Females with low formal education  Austria  2005   \n",
       "2    Internet banking  Females with low formal education  Austria  2006   \n",
       "3    Internet banking  Females with low formal education  Austria  2007   \n",
       "4    Internet banking  Females with low formal education  Austria  2008   \n",
       "\n",
       "   internet_activities_rate activities_data_flag  \n",
       "0                  3.940000                  NaN  \n",
       "1                  4.710000                  NaN  \n",
       "2                  5.290000                  NaN  \n",
       "3                 24.692171                    u  \n",
       "4                  7.940000                  NaN  "
      ]
     },
     "execution_count": 32,
     "metadata": {},
     "output_type": "execute_result"
    }
   ],
   "source": [
    "internet_activities.head()"
   ]
  },
  {
   "cell_type": "code",
   "execution_count": 33,
   "id": "45fd168f-3580-48cc-80ea-0ac2475d675f",
   "metadata": {},
   "outputs": [],
   "source": [
    "# Import dataset internet_activities2\n",
    "internet_activities2 = pd.read_csv(os.path.join(path, '02 Data', 'Prepared Data', 'internet_activities2_checked.csv'), index_col=0)"
   ]
  },
  {
   "cell_type": "code",
   "execution_count": 34,
   "id": "2e891beb-ac11-476c-995e-42767c8cd8f9",
   "metadata": {},
   "outputs": [
    {
     "data": {
      "text/plain": [
       "(153419, 6)"
      ]
     },
     "execution_count": 34,
     "metadata": {},
     "output_type": "execute_result"
    }
   ],
   "source": [
    "internet_activities2.shape"
   ]
  },
  {
   "cell_type": "code",
   "execution_count": 35,
   "id": "4320dc94-7a68-4dc3-9ff1-002f542beb4c",
   "metadata": {},
   "outputs": [
    {
     "data": {
      "text/html": [
       "<div>\n",
       "<style scoped>\n",
       "    .dataframe tbody tr th:only-of-type {\n",
       "        vertical-align: middle;\n",
       "    }\n",
       "\n",
       "    .dataframe tbody tr th {\n",
       "        vertical-align: top;\n",
       "    }\n",
       "\n",
       "    .dataframe thead th {\n",
       "        text-align: right;\n",
       "    }\n",
       "</style>\n",
       "<table border=\"1\" class=\"dataframe\">\n",
       "  <thead>\n",
       "    <tr style=\"text-align: right;\">\n",
       "      <th></th>\n",
       "      <th>internet_activities</th>\n",
       "      <th>demographic_group</th>\n",
       "      <th>country</th>\n",
       "      <th>year</th>\n",
       "      <th>internet_activities_rate</th>\n",
       "      <th>activities_data_flag</th>\n",
       "    </tr>\n",
       "  </thead>\n",
       "  <tbody>\n",
       "    <tr>\n",
       "      <th>0</th>\n",
       "      <td>Internet banking</td>\n",
       "      <td>Employees working full time</td>\n",
       "      <td>Albania</td>\n",
       "      <td>2018</td>\n",
       "      <td>2.83</td>\n",
       "      <td>NaN</td>\n",
       "    </tr>\n",
       "    <tr>\n",
       "      <th>1</th>\n",
       "      <td>Internet banking</td>\n",
       "      <td>Employees working full time</td>\n",
       "      <td>Albania</td>\n",
       "      <td>2019</td>\n",
       "      <td>2.72</td>\n",
       "      <td>NaN</td>\n",
       "    </tr>\n",
       "    <tr>\n",
       "      <th>2</th>\n",
       "      <td>Internet banking</td>\n",
       "      <td>Employees working full time</td>\n",
       "      <td>Austria</td>\n",
       "      <td>2017</td>\n",
       "      <td>69.41</td>\n",
       "      <td>NaN</td>\n",
       "    </tr>\n",
       "    <tr>\n",
       "      <th>3</th>\n",
       "      <td>Internet banking</td>\n",
       "      <td>Employees working full time</td>\n",
       "      <td>Austria</td>\n",
       "      <td>2018</td>\n",
       "      <td>69.62</td>\n",
       "      <td>NaN</td>\n",
       "    </tr>\n",
       "    <tr>\n",
       "      <th>4</th>\n",
       "      <td>Internet banking</td>\n",
       "      <td>Employees working full time</td>\n",
       "      <td>Austria</td>\n",
       "      <td>2019</td>\n",
       "      <td>73.70</td>\n",
       "      <td>NaN</td>\n",
       "    </tr>\n",
       "  </tbody>\n",
       "</table>\n",
       "</div>"
      ],
      "text/plain": [
       "  internet_activities            demographic_group  country  year  \\\n",
       "0    Internet banking  Employees working full time  Albania  2018   \n",
       "1    Internet banking  Employees working full time  Albania  2019   \n",
       "2    Internet banking  Employees working full time  Austria  2017   \n",
       "3    Internet banking  Employees working full time  Austria  2018   \n",
       "4    Internet banking  Employees working full time  Austria  2019   \n",
       "\n",
       "   internet_activities_rate activities_data_flag  \n",
       "0                      2.83                  NaN  \n",
       "1                      2.72                  NaN  \n",
       "2                     69.41                  NaN  \n",
       "3                     69.62                  NaN  \n",
       "4                     73.70                  NaN  "
      ]
     },
     "execution_count": 35,
     "metadata": {},
     "output_type": "execute_result"
    }
   ],
   "source": [
    "internet_activities2.head()"
   ]
  },
  {
   "cell_type": "code",
   "execution_count": 36,
   "id": "8c76089f-21b8-4805-86ff-2ccb35191ee7",
   "metadata": {},
   "outputs": [],
   "source": [
    "# Import dataset internet_activities3\n",
    "internet_activities3 = pd.read_csv(os.path.join(path, '02 Data', 'Prepared Data', 'internet_activities3_checked.csv'), index_col=0)"
   ]
  },
  {
   "cell_type": "code",
   "execution_count": 37,
   "id": "2ca714dd-c729-4ed2-8c7a-9db49f5c7bc4",
   "metadata": {},
   "outputs": [
    {
     "data": {
      "text/plain": [
       "(102892, 6)"
      ]
     },
     "execution_count": 37,
     "metadata": {},
     "output_type": "execute_result"
    }
   ],
   "source": [
    "internet_activities3.shape"
   ]
  },
  {
   "cell_type": "code",
   "execution_count": 38,
   "id": "d850755d-3ffb-4087-a082-9ed4cae1b668",
   "metadata": {},
   "outputs": [
    {
     "data": {
      "text/html": [
       "<div>\n",
       "<style scoped>\n",
       "    .dataframe tbody tr th:only-of-type {\n",
       "        vertical-align: middle;\n",
       "    }\n",
       "\n",
       "    .dataframe tbody tr th {\n",
       "        vertical-align: top;\n",
       "    }\n",
       "\n",
       "    .dataframe thead th {\n",
       "        text-align: right;\n",
       "    }\n",
       "</style>\n",
       "<table border=\"1\" class=\"dataframe\">\n",
       "  <thead>\n",
       "    <tr style=\"text-align: right;\">\n",
       "      <th></th>\n",
       "      <th>internet_activities</th>\n",
       "      <th>demographic_group</th>\n",
       "      <th>country</th>\n",
       "      <th>year</th>\n",
       "      <th>internet_activities_rate</th>\n",
       "      <th>activities_data_flag</th>\n",
       "    </tr>\n",
       "  </thead>\n",
       "  <tbody>\n",
       "    <tr>\n",
       "      <th>0</th>\n",
       "      <td>accessing personal health records online</td>\n",
       "      <td>Persons aged 16-74 working in agriculture, for...</td>\n",
       "      <td>Austria</td>\n",
       "      <td>2022</td>\n",
       "      <td>12.47</td>\n",
       "      <td>NaN</td>\n",
       "    </tr>\n",
       "    <tr>\n",
       "      <th>1</th>\n",
       "      <td>accessing personal health records online</td>\n",
       "      <td>Persons aged 16-74 working in agriculture, for...</td>\n",
       "      <td>Austria</td>\n",
       "      <td>2024</td>\n",
       "      <td>9.03</td>\n",
       "      <td>NaN</td>\n",
       "    </tr>\n",
       "    <tr>\n",
       "      <th>2</th>\n",
       "      <td>accessing personal health records online</td>\n",
       "      <td>Persons aged 16-74 working in agriculture, for...</td>\n",
       "      <td>Belgium</td>\n",
       "      <td>2022</td>\n",
       "      <td>14.77</td>\n",
       "      <td>u</td>\n",
       "    </tr>\n",
       "    <tr>\n",
       "      <th>3</th>\n",
       "      <td>accessing personal health records online</td>\n",
       "      <td>Persons aged 16-74 working in agriculture, for...</td>\n",
       "      <td>Belgium</td>\n",
       "      <td>2024</td>\n",
       "      <td>46.79</td>\n",
       "      <td>u</td>\n",
       "    </tr>\n",
       "    <tr>\n",
       "      <th>4</th>\n",
       "      <td>accessing personal health records online</td>\n",
       "      <td>Persons aged 16-74 working in agriculture, for...</td>\n",
       "      <td>Bulgaria</td>\n",
       "      <td>2022</td>\n",
       "      <td>10.92</td>\n",
       "      <td>NaN</td>\n",
       "    </tr>\n",
       "  </tbody>\n",
       "</table>\n",
       "</div>"
      ],
      "text/plain": [
       "                        internet_activities  \\\n",
       "0  accessing personal health records online   \n",
       "1  accessing personal health records online   \n",
       "2  accessing personal health records online   \n",
       "3  accessing personal health records online   \n",
       "4  accessing personal health records online   \n",
       "\n",
       "                                   demographic_group   country  year  \\\n",
       "0  Persons aged 16-74 working in agriculture, for...   Austria  2022   \n",
       "1  Persons aged 16-74 working in agriculture, for...   Austria  2024   \n",
       "2  Persons aged 16-74 working in agriculture, for...   Belgium  2022   \n",
       "3  Persons aged 16-74 working in agriculture, for...   Belgium  2024   \n",
       "4  Persons aged 16-74 working in agriculture, for...  Bulgaria  2022   \n",
       "\n",
       "   internet_activities_rate activities_data_flag  \n",
       "0                     12.47                  NaN  \n",
       "1                      9.03                  NaN  \n",
       "2                     14.77                    u  \n",
       "3                     46.79                    u  \n",
       "4                     10.92                  NaN  "
      ]
     },
     "execution_count": 38,
     "metadata": {},
     "output_type": "execute_result"
    }
   ],
   "source": [
    "internet_activities3.head()"
   ]
  },
  {
   "cell_type": "code",
   "execution_count": 39,
   "id": "b6e89183-8c90-468e-bb3d-c878f390db8b",
   "metadata": {},
   "outputs": [],
   "source": [
    "# Import dataset purchasing_power_gdp\n",
    "pp_gdp = pd.read_csv(os.path.join(path, '02 Data', 'Prepared Data', 'purchasing_power_gdp_checked.csv'), index_col=0)"
   ]
  },
  {
   "cell_type": "code",
   "execution_count": 40,
   "id": "b64cb811-4b49-454d-b788-6cae22e6cb29",
   "metadata": {},
   "outputs": [
    {
     "data": {
      "text/plain": [
       "(809, 4)"
      ]
     },
     "execution_count": 40,
     "metadata": {},
     "output_type": "execute_result"
    }
   ],
   "source": [
    "pp_gdp.shape"
   ]
  },
  {
   "cell_type": "code",
   "execution_count": 41,
   "id": "f276f01a-8ed9-4458-9f08-6d0de3cb972d",
   "metadata": {},
   "outputs": [
    {
     "data": {
      "text/html": [
       "<div>\n",
       "<style scoped>\n",
       "    .dataframe tbody tr th:only-of-type {\n",
       "        vertical-align: middle;\n",
       "    }\n",
       "\n",
       "    .dataframe tbody tr th {\n",
       "        vertical-align: top;\n",
       "    }\n",
       "\n",
       "    .dataframe thead th {\n",
       "        text-align: right;\n",
       "    }\n",
       "</style>\n",
       "<table border=\"1\" class=\"dataframe\">\n",
       "  <thead>\n",
       "    <tr style=\"text-align: right;\">\n",
       "      <th></th>\n",
       "      <th>country</th>\n",
       "      <th>year</th>\n",
       "      <th>purchasing_power_gdp</th>\n",
       "      <th>pp_gdp_data_flag</th>\n",
       "    </tr>\n",
       "  </thead>\n",
       "  <tbody>\n",
       "    <tr>\n",
       "      <th>0</th>\n",
       "      <td>Albania</td>\n",
       "      <td>2003</td>\n",
       "      <td>4200</td>\n",
       "      <td>NaN</td>\n",
       "    </tr>\n",
       "    <tr>\n",
       "      <th>1</th>\n",
       "      <td>Albania</td>\n",
       "      <td>2004</td>\n",
       "      <td>4600</td>\n",
       "      <td>NaN</td>\n",
       "    </tr>\n",
       "    <tr>\n",
       "      <th>2</th>\n",
       "      <td>Albania</td>\n",
       "      <td>2005</td>\n",
       "      <td>4900</td>\n",
       "      <td>NaN</td>\n",
       "    </tr>\n",
       "    <tr>\n",
       "      <th>3</th>\n",
       "      <td>Albania</td>\n",
       "      <td>2006</td>\n",
       "      <td>5400</td>\n",
       "      <td>NaN</td>\n",
       "    </tr>\n",
       "    <tr>\n",
       "      <th>4</th>\n",
       "      <td>Albania</td>\n",
       "      <td>2007</td>\n",
       "      <td>6000</td>\n",
       "      <td>NaN</td>\n",
       "    </tr>\n",
       "  </tbody>\n",
       "</table>\n",
       "</div>"
      ],
      "text/plain": [
       "   country  year  purchasing_power_gdp pp_gdp_data_flag\n",
       "0  Albania  2003                  4200              NaN\n",
       "1  Albania  2004                  4600              NaN\n",
       "2  Albania  2005                  4900              NaN\n",
       "3  Albania  2006                  5400              NaN\n",
       "4  Albania  2007                  6000              NaN"
      ]
     },
     "execution_count": 41,
     "metadata": {},
     "output_type": "execute_result"
    }
   ],
   "source": [
    "pp_gdp.head()"
   ]
  },
  {
   "cell_type": "markdown",
   "id": "9bc42ef5-9821-4fe8-b73c-21fb04c2bf6a",
   "metadata": {},
   "source": [
    "# 03. Concatanating Internet Activities Dataframes"
   ]
  },
  {
   "cell_type": "markdown",
   "id": "cc2128f9-3c15-439b-b46f-f0b0ec288b10",
   "metadata": {},
   "source": [
    "## 03.1 Checking Columns Names"
   ]
  },
  {
   "cell_type": "code",
   "execution_count": 42,
   "id": "54ea8f81-ba3b-4950-bfa7-62601693e925",
   "metadata": {},
   "outputs": [
    {
     "name": "stdout",
     "output_type": "stream",
     "text": [
      "['internet_activities', 'demographic_group', 'country', 'year', 'internet_activities_rate', 'activities_data_flag']\n"
     ]
    }
   ],
   "source": [
    "print(internet_activities.columns.tolist())"
   ]
  },
  {
   "cell_type": "code",
   "execution_count": 43,
   "id": "24b31b1f-ee18-4327-b3c5-f5100ad9d897",
   "metadata": {},
   "outputs": [
    {
     "name": "stdout",
     "output_type": "stream",
     "text": [
      "['internet_activities', 'demographic_group', 'country', 'year', 'internet_activities_rate', 'activities_data_flag']\n"
     ]
    }
   ],
   "source": [
    "print(internet_activities2.columns.tolist())"
   ]
  },
  {
   "cell_type": "code",
   "execution_count": 44,
   "id": "1d1fcf63-6f9d-433e-825b-438bd52c4231",
   "metadata": {},
   "outputs": [
    {
     "name": "stdout",
     "output_type": "stream",
     "text": [
      "['internet_activities', 'demographic_group', 'country', 'year', 'internet_activities_rate', 'activities_data_flag']\n"
     ]
    }
   ],
   "source": [
    "print(internet_activities3.columns.tolist())"
   ]
  },
  {
   "cell_type": "markdown",
   "id": "ff8d0080-bbda-4fc7-80ff-de8717bd0156",
   "metadata": {},
   "source": [
    "## 03.2 Concatanating Dataframes"
   ]
  },
  {
   "cell_type": "code",
   "execution_count": 45,
   "id": "ce3e5cd3-45c1-428d-b934-960689da3722",
   "metadata": {},
   "outputs": [],
   "source": [
    "# Create a list with the dataframes\n",
    "frames = [internet_activities, internet_activities2, internet_activities3]\n",
    "# Concatenate\n",
    "internet_activities_concat = pd.concat(frames, ignore_index=True)"
   ]
  },
  {
   "cell_type": "code",
   "execution_count": 46,
   "id": "0d7710bf-eb02-40e0-a9ce-d2a6d5b69208",
   "metadata": {},
   "outputs": [
    {
     "name": "stdout",
     "output_type": "stream",
     "text": [
      "<class 'pandas.core.frame.DataFrame'>\n",
      "RangeIndex: 312782 entries, 0 to 312781\n",
      "Data columns (total 6 columns):\n",
      " #   Column                    Non-Null Count   Dtype  \n",
      "---  ------                    --------------   -----  \n",
      " 0   internet_activities       312782 non-null  object \n",
      " 1   demographic_group         312782 non-null  object \n",
      " 2   country                   312782 non-null  object \n",
      " 3   year                      312782 non-null  int64  \n",
      " 4   internet_activities_rate  312782 non-null  float64\n",
      " 5   activities_data_flag      21225 non-null   object \n",
      "dtypes: float64(1), int64(1), object(4)\n",
      "memory usage: 14.3+ MB\n"
     ]
    }
   ],
   "source": [
    "# Checking results\n",
    "internet_activities_concat.info()"
   ]
  },
  {
   "cell_type": "code",
   "execution_count": 47,
   "id": "a79b39a9-2892-44a3-bfa0-9b5679186efd",
   "metadata": {},
   "outputs": [
    {
     "data": {
      "text/plain": [
       "year\n",
       "2003     1579\n",
       "2004     5795\n",
       "2005     6832\n",
       "2006     7940\n",
       "2007     9189\n",
       "2008    10762\n",
       "2009    14374\n",
       "2010    13867\n",
       "2011    11230\n",
       "2012    13104\n",
       "2013    13850\n",
       "2014    12048\n",
       "2015    17122\n",
       "2016    15542\n",
       "2017    22170\n",
       "2018    14600\n",
       "2019    19886\n",
       "2020    21119\n",
       "2021    19386\n",
       "2022    20968\n",
       "2023    18693\n",
       "2024    22726\n",
       "Name: count, dtype: int64"
      ]
     },
     "execution_count": 47,
     "metadata": {},
     "output_type": "execute_result"
    }
   ],
   "source": [
    "# Checking if all years were included\n",
    "internet_activities_concat['year'].value_counts().sort_index()"
   ]
  },
  {
   "cell_type": "code",
   "execution_count": 50,
   "id": "ff9c5d87-08d2-47c3-8b8a-b4a5be7c1dec",
   "metadata": {},
   "outputs": [],
   "source": [
    "# Exporting dataframe\n",
    "internet_activities_concat.to_csv(os.path.join(path, '02 Data', 'Prepared Data', 'internet_activities_concat.csv'))"
   ]
  },
  {
   "cell_type": "markdown",
   "id": "2da80a3a-f0a6-4e34-b5e8-57dd0570843a",
   "metadata": {},
   "source": [
    "# 04. Merging Dataframes: Frequency Internet Use, Internet Activities Concat and Purchasing Power GDP"
   ]
  },
  {
   "cell_type": "markdown",
   "id": "44ac955b-b76d-4147-888a-f8cd296923f1",
   "metadata": {},
   "source": [
    "## 04.1 Checking Column Names"
   ]
  },
  {
   "cell_type": "code",
   "execution_count": 51,
   "id": "bf36c7a3-1a44-4a57-a6a9-350247fb7e43",
   "metadata": {},
   "outputs": [
    {
     "name": "stdout",
     "output_type": "stream",
     "text": [
      "['freq_internet_access', 'demographic_group', 'country', 'year', 'internet_access_rate', 'freq_data_flag']\n"
     ]
    }
   ],
   "source": [
    "print(internet_use.columns.tolist())"
   ]
  },
  {
   "cell_type": "code",
   "execution_count": 52,
   "id": "3f2f5a1e-d501-437f-a541-b402cc62bc0a",
   "metadata": {},
   "outputs": [
    {
     "name": "stdout",
     "output_type": "stream",
     "text": [
      "['internet_activities', 'demographic_group', 'country', 'year', 'internet_activities_rate', 'activities_data_flag']\n"
     ]
    }
   ],
   "source": [
    "print(internet_activities_concat.columns.tolist())"
   ]
  },
  {
   "cell_type": "markdown",
   "id": "4f12e3d7-8c4c-4668-9a18-4575287fa4dd",
   "metadata": {},
   "source": [
    "The first two dataframes have the next columns in common: 'demographic_group', 'country' and 'year'.\n",
    "It is needed to check if the values on this columns also match. "
   ]
  },
  {
   "cell_type": "code",
   "execution_count": 53,
   "id": "19c93b6a-84d5-4498-86f1-3cdcdc19e826",
   "metadata": {},
   "outputs": [
    {
     "name": "stdout",
     "output_type": "stream",
     "text": [
      "['country', 'year', 'purchasing_power_gdp', 'pp_gdp_data_flag']\n"
     ]
    }
   ],
   "source": [
    "print(pp_gdp.columns.tolist())"
   ]
  },
  {
   "cell_type": "markdown",
   "id": "b949386e-1645-46a2-91de-dbd54bc4ed6f",
   "metadata": {},
   "source": [
    "The third dataframe have the columns: 'country' and 'year' in common with the first two. \n",
    "It is needed to check if the values on this columns also match. "
   ]
  },
  {
   "cell_type": "markdown",
   "id": "abbba245-f446-4faa-ac56-f7e59a51c83e",
   "metadata": {},
   "source": [
    "## 04.2 Comparing Common Variables Values"
   ]
  },
  {
   "cell_type": "code",
   "execution_count": 54,
   "id": "4d8040c9-c894-470a-9e3e-382a11124ddd",
   "metadata": {},
   "outputs": [
    {
     "data": {
      "text/plain": [
       "demographic_group\n",
       "All individuals                                                                                     2630\n",
       "Individuals with medium formal education                                                            2611\n",
       "Individuals, 35 to 44 years old                                                                     2569\n",
       "Individuals, 45 to 54 years old                                                                     2562\n",
       "Individuals, 25 to 34 years old                                                                     2557\n",
       "                                                                                                    ... \n",
       "Persons aged 16-74 working in administrative or support service activities                            81\n",
       "Persons aged 16-74 working in real estate activities                                                  58\n",
       "Persons aged 16-74 working in electricity, gas, steam or air conditioning supply                      55\n",
       "Persons aged 16-74 working in water supply; sewerage, waste management or remediation activities      42\n",
       "Persons aged 16-74 working in mining or quarrying                                                     18\n",
       "Name: count, Length: 72, dtype: int64"
      ]
     },
     "execution_count": 54,
     "metadata": {},
     "output_type": "execute_result"
    }
   ],
   "source": [
    "internet_use['demographic_group'].value_counts()"
   ]
  },
  {
   "cell_type": "code",
   "execution_count": 55,
   "id": "91f75cfe-6fa9-4817-bf0a-4b67d5ccc3a4",
   "metadata": {},
   "outputs": [
    {
     "data": {
      "text/plain": [
       "demographic_group\n",
       "All individuals                                                                                     8091\n",
       "Individuals with medium formal education                                                            8087\n",
       "Individuals with high formal education                                                              8087\n",
       "Individuals, 16 to 24 years old                                                                     8083\n",
       "Individuals, 55 to 64 years old                                                                     8083\n",
       "                                                                                                    ... \n",
       "Persons aged 16-74 working in other service activities                                               945\n",
       "Persons aged 16-74 working in water supply; sewerage, waste management or remediation activities     927\n",
       "Persons aged 16-74 working in real estate activities                                                 927\n",
       "Persons aged 16-74 working in mining or quarrying                                                    883\n",
       "Retired Individuals                                                                                  355\n",
       "Name: count, Length: 72, dtype: int64"
      ]
     },
     "execution_count": 55,
     "metadata": {},
     "output_type": "execute_result"
    }
   ],
   "source": [
    "internet_activities_concat['demographic_group'].value_counts()"
   ]
  },
  {
   "cell_type": "code",
   "execution_count": 56,
   "id": "82395632-906d-4ae5-ac0b-df3e9a16b3a3",
   "metadata": {},
   "outputs": [
    {
     "data": {
      "text/plain": [
       "set()"
      ]
     },
     "execution_count": 56,
     "metadata": {},
     "output_type": "execute_result"
    }
   ],
   "source": [
    "# Comparing unique values between  first two datframes\n",
    "set(internet_use['demographic_group'].unique()) - set(internet_activities_concat['demographic_group'].unique())"
   ]
  },
  {
   "cell_type": "markdown",
   "id": "b6968890-b4ce-4626-8c5f-b5d6f508ce24",
   "metadata": {},
   "source": [
    "All unique values match!"
   ]
  },
  {
   "cell_type": "code",
   "execution_count": 57,
   "id": "8e3e9792-f427-4858-8bef-32e60286533e",
   "metadata": {},
   "outputs": [
    {
     "data": {
      "text/plain": [
       "country\n",
       "Albania                    848\n",
       "Austria                   2660\n",
       "Belgium                   2777\n",
       "Bosnia and Herzegovina     722\n",
       "Bulgaria                  2593\n",
       "Croatia                   2393\n",
       "Cyprus                    2839\n",
       "Czechia                   2810\n",
       "Denmark                   2843\n",
       "Estonia                   2658\n",
       "Finland                   2675\n",
       "France                    2254\n",
       "Germany                   2628\n",
       "Greece                    2865\n",
       "Hungary                   2847\n",
       "Iceland                   1868\n",
       "Ireland                   2582\n",
       "Italy                     2612\n",
       "Kosovo*                    549\n",
       "Latvia                    2812\n",
       "Lithuania                 2829\n",
       "Luxembourg                2888\n",
       "Malta                     2580\n",
       "Montenegro                1003\n",
       "Netherlands               2742\n",
       "North Macedonia           1637\n",
       "Norway                    2943\n",
       "Poland                    2801\n",
       "Portugal                  2574\n",
       "Romania                   2611\n",
       "Serbia                    1245\n",
       "Slovakia                  2875\n",
       "Slovenia                  2731\n",
       "Spain                     2948\n",
       "Sweden                    2875\n",
       "Switzerland                602\n",
       "Türkiye                   1996\n",
       "United Kingdom            1804\n",
       "Name: count, dtype: int64"
      ]
     },
     "execution_count": 57,
     "metadata": {},
     "output_type": "execute_result"
    }
   ],
   "source": [
    "internet_use['country'].value_counts().sort_index()"
   ]
  },
  {
   "cell_type": "code",
   "execution_count": 58,
   "id": "7718146b-cb80-479b-b861-14d355887648",
   "metadata": {},
   "outputs": [
    {
     "data": {
      "text/plain": [
       "38"
      ]
     },
     "execution_count": 58,
     "metadata": {},
     "output_type": "execute_result"
    }
   ],
   "source": [
    "internet_use['country'].nunique()"
   ]
  },
  {
   "cell_type": "code",
   "execution_count": 59,
   "id": "756ae413-ef63-4644-8f7a-d46dd8f77be2",
   "metadata": {},
   "outputs": [
    {
     "data": {
      "text/plain": [
       "country\n",
       "Albania                                                                                                           3022\n",
       "Austria                                                                                                           9770\n",
       "Belgium                                                                                                           9395\n",
       "Bosnia and Herzegovina                                                                                            2516\n",
       "Bulgaria                                                                                                          9420\n",
       "Croatia                                                                                                           8656\n",
       "Cyprus                                                                                                            9688\n",
       "Czechia                                                                                                           9641\n",
       "Denmark                                                                                                           9803\n",
       "Estonia                                                                                                           9680\n",
       "Euro area (EA11-1999, EA12-2001, EA13-2007, EA15-2008, EA16-2009, EA17-2011, EA18-2014, EA19-2015, EA20-2023)     2830\n",
       "European Union - 27 countries (from 2020)                                                                         2931\n",
       "Finland                                                                                                           9026\n",
       "France                                                                                                            7547\n",
       "Germany                                                                                                           9845\n",
       "Greece                                                                                                            9676\n",
       "Hungary                                                                                                           9697\n",
       "Iceland                                                                                                           6566\n",
       "Ireland                                                                                                           8883\n",
       "Italy                                                                                                             8389\n",
       "Kosovo*                                                                                                           2075\n",
       "Latvia                                                                                                            9050\n",
       "Lithuania                                                                                                         9698\n",
       "Luxembourg                                                                                                        9816\n",
       "Malta                                                                                                             8472\n",
       "Montenegro                                                                                                        3513\n",
       "Netherlands                                                                                                       9593\n",
       "North Macedonia                                                                                                   6467\n",
       "Norway                                                                                                           10004\n",
       "Poland                                                                                                            9715\n",
       "Portugal                                                                                                          9764\n",
       "Romania                                                                                                           9371\n",
       "Serbia                                                                                                            4412\n",
       "Slovakia                                                                                                          9796\n",
       "Slovenia                                                                                                          9758\n",
       "Spain                                                                                                             9531\n",
       "Sweden                                                                                                            9459\n",
       "Switzerland                                                                                                       2134\n",
       "Türkiye                                                                                                           6553\n",
       "United Kingdom                                                                                                    6620\n",
       "Name: count, dtype: int64"
      ]
     },
     "execution_count": 59,
     "metadata": {},
     "output_type": "execute_result"
    }
   ],
   "source": [
    "internet_activities_concat['country'].value_counts().sort_index()"
   ]
  },
  {
   "cell_type": "code",
   "execution_count": 60,
   "id": "2dd066be-b238-45ab-9c78-760fc18dab1e",
   "metadata": {},
   "outputs": [
    {
     "data": {
      "text/plain": [
       "40"
      ]
     },
     "execution_count": 60,
     "metadata": {},
     "output_type": "execute_result"
    }
   ],
   "source": [
    "internet_activities_concat['country'].nunique()"
   ]
  },
  {
   "cell_type": "code",
   "execution_count": 61,
   "id": "bfd7f408-d0a9-4f66-8d3f-9422ca13151f",
   "metadata": {},
   "outputs": [
    {
     "data": {
      "text/plain": [
       "country\n",
       "Albania                   22\n",
       "Austria                   22\n",
       "Belgium                   22\n",
       "Bosnia and Herzegovina    20\n",
       "Bulgaria                  22\n",
       "Croatia                   22\n",
       "Cyprus                    22\n",
       "Czechia                   22\n",
       "Denmark                   22\n",
       "Estonia                   22\n",
       "Finland                   22\n",
       "France                    22\n",
       "Germany                   22\n",
       "Greece                    22\n",
       "Hungary                   22\n",
       "Iceland                   22\n",
       "Ireland                   22\n",
       "Italy                     22\n",
       "Latvia                    22\n",
       "Lithuania                 22\n",
       "Luxembourg                22\n",
       "Malta                     22\n",
       "Montenegro                19\n",
       "Netherlands               22\n",
       "North Macedonia           22\n",
       "Norway                    22\n",
       "Poland                    22\n",
       "Portugal                  22\n",
       "Romania                   22\n",
       "Serbia                    22\n",
       "Slovakia                  22\n",
       "Slovenia                  22\n",
       "Spain                     22\n",
       "Sweden                    22\n",
       "Switzerland               22\n",
       "Türkiye                   22\n",
       "United Kingdom            22\n",
       "Name: count, dtype: int64"
      ]
     },
     "execution_count": 61,
     "metadata": {},
     "output_type": "execute_result"
    }
   ],
   "source": [
    "pp_gdp['country'].value_counts().sort_index()"
   ]
  },
  {
   "cell_type": "code",
   "execution_count": 62,
   "id": "801cb14b-b3a5-490f-b38a-4366dcf2b04f",
   "metadata": {},
   "outputs": [
    {
     "data": {
      "text/plain": [
       "37"
      ]
     },
     "execution_count": 62,
     "metadata": {},
     "output_type": "execute_result"
    }
   ],
   "source": [
    "pp_gdp['country'].nunique()"
   ]
  },
  {
   "cell_type": "code",
   "execution_count": 63,
   "id": "305d474e-df15-4889-a8ab-b986bec6b52b",
   "metadata": {},
   "outputs": [
    {
     "data": {
      "text/plain": [
       "set()"
      ]
     },
     "execution_count": 63,
     "metadata": {},
     "output_type": "execute_result"
    }
   ],
   "source": [
    "# Comparing unique values between first two datsets\n",
    "set(internet_use['country'].unique()) - set(internet_activities_concat['country'].unique())"
   ]
  },
  {
   "cell_type": "code",
   "execution_count": 64,
   "id": "59dc8dcf-f077-406b-aaa9-21be52983dda",
   "metadata": {},
   "outputs": [
    {
     "data": {
      "text/plain": [
       "{'Euro area (EA11-1999, EA12-2001, EA13-2007, EA15-2008, EA16-2009, EA17-2011, EA18-2014, EA19-2015, EA20-2023)',\n",
       " 'European Union - 27 countries (from 2020)'}"
      ]
     },
     "execution_count": 64,
     "metadata": {},
     "output_type": "execute_result"
    }
   ],
   "source": [
    "# Comparing unique values between first two datsets\n",
    "set(internet_activities_concat['country'].unique()) - set(internet_use['country'].unique())"
   ]
  },
  {
   "cell_type": "markdown",
   "id": "c070dcec-123a-4cd0-ad92-39a2a265a770",
   "metadata": {},
   "source": [
    "The merge will be done on the values in internet_use dataframe, as the analysis will be performed in the individual members of the EU."
   ]
  },
  {
   "cell_type": "code",
   "execution_count": 65,
   "id": "2a7e86ce-d4b8-4921-8251-6125326df86f",
   "metadata": {},
   "outputs": [
    {
     "data": {
      "text/plain": [
       "{'Kosovo*'}"
      ]
     },
     "execution_count": 65,
     "metadata": {},
     "output_type": "execute_result"
    }
   ],
   "source": [
    "# Comparing unique values with third datset\n",
    "set(internet_use['country'].unique()) - set(pp_gdp['country'].unique())"
   ]
  },
  {
   "cell_type": "code",
   "execution_count": 66,
   "id": "f4314e72-0464-4267-aa63-ceb679292bfe",
   "metadata": {},
   "outputs": [
    {
     "data": {
      "text/plain": [
       "set()"
      ]
     },
     "execution_count": 66,
     "metadata": {},
     "output_type": "execute_result"
    }
   ],
   "source": [
    "# Comparing unique values with third datset\n",
    "set(pp_gdp['country'].unique()) - set(internet_use['country'].unique())"
   ]
  },
  {
   "cell_type": "code",
   "execution_count": 67,
   "id": "ad0c6048-2071-41f8-936c-f44ed0447c73",
   "metadata": {},
   "outputs": [
    {
     "data": {
      "text/plain": [
       "array(['Albania', 'Austria', 'Bosnia and Herzegovina', 'Belgium',\n",
       "       'Bulgaria', 'Switzerland', 'Cyprus', 'Czechia', 'Germany',\n",
       "       'Denmark', 'Estonia', 'Greece', 'Spain', 'Finland', 'France',\n",
       "       'Croatia', 'Hungary', 'Ireland', 'Iceland', 'Italy', 'Lithuania',\n",
       "       'Luxembourg', 'Latvia', 'Montenegro', 'North Macedonia', 'Malta',\n",
       "       'Netherlands', 'Norway', 'Poland', 'Portugal', 'Romania', 'Serbia',\n",
       "       'Sweden', 'Slovenia', 'Slovakia', 'Türkiye', 'United Kingdom'],\n",
       "      dtype=object)"
      ]
     },
     "execution_count": 67,
     "metadata": {},
     "output_type": "execute_result"
    }
   ],
   "source": [
    "pp_gdp['country'].unique()"
   ]
  },
  {
   "cell_type": "markdown",
   "id": "be55c63d-dec5-4180-b2e7-65d896cff69b",
   "metadata": {},
   "source": [
    "Only Kosovo is missing in the pp_gdp dataset"
   ]
  },
  {
   "cell_type": "code",
   "execution_count": 68,
   "id": "7f6a6f3a-a4b9-449f-8911-5f400b532f73",
   "metadata": {},
   "outputs": [
    {
     "data": {
      "text/plain": [
       "year\n",
       "2003     755\n",
       "2004    2503\n",
       "2005    3112\n",
       "2006    3592\n",
       "2007    3816\n",
       "2008    4033\n",
       "2009    4581\n",
       "2010    4545\n",
       "2011    4685\n",
       "2012    4995\n",
       "2013    3183\n",
       "2014    3282\n",
       "2015    3387\n",
       "2016    3351\n",
       "2017    4954\n",
       "2018    5155\n",
       "2019    5257\n",
       "2020    4795\n",
       "2021    4873\n",
       "2022    4353\n",
       "2023    4659\n",
       "2024    4653\n",
       "Name: count, dtype: int64"
      ]
     },
     "execution_count": 68,
     "metadata": {},
     "output_type": "execute_result"
    }
   ],
   "source": [
    "internet_use['year'].value_counts().sort_index()"
   ]
  },
  {
   "cell_type": "code",
   "execution_count": 69,
   "id": "9043c04a-254d-448b-a031-8da85c5da89e",
   "metadata": {},
   "outputs": [
    {
     "data": {
      "text/plain": [
       "year\n",
       "2003     1579\n",
       "2004     5795\n",
       "2005     6832\n",
       "2006     7940\n",
       "2007     9189\n",
       "2008    10762\n",
       "2009    14374\n",
       "2010    13867\n",
       "2011    11230\n",
       "2012    13104\n",
       "2013    13850\n",
       "2014    12048\n",
       "2015    17122\n",
       "2016    15542\n",
       "2017    22170\n",
       "2018    14600\n",
       "2019    19886\n",
       "2020    21119\n",
       "2021    19386\n",
       "2022    20968\n",
       "2023    18693\n",
       "2024    22726\n",
       "Name: count, dtype: int64"
      ]
     },
     "execution_count": 69,
     "metadata": {},
     "output_type": "execute_result"
    }
   ],
   "source": [
    "internet_activities_concat['year'].value_counts().sort_index()"
   ]
  },
  {
   "cell_type": "code",
   "execution_count": 70,
   "id": "e94ffbe2-360d-48c9-b9c6-a06ebbdc9bb0",
   "metadata": {},
   "outputs": [
    {
     "data": {
      "text/plain": [
       "year\n",
       "2003    35\n",
       "2004    35\n",
       "2005    36\n",
       "2006    37\n",
       "2007    37\n",
       "2008    37\n",
       "2009    37\n",
       "2010    37\n",
       "2011    37\n",
       "2012    37\n",
       "2013    37\n",
       "2014    37\n",
       "2015    37\n",
       "2016    37\n",
       "2017    37\n",
       "2018    37\n",
       "2019    37\n",
       "2020    37\n",
       "2021    37\n",
       "2022    37\n",
       "2023    37\n",
       "2024    37\n",
       "Name: count, dtype: int64"
      ]
     },
     "execution_count": 70,
     "metadata": {},
     "output_type": "execute_result"
    }
   ],
   "source": [
    "pp_gdp['year'].value_counts().sort_index()"
   ]
  },
  {
   "cell_type": "markdown",
   "id": "242b8a73-0536-46eb-a049-6a4f86937714",
   "metadata": {},
   "source": [
    "All unique values match!"
   ]
  },
  {
   "cell_type": "markdown",
   "id": "2b825f03-6e82-43c2-9948-c89c5f4e58bc",
   "metadata": {},
   "source": [
    "## 04.3 Merging Dataframes"
   ]
  },
  {
   "cell_type": "code",
   "execution_count": 73,
   "id": "9c70744c-f162-42e8-9f55-4abbbfd78343",
   "metadata": {},
   "outputs": [],
   "source": [
    "# Merging internet_use with internet activities\n",
    "internet_use_activities_merged = internet_use.merge(internet_activities_concat, on =['demographic_group', 'country', 'year'], how='left')"
   ]
  },
  {
   "cell_type": "code",
   "execution_count": 74,
   "id": "688b3b41-fc40-4f80-ac58-e8591b972bca",
   "metadata": {},
   "outputs": [
    {
     "data": {
      "text/plain": [
       "(1006934, 9)"
      ]
     },
     "execution_count": 74,
     "metadata": {},
     "output_type": "execute_result"
    }
   ],
   "source": [
    "internet_use_activities_merged.shape"
   ]
  },
  {
   "cell_type": "code",
   "execution_count": 75,
   "id": "971a4461-fa4d-447e-90ff-9a6d91d00519",
   "metadata": {},
   "outputs": [
    {
     "data": {
      "text/html": [
       "<div>\n",
       "<style scoped>\n",
       "    .dataframe tbody tr th:only-of-type {\n",
       "        vertical-align: middle;\n",
       "    }\n",
       "\n",
       "    .dataframe tbody tr th {\n",
       "        vertical-align: top;\n",
       "    }\n",
       "\n",
       "    .dataframe thead th {\n",
       "        text-align: right;\n",
       "    }\n",
       "</style>\n",
       "<table border=\"1\" class=\"dataframe\">\n",
       "  <thead>\n",
       "    <tr style=\"text-align: right;\">\n",
       "      <th></th>\n",
       "      <th>freq_internet_access</th>\n",
       "      <th>demographic_group</th>\n",
       "      <th>country</th>\n",
       "      <th>year</th>\n",
       "      <th>internet_access_rate</th>\n",
       "      <th>freq_data_flag</th>\n",
       "      <th>internet_activities</th>\n",
       "      <th>internet_activities_rate</th>\n",
       "      <th>activities_data_flag</th>\n",
       "    </tr>\n",
       "  </thead>\n",
       "  <tbody>\n",
       "    <tr>\n",
       "      <th>0</th>\n",
       "      <td>daily</td>\n",
       "      <td>Persons aged 16-74 working in agriculture, for...</td>\n",
       "      <td>Austria</td>\n",
       "      <td>2021</td>\n",
       "      <td>71.67</td>\n",
       "      <td>NaN</td>\n",
       "      <td>Internet banking</td>\n",
       "      <td>66.65</td>\n",
       "      <td>NaN</td>\n",
       "    </tr>\n",
       "    <tr>\n",
       "      <th>1</th>\n",
       "      <td>daily</td>\n",
       "      <td>Persons aged 16-74 working in agriculture, for...</td>\n",
       "      <td>Austria</td>\n",
       "      <td>2021</td>\n",
       "      <td>71.67</td>\n",
       "      <td>NaN</td>\n",
       "      <td>civic or political participation</td>\n",
       "      <td>21.21</td>\n",
       "      <td>NaN</td>\n",
       "    </tr>\n",
       "    <tr>\n",
       "      <th>2</th>\n",
       "      <td>daily</td>\n",
       "      <td>Persons aged 16-74 working in agriculture, for...</td>\n",
       "      <td>Austria</td>\n",
       "      <td>2021</td>\n",
       "      <td>71.67</td>\n",
       "      <td>NaN</td>\n",
       "      <td>sending/receiving e-mails</td>\n",
       "      <td>72.86</td>\n",
       "      <td>NaN</td>\n",
       "    </tr>\n",
       "    <tr>\n",
       "      <th>3</th>\n",
       "      <td>daily</td>\n",
       "      <td>Persons aged 16-74 working in agriculture, for...</td>\n",
       "      <td>Austria</td>\n",
       "      <td>2021</td>\n",
       "      <td>71.67</td>\n",
       "      <td>NaN</td>\n",
       "      <td>finding information about goods and services</td>\n",
       "      <td>66.88</td>\n",
       "      <td>NaN</td>\n",
       "    </tr>\n",
       "    <tr>\n",
       "      <th>4</th>\n",
       "      <td>daily</td>\n",
       "      <td>Persons aged 16-74 working in agriculture, for...</td>\n",
       "      <td>Austria</td>\n",
       "      <td>2021</td>\n",
       "      <td>71.67</td>\n",
       "      <td>NaN</td>\n",
       "      <td>job search or sending an application</td>\n",
       "      <td>14.11</td>\n",
       "      <td>NaN</td>\n",
       "    </tr>\n",
       "  </tbody>\n",
       "</table>\n",
       "</div>"
      ],
      "text/plain": [
       "  freq_internet_access                                  demographic_group  \\\n",
       "0                daily  Persons aged 16-74 working in agriculture, for...   \n",
       "1                daily  Persons aged 16-74 working in agriculture, for...   \n",
       "2                daily  Persons aged 16-74 working in agriculture, for...   \n",
       "3                daily  Persons aged 16-74 working in agriculture, for...   \n",
       "4                daily  Persons aged 16-74 working in agriculture, for...   \n",
       "\n",
       "   country  year  internet_access_rate freq_data_flag  \\\n",
       "0  Austria  2021                 71.67            NaN   \n",
       "1  Austria  2021                 71.67            NaN   \n",
       "2  Austria  2021                 71.67            NaN   \n",
       "3  Austria  2021                 71.67            NaN   \n",
       "4  Austria  2021                 71.67            NaN   \n",
       "\n",
       "                            internet_activities  internet_activities_rate  \\\n",
       "0                              Internet banking                     66.65   \n",
       "1              civic or political participation                     21.21   \n",
       "2                     sending/receiving e-mails                     72.86   \n",
       "3  finding information about goods and services                     66.88   \n",
       "4          job search or sending an application                     14.11   \n",
       "\n",
       "  activities_data_flag  \n",
       "0                  NaN  \n",
       "1                  NaN  \n",
       "2                  NaN  \n",
       "3                  NaN  \n",
       "4                  NaN  "
      ]
     },
     "execution_count": 75,
     "metadata": {},
     "output_type": "execute_result"
    }
   ],
   "source": [
    "internet_use_activities_merged.head()"
   ]
  },
  {
   "cell_type": "code",
   "execution_count": 76,
   "id": "5388e40d-9904-4d65-a95a-07d85de9a6e9",
   "metadata": {},
   "outputs": [
    {
     "data": {
      "text/plain": [
       "country\n",
       "Albania                    8558\n",
       "Austria                   30072\n",
       "Belgium                   31479\n",
       "Bosnia and Herzegovina     7180\n",
       "Bulgaria                  29897\n",
       "Croatia                   28046\n",
       "Cyprus                    32631\n",
       "Czechia                   31529\n",
       "Denmark                   32176\n",
       "Estonia                   30714\n",
       "Finland                   30348\n",
       "France                    26158\n",
       "Germany                   29999\n",
       "Greece                    32452\n",
       "Hungary                   32770\n",
       "Iceland                   20639\n",
       "Ireland                   29330\n",
       "Italy                     28607\n",
       "Kosovo*                    5985\n",
       "Latvia                    32119\n",
       "Lithuania                 32443\n",
       "Luxembourg                33006\n",
       "Malta                     29985\n",
       "Montenegro                10769\n",
       "Netherlands               31810\n",
       "North Macedonia           19314\n",
       "Norway                    33502\n",
       "Poland                    31993\n",
       "Portugal                  29249\n",
       "Romania                   30316\n",
       "Serbia                    13725\n",
       "Slovakia                  33118\n",
       "Slovenia                  31641\n",
       "Spain                     32630\n",
       "Sweden                    32575\n",
       "Switzerland                6258\n",
       "Türkiye                   22920\n",
       "United Kingdom            20991\n",
       "Name: count, dtype: int64"
      ]
     },
     "execution_count": 76,
     "metadata": {},
     "output_type": "execute_result"
    }
   ],
   "source": [
    "internet_use_activities_merged['country'].value_counts().sort_index()"
   ]
  },
  {
   "cell_type": "code",
   "execution_count": 77,
   "id": "b6f720e7-10c4-4f89-82ad-ab75d3c8eec7",
   "metadata": {},
   "outputs": [
    {
     "data": {
      "text/plain": [
       "38"
      ]
     },
     "execution_count": 77,
     "metadata": {},
     "output_type": "execute_result"
    }
   ],
   "source": [
    "internet_use_activities_merged['country'].nunique()"
   ]
  },
  {
   "cell_type": "code",
   "execution_count": 78,
   "id": "79b027a3-e645-4ac2-a22e-270ba51d5790",
   "metadata": {},
   "outputs": [
    {
     "data": {
      "text/plain": [
       "freq_internet_access             0\n",
       "demographic_group                0\n",
       "country                          0\n",
       "year                             0\n",
       "internet_access_rate             0\n",
       "freq_data_flag              980474\n",
       "internet_activities            157\n",
       "internet_activities_rate       157\n",
       "activities_data_flag        971842\n",
       "dtype: int64"
      ]
     },
     "execution_count": 78,
     "metadata": {},
     "output_type": "execute_result"
    }
   ],
   "source": [
    "# Checking for missing values created after the merge\n",
    "internet_use_activities_merged.isnull().sum()"
   ]
  },
  {
   "cell_type": "code",
   "execution_count": 79,
   "id": "e3d7f5a6-3767-4567-a853-376bd1f44a92",
   "metadata": {},
   "outputs": [
    {
     "data": {
      "text/html": [
       "<div>\n",
       "<style scoped>\n",
       "    .dataframe tbody tr th:only-of-type {\n",
       "        vertical-align: middle;\n",
       "    }\n",
       "\n",
       "    .dataframe tbody tr th {\n",
       "        vertical-align: top;\n",
       "    }\n",
       "\n",
       "    .dataframe thead th {\n",
       "        text-align: right;\n",
       "    }\n",
       "</style>\n",
       "<table border=\"1\" class=\"dataframe\">\n",
       "  <thead>\n",
       "    <tr style=\"text-align: right;\">\n",
       "      <th></th>\n",
       "      <th>freq_internet_access</th>\n",
       "      <th>demographic_group</th>\n",
       "      <th>country</th>\n",
       "      <th>year</th>\n",
       "      <th>internet_access_rate</th>\n",
       "      <th>freq_data_flag</th>\n",
       "      <th>internet_activities</th>\n",
       "      <th>internet_activities_rate</th>\n",
       "      <th>activities_data_flag</th>\n",
       "    </tr>\n",
       "  </thead>\n",
       "  <tbody>\n",
       "    <tr>\n",
       "      <th>22942</th>\n",
       "      <td>daily</td>\n",
       "      <td>Females with low formal education</td>\n",
       "      <td>Italy</td>\n",
       "      <td>2004</td>\n",
       "      <td>5.55</td>\n",
       "      <td>NaN</td>\n",
       "      <td>NaN</td>\n",
       "      <td>NaN</td>\n",
       "      <td>NaN</td>\n",
       "    </tr>\n",
       "    <tr>\n",
       "      <th>30694</th>\n",
       "      <td>daily</td>\n",
       "      <td>Females with medium formal education</td>\n",
       "      <td>Italy</td>\n",
       "      <td>2004</td>\n",
       "      <td>32.46</td>\n",
       "      <td>NaN</td>\n",
       "      <td>NaN</td>\n",
       "      <td>NaN</td>\n",
       "      <td>NaN</td>\n",
       "    </tr>\n",
       "    <tr>\n",
       "      <th>38511</th>\n",
       "      <td>daily</td>\n",
       "      <td>Females with high formal education</td>\n",
       "      <td>Italy</td>\n",
       "      <td>2004</td>\n",
       "      <td>52.10</td>\n",
       "      <td>NaN</td>\n",
       "      <td>NaN</td>\n",
       "      <td>NaN</td>\n",
       "      <td>NaN</td>\n",
       "    </tr>\n",
       "    <tr>\n",
       "      <th>46383</th>\n",
       "      <td>daily</td>\n",
       "      <td>Females, 16 to 24 years old</td>\n",
       "      <td>Italy</td>\n",
       "      <td>2003</td>\n",
       "      <td>10.70</td>\n",
       "      <td>NaN</td>\n",
       "      <td>NaN</td>\n",
       "      <td>NaN</td>\n",
       "      <td>NaN</td>\n",
       "    </tr>\n",
       "    <tr>\n",
       "      <th>46384</th>\n",
       "      <td>daily</td>\n",
       "      <td>Females, 16 to 24 years old</td>\n",
       "      <td>Italy</td>\n",
       "      <td>2004</td>\n",
       "      <td>40.20</td>\n",
       "      <td>NaN</td>\n",
       "      <td>NaN</td>\n",
       "      <td>NaN</td>\n",
       "      <td>NaN</td>\n",
       "    </tr>\n",
       "    <tr>\n",
       "      <th>...</th>\n",
       "      <td>...</td>\n",
       "      <td>...</td>\n",
       "      <td>...</td>\n",
       "      <td>...</td>\n",
       "      <td>...</td>\n",
       "      <td>...</td>\n",
       "      <td>...</td>\n",
       "      <td>...</td>\n",
       "      <td>...</td>\n",
       "    </tr>\n",
       "    <tr>\n",
       "      <th>986230</th>\n",
       "      <td>at least once a week (but not every day)</td>\n",
       "      <td>Individuals, 45 to 54 years old</td>\n",
       "      <td>Italy</td>\n",
       "      <td>2004</td>\n",
       "      <td>1.00</td>\n",
       "      <td>NaN</td>\n",
       "      <td>NaN</td>\n",
       "      <td>NaN</td>\n",
       "      <td>NaN</td>\n",
       "    </tr>\n",
       "    <tr>\n",
       "      <th>994151</th>\n",
       "      <td>at least once a week (but not every day)</td>\n",
       "      <td>Individuals, 55 to 64 years old</td>\n",
       "      <td>Italy</td>\n",
       "      <td>2003</td>\n",
       "      <td>4.84</td>\n",
       "      <td>NaN</td>\n",
       "      <td>NaN</td>\n",
       "      <td>NaN</td>\n",
       "      <td>NaN</td>\n",
       "    </tr>\n",
       "    <tr>\n",
       "      <th>994152</th>\n",
       "      <td>at least once a week (but not every day)</td>\n",
       "      <td>Individuals, 55 to 64 years old</td>\n",
       "      <td>Italy</td>\n",
       "      <td>2004</td>\n",
       "      <td>0.44</td>\n",
       "      <td>NaN</td>\n",
       "      <td>NaN</td>\n",
       "      <td>NaN</td>\n",
       "      <td>NaN</td>\n",
       "    </tr>\n",
       "    <tr>\n",
       "      <th>1001996</th>\n",
       "      <td>at least once a week (but not every day)</td>\n",
       "      <td>Individuals, 65 to 74 years old</td>\n",
       "      <td>Italy</td>\n",
       "      <td>2003</td>\n",
       "      <td>1.85</td>\n",
       "      <td>NaN</td>\n",
       "      <td>NaN</td>\n",
       "      <td>NaN</td>\n",
       "      <td>NaN</td>\n",
       "    </tr>\n",
       "    <tr>\n",
       "      <th>1001997</th>\n",
       "      <td>at least once a week (but not every day)</td>\n",
       "      <td>Individuals, 65 to 74 years old</td>\n",
       "      <td>Italy</td>\n",
       "      <td>2004</td>\n",
       "      <td>0.10</td>\n",
       "      <td>NaN</td>\n",
       "      <td>NaN</td>\n",
       "      <td>NaN</td>\n",
       "      <td>NaN</td>\n",
       "    </tr>\n",
       "  </tbody>\n",
       "</table>\n",
       "<p>157 rows × 9 columns</p>\n",
       "</div>"
      ],
      "text/plain": [
       "                             freq_internet_access  \\\n",
       "22942                                       daily   \n",
       "30694                                       daily   \n",
       "38511                                       daily   \n",
       "46383                                       daily   \n",
       "46384                                       daily   \n",
       "...                                           ...   \n",
       "986230   at least once a week (but not every day)   \n",
       "994151   at least once a week (but not every day)   \n",
       "994152   at least once a week (but not every day)   \n",
       "1001996  at least once a week (but not every day)   \n",
       "1001997  at least once a week (but not every day)   \n",
       "\n",
       "                            demographic_group country  year  \\\n",
       "22942       Females with low formal education   Italy  2004   \n",
       "30694    Females with medium formal education   Italy  2004   \n",
       "38511      Females with high formal education   Italy  2004   \n",
       "46383             Females, 16 to 24 years old   Italy  2003   \n",
       "46384             Females, 16 to 24 years old   Italy  2004   \n",
       "...                                       ...     ...   ...   \n",
       "986230        Individuals, 45 to 54 years old   Italy  2004   \n",
       "994151        Individuals, 55 to 64 years old   Italy  2003   \n",
       "994152        Individuals, 55 to 64 years old   Italy  2004   \n",
       "1001996       Individuals, 65 to 74 years old   Italy  2003   \n",
       "1001997       Individuals, 65 to 74 years old   Italy  2004   \n",
       "\n",
       "         internet_access_rate freq_data_flag internet_activities  \\\n",
       "22942                    5.55            NaN                 NaN   \n",
       "30694                   32.46            NaN                 NaN   \n",
       "38511                   52.10            NaN                 NaN   \n",
       "46383                   10.70            NaN                 NaN   \n",
       "46384                   40.20            NaN                 NaN   \n",
       "...                       ...            ...                 ...   \n",
       "986230                   1.00            NaN                 NaN   \n",
       "994151                   4.84            NaN                 NaN   \n",
       "994152                   0.44            NaN                 NaN   \n",
       "1001996                  1.85            NaN                 NaN   \n",
       "1001997                  0.10            NaN                 NaN   \n",
       "\n",
       "         internet_activities_rate activities_data_flag  \n",
       "22942                         NaN                  NaN  \n",
       "30694                         NaN                  NaN  \n",
       "38511                         NaN                  NaN  \n",
       "46383                         NaN                  NaN  \n",
       "46384                         NaN                  NaN  \n",
       "...                           ...                  ...  \n",
       "986230                        NaN                  NaN  \n",
       "994151                        NaN                  NaN  \n",
       "994152                        NaN                  NaN  \n",
       "1001996                       NaN                  NaN  \n",
       "1001997                       NaN                  NaN  \n",
       "\n",
       "[157 rows x 9 columns]"
      ]
     },
     "execution_count": 79,
     "metadata": {},
     "output_type": "execute_result"
    }
   ],
   "source": [
    "# Creating a subset with the missing values\n",
    "df_nan = internet_use_activities_merged[internet_use_activities_merged['internet_activities'].isnull()]\n",
    "df_nan"
   ]
  },
  {
   "cell_type": "code",
   "execution_count": 82,
   "id": "f13ce176-f607-4e98-997d-e30ade749b64",
   "metadata": {},
   "outputs": [
    {
     "data": {
      "text/plain": [
       "year\n",
       "2003     52\n",
       "2004    105\n",
       "Name: count, dtype: int64"
      ]
     },
     "execution_count": 82,
     "metadata": {},
     "output_type": "execute_result"
    }
   ],
   "source": [
    "df_nan['year'].value_counts().sort_index()"
   ]
  },
  {
   "cell_type": "markdown",
   "id": "d26622c5-93ad-48dc-bd47-0533a2f010f6",
   "metadata": {},
   "source": [
    "The NaN values created after the merge are only for the internet activities for the first two years. I will keep this rows for further analysis in the internet access rate. "
   ]
  },
  {
   "cell_type": "code",
   "execution_count": 83,
   "id": "9237eb27-15b1-4014-b45c-a09023a28267",
   "metadata": {},
   "outputs": [],
   "source": [
    "# Exporting dataframe\n",
    "internet_use_activities_merged.to_csv(os.path.join(path, '02 Data', 'Prepared Data', 'internet_use_activities_merged.csv'))"
   ]
  },
  {
   "cell_type": "code",
   "execution_count": 86,
   "id": "0655001c-d24a-4be2-991a-167d14f20edb",
   "metadata": {},
   "outputs": [],
   "source": [
    "# Merging merged dataframe with the third one\n",
    "internet_use_activities_pp_gdp = internet_use_activities_merged.merge(pp_gdp, on = ['country', 'year'], how='left')"
   ]
  },
  {
   "cell_type": "code",
   "execution_count": 87,
   "id": "d23ee928-6476-4e29-b432-1470dcd3f983",
   "metadata": {},
   "outputs": [
    {
     "data": {
      "text/plain": [
       "(1006934, 11)"
      ]
     },
     "execution_count": 87,
     "metadata": {},
     "output_type": "execute_result"
    }
   ],
   "source": [
    "internet_use_activities_pp_gdp.shape"
   ]
  },
  {
   "cell_type": "code",
   "execution_count": 88,
   "id": "7d7772f9-81de-4474-9edf-1b4be0abb2d0",
   "metadata": {},
   "outputs": [
    {
     "data": {
      "text/plain": [
       "freq_internet_access             0\n",
       "demographic_group                0\n",
       "country                          0\n",
       "year                             0\n",
       "internet_access_rate             0\n",
       "freq_data_flag              980474\n",
       "internet_activities            157\n",
       "internet_activities_rate       157\n",
       "activities_data_flag        971842\n",
       "purchasing_power_gdp          5985\n",
       "pp_gdp_data_flag            982993\n",
       "dtype: int64"
      ]
     },
     "execution_count": 88,
     "metadata": {},
     "output_type": "execute_result"
    }
   ],
   "source": [
    "# Checking for missing values created after the merge \n",
    "internet_use_activities_pp_gdp.isnull().sum()"
   ]
  },
  {
   "cell_type": "code",
   "execution_count": 89,
   "id": "d4701218-5b7f-4907-8dcc-610e471bf85d",
   "metadata": {},
   "outputs": [],
   "source": [
    "df_nan = internet_use_activities_pp_gdp[internet_use_activities_pp_gdp['purchasing_power_gdp'].isnull() == True]"
   ]
  },
  {
   "cell_type": "code",
   "execution_count": 90,
   "id": "fbcd4a0d-ed46-44de-b0c6-12ea4ddf78f3",
   "metadata": {},
   "outputs": [
    {
     "data": {
      "text/html": [
       "<div>\n",
       "<style scoped>\n",
       "    .dataframe tbody tr th:only-of-type {\n",
       "        vertical-align: middle;\n",
       "    }\n",
       "\n",
       "    .dataframe tbody tr th {\n",
       "        vertical-align: top;\n",
       "    }\n",
       "\n",
       "    .dataframe thead th {\n",
       "        text-align: right;\n",
       "    }\n",
       "</style>\n",
       "<table border=\"1\" class=\"dataframe\">\n",
       "  <thead>\n",
       "    <tr style=\"text-align: right;\">\n",
       "      <th></th>\n",
       "      <th>freq_internet_access</th>\n",
       "      <th>demographic_group</th>\n",
       "      <th>country</th>\n",
       "      <th>year</th>\n",
       "      <th>internet_access_rate</th>\n",
       "      <th>freq_data_flag</th>\n",
       "      <th>internet_activities</th>\n",
       "      <th>internet_activities_rate</th>\n",
       "      <th>activities_data_flag</th>\n",
       "      <th>purchasing_power_gdp</th>\n",
       "      <th>pp_gdp_data_flag</th>\n",
       "    </tr>\n",
       "  </thead>\n",
       "  <tbody>\n",
       "    <tr>\n",
       "      <th>16988</th>\n",
       "      <td>daily</td>\n",
       "      <td>Employees working full time</td>\n",
       "      <td>Kosovo*</td>\n",
       "      <td>2018</td>\n",
       "      <td>89.54</td>\n",
       "      <td>NaN</td>\n",
       "      <td>Internet banking</td>\n",
       "      <td>3.19</td>\n",
       "      <td>NaN</td>\n",
       "      <td>NaN</td>\n",
       "      <td>NaN</td>\n",
       "    </tr>\n",
       "    <tr>\n",
       "      <th>16989</th>\n",
       "      <td>daily</td>\n",
       "      <td>Employees working full time</td>\n",
       "      <td>Kosovo*</td>\n",
       "      <td>2018</td>\n",
       "      <td>89.54</td>\n",
       "      <td>NaN</td>\n",
       "      <td>sending/receiving e-mails</td>\n",
       "      <td>44.31</td>\n",
       "      <td>NaN</td>\n",
       "      <td>NaN</td>\n",
       "      <td>NaN</td>\n",
       "    </tr>\n",
       "    <tr>\n",
       "      <th>16990</th>\n",
       "      <td>daily</td>\n",
       "      <td>Employees working full time</td>\n",
       "      <td>Kosovo*</td>\n",
       "      <td>2018</td>\n",
       "      <td>89.54</td>\n",
       "      <td>NaN</td>\n",
       "      <td>finding information about goods and services</td>\n",
       "      <td>42.74</td>\n",
       "      <td>NaN</td>\n",
       "      <td>NaN</td>\n",
       "      <td>NaN</td>\n",
       "    </tr>\n",
       "    <tr>\n",
       "      <th>16991</th>\n",
       "      <td>daily</td>\n",
       "      <td>Employees working full time</td>\n",
       "      <td>Kosovo*</td>\n",
       "      <td>2018</td>\n",
       "      <td>89.54</td>\n",
       "      <td>NaN</td>\n",
       "      <td>making an appointment with a practitioner via ...</td>\n",
       "      <td>4.85</td>\n",
       "      <td>NaN</td>\n",
       "      <td>NaN</td>\n",
       "      <td>NaN</td>\n",
       "    </tr>\n",
       "    <tr>\n",
       "      <th>16992</th>\n",
       "      <td>daily</td>\n",
       "      <td>Employees working full time</td>\n",
       "      <td>Kosovo*</td>\n",
       "      <td>2018</td>\n",
       "      <td>89.54</td>\n",
       "      <td>NaN</td>\n",
       "      <td>telephoning or video calls</td>\n",
       "      <td>91.69</td>\n",
       "      <td>NaN</td>\n",
       "      <td>NaN</td>\n",
       "      <td>NaN</td>\n",
       "    </tr>\n",
       "    <tr>\n",
       "      <th>...</th>\n",
       "      <td>...</td>\n",
       "      <td>...</td>\n",
       "      <td>...</td>\n",
       "      <td>...</td>\n",
       "      <td>...</td>\n",
       "      <td>...</td>\n",
       "      <td>...</td>\n",
       "      <td>...</td>\n",
       "      <td>...</td>\n",
       "      <td>...</td>\n",
       "      <td>...</td>\n",
       "    </tr>\n",
       "    <tr>\n",
       "      <th>1005856</th>\n",
       "      <td>at least once a week (but not every day)</td>\n",
       "      <td>Individuals, 65 to 74 years old</td>\n",
       "      <td>Kosovo*</td>\n",
       "      <td>2020</td>\n",
       "      <td>2.80</td>\n",
       "      <td>NaN</td>\n",
       "      <td>telephoning or video calls</td>\n",
       "      <td>80.77</td>\n",
       "      <td>NaN</td>\n",
       "      <td>NaN</td>\n",
       "      <td>NaN</td>\n",
       "    </tr>\n",
       "    <tr>\n",
       "      <th>1005857</th>\n",
       "      <td>at least once a week (but not every day)</td>\n",
       "      <td>Individuals, 65 to 74 years old</td>\n",
       "      <td>Kosovo*</td>\n",
       "      <td>2020</td>\n",
       "      <td>2.80</td>\n",
       "      <td>NaN</td>\n",
       "      <td>selling goods or services</td>\n",
       "      <td>4.63</td>\n",
       "      <td>NaN</td>\n",
       "      <td>NaN</td>\n",
       "      <td>NaN</td>\n",
       "    </tr>\n",
       "    <tr>\n",
       "      <th>1005858</th>\n",
       "      <td>at least once a week (but not every day)</td>\n",
       "      <td>Individuals, 65 to 74 years old</td>\n",
       "      <td>Kosovo*</td>\n",
       "      <td>2020</td>\n",
       "      <td>2.80</td>\n",
       "      <td>NaN</td>\n",
       "      <td>participating in social networks (creating use...</td>\n",
       "      <td>55.40</td>\n",
       "      <td>NaN</td>\n",
       "      <td>NaN</td>\n",
       "      <td>NaN</td>\n",
       "    </tr>\n",
       "    <tr>\n",
       "      <th>1005859</th>\n",
       "      <td>at least once a week (but not every day)</td>\n",
       "      <td>Individuals, 65 to 74 years old</td>\n",
       "      <td>Kosovo*</td>\n",
       "      <td>2020</td>\n",
       "      <td>2.80</td>\n",
       "      <td>NaN</td>\n",
       "      <td>watching internet streamed TV or videos</td>\n",
       "      <td>51.24</td>\n",
       "      <td>NaN</td>\n",
       "      <td>NaN</td>\n",
       "      <td>NaN</td>\n",
       "    </tr>\n",
       "    <tr>\n",
       "      <th>1005860</th>\n",
       "      <td>at least once a week (but not every day)</td>\n",
       "      <td>Individuals, 65 to 74 years old</td>\n",
       "      <td>Kosovo*</td>\n",
       "      <td>2020</td>\n",
       "      <td>2.80</td>\n",
       "      <td>NaN</td>\n",
       "      <td>sharing or publishing self-created videos, pho...</td>\n",
       "      <td>31.45</td>\n",
       "      <td>NaN</td>\n",
       "      <td>NaN</td>\n",
       "      <td>NaN</td>\n",
       "    </tr>\n",
       "  </tbody>\n",
       "</table>\n",
       "<p>5985 rows × 11 columns</p>\n",
       "</div>"
      ],
      "text/plain": [
       "                             freq_internet_access  \\\n",
       "16988                                       daily   \n",
       "16989                                       daily   \n",
       "16990                                       daily   \n",
       "16991                                       daily   \n",
       "16992                                       daily   \n",
       "...                                           ...   \n",
       "1005856  at least once a week (but not every day)   \n",
       "1005857  at least once a week (but not every day)   \n",
       "1005858  at least once a week (but not every day)   \n",
       "1005859  at least once a week (but not every day)   \n",
       "1005860  at least once a week (but not every day)   \n",
       "\n",
       "                       demographic_group  country  year  internet_access_rate  \\\n",
       "16988        Employees working full time  Kosovo*  2018                 89.54   \n",
       "16989        Employees working full time  Kosovo*  2018                 89.54   \n",
       "16990        Employees working full time  Kosovo*  2018                 89.54   \n",
       "16991        Employees working full time  Kosovo*  2018                 89.54   \n",
       "16992        Employees working full time  Kosovo*  2018                 89.54   \n",
       "...                                  ...      ...   ...                   ...   \n",
       "1005856  Individuals, 65 to 74 years old  Kosovo*  2020                  2.80   \n",
       "1005857  Individuals, 65 to 74 years old  Kosovo*  2020                  2.80   \n",
       "1005858  Individuals, 65 to 74 years old  Kosovo*  2020                  2.80   \n",
       "1005859  Individuals, 65 to 74 years old  Kosovo*  2020                  2.80   \n",
       "1005860  Individuals, 65 to 74 years old  Kosovo*  2020                  2.80   \n",
       "\n",
       "        freq_data_flag                                internet_activities  \\\n",
       "16988              NaN                                   Internet banking   \n",
       "16989              NaN                          sending/receiving e-mails   \n",
       "16990              NaN       finding information about goods and services   \n",
       "16991              NaN  making an appointment with a practitioner via ...   \n",
       "16992              NaN                         telephoning or video calls   \n",
       "...                ...                                                ...   \n",
       "1005856            NaN                         telephoning or video calls   \n",
       "1005857            NaN                          selling goods or services   \n",
       "1005858            NaN  participating in social networks (creating use...   \n",
       "1005859            NaN            watching internet streamed TV or videos   \n",
       "1005860            NaN  sharing or publishing self-created videos, pho...   \n",
       "\n",
       "         internet_activities_rate activities_data_flag  purchasing_power_gdp  \\\n",
       "16988                        3.19                  NaN                   NaN   \n",
       "16989                       44.31                  NaN                   NaN   \n",
       "16990                       42.74                  NaN                   NaN   \n",
       "16991                        4.85                  NaN                   NaN   \n",
       "16992                       91.69                  NaN                   NaN   \n",
       "...                           ...                  ...                   ...   \n",
       "1005856                     80.77                  NaN                   NaN   \n",
       "1005857                      4.63                  NaN                   NaN   \n",
       "1005858                     55.40                  NaN                   NaN   \n",
       "1005859                     51.24                  NaN                   NaN   \n",
       "1005860                     31.45                  NaN                   NaN   \n",
       "\n",
       "        pp_gdp_data_flag  \n",
       "16988                NaN  \n",
       "16989                NaN  \n",
       "16990                NaN  \n",
       "16991                NaN  \n",
       "16992                NaN  \n",
       "...                  ...  \n",
       "1005856              NaN  \n",
       "1005857              NaN  \n",
       "1005858              NaN  \n",
       "1005859              NaN  \n",
       "1005860              NaN  \n",
       "\n",
       "[5985 rows x 11 columns]"
      ]
     },
     "execution_count": 90,
     "metadata": {},
     "output_type": "execute_result"
    }
   ],
   "source": [
    "df_nan"
   ]
  },
  {
   "cell_type": "code",
   "execution_count": 91,
   "id": "3b73cf51-eb11-48ad-9001-9c5b357709ff",
   "metadata": {},
   "outputs": [
    {
     "data": {
      "text/plain": [
       "country\n",
       "Kosovo*    5985\n",
       "Name: count, dtype: int64"
      ]
     },
     "execution_count": 91,
     "metadata": {},
     "output_type": "execute_result"
    }
   ],
   "source": [
    "df_nan['country'].value_counts()"
   ]
  },
  {
   "cell_type": "markdown",
   "id": "e8e76f22-fa66-405f-a052-c08c9898a350",
   "metadata": {},
   "source": [
    "All of the missing values are for Kosovo, which was not included in the original dataset purchasing_power_gdp. The NaN rows will be kept and ignored for the analysis across countries. "
   ]
  },
  {
   "cell_type": "code",
   "execution_count": 92,
   "id": "5923893b-81ec-46a6-82dc-680f849d6914",
   "metadata": {},
   "outputs": [
    {
     "data": {
      "text/plain": [
       "38"
      ]
     },
     "execution_count": 92,
     "metadata": {},
     "output_type": "execute_result"
    }
   ],
   "source": [
    "internet_use_activities_pp_gdp['country'].nunique()"
   ]
  },
  {
   "cell_type": "code",
   "execution_count": 93,
   "id": "0125cc70-0467-4451-8cc5-4b1bbc943c2e",
   "metadata": {},
   "outputs": [
    {
     "data": {
      "text/plain": [
       "year\n",
       "2003     5558\n",
       "2004    21269\n",
       "2005    30121\n",
       "2006    35341\n",
       "2007    41521\n",
       "2008    47791\n",
       "2009    63974\n",
       "2010    63461\n",
       "2011    55620\n",
       "2012    64935\n",
       "2013    41277\n",
       "2014    36012\n",
       "2015    50421\n",
       "2016    46332\n",
       "2017    63442\n",
       "2018    41240\n",
       "2019    56986\n",
       "2020    57196\n",
       "2021    43857\n",
       "2022    47738\n",
       "2023    41931\n",
       "2024    50911\n",
       "Name: count, dtype: int64"
      ]
     },
     "execution_count": 93,
     "metadata": {},
     "output_type": "execute_result"
    }
   ],
   "source": [
    "internet_use_activities_pp_gdp['year'].value_counts().sort_index()"
   ]
  },
  {
   "cell_type": "markdown",
   "id": "fae590c8-7525-45bc-a5cc-f43703e9360f",
   "metadata": {},
   "source": [
    "# 05. Changing Datatypes"
   ]
  },
  {
   "cell_type": "code",
   "execution_count": 94,
   "id": "ce03213b-8d25-4c24-8008-8c8a5f5de391",
   "metadata": {},
   "outputs": [
    {
     "name": "stdout",
     "output_type": "stream",
     "text": [
      "<class 'pandas.core.frame.DataFrame'>\n",
      "RangeIndex: 1006934 entries, 0 to 1006933\n",
      "Data columns (total 11 columns):\n",
      " #   Column                    Non-Null Count    Dtype  \n",
      "---  ------                    --------------    -----  \n",
      " 0   freq_internet_access      1006934 non-null  object \n",
      " 1   demographic_group         1006934 non-null  object \n",
      " 2   country                   1006934 non-null  object \n",
      " 3   year                      1006934 non-null  int64  \n",
      " 4   internet_access_rate      1006934 non-null  float64\n",
      " 5   freq_data_flag            26460 non-null    object \n",
      " 6   internet_activities       1006777 non-null  object \n",
      " 7   internet_activities_rate  1006777 non-null  float64\n",
      " 8   activities_data_flag      35092 non-null    object \n",
      " 9   purchasing_power_gdp      1000949 non-null  float64\n",
      " 10  pp_gdp_data_flag          23941 non-null    object \n",
      "dtypes: float64(3), int64(1), object(7)\n",
      "memory usage: 84.5+ MB\n"
     ]
    }
   ],
   "source": [
    "internet_use_activities_pp_gdp.info()"
   ]
  },
  {
   "cell_type": "code",
   "execution_count": 95,
   "id": "ee6ff2b4-8e1d-400a-aeee-3388783284ca",
   "metadata": {},
   "outputs": [],
   "source": [
    "internet_use_activities_pp_gdp['freq_internet_access'] = internet_use_activities_pp_gdp['freq_internet_access'].astype('category')\n",
    "internet_use_activities_pp_gdp['demographic_group'] = internet_use_activities_pp_gdp['demographic_group'].astype('string')\n",
    "internet_use_activities_pp_gdp['country'] = internet_use_activities_pp_gdp['country'].astype('category')\n",
    "internet_use_activities_pp_gdp['year'] = internet_use_activities_pp_gdp['year'].astype('int16')\n",
    "internet_use_activities_pp_gdp['internet_access_rate'] = internet_use_activities_pp_gdp['internet_access_rate'].astype('float32')\n",
    "internet_use_activities_pp_gdp['freq_data_flag'] = internet_use_activities_pp_gdp['freq_data_flag'].astype('category')\n",
    "internet_use_activities_pp_gdp['internet_activities'] = internet_use_activities_pp_gdp['internet_activities'].astype('string')\n",
    "internet_use_activities_pp_gdp['internet_activities_rate'] = internet_use_activities_pp_gdp['internet_activities_rate'].astype('float32')\n",
    "internet_use_activities_pp_gdp['activities_data_flag'] = internet_use_activities_pp_gdp['activities_data_flag'].astype('category')\n",
    "internet_use_activities_pp_gdp['purchasing_power_gdp'] = internet_use_activities_pp_gdp['purchasing_power_gdp'].astype('float32')\n",
    "internet_use_activities_pp_gdp['pp_gdp_data_flag'] = internet_use_activities_pp_gdp['pp_gdp_data_flag'].astype('category')"
   ]
  },
  {
   "cell_type": "code",
   "execution_count": 96,
   "id": "4e30e177-8bff-4dca-a93e-2ae2defa87fe",
   "metadata": {},
   "outputs": [
    {
     "name": "stdout",
     "output_type": "stream",
     "text": [
      "<class 'pandas.core.frame.DataFrame'>\n",
      "RangeIndex: 1006934 entries, 0 to 1006933\n",
      "Data columns (total 11 columns):\n",
      " #   Column                    Non-Null Count    Dtype   \n",
      "---  ------                    --------------    -----   \n",
      " 0   freq_internet_access      1006934 non-null  category\n",
      " 1   demographic_group         1006934 non-null  string  \n",
      " 2   country                   1006934 non-null  category\n",
      " 3   year                      1006934 non-null  int16   \n",
      " 4   internet_access_rate      1006934 non-null  float32 \n",
      " 5   freq_data_flag            26460 non-null    category\n",
      " 6   internet_activities       1006777 non-null  string  \n",
      " 7   internet_activities_rate  1006777 non-null  float32 \n",
      " 8   activities_data_flag      35092 non-null    category\n",
      " 9   purchasing_power_gdp      1000949 non-null  float32 \n",
      " 10  pp_gdp_data_flag          23941 non-null    category\n",
      "dtypes: category(5), float32(3), int16(1), string(2)\n",
      "memory usage: 33.6 MB\n"
     ]
    }
   ],
   "source": [
    "internet_use_activities_pp_gdp.info()"
   ]
  },
  {
   "cell_type": "code",
   "execution_count": 97,
   "id": "a21e2ffd-e316-448b-82f0-2656853f2987",
   "metadata": {},
   "outputs": [
    {
     "data": {
      "text/html": [
       "<div>\n",
       "<style scoped>\n",
       "    .dataframe tbody tr th:only-of-type {\n",
       "        vertical-align: middle;\n",
       "    }\n",
       "\n",
       "    .dataframe tbody tr th {\n",
       "        vertical-align: top;\n",
       "    }\n",
       "\n",
       "    .dataframe thead th {\n",
       "        text-align: right;\n",
       "    }\n",
       "</style>\n",
       "<table border=\"1\" class=\"dataframe\">\n",
       "  <thead>\n",
       "    <tr style=\"text-align: right;\">\n",
       "      <th></th>\n",
       "      <th>freq_internet_access</th>\n",
       "      <th>demographic_group</th>\n",
       "      <th>country</th>\n",
       "      <th>year</th>\n",
       "      <th>internet_access_rate</th>\n",
       "      <th>freq_data_flag</th>\n",
       "      <th>internet_activities</th>\n",
       "      <th>internet_activities_rate</th>\n",
       "      <th>activities_data_flag</th>\n",
       "      <th>purchasing_power_gdp</th>\n",
       "      <th>pp_gdp_data_flag</th>\n",
       "    </tr>\n",
       "  </thead>\n",
       "  <tbody>\n",
       "    <tr>\n",
       "      <th>0</th>\n",
       "      <td>daily</td>\n",
       "      <td>Persons aged 16-74 working in agriculture, for...</td>\n",
       "      <td>Austria</td>\n",
       "      <td>2021</td>\n",
       "      <td>71.669998</td>\n",
       "      <td>NaN</td>\n",
       "      <td>Internet banking</td>\n",
       "      <td>66.650002</td>\n",
       "      <td>NaN</td>\n",
       "      <td>40200.0</td>\n",
       "      <td>NaN</td>\n",
       "    </tr>\n",
       "    <tr>\n",
       "      <th>1</th>\n",
       "      <td>daily</td>\n",
       "      <td>Persons aged 16-74 working in agriculture, for...</td>\n",
       "      <td>Austria</td>\n",
       "      <td>2021</td>\n",
       "      <td>71.669998</td>\n",
       "      <td>NaN</td>\n",
       "      <td>civic or political participation</td>\n",
       "      <td>21.209999</td>\n",
       "      <td>NaN</td>\n",
       "      <td>40200.0</td>\n",
       "      <td>NaN</td>\n",
       "    </tr>\n",
       "    <tr>\n",
       "      <th>2</th>\n",
       "      <td>daily</td>\n",
       "      <td>Persons aged 16-74 working in agriculture, for...</td>\n",
       "      <td>Austria</td>\n",
       "      <td>2021</td>\n",
       "      <td>71.669998</td>\n",
       "      <td>NaN</td>\n",
       "      <td>sending/receiving e-mails</td>\n",
       "      <td>72.860001</td>\n",
       "      <td>NaN</td>\n",
       "      <td>40200.0</td>\n",
       "      <td>NaN</td>\n",
       "    </tr>\n",
       "    <tr>\n",
       "      <th>3</th>\n",
       "      <td>daily</td>\n",
       "      <td>Persons aged 16-74 working in agriculture, for...</td>\n",
       "      <td>Austria</td>\n",
       "      <td>2021</td>\n",
       "      <td>71.669998</td>\n",
       "      <td>NaN</td>\n",
       "      <td>finding information about goods and services</td>\n",
       "      <td>66.879997</td>\n",
       "      <td>NaN</td>\n",
       "      <td>40200.0</td>\n",
       "      <td>NaN</td>\n",
       "    </tr>\n",
       "    <tr>\n",
       "      <th>4</th>\n",
       "      <td>daily</td>\n",
       "      <td>Persons aged 16-74 working in agriculture, for...</td>\n",
       "      <td>Austria</td>\n",
       "      <td>2021</td>\n",
       "      <td>71.669998</td>\n",
       "      <td>NaN</td>\n",
       "      <td>job search or sending an application</td>\n",
       "      <td>14.110000</td>\n",
       "      <td>NaN</td>\n",
       "      <td>40200.0</td>\n",
       "      <td>NaN</td>\n",
       "    </tr>\n",
       "  </tbody>\n",
       "</table>\n",
       "</div>"
      ],
      "text/plain": [
       "  freq_internet_access                                  demographic_group  \\\n",
       "0                daily  Persons aged 16-74 working in agriculture, for...   \n",
       "1                daily  Persons aged 16-74 working in agriculture, for...   \n",
       "2                daily  Persons aged 16-74 working in agriculture, for...   \n",
       "3                daily  Persons aged 16-74 working in agriculture, for...   \n",
       "4                daily  Persons aged 16-74 working in agriculture, for...   \n",
       "\n",
       "   country  year  internet_access_rate freq_data_flag  \\\n",
       "0  Austria  2021             71.669998            NaN   \n",
       "1  Austria  2021             71.669998            NaN   \n",
       "2  Austria  2021             71.669998            NaN   \n",
       "3  Austria  2021             71.669998            NaN   \n",
       "4  Austria  2021             71.669998            NaN   \n",
       "\n",
       "                            internet_activities  internet_activities_rate  \\\n",
       "0                              Internet banking                 66.650002   \n",
       "1              civic or political participation                 21.209999   \n",
       "2                     sending/receiving e-mails                 72.860001   \n",
       "3  finding information about goods and services                 66.879997   \n",
       "4          job search or sending an application                 14.110000   \n",
       "\n",
       "  activities_data_flag  purchasing_power_gdp pp_gdp_data_flag  \n",
       "0                  NaN               40200.0              NaN  \n",
       "1                  NaN               40200.0              NaN  \n",
       "2                  NaN               40200.0              NaN  \n",
       "3                  NaN               40200.0              NaN  \n",
       "4                  NaN               40200.0              NaN  "
      ]
     },
     "execution_count": 97,
     "metadata": {},
     "output_type": "execute_result"
    }
   ],
   "source": [
    "internet_use_activities_pp_gdp.head()"
   ]
  },
  {
   "cell_type": "code",
   "execution_count": 98,
   "id": "74b1fbe2-b5c7-4ba2-b736-3dd577340be7",
   "metadata": {},
   "outputs": [
    {
     "data": {
      "text/html": [
       "<div>\n",
       "<style scoped>\n",
       "    .dataframe tbody tr th:only-of-type {\n",
       "        vertical-align: middle;\n",
       "    }\n",
       "\n",
       "    .dataframe tbody tr th {\n",
       "        vertical-align: top;\n",
       "    }\n",
       "\n",
       "    .dataframe thead th {\n",
       "        text-align: right;\n",
       "    }\n",
       "</style>\n",
       "<table border=\"1\" class=\"dataframe\">\n",
       "  <thead>\n",
       "    <tr style=\"text-align: right;\">\n",
       "      <th></th>\n",
       "      <th>year</th>\n",
       "      <th>internet_access_rate</th>\n",
       "      <th>internet_activities_rate</th>\n",
       "      <th>purchasing_power_gdp</th>\n",
       "    </tr>\n",
       "  </thead>\n",
       "  <tbody>\n",
       "    <tr>\n",
       "      <th>count</th>\n",
       "      <td>1.006934e+06</td>\n",
       "      <td>1.006934e+06</td>\n",
       "      <td>1.006777e+06</td>\n",
       "      <td>1.000949e+06</td>\n",
       "    </tr>\n",
       "    <tr>\n",
       "      <th>mean</th>\n",
       "      <td>2.014382e+03</td>\n",
       "      <td>2.424874e+01</td>\n",
       "      <td>3.664136e+01</td>\n",
       "      <td>2.834359e+04</td>\n",
       "    </tr>\n",
       "    <tr>\n",
       "      <th>std</th>\n",
       "      <td>5.739227e+00</td>\n",
       "      <td>3.340169e+01</td>\n",
       "      <td>2.849574e+01</td>\n",
       "      <td>1.391105e+04</td>\n",
       "    </tr>\n",
       "    <tr>\n",
       "      <th>min</th>\n",
       "      <td>2.003000e+03</td>\n",
       "      <td>0.000000e+00</td>\n",
       "      <td>0.000000e+00</td>\n",
       "      <td>5.900000e+03</td>\n",
       "    </tr>\n",
       "    <tr>\n",
       "      <th>25%</th>\n",
       "      <td>2.010000e+03</td>\n",
       "      <td>1.660000e+00</td>\n",
       "      <td>1.210000e+01</td>\n",
       "      <td>1.930000e+04</td>\n",
       "    </tr>\n",
       "    <tr>\n",
       "      <th>50%</th>\n",
       "      <td>2.014000e+03</td>\n",
       "      <td>5.530000e+00</td>\n",
       "      <td>2.913000e+01</td>\n",
       "      <td>2.640000e+04</td>\n",
       "    </tr>\n",
       "    <tr>\n",
       "      <th>75%</th>\n",
       "      <td>2.019000e+03</td>\n",
       "      <td>4.041000e+01</td>\n",
       "      <td>5.880000e+01</td>\n",
       "      <td>3.360000e+04</td>\n",
       "    </tr>\n",
       "    <tr>\n",
       "      <th>max</th>\n",
       "      <td>2.024000e+03</td>\n",
       "      <td>1.000000e+02</td>\n",
       "      <td>1.000000e+02</td>\n",
       "      <td>9.620000e+04</td>\n",
       "    </tr>\n",
       "  </tbody>\n",
       "</table>\n",
       "</div>"
      ],
      "text/plain": [
       "               year  internet_access_rate  internet_activities_rate  \\\n",
       "count  1.006934e+06          1.006934e+06              1.006777e+06   \n",
       "mean   2.014382e+03          2.424874e+01              3.664136e+01   \n",
       "std    5.739227e+00          3.340169e+01              2.849574e+01   \n",
       "min    2.003000e+03          0.000000e+00              0.000000e+00   \n",
       "25%    2.010000e+03          1.660000e+00              1.210000e+01   \n",
       "50%    2.014000e+03          5.530000e+00              2.913000e+01   \n",
       "75%    2.019000e+03          4.041000e+01              5.880000e+01   \n",
       "max    2.024000e+03          1.000000e+02              1.000000e+02   \n",
       "\n",
       "       purchasing_power_gdp  \n",
       "count          1.000949e+06  \n",
       "mean           2.834359e+04  \n",
       "std            1.391105e+04  \n",
       "min            5.900000e+03  \n",
       "25%            1.930000e+04  \n",
       "50%            2.640000e+04  \n",
       "75%            3.360000e+04  \n",
       "max            9.620000e+04  "
      ]
     },
     "execution_count": 98,
     "metadata": {},
     "output_type": "execute_result"
    }
   ],
   "source": [
    "internet_use_activities_pp_gdp.describe()"
   ]
  },
  {
   "cell_type": "markdown",
   "id": "6e6c53e7-8591-4f99-b011-842d6c8e7514",
   "metadata": {},
   "source": [
    "# 06. Exporting Data"
   ]
  },
  {
   "cell_type": "code",
   "execution_count": 99,
   "id": "5c9d98dd-0b4d-4fa2-854a-f8d56db533ba",
   "metadata": {},
   "outputs": [],
   "source": [
    "internet_use_activities_pp_gdp.to_csv(os.path.join(path, '02 Data', 'Prepared Data', 'internet_use_activities_pp_gdp_combined.csv'))"
   ]
  }
 ],
 "metadata": {
  "kernelspec": {
   "display_name": "Python 3 (ipykernel)",
   "language": "python",
   "name": "python3"
  },
  "language_info": {
   "codemirror_mode": {
    "name": "ipython",
    "version": 3
   },
   "file_extension": ".py",
   "mimetype": "text/x-python",
   "name": "python",
   "nbconvert_exporter": "python",
   "pygments_lexer": "ipython3",
   "version": "3.13.5"
  }
 },
 "nbformat": 4,
 "nbformat_minor": 5
}
